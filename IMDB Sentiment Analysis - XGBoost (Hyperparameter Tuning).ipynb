{
 "cells": [
  {
   "cell_type": "markdown",
   "metadata": {},
   "source": [
    "# Sentiment Analysis\n",
    "\n",
    "## Using XGBoost in SageMaker\n",
    "\n",
    "_Deep Learning Nanodegree Program | Deployment_\n",
    "\n",
    "---\n",
    "\n",
    "In this example of using Amazon's SageMaker service we will construct a random tree model to predict the sentiment of a movie review. You may have seen a version of this example in a pervious lesson although it would have been done using the sklearn package. Instead, we will be using the XGBoost package as it is provided to us by Amazon.\n",
    "\n",
    "## Instructions\n",
    "\n",
    "Some template code has already been provided for you, and you will need to implement additional functionality to successfully complete this notebook. You will not need to modify the included code beyond what is requested. Sections that begin with '**TODO**' in the header indicate that you need to complete or implement some portion within them. Instructions will be provided for each section and the specifics of the implementation are marked in the code block with a `# TODO: ...` comment. Please be sure to read the instructions carefully!\n",
    "\n",
    "In addition to implementing code, there will be questions for you to answer which relate to the task and your implementation. Each section where you will answer a question is preceded by a '**Question:**' header. Carefully read each question and provide your answer below the '**Answer:**' header by editing the Markdown cell.\n",
    "\n",
    "> **Note**: Code and Markdown cells can be executed using the **Shift+Enter** keyboard shortcut. In addition, a cell can be edited by typically clicking it (double-click for Markdown cells) or by pressing **Enter** while it is highlighted."
   ]
  },
  {
   "cell_type": "markdown",
   "metadata": {},
   "source": [
    "## Step 1: Downloading the data\n",
    "\n",
    "The dataset we are going to use is very popular among researchers in Natural Language Processing, usually referred to as the [IMDb dataset](http://ai.stanford.edu/~amaas/data/sentiment/). It consists of movie reviews from the website [imdb.com](http://www.imdb.com/), each labeled as either '**pos**itive', if the reviewer enjoyed the film, or '**neg**ative' otherwise.\n",
    "\n",
    "> Maas, Andrew L., et al. [Learning Word Vectors for Sentiment Analysis](http://ai.stanford.edu/~amaas/data/sentiment/). In _Proceedings of the 49th Annual Meeting of the Association for Computational Linguistics: Human Language Technologies_. Association for Computational Linguistics, 2011.\n",
    "\n",
    "We begin by using some Jupyter Notebook magic to download and extract the dataset."
   ]
  },
  {
   "cell_type": "code",
   "execution_count": 1,
   "metadata": {},
   "outputs": [
    {
     "name": "stdout",
     "output_type": "stream",
     "text": [
      "--2020-07-29 15:57:48--  http://ai.stanford.edu/~amaas/data/sentiment/aclImdb_v1.tar.gz\n",
      "Resolving ai.stanford.edu (ai.stanford.edu)... 171.64.68.10\n",
      "Connecting to ai.stanford.edu (ai.stanford.edu)|171.64.68.10|:80... connected.\n",
      "HTTP request sent, awaiting response... 200 OK\n",
      "Length: 84125825 (80M) [application/x-gzip]\n",
      "Saving to: ‘../data/aclImdb_v1.tar.gz’\n",
      "\n",
      "../data/aclImdb_v1. 100%[===================>]  80.23M  6.40MB/s    in 17s     \n",
      "\n",
      "2020-07-29 15:58:06 (4.66 MB/s) - ‘../data/aclImdb_v1.tar.gz’ saved [84125825/84125825]\n",
      "\n"
     ]
    }
   ],
   "source": [
    "%mkdir ../data\n",
    "!wget -O ../data/aclImdb_v1.tar.gz http://ai.stanford.edu/~amaas/data/sentiment/aclImdb_v1.tar.gz\n",
    "!tar -zxf ../data/aclImdb_v1.tar.gz -C ../data"
   ]
  },
  {
   "cell_type": "markdown",
   "metadata": {},
   "source": [
    "## Step 2: Preparing the data\n",
    "\n",
    "The data we have downloaded is split into various files, each of which contains a single review. It will be much easier going forward if we combine these individual files into two large files, one for training and one for testing."
   ]
  },
  {
   "cell_type": "code",
   "execution_count": 2,
   "metadata": {},
   "outputs": [],
   "source": [
    "import os\n",
    "import glob\n",
    "\n",
    "def read_imdb_data(data_dir='../data/aclImdb'):\n",
    "    data = {}\n",
    "    labels = {}\n",
    "    \n",
    "    for data_type in ['train', 'test']:\n",
    "        data[data_type] = {}\n",
    "        labels[data_type] = {}\n",
    "        \n",
    "        for sentiment in ['pos', 'neg']:\n",
    "            data[data_type][sentiment] = []\n",
    "            labels[data_type][sentiment] = []\n",
    "            \n",
    "            path = os.path.join(data_dir, data_type, sentiment, '*.txt')\n",
    "            files = glob.glob(path)\n",
    "            \n",
    "            for f in files:\n",
    "                with open(f) as review:\n",
    "                    data[data_type][sentiment].append(review.read())\n",
    "                    # Here we represent a positive review by '1' and a negative review by '0'\n",
    "                    labels[data_type][sentiment].append(1 if sentiment == 'pos' else 0)\n",
    "                    \n",
    "            assert len(data[data_type][sentiment]) == len(labels[data_type][sentiment]), \\\n",
    "                    \"{}/{} data size does not match labels size\".format(data_type, sentiment)\n",
    "                \n",
    "    return data, labels"
   ]
  },
  {
   "cell_type": "code",
   "execution_count": 3,
   "metadata": {},
   "outputs": [
    {
     "name": "stdout",
     "output_type": "stream",
     "text": [
      "IMDB reviews: train = 12500 pos / 12500 neg, test = 12500 pos / 12500 neg\n"
     ]
    }
   ],
   "source": [
    "data, labels = read_imdb_data()\n",
    "print(\"IMDB reviews: train = {} pos / {} neg, test = {} pos / {} neg\".format(\n",
    "            len(data['train']['pos']), len(data['train']['neg']),\n",
    "            len(data['test']['pos']), len(data['test']['neg'])))"
   ]
  },
  {
   "cell_type": "code",
   "execution_count": 4,
   "metadata": {},
   "outputs": [],
   "source": [
    "from sklearn.utils import shuffle\n",
    "\n",
    "def prepare_imdb_data(data, labels):\n",
    "    \"\"\"Prepare training and test sets from IMDb movie reviews.\"\"\"\n",
    "    \n",
    "    #Combine positive and negative reviews and labels\n",
    "    data_train = data['train']['pos'] + data['train']['neg']\n",
    "    data_test = data['test']['pos'] + data['test']['neg']\n",
    "    labels_train = labels['train']['pos'] + labels['train']['neg']\n",
    "    labels_test = labels['test']['pos'] + labels['test']['neg']\n",
    "    \n",
    "    #Shuffle reviews and corresponding labels within training and test sets\n",
    "    data_train, labels_train = shuffle(data_train, labels_train)\n",
    "    data_test, labels_test = shuffle(data_test, labels_test)\n",
    "    \n",
    "    # Return a unified training data, test data, training labels, test labets\n",
    "    return data_train, data_test, labels_train, labels_test"
   ]
  },
  {
   "cell_type": "code",
   "execution_count": 5,
   "metadata": {},
   "outputs": [
    {
     "name": "stdout",
     "output_type": "stream",
     "text": [
      "IMDb reviews (combined): train = 25000, test = 25000\n"
     ]
    }
   ],
   "source": [
    "train_X, test_X, train_y, test_y = prepare_imdb_data(data, labels)\n",
    "print(\"IMDb reviews (combined): train = {}, test = {}\".format(len(train_X), len(test_X)))"
   ]
  },
  {
   "cell_type": "code",
   "execution_count": 6,
   "metadata": {},
   "outputs": [
    {
     "data": {
      "text/plain": [
       "'This sword-&-sorcery story of an appallingly brutal and callous \"hero\" vanquishing an evil king is worthless in almost every detail. The acting is horrible from the leads to the supporting roles. The leering, gloating glee with which the director shows the hero smearing blood around is absolutely disgusting; nor is it redeemed by any justice to his cause, since he is as bad as the people he\\'s fighting. Z-movie editing is abundant, including a scene where a character \"dies\" from a sword thrust that very obviously missed completely!<br /><br />The movie is clearly banking on the charms of the female leads, Barbi Benton and Lana Clarkson, who are paraded around mostly naked throughout the movie. As a 20-something male, I will not pretend that female flesh on the screen doesn\\'t attract me. But the treatment of their characters is so degrading and the sex scenes so casual and joyless, that I couldn\\'t enjoy even this aspect of the movie.<br /><br />Most cheesy movies of this era are at least somewhat redeemed by a light-hearted, tongue-in-cheek feel (the sequel is better in this regard), but DEATHSTALKER seems to take itself completely seriously as heroic fantasy. No way! Avoid at all costs!<br /><br />Rating: 1/2 out of ****.'"
      ]
     },
     "execution_count": 6,
     "metadata": {},
     "output_type": "execute_result"
    }
   ],
   "source": [
    "train_X[100]"
   ]
  },
  {
   "cell_type": "markdown",
   "metadata": {},
   "source": [
    "## Step 3: Processing the data\n",
    "\n",
    "Now that we have our training and testing datasets merged and ready to use, we need to start processing the raw data into something that will be useable by our machine learning algorithm. To begin with, we remove any html formatting that may appear in the reviews and perform some standard natural language processing in order to homogenize the data."
   ]
  },
  {
   "cell_type": "code",
   "execution_count": 7,
   "metadata": {},
   "outputs": [
    {
     "name": "stderr",
     "output_type": "stream",
     "text": [
      "[nltk_data] Downloading package stopwords to\n",
      "[nltk_data]     /home/ec2-user/nltk_data...\n",
      "[nltk_data]   Unzipping corpora/stopwords.zip.\n"
     ]
    }
   ],
   "source": [
    "import nltk\n",
    "nltk.download(\"stopwords\")\n",
    "from nltk.corpus import stopwords\n",
    "from nltk.stem.porter import *\n",
    "stemmer = PorterStemmer()"
   ]
  },
  {
   "cell_type": "code",
   "execution_count": 8,
   "metadata": {},
   "outputs": [],
   "source": [
    "import re\n",
    "from bs4 import BeautifulSoup\n",
    "\n",
    "def review_to_words(review):\n",
    "    text = BeautifulSoup(review, \"html.parser\").get_text() # Remove HTML tags\n",
    "    text = re.sub(r\"[^a-zA-Z0-9]\", \" \", text.lower()) # Convert to lower case\n",
    "    words = text.split() # Split string into words\n",
    "    words = [w for w in words if w not in stopwords.words(\"english\")] # Remove stopwords\n",
    "    words = [PorterStemmer().stem(w) for w in words] # stem\n",
    "    \n",
    "    return words"
   ]
  },
  {
   "cell_type": "code",
   "execution_count": 9,
   "metadata": {},
   "outputs": [],
   "source": [
    "import pickle\n",
    "\n",
    "cache_dir = os.path.join(\"../cache\", \"sentiment_analysis\")  # where to store cache files\n",
    "os.makedirs(cache_dir, exist_ok=True)  # ensure cache directory exists\n",
    "\n",
    "def preprocess_data(data_train, data_test, labels_train, labels_test,\n",
    "                    cache_dir=cache_dir, cache_file=\"preprocessed_data.pkl\"):\n",
    "    \"\"\"Convert each review to words; read from cache if available.\"\"\"\n",
    "\n",
    "    # If cache_file is not None, try to read from it first\n",
    "    cache_data = None\n",
    "    if cache_file is not None:\n",
    "        try:\n",
    "            with open(os.path.join(cache_dir, cache_file), \"rb\") as f:\n",
    "                cache_data = pickle.load(f)\n",
    "            print(\"Read preprocessed data from cache file:\", cache_file)\n",
    "        except:\n",
    "            pass  # unable to read from cache, but that's okay\n",
    "    \n",
    "    # If cache is missing, then do the heavy lifting\n",
    "    if cache_data is None:\n",
    "        # Preprocess training and test data to obtain words for each review\n",
    "        #words_train = list(map(review_to_words, data_train))\n",
    "        #words_test = list(map(review_to_words, data_test))\n",
    "        words_train = [review_to_words(review) for review in data_train]\n",
    "        words_test = [review_to_words(review) for review in data_test]\n",
    "        \n",
    "        # Write to cache file for future runs\n",
    "        if cache_file is not None:\n",
    "            cache_data = dict(words_train=words_train, words_test=words_test,\n",
    "                              labels_train=labels_train, labels_test=labels_test)\n",
    "            with open(os.path.join(cache_dir, cache_file), \"wb\") as f:\n",
    "                pickle.dump(cache_data, f)\n",
    "            print(\"Wrote preprocessed data to cache file:\", cache_file)\n",
    "    else:\n",
    "        # Unpack data loaded from cache file\n",
    "        words_train, words_test, labels_train, labels_test = (cache_data['words_train'],\n",
    "                cache_data['words_test'], cache_data['labels_train'], cache_data['labels_test'])\n",
    "    \n",
    "    return words_train, words_test, labels_train, labels_test"
   ]
  },
  {
   "cell_type": "code",
   "execution_count": 11,
   "metadata": {},
   "outputs": [
    {
     "name": "stdout",
     "output_type": "stream",
     "text": [
      "Read preprocessed data from cache file: preprocessed_data.pkl\n"
     ]
    }
   ],
   "source": [
    "# Preprocess data\n",
    "train_X, test_X, train_y, test_y = preprocess_data(train_X, test_X, train_y, test_y)"
   ]
  },
  {
   "cell_type": "markdown",
   "metadata": {},
   "source": [
    "### Extract Bag-of-Words features\n",
    "\n",
    "For the model we will be implementing, rather than using the reviews directly, we are going to transform each review into a Bag-of-Words feature representation. Keep in mind that 'in the wild' we will only have access to the training set so our transformer can only use the training set to construct a representation."
   ]
  },
  {
   "cell_type": "code",
   "execution_count": 12,
   "metadata": {},
   "outputs": [
    {
     "name": "stderr",
     "output_type": "stream",
     "text": [
      "/home/ec2-user/anaconda3/envs/python3/lib/python3.6/site-packages/sklearn/externals/joblib/__init__.py:15: FutureWarning: sklearn.externals.joblib is deprecated in 0.21 and will be removed in 0.23. Please import this functionality directly from joblib, which can be installed with: pip install joblib. If this warning is raised when loading pickled models, you may need to re-serialize those models with scikit-learn 0.21+.\n",
      "  warnings.warn(msg, category=FutureWarning)\n"
     ]
    }
   ],
   "source": [
    "import numpy as np\n",
    "from sklearn.feature_extraction.text import CountVectorizer\n",
    "from sklearn.externals import joblib\n",
    "# joblib is an enhanced version of pickle that is more efficient for storing NumPy arrays\n",
    "\n",
    "def extract_BoW_features(words_train, words_test, vocabulary_size=5000,\n",
    "                         cache_dir=cache_dir, cache_file=\"bow_features.pkl\"):\n",
    "    \"\"\"Extract Bag-of-Words for a given set of documents, already preprocessed into words.\"\"\"\n",
    "    \n",
    "    # If cache_file is not None, try to read from it first\n",
    "    cache_data = None\n",
    "    if cache_file is not None:\n",
    "        try:\n",
    "            with open(os.path.join(cache_dir, cache_file), \"rb\") as f:\n",
    "                cache_data = joblib.load(f)\n",
    "            print(\"Read features from cache file:\", cache_file)\n",
    "        except:\n",
    "            pass  # unable to read from cache, but that's okay\n",
    "    \n",
    "    # If cache is missing, then do the heavy lifting\n",
    "    if cache_data is None:\n",
    "        # Fit a vectorizer to training documents and use it to transform them\n",
    "        # NOTE: Training documents have already been preprocessed and tokenized into words;\n",
    "        #       pass in dummy functions to skip those steps, e.g. preprocessor=lambda x: x\n",
    "        vectorizer = CountVectorizer(max_features=vocabulary_size,\n",
    "                preprocessor=lambda x: x, tokenizer=lambda x: x)  # already preprocessed\n",
    "        features_train = vectorizer.fit_transform(words_train).toarray()\n",
    "\n",
    "        # Apply the same vectorizer to transform the test documents (ignore unknown words)\n",
    "        features_test = vectorizer.transform(words_test).toarray()\n",
    "        \n",
    "        # NOTE: Remember to convert the features using .toarray() for a compact representation\n",
    "        \n",
    "        # Write to cache file for future runs (store vocabulary as well)\n",
    "        if cache_file is not None:\n",
    "            vocabulary = vectorizer.vocabulary_\n",
    "            cache_data = dict(features_train=features_train, features_test=features_test,\n",
    "                             vocabulary=vocabulary)\n",
    "            with open(os.path.join(cache_dir, cache_file), \"wb\") as f:\n",
    "                joblib.dump(cache_data, f)\n",
    "            print(\"Wrote features to cache file:\", cache_file)\n",
    "    else:\n",
    "        # Unpack data loaded from cache file\n",
    "        features_train, features_test, vocabulary = (cache_data['features_train'],\n",
    "                cache_data['features_test'], cache_data['vocabulary'])\n",
    "    \n",
    "    # Return both the extracted features as well as the vocabulary\n",
    "    return features_train, features_test, vocabulary"
   ]
  },
  {
   "cell_type": "code",
   "execution_count": 13,
   "metadata": {},
   "outputs": [
    {
     "name": "stdout",
     "output_type": "stream",
     "text": [
      "Wrote features to cache file: bow_features.pkl\n"
     ]
    }
   ],
   "source": [
    "# Extract Bag of Words features for both training and test datasets\n",
    "train_X, test_X, vocabulary = extract_BoW_features(train_X, test_X)"
   ]
  },
  {
   "cell_type": "markdown",
   "metadata": {},
   "source": [
    "## Step 4: Classification using XGBoost\n",
    "\n",
    "Now that we have created the feature representation of our training (and testing) data, it is time to start setting up and using the XGBoost classifier provided by SageMaker.\n",
    "\n",
    "### Writing the dataset\n",
    "\n",
    "The XGBoost classifier that we will be using requires the dataset to be written to a file and stored using Amazon S3. To do this, we will start by splitting the training dataset into two parts, the data we will train the model with and a validation set. Then, we will write those datasets to a file and upload the files to S3. In addition, we will write the test set input to a file and upload the file to S3. This is so that we can use SageMakers Batch Transform functionality to test our model once we've fit it."
   ]
  },
  {
   "cell_type": "code",
   "execution_count": 14,
   "metadata": {},
   "outputs": [],
   "source": [
    "import pandas as pd\n",
    "\n",
    "val_X = pd.DataFrame(train_X[:10000])\n",
    "train_X = pd.DataFrame(train_X[10000:])\n",
    "\n",
    "val_y = pd.DataFrame(train_y[:10000])\n",
    "train_y = pd.DataFrame(train_y[10000:])\n",
    "\n",
    "test_y = pd.DataFrame(test_y)\n",
    "test_X = pd.DataFrame(test_X)"
   ]
  },
  {
   "cell_type": "markdown",
   "metadata": {},
   "source": [
    "The documentation for the XGBoost algorithm in SageMaker requires that the saved datasets should contain no headers or index and that for the training and validation data, the label should occur first for each sample.\n",
    "\n",
    "For more information about this and other algorithms, the SageMaker developer documentation can be found on __[Amazon's website.](https://docs.aws.amazon.com/sagemaker/latest/dg/)__"
   ]
  },
  {
   "cell_type": "code",
   "execution_count": 15,
   "metadata": {},
   "outputs": [],
   "source": [
    "# First we make sure that the local directory in which we'd like to store the training and validation csv files exists.\n",
    "data_dir = '../data/xgboost'\n",
    "if not os.path.exists(data_dir):\n",
    "    os.makedirs(data_dir)"
   ]
  },
  {
   "cell_type": "code",
   "execution_count": 16,
   "metadata": {},
   "outputs": [],
   "source": [
    "# First, save the test data to test.csv in the data_dir directory. Note that we do not save the associated ground truth\n",
    "# labels, instead we will use them later to compare with our model output.\n",
    "\n",
    "pd.DataFrame(test_X).to_csv(os.path.join(data_dir, 'test.csv'), header=False, index=False)\n",
    "pd.concat([val_y, val_X], axis=1).to_csv(os.path.join(data_dir, 'validation.csv'), header=False, index=False)\n",
    "pd.concat([train_y, train_X], axis=1).to_csv(os.path.join(data_dir, 'train.csv'), header=False, index=False)"
   ]
  },
  {
   "cell_type": "code",
   "execution_count": 17,
   "metadata": {},
   "outputs": [],
   "source": [
    "# To save a bit of memory we can set text_X, train_X, val_X, train_y and val_y to None.\n",
    "\n",
    "train_X = val_X = train_y = val_y = None"
   ]
  },
  {
   "cell_type": "markdown",
   "metadata": {},
   "source": [
    "### Uploading Training / Validation files to S3\n",
    "\n",
    "Amazon's S3 service allows us to store files that can be access by both the built-in training models such as the XGBoost model we will be using as well as custom models such as the one we will see a little later.\n",
    "\n",
    "For this, and most other tasks we will be doing using SageMaker, there are two methods we could use. The first is to use the low level functionality of SageMaker which requires knowing each of the objects involved in the SageMaker environment. The second is to use the high level functionality in which certain choices have been made on the user's behalf. The low level approach benefits from allowing the user a great deal of flexibility while the high level approach makes development much quicker. For our purposes we will opt to use the high level approach although using the low-level approach is certainly an option.\n",
    "\n",
    "Recall the method `upload_data()` which is a member of object representing our current SageMaker session. What this method does is upload the data to the default bucket (which is created if it does not exist) into the path described by the key_prefix variable. To see this for yourself, once you have uploaded the data files, go to the S3 console and look to see where the files have been uploaded.\n",
    "\n",
    "For additional resources, see the __[SageMaker API documentation](http://sagemaker.readthedocs.io/en/latest/)__ and in addition the __[SageMaker Developer Guide.](https://docs.aws.amazon.com/sagemaker/latest/dg/)__"
   ]
  },
  {
   "cell_type": "code",
   "execution_count": 18,
   "metadata": {},
   "outputs": [],
   "source": [
    "import sagemaker\n",
    "\n",
    "session = sagemaker.Session() # Store the current SageMaker session\n",
    "\n",
    "# S3 prefix (which folder will we use)\n",
    "prefix = 'sentiment-xgboost'\n",
    "\n",
    "test_location = session.upload_data(os.path.join(data_dir, 'test.csv'), key_prefix=prefix)\n",
    "val_location = session.upload_data(os.path.join(data_dir, 'validation.csv'), key_prefix=prefix)\n",
    "train_location = session.upload_data(os.path.join(data_dir, 'train.csv'), key_prefix=prefix)"
   ]
  },
  {
   "cell_type": "markdown",
   "metadata": {},
   "source": [
    "### (TODO) Creating a hypertuned XGBoost model\n",
    "\n",
    "Now that the data has been uploaded it is time to create the XGBoost model. As in the Boston Housing notebook, the first step is to create an estimator object which will be used as the *base* of your hyperparameter tuning job."
   ]
  },
  {
   "cell_type": "code",
   "execution_count": 19,
   "metadata": {},
   "outputs": [],
   "source": [
    "from sagemaker import get_execution_role\n",
    "\n",
    "# Our current execution role is require when creating the model as the training\n",
    "# and inference code will need to access the model artifacts.\n",
    "role = get_execution_role()"
   ]
  },
  {
   "cell_type": "code",
   "execution_count": 20,
   "metadata": {},
   "outputs": [
    {
     "name": "stderr",
     "output_type": "stream",
     "text": [
      "'get_image_uri' method will be deprecated in favor of 'ImageURIProvider' class in SageMaker Python SDK v2.\n",
      "There is a more up to date SageMaker XGBoost image. To use the newer image, please set 'repo_version'='1.0-1'. For example:\n",
      "\tget_image_uri(region, 'xgboost', '1.0-1').\n"
     ]
    }
   ],
   "source": [
    "# We need to retrieve the location of the container which is provided by Amazon for using XGBoost.\n",
    "# As a matter of convenience, the training and inference code both use the same container.\n",
    "from sagemaker.amazon.amazon_estimator import get_image_uri\n",
    "\n",
    "container = get_image_uri(session.boto_region_name, 'xgboost')"
   ]
  },
  {
   "cell_type": "code",
   "execution_count": 22,
   "metadata": {},
   "outputs": [
    {
     "name": "stderr",
     "output_type": "stream",
     "text": [
      "Parameter image_name will be renamed to image_uri in SageMaker Python SDK v2.\n"
     ]
    }
   ],
   "source": [
    "# TODO: Create a SageMaker estimator using the container location determined in the previous cell.\n",
    "#       It is recommended that you use a single training instance of type ml.m4.xlarge. It is also\n",
    "#       recommended that you use 's3://{}/{}/output'.format(session.default_bucket(), prefix) as the\n",
    "#       output path.\n",
    "\n",
    "xgb = None\n",
    "\n",
    "\n",
    "xgb = sagemaker.estimator.Estimator(container, # The location of the container we wish to use\n",
    "                                    role,                                    # What is our current IAM Role\n",
    "                                    train_instance_count=1,                  # How many compute instances\n",
    "                                    train_instance_type='ml.m4.xlarge',      # What kind of compute instances\n",
    "                                    output_path='s3://{}/{}/output'.format(session.default_bucket(), prefix),\n",
    "                                    sagemaker_session=session)\n",
    "\n",
    "\n",
    "xgb.set_hyperparameters(max_depth=5,\n",
    "                        eta=0.2,\n",
    "                        gamma=4,\n",
    "                        min_child_weight=6,\n",
    "                        subsample=0.8,\n",
    "                        silent=0,\n",
    "                        objective='binary:logistic',\n",
    "                        early_stopping_rounds=10,\n",
    "                        num_round=500)\n"
   ]
  },
  {
   "cell_type": "markdown",
   "metadata": {},
   "source": [
    "### (TODO) Create the hyperparameter tuner\n",
    "\n",
    "Now that the base estimator has been set up we need to construct a hyperparameter tuner object which we will use to request SageMaker construct a hyperparameter tuning job.\n",
    "\n",
    "**Note:** Training a single sentiment analysis XGBoost model takes longer than training a Boston Housing XGBoost model so if you don't want the hyperparameter tuning job to take too long, make sure to not set the total number of models (jobs) too high."
   ]
  },
  {
   "cell_type": "code",
   "execution_count": 23,
   "metadata": {},
   "outputs": [],
   "source": [
    "# First, make sure to import the relevant objects used to construct the tuner\n",
    "from sagemaker.tuner import IntegerParameter, ContinuousParameter, HyperparameterTuner\n",
    "\n",
    "# TODO: Create the hyperparameter tuner object\n",
    "\n",
    "xgb_hyperparameter_tuner = HyperparameterTuner(estimator = xgb, # The estimator object to use as the basis for the training jobs.\n",
    "                                               objective_metric_name = 'validation:rmse', # The metric used to compare trained models.\n",
    "                                               objective_type = 'Minimize', # Whether we wish to minimize or maximize the metric.\n",
    "                                               max_jobs = 6, # The total number of models to train\n",
    "                                               max_parallel_jobs = 3, # The number of models to train in parallel\n",
    "                                               hyperparameter_ranges = {\n",
    "                                                    'max_depth': IntegerParameter(3, 12),\n",
    "                                                    'eta'      : ContinuousParameter(0.05, 0.5),\n",
    "                                                    'min_child_weight': IntegerParameter(2, 8),\n",
    "                                                    'subsample': ContinuousParameter(0.5, 0.9),\n",
    "                                                    'gamma': ContinuousParameter(0, 10),\n",
    "                                               })\n",
    "\n"
   ]
  },
  {
   "cell_type": "markdown",
   "metadata": {},
   "source": [
    "### Fit the hyperparameter tuner\n",
    "\n",
    "Now that the hyperparameter tuner object has been constructed, it is time to fit the various models and find the best performing model."
   ]
  },
  {
   "cell_type": "code",
   "execution_count": 24,
   "metadata": {},
   "outputs": [
    {
     "name": "stderr",
     "output_type": "stream",
     "text": [
      "'s3_input' class will be renamed to 'TrainingInput' in SageMaker Python SDK v2.\n",
      "'s3_input' class will be renamed to 'TrainingInput' in SageMaker Python SDK v2.\n"
     ]
    }
   ],
   "source": [
    "s3_input_train = sagemaker.s3_input(s3_data=train_location, content_type='csv')\n",
    "s3_input_validation = sagemaker.s3_input(s3_data=val_location, content_type='csv')"
   ]
  },
  {
   "cell_type": "code",
   "execution_count": 25,
   "metadata": {},
   "outputs": [],
   "source": [
    "xgb_hyperparameter_tuner.fit({'train': s3_input_train, 'validation': s3_input_validation})"
   ]
  },
  {
   "cell_type": "markdown",
   "metadata": {},
   "source": [
    "Remember that the tuning job is constructed and run in the background so if we want to see the progress of our training job we need to call the `wait()` method."
   ]
  },
  {
   "cell_type": "code",
   "execution_count": 27,
   "metadata": {},
   "outputs": [
    {
     "name": "stdout",
     "output_type": "stream",
     "text": [
      "!\n"
     ]
    }
   ],
   "source": [
    "xgb_hyperparameter_tuner.wait()"
   ]
  },
  {
   "cell_type": "markdown",
   "metadata": {},
   "source": [
    "### (TODO) Testing the model\n",
    "\n",
    "Now that we've run our hyperparameter tuning job, it's time to see how well the best performing model actually performs. To do this we will use SageMaker's Batch Transform functionality. Batch Transform is a convenient way to perform inference on a large dataset in a way that is not realtime. That is, we don't necessarily need to use our model's results immediately and instead we can peform inference on a large number of samples. An example of this in industry might be peforming an end of month report. This method of inference can also be useful to us as it means to can perform inference on our entire test set. \n",
    "\n",
    "Remember that in order to create a transformer object to perform the batch transform job, we need a trained estimator object. We can do that using the `attach()` method, creating an estimator object which is attached to the best trained job."
   ]
  },
  {
   "cell_type": "code",
   "execution_count": 28,
   "metadata": {},
   "outputs": [
    {
     "name": "stderr",
     "output_type": "stream",
     "text": [
      "Parameter image_name will be renamed to image_uri in SageMaker Python SDK v2.\n"
     ]
    },
    {
     "name": "stdout",
     "output_type": "stream",
     "text": [
      "2020-07-29 17:41:56 Starting - Preparing the instances for training\n",
      "2020-07-29 17:41:56 Downloading - Downloading input data\n",
      "2020-07-29 17:41:56 Training - Training image download completed. Training in progress.\n",
      "2020-07-29 17:41:56 Uploading - Uploading generated training model\n",
      "2020-07-29 17:41:56 Completed - Training job completed\u001b[34mArguments: train\u001b[0m\n",
      "\u001b[34m[2020-07-29:17:33:43:INFO] Running standalone xgboost training.\u001b[0m\n",
      "\u001b[34m[2020-07-29:17:33:43:INFO] Setting up HPO optimized metric to be : rmse\u001b[0m\n",
      "\u001b[34m[2020-07-29:17:33:43:INFO] File size need to be processed in the node: 238.47mb. Available memory size in the node: 8485.0mb\u001b[0m\n",
      "\u001b[34m[2020-07-29:17:33:43:INFO] Determined delimiter of CSV input is ','\u001b[0m\n",
      "\u001b[34m[17:33:43] S3DistributionType set as FullyReplicated\u001b[0m\n",
      "\u001b[34m[17:33:45] 15000x5000 matrix with 75000000 entries loaded from /opt/ml/input/data/train?format=csv&label_column=0&delimiter=,\u001b[0m\n",
      "\u001b[34m[2020-07-29:17:33:45:INFO] Determined delimiter of CSV input is ','\u001b[0m\n",
      "\u001b[34m[17:33:45] S3DistributionType set as FullyReplicated\u001b[0m\n",
      "\u001b[34m[17:33:46] 10000x5000 matrix with 50000000 entries loaded from /opt/ml/input/data/validation?format=csv&label_column=0&delimiter=,\u001b[0m\n",
      "\u001b[34m[17:33:52] src/tree/updater_prune.cc:74: tree pruning end, 1 roots, 168 extra nodes, 54 pruned nodes, max_depth=11\u001b[0m\n",
      "\u001b[34m[0]#011train-rmse:0.463203#011validation-rmse:0.466375\u001b[0m\n",
      "\u001b[34mMultiple eval metrics have been passed: 'validation-rmse' will be used for early stopping.\n",
      "\u001b[0m\n",
      "\u001b[34mWill train until validation-rmse hasn't improved in 10 rounds.\u001b[0m\n",
      "\u001b[34m[17:33:55] src/tree/updater_prune.cc:74: tree pruning end, 1 roots, 172 extra nodes, 38 pruned nodes, max_depth=11\u001b[0m\n",
      "\u001b[34m[1]#011train-rmse:0.438182#011validation-rmse:0.444536\u001b[0m\n",
      "\u001b[34m[17:33:58] src/tree/updater_prune.cc:74: tree pruning end, 1 roots, 140 extra nodes, 66 pruned nodes, max_depth=11\u001b[0m\n",
      "\u001b[34m[2]#011train-rmse:0.420611#011validation-rmse:0.429297\u001b[0m\n",
      "\u001b[34m[17:34:02] src/tree/updater_prune.cc:74: tree pruning end, 1 roots, 128 extra nodes, 60 pruned nodes, max_depth=11\u001b[0m\n",
      "\u001b[34m[3]#011train-rmse:0.406381#011validation-rmse:0.4177\u001b[0m\n",
      "\u001b[34m[17:34:05] src/tree/updater_prune.cc:74: tree pruning end, 1 roots, 122 extra nodes, 56 pruned nodes, max_depth=11\u001b[0m\n",
      "\u001b[34m[4]#011train-rmse:0.395652#011validation-rmse:0.408741\u001b[0m\n",
      "\u001b[34m[17:34:08] src/tree/updater_prune.cc:74: tree pruning end, 1 roots, 126 extra nodes, 72 pruned nodes, max_depth=11\u001b[0m\n",
      "\u001b[34m[5]#011train-rmse:0.385851#011validation-rmse:0.401299\u001b[0m\n",
      "\u001b[34m[17:34:11] src/tree/updater_prune.cc:74: tree pruning end, 1 roots, 80 extra nodes, 54 pruned nodes, max_depth=11\u001b[0m\n",
      "\u001b[34m[6]#011train-rmse:0.378028#011validation-rmse:0.394845\u001b[0m\n",
      "\u001b[34m[17:34:14] src/tree/updater_prune.cc:74: tree pruning end, 1 roots, 102 extra nodes, 54 pruned nodes, max_depth=11\u001b[0m\n",
      "\u001b[34m[7]#011train-rmse:0.370551#011validation-rmse:0.389491\u001b[0m\n",
      "\u001b[34m[17:34:17] src/tree/updater_prune.cc:74: tree pruning end, 1 roots, 68 extra nodes, 66 pruned nodes, max_depth=11\u001b[0m\n",
      "\u001b[34m[8]#011train-rmse:0.364818#011validation-rmse:0.384918\u001b[0m\n",
      "\u001b[34m[17:34:20] src/tree/updater_prune.cc:74: tree pruning end, 1 roots, 116 extra nodes, 44 pruned nodes, max_depth=11\u001b[0m\n",
      "\u001b[34m[9]#011train-rmse:0.358147#011validation-rmse:0.380968\u001b[0m\n",
      "\u001b[34m[17:34:23] src/tree/updater_prune.cc:74: tree pruning end, 1 roots, 120 extra nodes, 42 pruned nodes, max_depth=11\u001b[0m\n",
      "\u001b[34m[10]#011train-rmse:0.351343#011validation-rmse:0.377031\u001b[0m\n",
      "\u001b[34m[17:34:26] src/tree/updater_prune.cc:74: tree pruning end, 1 roots, 74 extra nodes, 50 pruned nodes, max_depth=11\u001b[0m\n",
      "\u001b[34m[11]#011train-rmse:0.346386#011validation-rmse:0.37312\u001b[0m\n",
      "\u001b[34m[17:34:29] src/tree/updater_prune.cc:74: tree pruning end, 1 roots, 90 extra nodes, 54 pruned nodes, max_depth=11\u001b[0m\n",
      "\u001b[34m[12]#011train-rmse:0.341479#011validation-rmse:0.369554\u001b[0m\n",
      "\u001b[34m[17:34:32] src/tree/updater_prune.cc:74: tree pruning end, 1 roots, 100 extra nodes, 60 pruned nodes, max_depth=11\u001b[0m\n",
      "\u001b[34m[13]#011train-rmse:0.336859#011validation-rmse:0.367766\u001b[0m\n",
      "\u001b[34m[17:34:35] src/tree/updater_prune.cc:74: tree pruning end, 1 roots, 86 extra nodes, 58 pruned nodes, max_depth=11\u001b[0m\n",
      "\u001b[34m[14]#011train-rmse:0.3324#011validation-rmse:0.364817\u001b[0m\n",
      "\u001b[34m[17:34:38] src/tree/updater_prune.cc:74: tree pruning end, 1 roots, 56 extra nodes, 56 pruned nodes, max_depth=11\u001b[0m\n",
      "\u001b[34m[15]#011train-rmse:0.329367#011validation-rmse:0.362374\u001b[0m\n",
      "\u001b[34m[17:34:41] src/tree/updater_prune.cc:74: tree pruning end, 1 roots, 56 extra nodes, 60 pruned nodes, max_depth=11\u001b[0m\n",
      "\u001b[34m[16]#011train-rmse:0.32637#011validation-rmse:0.359795\u001b[0m\n",
      "\u001b[34m[17:34:44] src/tree/updater_prune.cc:74: tree pruning end, 1 roots, 74 extra nodes, 48 pruned nodes, max_depth=11\u001b[0m\n",
      "\u001b[34m[17]#011train-rmse:0.322729#011validation-rmse:0.357464\u001b[0m\n",
      "\u001b[34m[17:34:47] src/tree/updater_prune.cc:74: tree pruning end, 1 roots, 60 extra nodes, 56 pruned nodes, max_depth=11\u001b[0m\n",
      "\u001b[34m[18]#011train-rmse:0.31967#011validation-rmse:0.355445\u001b[0m\n",
      "\u001b[34m[17:34:51] src/tree/updater_prune.cc:74: tree pruning end, 1 roots, 50 extra nodes, 52 pruned nodes, max_depth=11\u001b[0m\n",
      "\u001b[34m[19]#011train-rmse:0.317128#011validation-rmse:0.353721\u001b[0m\n",
      "\u001b[34m[17:34:54] src/tree/updater_prune.cc:74: tree pruning end, 1 roots, 80 extra nodes, 66 pruned nodes, max_depth=11\u001b[0m\n",
      "\u001b[34m[20]#011train-rmse:0.313791#011validation-rmse:0.352216\u001b[0m\n",
      "\u001b[34m[17:34:57] src/tree/updater_prune.cc:74: tree pruning end, 1 roots, 68 extra nodes, 60 pruned nodes, max_depth=11\u001b[0m\n",
      "\u001b[34m[21]#011train-rmse:0.3111#011validation-rmse:0.3505\u001b[0m\n",
      "\u001b[34m[17:35:00] src/tree/updater_prune.cc:74: tree pruning end, 1 roots, 68 extra nodes, 32 pruned nodes, max_depth=11\u001b[0m\n",
      "\u001b[34m[22]#011train-rmse:0.308186#011validation-rmse:0.348853\u001b[0m\n",
      "\u001b[34m[17:35:03] src/tree/updater_prune.cc:74: tree pruning end, 1 roots, 76 extra nodes, 56 pruned nodes, max_depth=11\u001b[0m\n",
      "\u001b[34m[23]#011train-rmse:0.305361#011validation-rmse:0.347526\u001b[0m\n",
      "\u001b[34m[17:35:06] src/tree/updater_prune.cc:74: tree pruning end, 1 roots, 82 extra nodes, 50 pruned nodes, max_depth=11\u001b[0m\n",
      "\u001b[34m[24]#011train-rmse:0.302203#011validation-rmse:0.345623\u001b[0m\n",
      "\u001b[34m[17:35:09] src/tree/updater_prune.cc:74: tree pruning end, 1 roots, 40 extra nodes, 54 pruned nodes, max_depth=11\u001b[0m\n",
      "\u001b[34m[25]#011train-rmse:0.300175#011validation-rmse:0.344314\u001b[0m\n",
      "\u001b[34m[17:35:12] src/tree/updater_prune.cc:74: tree pruning end, 1 roots, 52 extra nodes, 26 pruned nodes, max_depth=11\u001b[0m\n",
      "\u001b[34m[26]#011train-rmse:0.297991#011validation-rmse:0.34347\u001b[0m\n",
      "\u001b[34m[17:35:15] src/tree/updater_prune.cc:74: tree pruning end, 1 roots, 80 extra nodes, 56 pruned nodes, max_depth=11\u001b[0m\n",
      "\u001b[34m[27]#011train-rmse:0.295056#011validation-rmse:0.342827\u001b[0m\n",
      "\u001b[34m[17:35:18] src/tree/updater_prune.cc:74: tree pruning end, 1 roots, 66 extra nodes, 50 pruned nodes, max_depth=11\u001b[0m\n",
      "\u001b[34m[28]#011train-rmse:0.292543#011validation-rmse:0.342075\u001b[0m\n",
      "\u001b[34m[17:35:21] src/tree/updater_prune.cc:74: tree pruning end, 1 roots, 38 extra nodes, 38 pruned nodes, max_depth=11\u001b[0m\n",
      "\u001b[34m[29]#011train-rmse:0.290633#011validation-rmse:0.340714\u001b[0m\n",
      "\u001b[34m[17:35:24] src/tree/updater_prune.cc:74: tree pruning end, 1 roots, 48 extra nodes, 36 pruned nodes, max_depth=11\u001b[0m\n",
      "\u001b[34m[30]#011train-rmse:0.288716#011validation-rmse:0.339843\u001b[0m\n",
      "\u001b[34m[17:35:27] src/tree/updater_prune.cc:74: tree pruning end, 1 roots, 60 extra nodes, 54 pruned nodes, max_depth=11\u001b[0m\n",
      "\u001b[34m[31]#011train-rmse:0.28657#011validation-rmse:0.338972\u001b[0m\n",
      "\u001b[34m[17:35:30] src/tree/updater_prune.cc:74: tree pruning end, 1 roots, 46 extra nodes, 36 pruned nodes, max_depth=11\u001b[0m\n",
      "\u001b[34m[32]#011train-rmse:0.284658#011validation-rmse:0.338038\u001b[0m\n",
      "\u001b[34m[17:35:33] src/tree/updater_prune.cc:74: tree pruning end, 1 roots, 48 extra nodes, 54 pruned nodes, max_depth=11\u001b[0m\n",
      "\u001b[34m[33]#011train-rmse:0.283114#011validation-rmse:0.337036\u001b[0m\n",
      "\u001b[34m[17:35:36] src/tree/updater_prune.cc:74: tree pruning end, 1 roots, 28 extra nodes, 24 pruned nodes, max_depth=11\u001b[0m\n",
      "\u001b[34m[34]#011train-rmse:0.28182#011validation-rmse:0.336308\u001b[0m\n",
      "\u001b[34m[17:35:40] src/tree/updater_prune.cc:74: tree pruning end, 1 roots, 38 extra nodes, 48 pruned nodes, max_depth=11\u001b[0m\n",
      "\u001b[34m[35]#011train-rmse:0.280488#011validation-rmse:0.335809\u001b[0m\n",
      "\u001b[34m[17:35:43] src/tree/updater_prune.cc:74: tree pruning end, 1 roots, 30 extra nodes, 26 pruned nodes, max_depth=11\u001b[0m\n",
      "\u001b[34m[36]#011train-rmse:0.279378#011validation-rmse:0.335095\u001b[0m\n",
      "\u001b[34m[17:35:46] src/tree/updater_prune.cc:74: tree pruning end, 1 roots, 56 extra nodes, 48 pruned nodes, max_depth=11\u001b[0m\n",
      "\u001b[34m[37]#011train-rmse:0.27749#011validation-rmse:0.333978\u001b[0m\n",
      "\u001b[34m[17:35:49] src/tree/updater_prune.cc:74: tree pruning end, 1 roots, 28 extra nodes, 32 pruned nodes, max_depth=11\u001b[0m\n",
      "\u001b[34m[38]#011train-rmse:0.276345#011validation-rmse:0.333328\u001b[0m\n",
      "\u001b[34m[17:35:52] src/tree/updater_prune.cc:74: tree pruning end, 1 roots, 50 extra nodes, 26 pruned nodes, max_depth=11\u001b[0m\n",
      "\u001b[34m[39]#011train-rmse:0.274506#011validation-rmse:0.332176\u001b[0m\n",
      "\u001b[34m[17:35:55] src/tree/updater_prune.cc:74: tree pruning end, 1 roots, 50 extra nodes, 50 pruned nodes, max_depth=11\u001b[0m\n",
      "\u001b[34m[40]#011train-rmse:0.2729#011validation-rmse:0.331644\u001b[0m\n",
      "\u001b[34m[17:35:58] src/tree/updater_prune.cc:74: tree pruning end, 1 roots, 30 extra nodes, 20 pruned nodes, max_depth=11\u001b[0m\n",
      "\u001b[34m[41]#011train-rmse:0.271852#011validation-rmse:0.330747\u001b[0m\n",
      "\u001b[34m[17:36:01] src/tree/updater_prune.cc:74: tree pruning end, 1 roots, 54 extra nodes, 46 pruned nodes, max_depth=11\u001b[0m\n",
      "\u001b[34m[42]#011train-rmse:0.270264#011validation-rmse:0.330098\u001b[0m\n",
      "\u001b[34m[17:36:04] src/tree/updater_prune.cc:74: tree pruning end, 1 roots, 74 extra nodes, 48 pruned nodes, max_depth=11\u001b[0m\n",
      "\u001b[34m[43]#011train-rmse:0.268279#011validation-rmse:0.329438\u001b[0m\n",
      "\u001b[34m[17:36:07] src/tree/updater_prune.cc:74: tree pruning end, 1 roots, 36 extra nodes, 36 pruned nodes, max_depth=11\u001b[0m\n",
      "\u001b[34m[44]#011train-rmse:0.267139#011validation-rmse:0.328637\u001b[0m\n",
      "\u001b[34m[17:36:10] src/tree/updater_prune.cc:74: tree pruning end, 1 roots, 34 extra nodes, 42 pruned nodes, max_depth=11\u001b[0m\n",
      "\u001b[34m[45]#011train-rmse:0.266086#011validation-rmse:0.327775\u001b[0m\n",
      "\u001b[34m[17:36:13] src/tree/updater_prune.cc:74: tree pruning end, 1 roots, 32 extra nodes, 36 pruned nodes, max_depth=11\u001b[0m\n",
      "\u001b[34m[46]#011train-rmse:0.264955#011validation-rmse:0.327259\u001b[0m\n",
      "\u001b[34m[17:36:16] src/tree/updater_prune.cc:74: tree pruning end, 1 roots, 38 extra nodes, 52 pruned nodes, max_depth=11\u001b[0m\n",
      "\u001b[34m[47]#011train-rmse:0.263764#011validation-rmse:0.326916\u001b[0m\n",
      "\u001b[34m[17:36:19] src/tree/updater_prune.cc:74: tree pruning end, 1 roots, 38 extra nodes, 62 pruned nodes, max_depth=11\u001b[0m\n",
      "\u001b[34m[48]#011train-rmse:0.262554#011validation-rmse:0.326331\u001b[0m\n",
      "\u001b[34m[17:36:23] src/tree/updater_prune.cc:74: tree pruning end, 1 roots, 52 extra nodes, 74 pruned nodes, max_depth=11\u001b[0m\n",
      "\u001b[34m[49]#011train-rmse:0.260855#011validation-rmse:0.325958\u001b[0m\n",
      "\u001b[34m[17:36:26] src/tree/updater_prune.cc:74: tree pruning end, 1 roots, 50 extra nodes, 32 pruned nodes, max_depth=11\u001b[0m\n",
      "\u001b[34m[50]#011train-rmse:0.259525#011validation-rmse:0.325642\u001b[0m\n",
      "\u001b[34m[17:36:29] src/tree/updater_prune.cc:74: tree pruning end, 1 roots, 48 extra nodes, 46 pruned nodes, max_depth=11\u001b[0m\n",
      "\u001b[34m[51]#011train-rmse:0.258045#011validation-rmse:0.325073\u001b[0m\n",
      "\u001b[34m[17:36:32] src/tree/updater_prune.cc:74: tree pruning end, 1 roots, 46 extra nodes, 36 pruned nodes, max_depth=11\u001b[0m\n",
      "\u001b[34m[52]#011train-rmse:0.256691#011validation-rmse:0.325\u001b[0m\n",
      "\u001b[34m[17:36:35] src/tree/updater_prune.cc:74: tree pruning end, 1 roots, 58 extra nodes, 34 pruned nodes, max_depth=11\u001b[0m\n",
      "\u001b[34m[53]#011train-rmse:0.255155#011validation-rmse:0.324801\u001b[0m\n",
      "\u001b[34m[17:36:38] src/tree/updater_prune.cc:74: tree pruning end, 1 roots, 52 extra nodes, 44 pruned nodes, max_depth=11\u001b[0m\n",
      "\u001b[34m[54]#011train-rmse:0.253599#011validation-rmse:0.324966\u001b[0m\n",
      "\u001b[34m[17:36:41] src/tree/updater_prune.cc:74: tree pruning end, 1 roots, 44 extra nodes, 30 pruned nodes, max_depth=11\u001b[0m\n",
      "\u001b[34m[55]#011train-rmse:0.252356#011validation-rmse:0.324194\u001b[0m\n",
      "\u001b[34m[17:36:44] src/tree/updater_prune.cc:74: tree pruning end, 1 roots, 40 extra nodes, 22 pruned nodes, max_depth=11\u001b[0m\n",
      "\u001b[34m[56]#011train-rmse:0.251159#011validation-rmse:0.323751\u001b[0m\n",
      "\u001b[34m[17:36:47] src/tree/updater_prune.cc:74: tree pruning end, 1 roots, 36 extra nodes, 32 pruned nodes, max_depth=11\u001b[0m\n",
      "\u001b[34m[57]#011train-rmse:0.250138#011validation-rmse:0.323708\u001b[0m\n",
      "\u001b[34m[17:36:50] src/tree/updater_prune.cc:74: tree pruning end, 1 roots, 58 extra nodes, 28 pruned nodes, max_depth=11\u001b[0m\n",
      "\u001b[34m[58]#011train-rmse:0.248639#011validation-rmse:0.323385\u001b[0m\n",
      "\u001b[34m[17:36:53] src/tree/updater_prune.cc:74: tree pruning end, 1 roots, 36 extra nodes, 42 pruned nodes, max_depth=11\u001b[0m\n",
      "\u001b[34m[59]#011train-rmse:0.247807#011validation-rmse:0.323131\u001b[0m\n",
      "\u001b[34m[17:36:56] src/tree/updater_prune.cc:74: tree pruning end, 1 roots, 26 extra nodes, 20 pruned nodes, max_depth=11\u001b[0m\n",
      "\u001b[34m[60]#011train-rmse:0.247032#011validation-rmse:0.322727\u001b[0m\n",
      "\u001b[34m[17:36:59] src/tree/updater_prune.cc:74: tree pruning end, 1 roots, 40 extra nodes, 42 pruned nodes, max_depth=11\u001b[0m\n",
      "\u001b[34m[61]#011train-rmse:0.245912#011validation-rmse:0.322545\u001b[0m\n",
      "\u001b[34m[17:37:02] src/tree/updater_prune.cc:74: tree pruning end, 1 roots, 44 extra nodes, 54 pruned nodes, max_depth=11\u001b[0m\n",
      "\u001b[34m[62]#011train-rmse:0.244673#011validation-rmse:0.322208\u001b[0m\n",
      "\u001b[34m[17:37:05] src/tree/updater_prune.cc:74: tree pruning end, 1 roots, 32 extra nodes, 58 pruned nodes, max_depth=11\u001b[0m\n",
      "\u001b[34m[63]#011train-rmse:0.243921#011validation-rmse:0.32179\u001b[0m\n",
      "\u001b[34m[17:37:09] src/tree/updater_prune.cc:74: tree pruning end, 1 roots, 40 extra nodes, 54 pruned nodes, max_depth=11\u001b[0m\n",
      "\u001b[34m[64]#011train-rmse:0.242901#011validation-rmse:0.32142\u001b[0m\n",
      "\u001b[34m[17:37:12] src/tree/updater_prune.cc:74: tree pruning end, 1 roots, 36 extra nodes, 30 pruned nodes, max_depth=11\u001b[0m\n",
      "\u001b[34m[65]#011train-rmse:0.241876#011validation-rmse:0.321267\u001b[0m\n",
      "\u001b[34m[17:37:15] src/tree/updater_prune.cc:74: tree pruning end, 1 roots, 36 extra nodes, 46 pruned nodes, max_depth=11\u001b[0m\n",
      "\u001b[34m[66]#011train-rmse:0.240779#011validation-rmse:0.321114\u001b[0m\n",
      "\u001b[34m[17:37:18] src/tree/updater_prune.cc:74: tree pruning end, 1 roots, 42 extra nodes, 46 pruned nodes, max_depth=11\u001b[0m\n",
      "\u001b[34m[67]#011train-rmse:0.239828#011validation-rmse:0.321009\u001b[0m\n",
      "\u001b[34m[17:37:21] src/tree/updater_prune.cc:74: tree pruning end, 1 roots, 28 extra nodes, 16 pruned nodes, max_depth=11\u001b[0m\n",
      "\u001b[34m[68]#011train-rmse:0.239085#011validation-rmse:0.320802\u001b[0m\n",
      "\u001b[34m[17:37:24] src/tree/updater_prune.cc:74: tree pruning end, 1 roots, 30 extra nodes, 28 pruned nodes, max_depth=11\u001b[0m\n",
      "\u001b[34m[69]#011train-rmse:0.238217#011validation-rmse:0.320555\u001b[0m\n",
      "\u001b[34m[17:37:27] src/tree/updater_prune.cc:74: tree pruning end, 1 roots, 22 extra nodes, 26 pruned nodes, max_depth=11\u001b[0m\n",
      "\u001b[34m[70]#011train-rmse:0.237682#011validation-rmse:0.320049\u001b[0m\n",
      "\u001b[34m[17:37:30] src/tree/updater_prune.cc:74: tree pruning end, 1 roots, 26 extra nodes, 40 pruned nodes, max_depth=11\u001b[0m\n",
      "\u001b[34m[71]#011train-rmse:0.237077#011validation-rmse:0.319829\u001b[0m\n",
      "\u001b[34m[17:37:33] src/tree/updater_prune.cc:74: tree pruning end, 1 roots, 28 extra nodes, 44 pruned nodes, max_depth=11\u001b[0m\n",
      "\u001b[34m[72]#011train-rmse:0.23635#011validation-rmse:0.319593\u001b[0m\n",
      "\u001b[34m[17:37:36] src/tree/updater_prune.cc:74: tree pruning end, 1 roots, 28 extra nodes, 32 pruned nodes, max_depth=11\u001b[0m\n",
      "\u001b[34m[73]#011train-rmse:0.235619#011validation-rmse:0.319335\u001b[0m\n",
      "\u001b[34m[17:37:39] src/tree/updater_prune.cc:74: tree pruning end, 1 roots, 34 extra nodes, 18 pruned nodes, max_depth=11\u001b[0m\n",
      "\u001b[34m[74]#011train-rmse:0.23474#011validation-rmse:0.318934\u001b[0m\n",
      "\u001b[34m[17:37:42] src/tree/updater_prune.cc:74: tree pruning end, 1 roots, 30 extra nodes, 18 pruned nodes, max_depth=11\u001b[0m\n",
      "\u001b[34m[75]#011train-rmse:0.233978#011validation-rmse:0.318582\u001b[0m\n",
      "\u001b[34m[17:37:45] src/tree/updater_prune.cc:74: tree pruning end, 1 roots, 40 extra nodes, 44 pruned nodes, max_depth=11\u001b[0m\n",
      "\u001b[34m[76]#011train-rmse:0.233071#011validation-rmse:0.318415\u001b[0m\n",
      "\u001b[34m[17:37:48] src/tree/updater_prune.cc:74: tree pruning end, 1 roots, 28 extra nodes, 34 pruned nodes, max_depth=11\u001b[0m\n",
      "\u001b[34m[77]#011train-rmse:0.232351#011validation-rmse:0.318114\u001b[0m\n",
      "\u001b[34m[17:37:51] src/tree/updater_prune.cc:74: tree pruning end, 1 roots, 28 extra nodes, 30 pruned nodes, max_depth=11\u001b[0m\n",
      "\u001b[34m[78]#011train-rmse:0.231864#011validation-rmse:0.317971\u001b[0m\n",
      "\u001b[34m[17:37:55] src/tree/updater_prune.cc:74: tree pruning end, 1 roots, 28 extra nodes, 22 pruned nodes, max_depth=11\u001b[0m\n",
      "\u001b[34m[79]#011train-rmse:0.23108#011validation-rmse:0.317959\u001b[0m\n",
      "\u001b[34m[17:37:58] src/tree/updater_prune.cc:74: tree pruning end, 1 roots, 24 extra nodes, 30 pruned nodes, max_depth=11\u001b[0m\n",
      "\u001b[34m[80]#011train-rmse:0.230506#011validation-rmse:0.317823\u001b[0m\n",
      "\u001b[34m[17:38:01] src/tree/updater_prune.cc:74: tree pruning end, 1 roots, 50 extra nodes, 58 pruned nodes, max_depth=11\u001b[0m\n",
      "\u001b[34m[81]#011train-rmse:0.229417#011validation-rmse:0.317361\u001b[0m\n",
      "\u001b[34m[17:38:04] src/tree/updater_prune.cc:74: tree pruning end, 1 roots, 30 extra nodes, 40 pruned nodes, max_depth=11\u001b[0m\n",
      "\u001b[34m[82]#011train-rmse:0.22869#011validation-rmse:0.317009\u001b[0m\n",
      "\u001b[34m[17:38:07] src/tree/updater_prune.cc:74: tree pruning end, 1 roots, 46 extra nodes, 60 pruned nodes, max_depth=11\u001b[0m\n",
      "\u001b[34m[83]#011train-rmse:0.227536#011validation-rmse:0.316705\u001b[0m\n",
      "\u001b[34m[17:38:10] src/tree/updater_prune.cc:74: tree pruning end, 1 roots, 22 extra nodes, 24 pruned nodes, max_depth=11\u001b[0m\n",
      "\u001b[34m[84]#011train-rmse:0.227141#011validation-rmse:0.316383\u001b[0m\n",
      "\u001b[34m[17:38:13] src/tree/updater_prune.cc:74: tree pruning end, 1 roots, 30 extra nodes, 28 pruned nodes, max_depth=11\u001b[0m\n",
      "\u001b[34m[85]#011train-rmse:0.226519#011validation-rmse:0.315797\u001b[0m\n",
      "\u001b[34m[17:38:16] src/tree/updater_prune.cc:74: tree pruning end, 1 roots, 36 extra nodes, 44 pruned nodes, max_depth=11\u001b[0m\n",
      "\u001b[34m[86]#011train-rmse:0.225683#011validation-rmse:0.315437\u001b[0m\n",
      "\u001b[34m[17:38:19] src/tree/updater_prune.cc:74: tree pruning end, 1 roots, 36 extra nodes, 32 pruned nodes, max_depth=11\u001b[0m\n",
      "\u001b[34m[87]#011train-rmse:0.225015#011validation-rmse:0.315428\u001b[0m\n",
      "\u001b[34m[17:38:22] src/tree/updater_prune.cc:74: tree pruning end, 1 roots, 24 extra nodes, 22 pruned nodes, max_depth=11\u001b[0m\n",
      "\u001b[34m[88]#011train-rmse:0.224484#011validation-rmse:0.315023\u001b[0m\n",
      "\u001b[34m[17:38:25] src/tree/updater_prune.cc:74: tree pruning end, 1 roots, 30 extra nodes, 32 pruned nodes, max_depth=11\u001b[0m\n",
      "\u001b[34m[89]#011train-rmse:0.223887#011validation-rmse:0.314733\u001b[0m\n",
      "\u001b[34m[17:38:28] src/tree/updater_prune.cc:74: tree pruning end, 1 roots, 46 extra nodes, 48 pruned nodes, max_depth=11\u001b[0m\n",
      "\u001b[34m[90]#011train-rmse:0.223069#011validation-rmse:0.314316\u001b[0m\n",
      "\u001b[34m[17:38:31] src/tree/updater_prune.cc:74: tree pruning end, 1 roots, 42 extra nodes, 46 pruned nodes, max_depth=11\u001b[0m\n",
      "\u001b[34m[91]#011train-rmse:0.222121#011validation-rmse:0.313964\u001b[0m\n",
      "\u001b[34m[17:38:34] src/tree/updater_prune.cc:74: tree pruning end, 1 roots, 28 extra nodes, 34 pruned nodes, max_depth=11\u001b[0m\n",
      "\u001b[34m[92]#011train-rmse:0.221464#011validation-rmse:0.313933\u001b[0m\n",
      "\u001b[34m[17:38:37] src/tree/updater_prune.cc:74: tree pruning end, 1 roots, 22 extra nodes, 18 pruned nodes, max_depth=11\u001b[0m\n",
      "\u001b[34m[93]#011train-rmse:0.220944#011validation-rmse:0.313605\u001b[0m\n",
      "\u001b[34m[17:38:40] src/tree/updater_prune.cc:74: tree pruning end, 1 roots, 22 extra nodes, 40 pruned nodes, max_depth=11\u001b[0m\n",
      "\u001b[34m[94]#011train-rmse:0.220463#011validation-rmse:0.313515\u001b[0m\n",
      "\u001b[34m[17:38:43] src/tree/updater_prune.cc:74: tree pruning end, 1 roots, 72 extra nodes, 50 pruned nodes, max_depth=11\u001b[0m\n",
      "\u001b[34m[95]#011train-rmse:0.218789#011validation-rmse:0.313613\u001b[0m\n",
      "\u001b[34m[17:38:46] src/tree/updater_prune.cc:74: tree pruning end, 1 roots, 22 extra nodes, 18 pruned nodes, max_depth=11\u001b[0m\n",
      "\u001b[34m[96]#011train-rmse:0.218339#011validation-rmse:0.313668\u001b[0m\n",
      "\u001b[34m[17:38:49] src/tree/updater_prune.cc:74: tree pruning end, 1 roots, 34 extra nodes, 64 pruned nodes, max_depth=11\u001b[0m\n",
      "\u001b[34m[97]#011train-rmse:0.217511#011validation-rmse:0.313684\u001b[0m\n",
      "\u001b[34m[17:38:52] src/tree/updater_prune.cc:74: tree pruning end, 1 roots, 24 extra nodes, 20 pruned nodes, max_depth=11\u001b[0m\n",
      "\u001b[34m[98]#011train-rmse:0.217022#011validation-rmse:0.313313\u001b[0m\n",
      "\u001b[34m[17:38:56] src/tree/updater_prune.cc:74: tree pruning end, 1 roots, 40 extra nodes, 56 pruned nodes, max_depth=11\u001b[0m\n",
      "\u001b[34m[99]#011train-rmse:0.216147#011validation-rmse:0.313165\u001b[0m\n",
      "\u001b[34m[17:38:59] src/tree/updater_prune.cc:74: tree pruning end, 1 roots, 40 extra nodes, 90 pruned nodes, max_depth=11\u001b[0m\n",
      "\u001b[34m[100]#011train-rmse:0.215538#011validation-rmse:0.312903\u001b[0m\n",
      "\u001b[34m[17:39:02] src/tree/updater_prune.cc:74: tree pruning end, 1 roots, 22 extra nodes, 26 pruned nodes, max_depth=11\u001b[0m\n",
      "\u001b[34m[101]#011train-rmse:0.215136#011validation-rmse:0.312709\u001b[0m\n",
      "\u001b[34m[17:39:05] src/tree/updater_prune.cc:74: tree pruning end, 1 roots, 28 extra nodes, 50 pruned nodes, max_depth=11\u001b[0m\n",
      "\u001b[34m[102]#011train-rmse:0.214548#011validation-rmse:0.312557\u001b[0m\n",
      "\u001b[34m[17:39:08] src/tree/updater_prune.cc:74: tree pruning end, 1 roots, 28 extra nodes, 46 pruned nodes, max_depth=11\u001b[0m\n",
      "\u001b[34m[103]#011train-rmse:0.213964#011validation-rmse:0.312735\u001b[0m\n",
      "\u001b[34m[17:39:11] src/tree/updater_prune.cc:74: tree pruning end, 1 roots, 40 extra nodes, 64 pruned nodes, max_depth=10\u001b[0m\n",
      "\u001b[34m[104]#011train-rmse:0.212834#011validation-rmse:0.312688\u001b[0m\n",
      "\u001b[34m[17:39:14] src/tree/updater_prune.cc:74: tree pruning end, 1 roots, 22 extra nodes, 22 pruned nodes, max_depth=11\u001b[0m\n",
      "\u001b[34m[105]#011train-rmse:0.212428#011validation-rmse:0.312523\u001b[0m\n",
      "\u001b[34m[17:39:17] src/tree/updater_prune.cc:74: tree pruning end, 1 roots, 24 extra nodes, 32 pruned nodes, max_depth=11\u001b[0m\n",
      "\u001b[34m[106]#011train-rmse:0.21202#011validation-rmse:0.312409\u001b[0m\n",
      "\u001b[34m[17:39:20] src/tree/updater_prune.cc:74: tree pruning end, 1 roots, 26 extra nodes, 26 pruned nodes, max_depth=11\u001b[0m\n",
      "\u001b[34m[107]#011train-rmse:0.211516#011validation-rmse:0.312481\u001b[0m\n",
      "\u001b[34m[17:39:23] src/tree/updater_prune.cc:74: tree pruning end, 1 roots, 26 extra nodes, 64 pruned nodes, max_depth=11\u001b[0m\n",
      "\u001b[34m[108]#011train-rmse:0.210958#011validation-rmse:0.312188\u001b[0m\n",
      "\u001b[34m[17:39:26] src/tree/updater_prune.cc:74: tree pruning end, 1 roots, 22 extra nodes, 20 pruned nodes, max_depth=11\u001b[0m\n",
      "\u001b[34m[109]#011train-rmse:0.210546#011validation-rmse:0.312129\u001b[0m\n",
      "\u001b[34m[17:39:29] src/tree/updater_prune.cc:74: tree pruning end, 1 roots, 26 extra nodes, 44 pruned nodes, max_depth=11\u001b[0m\n",
      "\u001b[34m[110]#011train-rmse:0.210031#011validation-rmse:0.31218\u001b[0m\n",
      "\u001b[34m[17:39:33] src/tree/updater_prune.cc:74: tree pruning end, 1 roots, 28 extra nodes, 30 pruned nodes, max_depth=11\u001b[0m\n",
      "\u001b[34m[111]#011train-rmse:0.209445#011validation-rmse:0.312035\u001b[0m\n",
      "\u001b[34m[17:39:36] src/tree/updater_prune.cc:74: tree pruning end, 1 roots, 22 extra nodes, 28 pruned nodes, max_depth=11\u001b[0m\n",
      "\u001b[34m[112]#011train-rmse:0.209105#011validation-rmse:0.311811\u001b[0m\n",
      "\u001b[34m[17:39:39] src/tree/updater_prune.cc:74: tree pruning end, 1 roots, 30 extra nodes, 46 pruned nodes, max_depth=11\u001b[0m\n",
      "\u001b[34m[113]#011train-rmse:0.208577#011validation-rmse:0.311753\u001b[0m\n",
      "\u001b[34m[17:39:42] src/tree/updater_prune.cc:74: tree pruning end, 1 roots, 22 extra nodes, 24 pruned nodes, max_depth=11\u001b[0m\n",
      "\u001b[34m[114]#011train-rmse:0.208249#011validation-rmse:0.311524\u001b[0m\n",
      "\u001b[34m[17:39:45] src/tree/updater_prune.cc:74: tree pruning end, 1 roots, 30 extra nodes, 24 pruned nodes, max_depth=11\u001b[0m\n",
      "\u001b[34m[115]#011train-rmse:0.207771#011validation-rmse:0.311409\u001b[0m\n",
      "\u001b[34m[17:39:48] src/tree/updater_prune.cc:74: tree pruning end, 1 roots, 26 extra nodes, 20 pruned nodes, max_depth=11\u001b[0m\n",
      "\u001b[34m[116]#011train-rmse:0.207333#011validation-rmse:0.311311\u001b[0m\n",
      "\u001b[34m[17:39:51] src/tree/updater_prune.cc:74: tree pruning end, 1 roots, 22 extra nodes, 22 pruned nodes, max_depth=11\u001b[0m\n",
      "\u001b[34m[117]#011train-rmse:0.206988#011validation-rmse:0.311379\u001b[0m\n",
      "\u001b[34m[17:39:54] src/tree/updater_prune.cc:74: tree pruning end, 1 roots, 18 extra nodes, 34 pruned nodes, max_depth=8\u001b[0m\n",
      "\u001b[34m[118]#011train-rmse:0.206829#011validation-rmse:0.311302\u001b[0m\n",
      "\u001b[34m[17:39:57] src/tree/updater_prune.cc:74: tree pruning end, 1 roots, 16 extra nodes, 14 pruned nodes, max_depth=8\u001b[0m\n",
      "\u001b[34m[119]#011train-rmse:0.206543#011validation-rmse:0.31123\u001b[0m\n",
      "\u001b[34m[17:40:00] src/tree/updater_prune.cc:74: tree pruning end, 1 roots, 38 extra nodes, 42 pruned nodes, max_depth=11\u001b[0m\n",
      "\u001b[34m[120]#011train-rmse:0.205876#011validation-rmse:0.311424\u001b[0m\n",
      "\u001b[34m[17:40:03] src/tree/updater_prune.cc:74: tree pruning end, 1 roots, 26 extra nodes, 26 pruned nodes, max_depth=11\u001b[0m\n",
      "\u001b[34m[121]#011train-rmse:0.205506#011validation-rmse:0.311582\u001b[0m\n",
      "\u001b[34m[17:40:06] src/tree/updater_prune.cc:74: tree pruning end, 1 roots, 24 extra nodes, 50 pruned nodes, max_depth=11\u001b[0m\n",
      "\u001b[34m[122]#011train-rmse:0.205067#011validation-rmse:0.31163\u001b[0m\n",
      "\u001b[34m[17:40:10] src/tree/updater_prune.cc:74: tree pruning end, 1 roots, 32 extra nodes, 72 pruned nodes, max_depth=11\u001b[0m\n",
      "\u001b[34m[123]#011train-rmse:0.204666#011validation-rmse:0.311365\u001b[0m\n",
      "\u001b[34m[17:40:13] src/tree/updater_prune.cc:74: tree pruning end, 1 roots, 22 extra nodes, 24 pruned nodes, max_depth=11\u001b[0m\n",
      "\u001b[34m[124]#011train-rmse:0.204397#011validation-rmse:0.31119\u001b[0m\n",
      "\u001b[34m[17:40:16] src/tree/updater_prune.cc:74: tree pruning end, 1 roots, 8 extra nodes, 32 pruned nodes, max_depth=4\u001b[0m\n",
      "\u001b[34m[125]#011train-rmse:0.204348#011validation-rmse:0.311083\u001b[0m\n",
      "\u001b[34m[17:40:19] src/tree/updater_prune.cc:74: tree pruning end, 1 roots, 32 extra nodes, 36 pruned nodes, max_depth=11\u001b[0m\n",
      "\u001b[34m[126]#011train-rmse:0.203767#011validation-rmse:0.311257\u001b[0m\n",
      "\u001b[34m[17:40:22] src/tree/updater_prune.cc:74: tree pruning end, 1 roots, 16 extra nodes, 30 pruned nodes, max_depth=8\u001b[0m\n",
      "\u001b[34m[127]#011train-rmse:0.203576#011validation-rmse:0.31115\u001b[0m\n",
      "\u001b[34m[17:40:25] src/tree/updater_prune.cc:74: tree pruning end, 1 roots, 22 extra nodes, 20 pruned nodes, max_depth=11\u001b[0m\n",
      "\u001b[34m[128]#011train-rmse:0.203179#011validation-rmse:0.311093\u001b[0m\n",
      "\u001b[34m[17:40:28] src/tree/updater_prune.cc:74: tree pruning end, 1 roots, 24 extra nodes, 24 pruned nodes, max_depth=11\u001b[0m\n",
      "\u001b[34m[129]#011train-rmse:0.202807#011validation-rmse:0.310821\u001b[0m\n",
      "\u001b[34m[17:40:31] src/tree/updater_prune.cc:74: tree pruning end, 1 roots, 32 extra nodes, 34 pruned nodes, max_depth=11\u001b[0m\n",
      "\u001b[34m[130]#011train-rmse:0.202059#011validation-rmse:0.310818\u001b[0m\n",
      "\u001b[34m[17:40:34] src/tree/updater_prune.cc:74: tree pruning end, 1 roots, 22 extra nodes, 32 pruned nodes, max_depth=11\u001b[0m\n",
      "\u001b[34m[131]#011train-rmse:0.201812#011validation-rmse:0.310832\u001b[0m\n",
      "\u001b[34m[17:40:37] src/tree/updater_prune.cc:74: tree pruning end, 1 roots, 22 extra nodes, 18 pruned nodes, max_depth=11\u001b[0m\n",
      "\u001b[34m[132]#011train-rmse:0.201459#011validation-rmse:0.310678\u001b[0m\n",
      "\u001b[34m[17:40:40] src/tree/updater_prune.cc:74: tree pruning end, 1 roots, 24 extra nodes, 28 pruned nodes, max_depth=11\u001b[0m\n",
      "\u001b[34m[133]#011train-rmse:0.201106#011validation-rmse:0.310402\u001b[0m\n",
      "\u001b[34m[17:40:43] src/tree/updater_prune.cc:74: tree pruning end, 1 roots, 32 extra nodes, 32 pruned nodes, max_depth=11\u001b[0m\n",
      "\u001b[34m[134]#011train-rmse:0.200468#011validation-rmse:0.310345\u001b[0m\n",
      "\u001b[34m[17:40:46] src/tree/updater_prune.cc:74: tree pruning end, 1 roots, 26 extra nodes, 20 pruned nodes, max_depth=11\u001b[0m\n",
      "\u001b[34m[135]#011train-rmse:0.200075#011validation-rmse:0.310331\u001b[0m\n",
      "\u001b[34m[17:40:49] src/tree/updater_prune.cc:74: tree pruning end, 1 roots, 26 extra nodes, 34 pruned nodes, max_depth=9\u001b[0m\n",
      "\u001b[34m[136]#011train-rmse:0.19959#011validation-rmse:0.309981\u001b[0m\n",
      "\u001b[34m[17:40:52] src/tree/updater_prune.cc:74: tree pruning end, 1 roots, 18 extra nodes, 16 pruned nodes, max_depth=9\u001b[0m\n",
      "\u001b[34m[137]#011train-rmse:0.19925#011validation-rmse:0.30999\u001b[0m\n",
      "\u001b[34m[17:40:55] src/tree/updater_prune.cc:74: tree pruning end, 1 roots, 6 extra nodes, 40 pruned nodes, max_depth=3\u001b[0m\n",
      "\u001b[34m[138]#011train-rmse:0.199149#011validation-rmse:0.309962\u001b[0m\n",
      "\u001b[34m[17:40:59] src/tree/updater_prune.cc:74: tree pruning end, 1 roots, 26 extra nodes, 74 pruned nodes, max_depth=11\u001b[0m\n",
      "\u001b[34m[139]#011train-rmse:0.198697#011validation-rmse:0.310049\u001b[0m\n",
      "\u001b[34m[17:41:02] src/tree/updater_prune.cc:74: tree pruning end, 1 roots, 2 extra nodes, 50 pruned nodes, max_depth=1\u001b[0m\n",
      "\u001b[34m[140]#011train-rmse:0.198644#011validation-rmse:0.310028\u001b[0m\n",
      "\u001b[34m[17:41:05] src/tree/updater_prune.cc:74: tree pruning end, 1 roots, 10 extra nodes, 34 pruned nodes, max_depth=5\u001b[0m\n",
      "\u001b[34m[141]#011train-rmse:0.198607#011validation-rmse:0.309926\u001b[0m\n",
      "\u001b[34m[17:41:08] src/tree/updater_prune.cc:74: tree pruning end, 1 roots, 16 extra nodes, 36 pruned nodes, max_depth=8\u001b[0m\n",
      "\u001b[34m[142]#011train-rmse:0.198329#011validation-rmse:0.309779\u001b[0m\n",
      "\u001b[34m[17:41:11] src/tree/updater_prune.cc:74: tree pruning end, 1 roots, 22 extra nodes, 22 pruned nodes, max_depth=10\u001b[0m\n",
      "\u001b[34m[143]#011train-rmse:0.198019#011validation-rmse:0.30952\u001b[0m\n",
      "\u001b[34m[17:41:14] src/tree/updater_prune.cc:74: tree pruning end, 1 roots, 26 extra nodes, 42 pruned nodes, max_depth=10\u001b[0m\n",
      "\u001b[34m[144]#011train-rmse:0.1976#011validation-rmse:0.309298\u001b[0m\n",
      "\u001b[34m[17:41:17] src/tree/updater_prune.cc:74: tree pruning end, 1 roots, 4 extra nodes, 36 pruned nodes, max_depth=2\u001b[0m\n",
      "\u001b[34m[145]#011train-rmse:0.1975#011validation-rmse:0.309372\u001b[0m\n",
      "\u001b[34m[17:41:20] src/tree/updater_prune.cc:74: tree pruning end, 1 roots, 28 extra nodes, 12 pruned nodes, max_depth=11\u001b[0m\n",
      "\u001b[34m[146]#011train-rmse:0.197096#011validation-rmse:0.30946\u001b[0m\n",
      "\u001b[34m[17:41:23] src/tree/updater_prune.cc:74: tree pruning end, 1 roots, 26 extra nodes, 50 pruned nodes, max_depth=11\u001b[0m\n",
      "\u001b[34m[147]#011train-rmse:0.19665#011validation-rmse:0.309448\u001b[0m\n",
      "\u001b[34m[17:41:26] src/tree/updater_prune.cc:74: tree pruning end, 1 roots, 28 extra nodes, 60 pruned nodes, max_depth=8\u001b[0m\n",
      "\u001b[34m[148]#011train-rmse:0.196089#011validation-rmse:0.309545\u001b[0m\n",
      "\u001b[34m[17:41:29] src/tree/updater_prune.cc:74: tree pruning end, 1 roots, 26 extra nodes, 28 pruned nodes, max_depth=11\u001b[0m\n",
      "\u001b[34m[149]#011train-rmse:0.195721#011validation-rmse:0.309578\u001b[0m\n",
      "\u001b[34m[17:41:32] src/tree/updater_prune.cc:74: tree pruning end, 1 roots, 18 extra nodes, 32 pruned nodes, max_depth=8\u001b[0m\n",
      "\u001b[34m[150]#011train-rmse:0.19544#011validation-rmse:0.309493\u001b[0m\n",
      "\u001b[34m[17:41:35] src/tree/updater_prune.cc:74: tree pruning end, 1 roots, 24 extra nodes, 60 pruned nodes, max_depth=11\u001b[0m\n",
      "\u001b[34m[151]#011train-rmse:0.195033#011validation-rmse:0.309564\u001b[0m\n",
      "\u001b[34m[17:41:39] src/tree/updater_prune.cc:74: tree pruning end, 1 roots, 22 extra nodes, 34 pruned nodes, max_depth=9\u001b[0m\n",
      "\u001b[34m[152]#011train-rmse:0.194693#011validation-rmse:0.309612\u001b[0m\n",
      "\u001b[34m[17:41:42] src/tree/updater_prune.cc:74: tree pruning end, 1 roots, 14 extra nodes, 40 pruned nodes, max_depth=6\u001b[0m\n",
      "\u001b[34m[153]#011train-rmse:0.194591#011validation-rmse:0.309571\u001b[0m\n",
      "\u001b[34m[17:41:45] src/tree/updater_prune.cc:74: tree pruning end, 1 roots, 20 extra nodes, 12 pruned nodes, max_depth=10\u001b[0m\n",
      "\u001b[34m[154]#011train-rmse:0.194241#011validation-rmse:0.309585\u001b[0m\n",
      "\u001b[34mStopping. Best iteration:\u001b[0m\n",
      "\u001b[34m[144]#011train-rmse:0.1976#011validation-rmse:0.309298\n",
      "\u001b[0m\n",
      "Training seconds: 527\n",
      "Billable seconds: 527\n"
     ]
    }
   ],
   "source": [
    "# TODO: Create a new estimator object attached to the best training job found during hyperparameter tuning\n",
    "\n",
    "xgb_attached = None\n",
    "xgb_attached = sagemaker.estimator.Estimator.attach(xgb_hyperparameter_tuner.best_training_job())"
   ]
  },
  {
   "cell_type": "markdown",
   "metadata": {},
   "source": [
    "Now that we have an estimator object attached to the correct training job, we can proceed as we normally would and create a transformer object."
   ]
  },
  {
   "cell_type": "code",
   "execution_count": 30,
   "metadata": {},
   "outputs": [
    {
     "name": "stderr",
     "output_type": "stream",
     "text": [
      "Parameter image will be renamed to image_uri in SageMaker Python SDK v2.\n"
     ]
    }
   ],
   "source": [
    "# TODO: Create a transformer object from the attached estimator. Using an instance count of 1 and an instance type of ml.m4.xlarge\n",
    "#       should be more than enough.\n",
    "\n",
    "xgb_transformer = None\n",
    "xgb_transformer = xgb_attached.transformer(instance_count = 1, instance_type = 'ml.m4.xlarge')"
   ]
  },
  {
   "cell_type": "markdown",
   "metadata": {},
   "source": [
    "Next we actually perform the transform job. When doing so we need to make sure to specify the type of data we are sending so that it is serialized correctly in the background. In our case we are providing our model with csv data so we specify `text/csv`. Also, if the test data that we have provided is too large to process all at once then we need to specify how the data file should be split up. Since each line is a single entry in our data set we tell SageMaker that it can split the input on each line."
   ]
  },
  {
   "cell_type": "code",
   "execution_count": 31,
   "metadata": {},
   "outputs": [],
   "source": [
    "# TODO: Start the transform job. Make sure to specify the content type and the split type of the test data.\n",
    "xgb_transformer.transform(test_location, content_type='text/csv', split_type='Line')"
   ]
  },
  {
   "cell_type": "markdown",
   "metadata": {},
   "source": [
    "Currently the transform job is running but it is doing so in the background. Since we wish to wait until the transform job is done and we would like a bit of feedback we can run the `wait()` method."
   ]
  },
  {
   "cell_type": "code",
   "execution_count": 32,
   "metadata": {},
   "outputs": [
    {
     "name": "stdout",
     "output_type": "stream",
     "text": [
      ".....................\u001b[34mArguments: serve\u001b[0m\n",
      "\u001b[34m[2020-07-29 18:01:42 +0000] [1] [INFO] Starting gunicorn 19.7.1\u001b[0m\n",
      "\u001b[34m[2020-07-29 18:01:42 +0000] [1] [INFO] Listening at: http://0.0.0.0:8080 (1)\u001b[0m\n",
      "\u001b[34m[2020-07-29 18:01:42 +0000] [1] [INFO] Using worker: gevent\u001b[0m\n",
      "\u001b[34m[2020-07-29 18:01:42 +0000] [40] [INFO] Booting worker with pid: 40\u001b[0m\n",
      "\u001b[34m[2020-07-29 18:01:43 +0000] [41] [INFO] Booting worker with pid: 41\u001b[0m\n",
      "\u001b[34m[2020-07-29 18:01:43 +0000] [42] [INFO] Booting worker with pid: 42\u001b[0m\n",
      "\u001b[34m[2020-07-29 18:01:43 +0000] [43] [INFO] Booting worker with pid: 43\u001b[0m\n",
      "\u001b[34m[2020-07-29:18:01:43:INFO] Model loaded successfully for worker : 40\u001b[0m\n",
      "\u001b[34m[2020-07-29:18:01:43:INFO] Model loaded successfully for worker : 41\u001b[0m\n",
      "\u001b[34m[2020-07-29:18:01:43:INFO] Model loaded successfully for worker : 42\u001b[0m\n",
      "\u001b[34m[2020-07-29:18:01:43:INFO] Model loaded successfully for worker : 43\u001b[0m\n",
      "\u001b[34m[2020-07-29:18:01:57:INFO] Sniff delimiter as ','\u001b[0m\n",
      "\u001b[34m[2020-07-29:18:01:57:INFO] Determined delimiter of CSV input is ','\u001b[0m\n",
      "\u001b[34m[2020-07-29:18:01:57:INFO] Sniff delimiter as ','\u001b[0m\n",
      "\u001b[34m[2020-07-29:18:01:57:INFO] Determined delimiter of CSV input is ','\u001b[0m\n",
      "\u001b[34m[2020-07-29:18:01:57:INFO] Sniff delimiter as ','\u001b[0m\n",
      "\u001b[34m[2020-07-29:18:01:57:INFO] Determined delimiter of CSV input is ','\u001b[0m\n",
      "\u001b[35m[2020-07-29:18:01:57:INFO] Sniff delimiter as ','\u001b[0m\n",
      "\u001b[35m[2020-07-29:18:01:57:INFO] Determined delimiter of CSV input is ','\u001b[0m\n",
      "\u001b[35m[2020-07-29:18:01:57:INFO] Sniff delimiter as ','\u001b[0m\n",
      "\u001b[35m[2020-07-29:18:01:57:INFO] Determined delimiter of CSV input is ','\u001b[0m\n",
      "\u001b[35m[2020-07-29:18:01:57:INFO] Sniff delimiter as ','\u001b[0m\n",
      "\u001b[35m[2020-07-29:18:01:57:INFO] Determined delimiter of CSV input is ','\u001b[0m\n",
      "\u001b[32m2020-07-29T18:01:54.940:[sagemaker logs]: MaxConcurrentTransforms=4, MaxPayloadInMB=6, BatchStrategy=MULTI_RECORD\u001b[0m\n",
      "\u001b[34m[2020-07-29:18:01:58:INFO] Sniff delimiter as ','\u001b[0m\n",
      "\u001b[34m[2020-07-29:18:01:58:INFO] Determined delimiter of CSV input is ','\u001b[0m\n",
      "\u001b[35m[2020-07-29:18:01:58:INFO] Sniff delimiter as ','\u001b[0m\n",
      "\u001b[35m[2020-07-29:18:01:58:INFO] Determined delimiter of CSV input is ','\u001b[0m\n",
      "\u001b[34m[2020-07-29:18:01:59:INFO] Sniff delimiter as ','\u001b[0m\n",
      "\u001b[34m[2020-07-29:18:01:59:INFO] Determined delimiter of CSV input is ','\u001b[0m\n",
      "\u001b[35m[2020-07-29:18:01:59:INFO] Sniff delimiter as ','\u001b[0m\n",
      "\u001b[35m[2020-07-29:18:01:59:INFO] Determined delimiter of CSV input is ','\u001b[0m\n",
      "\u001b[34m[2020-07-29:18:02:00:INFO] Sniff delimiter as ','\u001b[0m\n",
      "\u001b[34m[2020-07-29:18:02:00:INFO] Determined delimiter of CSV input is ','\u001b[0m\n",
      "\u001b[34m[2020-07-29:18:02:00:INFO] Sniff delimiter as ','\u001b[0m\n",
      "\u001b[34m[2020-07-29:18:02:00:INFO] Determined delimiter of CSV input is ','\u001b[0m\n",
      "\u001b[34m[2020-07-29:18:02:00:INFO] Sniff delimiter as ','\u001b[0m\n",
      "\u001b[34m[2020-07-29:18:02:00:INFO] Determined delimiter of CSV input is ','\u001b[0m\n",
      "\u001b[35m[2020-07-29:18:02:00:INFO] Sniff delimiter as ','\u001b[0m\n",
      "\u001b[35m[2020-07-29:18:02:00:INFO] Determined delimiter of CSV input is ','\u001b[0m\n",
      "\u001b[35m[2020-07-29:18:02:00:INFO] Sniff delimiter as ','\u001b[0m\n",
      "\u001b[35m[2020-07-29:18:02:00:INFO] Determined delimiter of CSV input is ','\u001b[0m\n",
      "\u001b[35m[2020-07-29:18:02:00:INFO] Sniff delimiter as ','\u001b[0m\n",
      "\u001b[35m[2020-07-29:18:02:00:INFO] Determined delimiter of CSV input is ','\u001b[0m\n",
      "\u001b[34m[2020-07-29:18:02:03:INFO] Sniff delimiter as ','\u001b[0m\n",
      "\u001b[34m[2020-07-29:18:02:03:INFO] Determined delimiter of CSV input is ','\u001b[0m\n",
      "\u001b[35m[2020-07-29:18:02:03:INFO] Sniff delimiter as ','\u001b[0m\n",
      "\u001b[35m[2020-07-29:18:02:03:INFO] Determined delimiter of CSV input is ','\u001b[0m\n",
      "\u001b[34m[2020-07-29:18:02:04:INFO] Sniff delimiter as ','\u001b[0m\n",
      "\u001b[34m[2020-07-29:18:02:04:INFO] Determined delimiter of CSV input is ','\u001b[0m\n",
      "\u001b[35m[2020-07-29:18:02:04:INFO] Sniff delimiter as ','\u001b[0m\n",
      "\u001b[35m[2020-07-29:18:02:04:INFO] Determined delimiter of CSV input is ','\u001b[0m\n",
      "\u001b[34m[2020-07-29:18:02:05:INFO] Sniff delimiter as ','\u001b[0m\n",
      "\u001b[34m[2020-07-29:18:02:05:INFO] Determined delimiter of CSV input is ','\u001b[0m\n",
      "\u001b[34m[2020-07-29:18:02:05:INFO] Sniff delimiter as ','\u001b[0m\n",
      "\u001b[34m[2020-07-29:18:02:05:INFO] Determined delimiter of CSV input is ','\u001b[0m\n",
      "\u001b[34m[2020-07-29:18:02:05:INFO] Sniff delimiter as ','\u001b[0m\n",
      "\u001b[34m[2020-07-29:18:02:05:INFO] Determined delimiter of CSV input is ','\u001b[0m\n",
      "\u001b[35m[2020-07-29:18:02:05:INFO] Sniff delimiter as ','\u001b[0m\n",
      "\u001b[35m[2020-07-29:18:02:05:INFO] Determined delimiter of CSV input is ','\u001b[0m\n",
      "\u001b[35m[2020-07-29:18:02:05:INFO] Sniff delimiter as ','\u001b[0m\n",
      "\u001b[35m[2020-07-29:18:02:05:INFO] Determined delimiter of CSV input is ','\u001b[0m\n",
      "\u001b[35m[2020-07-29:18:02:05:INFO] Sniff delimiter as ','\u001b[0m\n",
      "\u001b[35m[2020-07-29:18:02:05:INFO] Determined delimiter of CSV input is ','\u001b[0m\n",
      "\u001b[34m[2020-07-29:18:02:07:INFO] Sniff delimiter as ','\u001b[0m\n",
      "\u001b[34m[2020-07-29:18:02:07:INFO] Determined delimiter of CSV input is ','\u001b[0m\n",
      "\u001b[34m[2020-07-29:18:02:07:INFO] Sniff delimiter as ','\u001b[0m\n",
      "\u001b[34m[2020-07-29:18:02:07:INFO] Determined delimiter of CSV input is ','\u001b[0m\n",
      "\u001b[34m[2020-07-29:18:02:07:INFO] Sniff delimiter as ','\u001b[0m\n",
      "\u001b[34m[2020-07-29:18:02:07:INFO] Determined delimiter of CSV input is ','\u001b[0m\n",
      "\u001b[34m[2020-07-29:18:02:07:INFO] Sniff delimiter as ','\u001b[0m\n",
      "\u001b[34m[2020-07-29:18:02:07:INFO] Determined delimiter of CSV input is ','\u001b[0m\n",
      "\u001b[35m[2020-07-29:18:02:07:INFO] Sniff delimiter as ','\u001b[0m\n",
      "\u001b[35m[2020-07-29:18:02:07:INFO] Determined delimiter of CSV input is ','\u001b[0m\n",
      "\u001b[35m[2020-07-29:18:02:07:INFO] Sniff delimiter as ','\u001b[0m\n",
      "\u001b[35m[2020-07-29:18:02:07:INFO] Determined delimiter of CSV input is ','\u001b[0m\n",
      "\u001b[35m[2020-07-29:18:02:07:INFO] Sniff delimiter as ','\u001b[0m\n",
      "\u001b[35m[2020-07-29:18:02:07:INFO] Determined delimiter of CSV input is ','\u001b[0m\n",
      "\u001b[35m[2020-07-29:18:02:07:INFO] Sniff delimiter as ','\u001b[0m\n",
      "\u001b[35m[2020-07-29:18:02:07:INFO] Determined delimiter of CSV input is ','\u001b[0m\n",
      "\u001b[34m[2020-07-29:18:02:09:INFO] Sniff delimiter as ','\u001b[0m\n",
      "\u001b[34m[2020-07-29:18:02:09:INFO] Determined delimiter of CSV input is ','\u001b[0m\n",
      "\u001b[34m[2020-07-29:18:02:09:INFO] Sniff delimiter as ','\u001b[0m\n",
      "\u001b[34m[2020-07-29:18:02:09:INFO] Determined delimiter of CSV input is ','\u001b[0m\n",
      "\u001b[34m[2020-07-29:18:02:09:INFO] Sniff delimiter as ','\u001b[0m\n",
      "\u001b[34m[2020-07-29:18:02:09:INFO] Determined delimiter of CSV input is ','\u001b[0m\n",
      "\u001b[35m[2020-07-29:18:02:09:INFO] Sniff delimiter as ','\u001b[0m\n",
      "\u001b[35m[2020-07-29:18:02:09:INFO] Determined delimiter of CSV input is ','\u001b[0m\n",
      "\u001b[35m[2020-07-29:18:02:09:INFO] Sniff delimiter as ','\u001b[0m\n",
      "\u001b[35m[2020-07-29:18:02:09:INFO] Determined delimiter of CSV input is ','\u001b[0m\n",
      "\u001b[35m[2020-07-29:18:02:09:INFO] Sniff delimiter as ','\u001b[0m\n",
      "\u001b[35m[2020-07-29:18:02:09:INFO] Determined delimiter of CSV input is ','\u001b[0m\n",
      "\u001b[34m[2020-07-29:18:02:10:INFO] Sniff delimiter as ','\u001b[0m\n",
      "\u001b[34m[2020-07-29:18:02:10:INFO] Determined delimiter of CSV input is ','\u001b[0m\n",
      "\u001b[35m[2020-07-29:18:02:10:INFO] Sniff delimiter as ','\u001b[0m\n",
      "\u001b[35m[2020-07-29:18:02:10:INFO] Determined delimiter of CSV input is ','\u001b[0m\n",
      "\n",
      "\u001b[34m[2020-07-29:18:02:12:INFO] Sniff delimiter as ','\u001b[0m\n",
      "\u001b[34m[2020-07-29:18:02:12:INFO] Determined delimiter of CSV input is ','\u001b[0m\n",
      "\u001b[34m[2020-07-29:18:02:12:INFO] Sniff delimiter as ','\u001b[0m\n",
      "\u001b[34m[2020-07-29:18:02:12:INFO] Determined delimiter of CSV input is ','\u001b[0m\n",
      "\u001b[34m[2020-07-29:18:02:12:INFO] Sniff delimiter as ','\u001b[0m\n",
      "\u001b[34m[2020-07-29:18:02:12:INFO] Determined delimiter of CSV input is ','\u001b[0m\n",
      "\u001b[35m[2020-07-29:18:02:12:INFO] Sniff delimiter as ','\u001b[0m\n",
      "\u001b[35m[2020-07-29:18:02:12:INFO] Determined delimiter of CSV input is ','\u001b[0m\n",
      "\u001b[35m[2020-07-29:18:02:12:INFO] Sniff delimiter as ','\u001b[0m\n",
      "\u001b[35m[2020-07-29:18:02:12:INFO] Determined delimiter of CSV input is ','\u001b[0m\n",
      "\u001b[35m[2020-07-29:18:02:12:INFO] Sniff delimiter as ','\u001b[0m\n",
      "\u001b[35m[2020-07-29:18:02:12:INFO] Determined delimiter of CSV input is ','\u001b[0m\n",
      "\u001b[34m[2020-07-29:18:02:14:INFO] Sniff delimiter as ','\u001b[0m\n",
      "\u001b[34m[2020-07-29:18:02:14:INFO] Determined delimiter of CSV input is ','\u001b[0m\n",
      "\u001b[34m[2020-07-29:18:02:14:INFO] Sniff delimiter as ','\u001b[0m\n",
      "\u001b[34m[2020-07-29:18:02:14:INFO] Determined delimiter of CSV input is ','\u001b[0m\n",
      "\u001b[34m[2020-07-29:18:02:14:INFO] Sniff delimiter as ','\u001b[0m\n",
      "\u001b[34m[2020-07-29:18:02:14:INFO] Determined delimiter of CSV input is ','\u001b[0m\n",
      "\u001b[35m[2020-07-29:18:02:14:INFO] Sniff delimiter as ','\u001b[0m\n",
      "\u001b[35m[2020-07-29:18:02:14:INFO] Determined delimiter of CSV input is ','\u001b[0m\n",
      "\u001b[35m[2020-07-29:18:02:14:INFO] Sniff delimiter as ','\u001b[0m\n",
      "\u001b[35m[2020-07-29:18:02:14:INFO] Determined delimiter of CSV input is ','\u001b[0m\n",
      "\u001b[35m[2020-07-29:18:02:14:INFO] Sniff delimiter as ','\u001b[0m\n",
      "\u001b[35m[2020-07-29:18:02:14:INFO] Determined delimiter of CSV input is ','\u001b[0m\n",
      "\u001b[34m[2020-07-29:18:02:15:INFO] Sniff delimiter as ','\u001b[0m\n",
      "\u001b[34m[2020-07-29:18:02:15:INFO] Determined delimiter of CSV input is ','\u001b[0m\n",
      "\u001b[35m[2020-07-29:18:02:15:INFO] Sniff delimiter as ','\u001b[0m\n",
      "\u001b[35m[2020-07-29:18:02:15:INFO] Determined delimiter of CSV input is ','\u001b[0m\n",
      "\u001b[34m[2020-07-29:18:02:17:INFO] Sniff delimiter as ','\u001b[0m\n",
      "\u001b[34m[2020-07-29:18:02:17:INFO] Determined delimiter of CSV input is ','\u001b[0m\n",
      "\u001b[34m[2020-07-29:18:02:17:INFO] Sniff delimiter as ','\u001b[0m\n",
      "\u001b[34m[2020-07-29:18:02:17:INFO] Determined delimiter of CSV input is ','\u001b[0m\n",
      "\u001b[35m[2020-07-29:18:02:17:INFO] Sniff delimiter as ','\u001b[0m\n",
      "\u001b[35m[2020-07-29:18:02:17:INFO] Determined delimiter of CSV input is ','\u001b[0m\n",
      "\u001b[35m[2020-07-29:18:02:17:INFO] Sniff delimiter as ','\u001b[0m\n",
      "\u001b[35m[2020-07-29:18:02:17:INFO] Determined delimiter of CSV input is ','\u001b[0m\n",
      "\u001b[34m[2020-07-29:18:02:17:INFO] Sniff delimiter as ','\u001b[0m\n",
      "\u001b[34m[2020-07-29:18:02:17:INFO] Determined delimiter of CSV input is ','\u001b[0m\n",
      "\u001b[34m[2020-07-29:18:02:17:INFO] Sniff delimiter as ','\u001b[0m\n",
      "\u001b[34m[2020-07-29:18:02:17:INFO] Determined delimiter of CSV input is ','\u001b[0m\n",
      "\u001b[35m[2020-07-29:18:02:17:INFO] Sniff delimiter as ','\u001b[0m\n",
      "\u001b[35m[2020-07-29:18:02:17:INFO] Determined delimiter of CSV input is ','\u001b[0m\n",
      "\u001b[35m[2020-07-29:18:02:17:INFO] Sniff delimiter as ','\u001b[0m\n",
      "\u001b[35m[2020-07-29:18:02:17:INFO] Determined delimiter of CSV input is ','\u001b[0m\n",
      "\u001b[34m[2020-07-29:18:02:19:INFO] Sniff delimiter as ','\u001b[0m\n",
      "\u001b[34m[2020-07-29:18:02:19:INFO] Determined delimiter of CSV input is ','\u001b[0m\n",
      "\u001b[34m[2020-07-29:18:02:19:INFO] Sniff delimiter as ','\u001b[0m\n",
      "\u001b[34m[2020-07-29:18:02:19:INFO] Determined delimiter of CSV input is ','\u001b[0m\n",
      "\u001b[35m[2020-07-29:18:02:19:INFO] Sniff delimiter as ','\u001b[0m\n",
      "\u001b[35m[2020-07-29:18:02:19:INFO] Determined delimiter of CSV input is ','\u001b[0m\n",
      "\u001b[35m[2020-07-29:18:02:19:INFO] Sniff delimiter as ','\u001b[0m\n",
      "\u001b[35m[2020-07-29:18:02:19:INFO] Determined delimiter of CSV input is ','\u001b[0m\n",
      "\u001b[34m[2020-07-29:18:02:19:INFO] Sniff delimiter as ','\u001b[0m\n",
      "\u001b[34m[2020-07-29:18:02:19:INFO] Determined delimiter of CSV input is ','\u001b[0m\n",
      "\u001b[34m[2020-07-29:18:02:19:INFO] Sniff delimiter as ','\u001b[0m\n",
      "\u001b[34m[2020-07-29:18:02:19:INFO] Determined delimiter of CSV input is ','\u001b[0m\n",
      "\u001b[35m[2020-07-29:18:02:19:INFO] Sniff delimiter as ','\u001b[0m\n",
      "\u001b[35m[2020-07-29:18:02:19:INFO] Determined delimiter of CSV input is ','\u001b[0m\n",
      "\u001b[35m[2020-07-29:18:02:19:INFO] Sniff delimiter as ','\u001b[0m\n",
      "\u001b[35m[2020-07-29:18:02:19:INFO] Determined delimiter of CSV input is ','\u001b[0m\n"
     ]
    }
   ],
   "source": [
    "xgb_transformer.wait()"
   ]
  },
  {
   "cell_type": "markdown",
   "metadata": {},
   "source": [
    "Now the transform job has executed and the result, the estimated sentiment of each review, has been saved on S3. Since we would rather work on this file locally we can perform a bit of notebook magic to copy the file to the `data_dir`."
   ]
  },
  {
   "cell_type": "code",
   "execution_count": 33,
   "metadata": {},
   "outputs": [
    {
     "name": "stdout",
     "output_type": "stream",
     "text": [
      "download: s3://sagemaker-ap-south-1-259534233211/xgboost-200729-1731-002-d1bab097-2020-07-29-17-58-24-202/test.csv.out to ../data/xgboost/test.csv.out\r\n"
     ]
    }
   ],
   "source": [
    "!aws s3 cp --recursive $xgb_transformer.output_path $data_dir"
   ]
  },
  {
   "cell_type": "markdown",
   "metadata": {},
   "source": [
    "The last step is now to read in the output from our model, convert the output to something a little more usable, in this case we want the sentiment to be either `1` (positive) or `0` (negative), and then compare to the ground truth labels."
   ]
  },
  {
   "cell_type": "code",
   "execution_count": 34,
   "metadata": {},
   "outputs": [],
   "source": [
    "predictions = pd.read_csv(os.path.join(data_dir, 'test.csv.out'), header=None)\n",
    "predictions = [round(num) for num in predictions.squeeze().values]"
   ]
  },
  {
   "cell_type": "code",
   "execution_count": 35,
   "metadata": {},
   "outputs": [
    {
     "data": {
      "text/plain": [
       "0.86004"
      ]
     },
     "execution_count": 35,
     "metadata": {},
     "output_type": "execute_result"
    }
   ],
   "source": [
    "from sklearn.metrics import accuracy_score\n",
    "accuracy_score(test_y, predictions)"
   ]
  },
  {
   "cell_type": "markdown",
   "metadata": {},
   "source": [
    "## Optional: Clean up\n",
    "\n",
    "The default notebook instance on SageMaker doesn't have a lot of excess disk space available. As you continue to complete and execute notebooks you will eventually fill up this disk space, leading to errors which can be difficult to diagnose. Once you are completely finished using a notebook it is a good idea to remove the files that you created along the way. Of course, you can do this from the terminal or from the notebook hub if you would like. The cell below contains some commands to clean up the created files from within the notebook."
   ]
  },
  {
   "cell_type": "code",
   "execution_count": 36,
   "metadata": {},
   "outputs": [],
   "source": [
    "# First we will remove all of the files contained in the data_dir directory\n",
    "!rm $data_dir/*\n",
    "\n",
    "# And then we delete the directory itself\n",
    "!rmdir $data_dir\n",
    "\n",
    "# Similarly we will remove the files in the cache_dir directory and the directory itself\n",
    "!rm $cache_dir/*\n",
    "!rmdir $cache_dir"
   ]
  },
  {
   "cell_type": "code",
   "execution_count": null,
   "metadata": {},
   "outputs": [],
   "source": []
  }
 ],
 "metadata": {
  "kernelspec": {
   "display_name": "conda_python3",
   "language": "python",
   "name": "conda_python3"
  },
  "language_info": {
   "codemirror_mode": {
    "name": "ipython",
    "version": 3
   },
   "file_extension": ".py",
   "mimetype": "text/x-python",
   "name": "python",
   "nbconvert_exporter": "python",
   "pygments_lexer": "ipython3",
   "version": "3.6.10"
  }
 },
 "nbformat": 4,
 "nbformat_minor": 2
}
