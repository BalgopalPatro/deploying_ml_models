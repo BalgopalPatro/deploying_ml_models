{
 "cells": [
  {
   "cell_type": "markdown",
   "metadata": {},
   "source": [
    "# Sentiment Analysis Web App\n",
    "\n",
    "_Deep Learning Nanodegree Program | Deployment_\n",
    "\n",
    "---\n",
    "\n",
    "In this notebook we will use Amazon's SageMaker service to construct a random tree model to predict the sentiment of a movie review. In addition, we will deploy this model to an endpoint and construct a very simple web app which will interact with our model's deployed endpoint.\n",
    "\n",
    "## General Outline\n",
    "\n",
    "Typically, when using a notebook instance with SageMaker, you will proceed through the following steps. Of course, not every step will need to be done with each project. Also, there is quite a lot of room for variation in many of the steps, as you will see throughout these lessons.\n",
    "\n",
    "1. Download or otherwise retrieve the data.\n",
    "2. Process / Prepare the data.\n",
    "3. Upload the processed data to S3.\n",
    "4. Train a chosen model.\n",
    "5. Test the trained model (typically using a batch transform job).\n",
    "6. Deploy the trained model.\n",
    "7. Use the deployed model.\n",
    "\n",
    "In this notebook we will progress through each of the steps above. We will also see that the final step, using the deployed model, can be quite challenging."
   ]
  },
  {
   "cell_type": "markdown",
   "metadata": {},
   "source": [
    "## Step 1: Downloading the data\n",
    "\n",
    "The dataset we are going to use is very popular among researchers in Natural Language Processing, usually referred to as the [IMDb dataset](http://ai.stanford.edu/~amaas/data/sentiment/). It consists of movie reviews from the website [imdb.com](http://www.imdb.com/), each labeled as either '**pos**itive', if the reviewer enjoyed the film, or '**neg**ative' otherwise.\n",
    "\n",
    "> Maas, Andrew L., et al. [Learning Word Vectors for Sentiment Analysis](http://ai.stanford.edu/~amaas/data/sentiment/). In _Proceedings of the 49th Annual Meeting of the Association for Computational Linguistics: Human Language Technologies_. Association for Computational Linguistics, 2011.\n",
    "\n",
    "We begin by using some Jupyter Notebook magic to download and extract the dataset."
   ]
  },
  {
   "cell_type": "code",
   "execution_count": 1,
   "metadata": {},
   "outputs": [
    {
     "name": "stdout",
     "output_type": "stream",
     "text": [
      "mkdir: cannot create directory ‘../data’: File exists\n",
      "--2020-07-28 12:33:21--  http://ai.stanford.edu/~amaas/data/sentiment/aclImdb_v1.tar.gz\n",
      "Resolving ai.stanford.edu (ai.stanford.edu)... 171.64.68.10\n",
      "Connecting to ai.stanford.edu (ai.stanford.edu)|171.64.68.10|:80... connected.\n",
      "HTTP request sent, awaiting response... 200 OK\n",
      "Length: 84125825 (80M) [application/x-gzip]\n",
      "Saving to: ‘../data/aclImdb_v1.tar.gz’\n",
      "\n",
      "../data/aclImdb_v1. 100%[===================>]  80.23M  22.3MB/s    in 4.8s    \n",
      "\n",
      "2020-07-28 12:33:26 (16.7 MB/s) - ‘../data/aclImdb_v1.tar.gz’ saved [84125825/84125825]\n",
      "\n"
     ]
    }
   ],
   "source": [
    "%mkdir ../data\n",
    "!wget -O ../data/aclImdb_v1.tar.gz http://ai.stanford.edu/~amaas/data/sentiment/aclImdb_v1.tar.gz\n",
    "!tar -zxf ../data/aclImdb_v1.tar.gz -C ../data"
   ]
  },
  {
   "cell_type": "markdown",
   "metadata": {},
   "source": [
    "## Step 2: Preparing and Processing the data\n",
    "\n",
    "The data we have downloaded is split into various files, each of which contains a single review. It will be much easier going forward if we combine these individual files into two large files, one for training and one for testing."
   ]
  },
  {
   "cell_type": "code",
   "execution_count": 2,
   "metadata": {},
   "outputs": [],
   "source": [
    "import os\n",
    "import glob\n",
    "\n",
    "def read_imdb_data(data_dir='../data/aclImdb'):\n",
    "    data = {}\n",
    "    labels = {}\n",
    "    \n",
    "    for data_type in ['train', 'test']:\n",
    "        data[data_type] = {}\n",
    "        labels[data_type] = {}\n",
    "        \n",
    "        for sentiment in ['pos', 'neg']:\n",
    "            data[data_type][sentiment] = []\n",
    "            labels[data_type][sentiment] = []\n",
    "            \n",
    "            path = os.path.join(data_dir, data_type, sentiment, '*.txt')\n",
    "            files = glob.glob(path)\n",
    "            \n",
    "            for f in files:\n",
    "                with open(f) as review:\n",
    "                    data[data_type][sentiment].append(review.read())\n",
    "                    # Here we represent a positive review by '1' and a negative review by '0'\n",
    "                    labels[data_type][sentiment].append(1 if sentiment == 'pos' else 0)\n",
    "                    \n",
    "            assert len(data[data_type][sentiment]) == len(labels[data_type][sentiment]), \\\n",
    "                    \"{}/{} data size does not match labels size\".format(data_type, sentiment)\n",
    "                \n",
    "    return data, labels"
   ]
  },
  {
   "cell_type": "code",
   "execution_count": 3,
   "metadata": {},
   "outputs": [
    {
     "name": "stdout",
     "output_type": "stream",
     "text": [
      "IMDB reviews: train = 12500 pos / 12500 neg, test = 12500 pos / 12500 neg\n"
     ]
    }
   ],
   "source": [
    "data, labels = read_imdb_data()\n",
    "print(\"IMDB reviews: train = {} pos / {} neg, test = {} pos / {} neg\".format(\n",
    "            len(data['train']['pos']), len(data['train']['neg']),\n",
    "            len(data['test']['pos']), len(data['test']['neg'])))"
   ]
  },
  {
   "cell_type": "code",
   "execution_count": 4,
   "metadata": {},
   "outputs": [],
   "source": [
    "from sklearn.utils import shuffle\n",
    "\n",
    "def prepare_imdb_data(data, labels):\n",
    "    \"\"\"Prepare training and test sets from IMDb movie reviews.\"\"\"\n",
    "    \n",
    "    #Combine positive and negative reviews and labels\n",
    "    data_train = data['train']['pos'] + data['train']['neg']\n",
    "    data_test = data['test']['pos'] + data['test']['neg']\n",
    "    labels_train = labels['train']['pos'] + labels['train']['neg']\n",
    "    labels_test = labels['test']['pos'] + labels['test']['neg']\n",
    "    \n",
    "    #Shuffle reviews and corresponding labels within training and test sets\n",
    "    data_train, labels_train = shuffle(data_train, labels_train)\n",
    "    data_test, labels_test = shuffle(data_test, labels_test)\n",
    "    \n",
    "    # Return a unified training data, test data, training labels, test labets\n",
    "    return data_train, data_test, labels_train, labels_test"
   ]
  },
  {
   "cell_type": "code",
   "execution_count": 5,
   "metadata": {},
   "outputs": [
    {
     "name": "stdout",
     "output_type": "stream",
     "text": [
      "IMDb reviews (combined): train = 25000, test = 25000\n"
     ]
    }
   ],
   "source": [
    "train_X, test_X, train_y, test_y = prepare_imdb_data(data, labels)\n",
    "print(\"IMDb reviews (combined): train = {}, test = {}\".format(len(train_X), len(test_X)))"
   ]
  },
  {
   "cell_type": "code",
   "execution_count": 6,
   "metadata": {},
   "outputs": [
    {
     "data": {
      "text/plain": [
       "'This movie sucked ! They took something from my childhood ,and raped it in an outhouse! This movie was so bad I wanted to go home and hold my \"Dukes\" dvds and cry in a corner. The cast was terrible ! It wasn\\'t \"The Dukes\", it was Stiffler and Jackass driving a car. When was Boss Hogg evil? When was Rosco a tough guy? They never were ! Boss Hogg was greedy and Rosco was an idiot. When did Jesse smoke pot? He never did ! Now don\\'t get me wrong,I\\'m very liberal and there\\'s nothing wrong with a little chiba, but it had no place in this movie! The only thing good about this movie was the trailers before the movie and the end credits. It was a waste of money time and air. Avoid at all costs!!!!!!!!'"
      ]
     },
     "execution_count": 6,
     "metadata": {},
     "output_type": "execute_result"
    }
   ],
   "source": [
    "train_X[100]"
   ]
  },
  {
   "cell_type": "markdown",
   "metadata": {},
   "source": [
    "## Processing the data\n",
    "\n",
    "Now that we have our training and testing datasets merged and ready to use, we need to start processing the raw data into something that will be useable by our machine learning algorithm. To begin with, we remove any html formatting and any non-alpha numeric characters that may appear in the reviews. We will do this in a very simplistic way using Python's regular expression module. We will discuss the reason for this rather simplistic pre-processing later on."
   ]
  },
  {
   "cell_type": "code",
   "execution_count": 7,
   "metadata": {},
   "outputs": [],
   "source": [
    "import re\n",
    "\n",
    "REPLACE_NO_SPACE = re.compile(\"(\\.)|(\\;)|(\\:)|(\\!)|(\\')|(\\?)|(\\,)|(\\\")|(\\()|(\\))|(\\[)|(\\])\")\n",
    "REPLACE_WITH_SPACE = re.compile(\"(<br\\s*/><br\\s*/>)|(\\-)|(\\/)\")\n",
    "\n",
    "def review_to_words(review):\n",
    "    words = REPLACE_NO_SPACE.sub(\"\", review.lower())\n",
    "    words = REPLACE_WITH_SPACE.sub(\" \", words)\n",
    "    return words"
   ]
  },
  {
   "cell_type": "code",
   "execution_count": 8,
   "metadata": {},
   "outputs": [
    {
     "data": {
      "text/plain": [
       "'this movie sucked  they took something from my childhood and raped it in an outhouse this movie was so bad i wanted to go home and hold my dukes dvds and cry in a corner the cast was terrible  it wasnt the dukes it was stiffler and jackass driving a car when was boss hogg evil when was rosco a tough guy they never were  boss hogg was greedy and rosco was an idiot when did jesse smoke pot he never did  now dont get me wrongim very liberal and theres nothing wrong with a little chiba but it had no place in this movie the only thing good about this movie was the trailers before the movie and the end credits it was a waste of money time and air avoid at all costs'"
      ]
     },
     "execution_count": 8,
     "metadata": {},
     "output_type": "execute_result"
    }
   ],
   "source": [
    "review_to_words(train_X[100])"
   ]
  },
  {
   "cell_type": "code",
   "execution_count": 9,
   "metadata": {},
   "outputs": [],
   "source": [
    "import pickle\n",
    "\n",
    "cache_dir = os.path.join(\"../cache\", \"sentiment_web_app\")  # where to store cache files\n",
    "os.makedirs(cache_dir, exist_ok=True)  # ensure cache directory exists\n",
    "\n",
    "def preprocess_data(data_train, data_test, labels_train, labels_test,\n",
    "                    cache_dir=cache_dir, cache_file=\"preprocessed_data.pkl\"):\n",
    "    \"\"\"Convert each review to words; read from cache if available.\"\"\"\n",
    "\n",
    "    # If cache_file is not None, try to read from it first\n",
    "    cache_data = None\n",
    "    if cache_file is not None:\n",
    "        try:\n",
    "            with open(os.path.join(cache_dir, cache_file), \"rb\") as f:\n",
    "                cache_data = pickle.load(f)\n",
    "            print(\"Read preprocessed data from cache file:\", cache_file)\n",
    "        except:\n",
    "            pass  # unable to read from cache, but that's okay\n",
    "    \n",
    "    # If cache is missing, then do the heavy lifting\n",
    "    if cache_data is None:\n",
    "        # Preprocess training and test data to obtain words for each review\n",
    "        #words_train = list(map(review_to_words, data_train))\n",
    "        #words_test = list(map(review_to_words, data_test))\n",
    "        words_train = [review_to_words(review) for review in data_train]\n",
    "        words_test = [review_to_words(review) for review in data_test]\n",
    "        \n",
    "        # Write to cache file for future runs\n",
    "        if cache_file is not None:\n",
    "            cache_data = dict(words_train=words_train, words_test=words_test,\n",
    "                              labels_train=labels_train, labels_test=labels_test)\n",
    "            with open(os.path.join(cache_dir, cache_file), \"wb\") as f:\n",
    "                pickle.dump(cache_data, f)\n",
    "            print(\"Wrote preprocessed data to cache file:\", cache_file)\n",
    "    else:\n",
    "        # Unpack data loaded from cache file\n",
    "        words_train, words_test, labels_train, labels_test = (cache_data['words_train'],\n",
    "                cache_data['words_test'], cache_data['labels_train'], cache_data['labels_test'])\n",
    "    \n",
    "    return words_train, words_test, labels_train, labels_test"
   ]
  },
  {
   "cell_type": "code",
   "execution_count": 10,
   "metadata": {},
   "outputs": [
    {
     "name": "stdout",
     "output_type": "stream",
     "text": [
      "Wrote preprocessed data to cache file: preprocessed_data.pkl\n"
     ]
    }
   ],
   "source": [
    "# Preprocess data\n",
    "train_X, test_X, train_y, test_y = preprocess_data(train_X, test_X, train_y, test_y)"
   ]
  },
  {
   "cell_type": "markdown",
   "metadata": {},
   "source": [
    "### Extract Bag-of-Words features\n",
    "\n",
    "For the model we will be implementing, rather than using the reviews directly, we are going to transform each review into a Bag-of-Words feature representation. Keep in mind that 'in the wild' we will only have access to the training set so our transformer can only use the training set to construct a representation."
   ]
  },
  {
   "cell_type": "code",
   "execution_count": 11,
   "metadata": {},
   "outputs": [
    {
     "name": "stderr",
     "output_type": "stream",
     "text": [
      "/home/ec2-user/anaconda3/envs/python3/lib/python3.6/site-packages/sklearn/externals/joblib/__init__.py:15: FutureWarning: sklearn.externals.joblib is deprecated in 0.21 and will be removed in 0.23. Please import this functionality directly from joblib, which can be installed with: pip install joblib. If this warning is raised when loading pickled models, you may need to re-serialize those models with scikit-learn 0.21+.\n",
      "  warnings.warn(msg, category=FutureWarning)\n"
     ]
    }
   ],
   "source": [
    "import numpy as np\n",
    "from sklearn.feature_extraction.text import CountVectorizer\n",
    "from sklearn.externals import joblib\n",
    "# joblib is an enhanced version of pickle that is more efficient for storing NumPy arrays\n",
    "\n",
    "def extract_BoW_features(words_train, words_test, vocabulary_size=5000,\n",
    "                         cache_dir=cache_dir, cache_file=\"bow_features.pkl\"):\n",
    "    \"\"\"Extract Bag-of-Words for a given set of documents, already preprocessed into words.\"\"\"\n",
    "    \n",
    "    # If cache_file is not None, try to read from it first\n",
    "    cache_data = None\n",
    "    if cache_file is not None:\n",
    "        try:\n",
    "            with open(os.path.join(cache_dir, cache_file), \"rb\") as f:\n",
    "                cache_data = joblib.load(f)\n",
    "            print(\"Read features from cache file:\", cache_file)\n",
    "        except:\n",
    "            pass  # unable to read from cache, but that's okay\n",
    "    \n",
    "    # If cache is missing, then do the heavy lifting\n",
    "    if cache_data is None:\n",
    "        # Fit a vectorizer to training documents and use it to transform them\n",
    "        # NOTE: Training documents have already been preprocessed and tokenized into words;\n",
    "        #       pass in dummy functions to skip those steps, e.g. preprocessor=lambda x: x\n",
    "        vectorizer = CountVectorizer(max_features=vocabulary_size)\n",
    "        features_train = vectorizer.fit_transform(words_train).toarray()\n",
    "\n",
    "        # Apply the same vectorizer to transform the test documents (ignore unknown words)\n",
    "        features_test = vectorizer.transform(words_test).toarray()\n",
    "        \n",
    "        # NOTE: Remember to convert the features using .toarray() for a compact representation\n",
    "        \n",
    "        # Write to cache file for future runs (store vocabulary as well)\n",
    "        if cache_file is not None:\n",
    "            vocabulary = vectorizer.vocabulary_\n",
    "            cache_data = dict(features_train=features_train, features_test=features_test,\n",
    "                             vocabulary=vocabulary)\n",
    "            with open(os.path.join(cache_dir, cache_file), \"wb\") as f:\n",
    "                joblib.dump(cache_data, f)\n",
    "            print(\"Wrote features to cache file:\", cache_file)\n",
    "    else:\n",
    "        # Unpack data loaded from cache file\n",
    "        features_train, features_test, vocabulary = (cache_data['features_train'],\n",
    "                cache_data['features_test'], cache_data['vocabulary'])\n",
    "    \n",
    "    # Return both the extracted features as well as the vocabulary\n",
    "    return features_train, features_test, vocabulary"
   ]
  },
  {
   "cell_type": "code",
   "execution_count": 12,
   "metadata": {},
   "outputs": [
    {
     "name": "stdout",
     "output_type": "stream",
     "text": [
      "Wrote features to cache file: bow_features.pkl\n"
     ]
    }
   ],
   "source": [
    "# Extract Bag of Words features for both training and test datasets\n",
    "train_X, test_X, vocabulary = extract_BoW_features(train_X, test_X)"
   ]
  },
  {
   "cell_type": "code",
   "execution_count": 13,
   "metadata": {},
   "outputs": [
    {
     "data": {
      "text/plain": [
       "5000"
      ]
     },
     "execution_count": 13,
     "metadata": {},
     "output_type": "execute_result"
    }
   ],
   "source": [
    "len(train_X[100])"
   ]
  },
  {
   "cell_type": "markdown",
   "metadata": {},
   "source": [
    "## Step 3: Upload data to S3\n",
    "\n",
    "Now that we have created the feature representation of our training (and testing) data, it is time to start setting up and using the XGBoost classifier provided by SageMaker.\n",
    "\n",
    "### Writing the datasets\n",
    "\n",
    "The XGBoost classifier that we will be using requires the dataset to be written to a file and stored using Amazon S3. To do this, we will start by splitting the training dataset into two parts, the data we will train the model with and a validation set. Then, we will write those datasets to a file locally and then upload the files to S3. In addition, we will write the test set to a file and upload that file to S3. This is so that we can use SageMakers Batch Transform functionality to test our model once we've fit it."
   ]
  },
  {
   "cell_type": "code",
   "execution_count": 14,
   "metadata": {},
   "outputs": [],
   "source": [
    "import pandas as pd\n",
    "\n",
    "# Earlier we shuffled the training dataset so to make things simple we can just assign\n",
    "# the first 10 000 reviews to the validation set and use the remaining reviews for training.\n",
    "val_X = pd.DataFrame(train_X[:10000])\n",
    "train_X = pd.DataFrame(train_X[10000:])\n",
    "\n",
    "val_y = pd.DataFrame(train_y[:10000])\n",
    "train_y = pd.DataFrame(train_y[10000:])"
   ]
  },
  {
   "cell_type": "markdown",
   "metadata": {},
   "source": [
    "The documentation for the XGBoost algorithm in SageMaker requires that the training and validation datasets should contain no headers or index and that the label should occur first for each sample.\n",
    "\n",
    "For more information about this and other algorithms, the SageMaker developer documentation can be found on __[Amazon's website.](https://docs.aws.amazon.com/sagemaker/latest/dg/)__"
   ]
  },
  {
   "cell_type": "code",
   "execution_count": 15,
   "metadata": {},
   "outputs": [],
   "source": [
    "# First we make sure that the local directory in which we'd like to store the training and validation csv files exists.\n",
    "data_dir = '../data/sentiment_web_app'\n",
    "if not os.path.exists(data_dir):\n",
    "    os.makedirs(data_dir)"
   ]
  },
  {
   "cell_type": "code",
   "execution_count": 16,
   "metadata": {},
   "outputs": [],
   "source": [
    "pd.DataFrame(test_X).to_csv(os.path.join(data_dir, 'test.csv'), header=False, index=False)\n",
    "\n",
    "pd.concat([val_y, val_X], axis=1).to_csv(os.path.join(data_dir, 'validation.csv'), header=False, index=False)\n",
    "pd.concat([train_y, train_X], axis=1).to_csv(os.path.join(data_dir, 'train.csv'), header=False, index=False)"
   ]
  },
  {
   "cell_type": "code",
   "execution_count": 17,
   "metadata": {},
   "outputs": [],
   "source": [
    "# To save a bit of memory we can set text_X, train_X, val_X, train_y and val_y to None.\n",
    "\n",
    "test_X = train_X = val_X = train_y = val_y = None"
   ]
  },
  {
   "cell_type": "markdown",
   "metadata": {},
   "source": [
    "### Uploading Training / Validation files to S3\n",
    "\n",
    "Amazon's S3 service allows us to store files that can be accessed by both the built-in training models such as the XGBoost model we will be using as well as custom models such as the one we will see a little later.\n",
    "\n",
    "For this and most other tasks we will be doing using SageMaker, there are two methods we could use. The first is to use the low level functionality of SageMaker which requires knowing each of the objects involved in the SageMaker environment. The second is to use the high level functionality in which certain choices have been made on the user's behalf. The low level approach benefits from allowing the user a great deal of flexibility while the high level approach makes development much quicker. For our purposes we will opt to use the high level approach although using the low-level approach is certainly an option.\n",
    "\n",
    "Recall the method `upload_data()` which is a member of the object representing our current SageMaker session. What this method does is upload the data to the default bucket (which is created if it does not exist) into the path described by the key_prefix variable. To see this for yourself, once you have uploaded the data files, go to the S3 console and look to see where the files have been uploaded.\n",
    "\n",
    "For additional resources, see the __[SageMaker API documentation](http://sagemaker.readthedocs.io/en/latest/)__ and in addition the __[SageMaker Developer Guide.](https://docs.aws.amazon.com/sagemaker/latest/dg/)__"
   ]
  },
  {
   "cell_type": "code",
   "execution_count": 18,
   "metadata": {},
   "outputs": [],
   "source": [
    "import sagemaker\n",
    "\n",
    "session = sagemaker.Session() # Store the current SageMaker session\n",
    "\n",
    "# S3 prefix (which folder will we use)\n",
    "prefix = 'sentiment-web-app'\n",
    "\n",
    "test_location = session.upload_data(os.path.join(data_dir, 'test.csv'), key_prefix=prefix)\n",
    "val_location = session.upload_data(os.path.join(data_dir, 'validation.csv'), key_prefix=prefix)\n",
    "train_location = session.upload_data(os.path.join(data_dir, 'train.csv'), key_prefix=prefix)"
   ]
  },
  {
   "cell_type": "markdown",
   "metadata": {},
   "source": [
    "## Step 4: Creating the XGBoost model\n",
    "\n",
    "Now that the data has been uploaded it is time to create the XGBoost model. To begin with, we need to do some setup. At this point it is worth discussing what a model is in SageMaker. It is easiest to think of a model of comprising three different objects in the SageMaker ecosystem, which interact with one another.\n",
    "\n",
    "- Model Artifacts\n",
    "- Training Code (Container)\n",
    "- Inference Code (Container)\n",
    "\n",
    "The Model Artifacts are what you might think of as the actual model itself. For example, if you were building a neural network, the model artifacts would be the weights of the various layers. In our case, for an XGBoost model, the artifacts are the actual trees that are created during training.\n",
    "\n",
    "The other two objects, the training code and the inference code are then used to manipulate the training artifacts. More precisely, the training code uses the training data that is provided and creates the model artifacts, while the inference code uses the model artifacts to make predictions on new data.\n",
    "\n",
    "The way that SageMaker runs the training and inference code is by making use of Docker containers. For now, think of a container as being a way of packaging code up so that dependencies aren't an issue."
   ]
  },
  {
   "cell_type": "code",
   "execution_count": 19,
   "metadata": {},
   "outputs": [],
   "source": [
    "from sagemaker import get_execution_role\n",
    "\n",
    "# Our current execution role is required when creating the model as the training\n",
    "# and inference code will need to access the model artifacts.\n",
    "role = get_execution_role()"
   ]
  },
  {
   "cell_type": "code",
   "execution_count": 20,
   "metadata": {},
   "outputs": [
    {
     "name": "stderr",
     "output_type": "stream",
     "text": [
      "'get_image_uri' method will be deprecated in favor of 'ImageURIProvider' class in SageMaker Python SDK v2.\n",
      "There is a more up to date SageMaker XGBoost image. To use the newer image, please set 'repo_version'='1.0-1'. For example:\n",
      "\tget_image_uri(region, 'xgboost', '1.0-1').\n"
     ]
    }
   ],
   "source": [
    "# We need to retrieve the location of the container which is provided by Amazon for using XGBoost.\n",
    "# As a matter of convenience, the training and inference code both use the same container.\n",
    "from sagemaker.amazon.amazon_estimator import get_image_uri\n",
    "\n",
    "container = get_image_uri(session.boto_region_name, 'xgboost')"
   ]
  },
  {
   "cell_type": "code",
   "execution_count": 21,
   "metadata": {},
   "outputs": [
    {
     "name": "stderr",
     "output_type": "stream",
     "text": [
      "Parameter image_name will be renamed to image_uri in SageMaker Python SDK v2.\n"
     ]
    }
   ],
   "source": [
    "# First we create a SageMaker estimator object for our model.\n",
    "xgb = sagemaker.estimator.Estimator(container, # The location of the container we wish to use\n",
    "                                    role,                                    # What is our current IAM Role\n",
    "                                    train_instance_count=1,                  # How many compute instances\n",
    "                                    train_instance_type='ml.m4.xlarge',      # What kind of compute instances\n",
    "                                    output_path='s3://{}/{}/output'.format(session.default_bucket(), prefix),\n",
    "                                    sagemaker_session=session)\n",
    "\n",
    "# And then set the algorithm specific parameters.\n",
    "xgb.set_hyperparameters(max_depth=5,\n",
    "                        eta=0.2,\n",
    "                        gamma=4,\n",
    "                        min_child_weight=6,\n",
    "                        subsample=0.8,\n",
    "                        silent=0,\n",
    "                        objective='binary:logistic',\n",
    "                        early_stopping_rounds=10,\n",
    "                        num_round=500)"
   ]
  },
  {
   "cell_type": "markdown",
   "metadata": {},
   "source": [
    "### Fit the XGBoost model\n",
    "\n",
    "Now that our model has been set up we simply need to attach the training and validation datasets and then ask SageMaker to set up the computation."
   ]
  },
  {
   "cell_type": "code",
   "execution_count": 22,
   "metadata": {},
   "outputs": [
    {
     "name": "stderr",
     "output_type": "stream",
     "text": [
      "'s3_input' class will be renamed to 'TrainingInput' in SageMaker Python SDK v2.\n",
      "'s3_input' class will be renamed to 'TrainingInput' in SageMaker Python SDK v2.\n"
     ]
    }
   ],
   "source": [
    "s3_input_train = sagemaker.s3_input(s3_data=train_location, content_type='csv')\n",
    "s3_input_validation = sagemaker.s3_input(s3_data=val_location, content_type='csv')"
   ]
  },
  {
   "cell_type": "code",
   "execution_count": 23,
   "metadata": {},
   "outputs": [
    {
     "name": "stdout",
     "output_type": "stream",
     "text": [
      "2020-07-28 12:57:02 Starting - Starting the training job...\n",
      "2020-07-28 12:57:04 Starting - Launching requested ML instances.........\n",
      "2020-07-28 12:58:44 Starting - Preparing the instances for training......\n",
      "2020-07-28 13:00:02 Downloading - Downloading input data\n",
      "2020-07-28 13:00:02 Training - Downloading the training image...\n",
      "2020-07-28 13:00:23 Training - Training image download completed. Training in progress.\u001b[34mArguments: train\u001b[0m\n",
      "\u001b[34m[2020-07-28:13:00:23:INFO] Running standalone xgboost training.\u001b[0m\n",
      "\u001b[34m[2020-07-28:13:00:23:INFO] File size need to be processed in the node: 238.5mb. Available memory size in the node: 8486.69mb\u001b[0m\n",
      "\u001b[34m[2020-07-28:13:00:23:INFO] Determined delimiter of CSV input is ','\u001b[0m\n",
      "\u001b[34m[13:00:23] S3DistributionType set as FullyReplicated\u001b[0m\n",
      "\u001b[34m[13:00:25] 15000x5000 matrix with 75000000 entries loaded from /opt/ml/input/data/train?format=csv&label_column=0&delimiter=,\u001b[0m\n",
      "\u001b[34m[2020-07-28:13:00:25:INFO] Determined delimiter of CSV input is ','\u001b[0m\n",
      "\u001b[34m[13:00:25] S3DistributionType set as FullyReplicated\u001b[0m\n",
      "\u001b[34m[13:00:26] 10000x5000 matrix with 50000000 entries loaded from /opt/ml/input/data/validation?format=csv&label_column=0&delimiter=,\u001b[0m\n",
      "\u001b[34m[13:00:30] src/tree/updater_prune.cc:74: tree pruning end, 1 roots, 42 extra nodes, 6 pruned nodes, max_depth=5\u001b[0m\n",
      "\u001b[34m[0]#011train-error:0.290067#011validation-error:0.3033\u001b[0m\n",
      "\u001b[34mMultiple eval metrics have been passed: 'validation-error' will be used for early stopping.\n",
      "\u001b[0m\n",
      "\u001b[34mWill train until validation-error hasn't improved in 10 rounds.\u001b[0m\n",
      "\u001b[34m[13:00:31] src/tree/updater_prune.cc:74: tree pruning end, 1 roots, 36 extra nodes, 10 pruned nodes, max_depth=5\u001b[0m\n",
      "\u001b[34m[1]#011train-error:0.288867#011validation-error:0.2979\u001b[0m\n",
      "\u001b[34m[13:00:32] src/tree/updater_prune.cc:74: tree pruning end, 1 roots, 38 extra nodes, 2 pruned nodes, max_depth=5\u001b[0m\n",
      "\u001b[34m[2]#011train-error:0.274533#011validation-error:0.2873\u001b[0m\n",
      "\u001b[34m[13:00:34] src/tree/updater_prune.cc:74: tree pruning end, 1 roots, 36 extra nodes, 8 pruned nodes, max_depth=5\u001b[0m\n",
      "\u001b[34m[3]#011train-error:0.272733#011validation-error:0.2883\u001b[0m\n",
      "\u001b[34m[13:00:35] src/tree/updater_prune.cc:74: tree pruning end, 1 roots, 32 extra nodes, 4 pruned nodes, max_depth=5\u001b[0m\n",
      "\u001b[34m[4]#011train-error:0.2644#011validation-error:0.2826\u001b[0m\n",
      "\u001b[34m[13:00:37] src/tree/updater_prune.cc:74: tree pruning end, 1 roots, 30 extra nodes, 6 pruned nodes, max_depth=5\u001b[0m\n",
      "\u001b[34m[5]#011train-error:0.263267#011validation-error:0.2828\u001b[0m\n",
      "\u001b[34m[13:00:38] src/tree/updater_prune.cc:74: tree pruning end, 1 roots, 38 extra nodes, 2 pruned nodes, max_depth=5\u001b[0m\n",
      "\u001b[34m[6]#011train-error:0.254667#011validation-error:0.2743\u001b[0m\n",
      "\u001b[34m[13:00:39] src/tree/updater_prune.cc:74: tree pruning end, 1 roots, 38 extra nodes, 8 pruned nodes, max_depth=5\u001b[0m\n",
      "\u001b[34m[7]#011train-error:0.2416#011validation-error:0.2568\u001b[0m\n",
      "\u001b[34m[13:00:40] src/tree/updater_prune.cc:74: tree pruning end, 1 roots, 38 extra nodes, 2 pruned nodes, max_depth=5\u001b[0m\n",
      "\u001b[34m[8]#011train-error:0.234867#011validation-error:0.2514\u001b[0m\n",
      "\u001b[34m[13:00:42] src/tree/updater_prune.cc:74: tree pruning end, 1 roots, 32 extra nodes, 12 pruned nodes, max_depth=5\u001b[0m\n",
      "\u001b[34m[9]#011train-error:0.230333#011validation-error:0.2468\u001b[0m\n",
      "\u001b[34m[13:00:43] src/tree/updater_prune.cc:74: tree pruning end, 1 roots, 36 extra nodes, 0 pruned nodes, max_depth=5\u001b[0m\n",
      "\u001b[34m[10]#011train-error:0.227467#011validation-error:0.243\u001b[0m\n",
      "\u001b[34m[13:00:44] src/tree/updater_prune.cc:74: tree pruning end, 1 roots, 34 extra nodes, 6 pruned nodes, max_depth=5\u001b[0m\n",
      "\u001b[34m[11]#011train-error:0.222867#011validation-error:0.2388\u001b[0m\n",
      "\u001b[34m[13:00:45] src/tree/updater_prune.cc:74: tree pruning end, 1 roots, 40 extra nodes, 8 pruned nodes, max_depth=5\u001b[0m\n",
      "\u001b[34m[12]#011train-error:0.218267#011validation-error:0.2364\u001b[0m\n",
      "\u001b[34m[13:00:47] src/tree/updater_prune.cc:74: tree pruning end, 1 roots, 20 extra nodes, 12 pruned nodes, max_depth=5\u001b[0m\n",
      "\u001b[34m[13]#011train-error:0.2144#011validation-error:0.2318\u001b[0m\n",
      "\u001b[34m[13:00:48] src/tree/updater_prune.cc:74: tree pruning end, 1 roots, 26 extra nodes, 10 pruned nodes, max_depth=5\u001b[0m\n",
      "\u001b[34m[14]#011train-error:0.209867#011validation-error:0.2272\u001b[0m\n",
      "\u001b[34m[13:00:49] src/tree/updater_prune.cc:74: tree pruning end, 1 roots, 24 extra nodes, 4 pruned nodes, max_depth=5\u001b[0m\n",
      "\u001b[34m[15]#011train-error:0.2064#011validation-error:0.2225\u001b[0m\n",
      "\u001b[34m[13:00:50] src/tree/updater_prune.cc:74: tree pruning end, 1 roots, 26 extra nodes, 4 pruned nodes, max_depth=5\u001b[0m\n",
      "\u001b[34m[16]#011train-error:0.2018#011validation-error:0.2201\u001b[0m\n",
      "\u001b[34m[13:00:52] src/tree/updater_prune.cc:74: tree pruning end, 1 roots, 34 extra nodes, 6 pruned nodes, max_depth=5\u001b[0m\n",
      "\u001b[34m[17]#011train-error:0.199133#011validation-error:0.2171\u001b[0m\n",
      "\u001b[34m[13:00:53] src/tree/updater_prune.cc:74: tree pruning end, 1 roots, 26 extra nodes, 12 pruned nodes, max_depth=5\u001b[0m\n",
      "\u001b[34m[18]#011train-error:0.194333#011validation-error:0.2141\u001b[0m\n",
      "\u001b[34m[13:00:54] src/tree/updater_prune.cc:74: tree pruning end, 1 roots, 24 extra nodes, 4 pruned nodes, max_depth=5\u001b[0m\n",
      "\u001b[34m[19]#011train-error:0.191667#011validation-error:0.2122\u001b[0m\n",
      "\u001b[34m[13:00:55] src/tree/updater_prune.cc:74: tree pruning end, 1 roots, 42 extra nodes, 2 pruned nodes, max_depth=5\u001b[0m\n",
      "\u001b[34m[20]#011train-error:0.189#011validation-error:0.2093\u001b[0m\n",
      "\u001b[34m[13:00:57] src/tree/updater_prune.cc:74: tree pruning end, 1 roots, 32 extra nodes, 6 pruned nodes, max_depth=5\u001b[0m\n",
      "\u001b[34m[21]#011train-error:0.184933#011validation-error:0.2085\u001b[0m\n",
      "\u001b[34m[13:00:58] src/tree/updater_prune.cc:74: tree pruning end, 1 roots, 30 extra nodes, 2 pruned nodes, max_depth=5\u001b[0m\n",
      "\u001b[34m[22]#011train-error:0.1822#011validation-error:0.2053\u001b[0m\n",
      "\u001b[34m[13:00:59] src/tree/updater_prune.cc:74: tree pruning end, 1 roots, 22 extra nodes, 8 pruned nodes, max_depth=5\u001b[0m\n",
      "\u001b[34m[23]#011train-error:0.180267#011validation-error:0.2033\u001b[0m\n",
      "\u001b[34m[13:01:00] src/tree/updater_prune.cc:74: tree pruning end, 1 roots, 24 extra nodes, 14 pruned nodes, max_depth=5\u001b[0m\n",
      "\u001b[34m[24]#011train-error:0.1788#011validation-error:0.2015\u001b[0m\n",
      "\u001b[34m[13:01:02] src/tree/updater_prune.cc:74: tree pruning end, 1 roots, 30 extra nodes, 4 pruned nodes, max_depth=5\u001b[0m\n",
      "\u001b[34m[25]#011train-error:0.1762#011validation-error:0.2013\u001b[0m\n",
      "\u001b[34m[13:01:03] src/tree/updater_prune.cc:74: tree pruning end, 1 roots, 28 extra nodes, 4 pruned nodes, max_depth=5\u001b[0m\n",
      "\u001b[34m[26]#011train-error:0.173867#011validation-error:0.1984\u001b[0m\n",
      "\u001b[34m[13:01:04] src/tree/updater_prune.cc:74: tree pruning end, 1 roots, 26 extra nodes, 12 pruned nodes, max_depth=5\u001b[0m\n",
      "\u001b[34m[27]#011train-error:0.1718#011validation-error:0.1968\u001b[0m\n",
      "\u001b[34m[13:01:06] src/tree/updater_prune.cc:74: tree pruning end, 1 roots, 24 extra nodes, 6 pruned nodes, max_depth=5\u001b[0m\n",
      "\u001b[34m[28]#011train-error:0.169267#011validation-error:0.1976\u001b[0m\n",
      "\u001b[34m[13:01:07] src/tree/updater_prune.cc:74: tree pruning end, 1 roots, 24 extra nodes, 6 pruned nodes, max_depth=5\u001b[0m\n",
      "\u001b[34m[29]#011train-error:0.169267#011validation-error:0.1952\u001b[0m\n",
      "\u001b[34m[13:01:08] src/tree/updater_prune.cc:74: tree pruning end, 1 roots, 16 extra nodes, 10 pruned nodes, max_depth=5\u001b[0m\n",
      "\u001b[34m[30]#011train-error:0.168#011validation-error:0.1966\u001b[0m\n",
      "\u001b[34m[13:01:09] src/tree/updater_prune.cc:74: tree pruning end, 1 roots, 20 extra nodes, 14 pruned nodes, max_depth=5\u001b[0m\n",
      "\u001b[34m[31]#011train-error:0.165067#011validation-error:0.1951\u001b[0m\n",
      "\u001b[34m[13:01:11] src/tree/updater_prune.cc:74: tree pruning end, 1 roots, 32 extra nodes, 2 pruned nodes, max_depth=5\u001b[0m\n",
      "\u001b[34m[32]#011train-error:0.162067#011validation-error:0.194\u001b[0m\n",
      "\u001b[34m[13:01:12] src/tree/updater_prune.cc:74: tree pruning end, 1 roots, 24 extra nodes, 8 pruned nodes, max_depth=5\u001b[0m\n",
      "\u001b[34m[33]#011train-error:0.160333#011validation-error:0.1917\u001b[0m\n",
      "\u001b[34m[13:01:13] src/tree/updater_prune.cc:74: tree pruning end, 1 roots, 22 extra nodes, 4 pruned nodes, max_depth=5\u001b[0m\n",
      "\u001b[34m[34]#011train-error:0.159067#011validation-error:0.1896\u001b[0m\n",
      "\u001b[34m[13:01:14] src/tree/updater_prune.cc:74: tree pruning end, 1 roots, 32 extra nodes, 14 pruned nodes, max_depth=5\u001b[0m\n",
      "\u001b[34m[35]#011train-error:0.158067#011validation-error:0.189\u001b[0m\n",
      "\u001b[34m[13:01:16] src/tree/updater_prune.cc:74: tree pruning end, 1 roots, 30 extra nodes, 8 pruned nodes, max_depth=5\u001b[0m\n",
      "\u001b[34m[36]#011train-error:0.155533#011validation-error:0.1882\u001b[0m\n",
      "\u001b[34m[13:01:17] src/tree/updater_prune.cc:74: tree pruning end, 1 roots, 20 extra nodes, 6 pruned nodes, max_depth=5\u001b[0m\n",
      "\u001b[34m[37]#011train-error:0.153867#011validation-error:0.1859\u001b[0m\n",
      "\u001b[34m[13:01:18] src/tree/updater_prune.cc:74: tree pruning end, 1 roots, 20 extra nodes, 4 pruned nodes, max_depth=5\u001b[0m\n",
      "\u001b[34m[38]#011train-error:0.152733#011validation-error:0.1854\u001b[0m\n",
      "\u001b[34m[13:01:19] src/tree/updater_prune.cc:74: tree pruning end, 1 roots, 22 extra nodes, 12 pruned nodes, max_depth=5\u001b[0m\n",
      "\u001b[34m[39]#011train-error:0.151467#011validation-error:0.1854\u001b[0m\n",
      "\u001b[34m[13:01:21] src/tree/updater_prune.cc:74: tree pruning end, 1 roots, 32 extra nodes, 6 pruned nodes, max_depth=5\u001b[0m\n",
      "\u001b[34m[40]#011train-error:0.150267#011validation-error:0.1863\u001b[0m\n",
      "\u001b[34m[13:01:22] src/tree/updater_prune.cc:74: tree pruning end, 1 roots, 34 extra nodes, 12 pruned nodes, max_depth=5\u001b[0m\n",
      "\u001b[34m[41]#011train-error:0.148467#011validation-error:0.1846\u001b[0m\n",
      "\u001b[34m[13:01:23] src/tree/updater_prune.cc:74: tree pruning end, 1 roots, 12 extra nodes, 14 pruned nodes, max_depth=5\u001b[0m\n",
      "\u001b[34m[42]#011train-error:0.147667#011validation-error:0.1834\u001b[0m\n",
      "\u001b[34m[13:01:24] src/tree/updater_prune.cc:74: tree pruning end, 1 roots, 26 extra nodes, 12 pruned nodes, max_depth=5\u001b[0m\n",
      "\u001b[34m[43]#011train-error:0.146533#011validation-error:0.1823\u001b[0m\n",
      "\u001b[34m[13:01:26] src/tree/updater_prune.cc:74: tree pruning end, 1 roots, 30 extra nodes, 8 pruned nodes, max_depth=5\u001b[0m\n",
      "\u001b[34m[44]#011train-error:0.145067#011validation-error:0.181\u001b[0m\n",
      "\u001b[34m[13:01:27] src/tree/updater_prune.cc:74: tree pruning end, 1 roots, 24 extra nodes, 8 pruned nodes, max_depth=5\u001b[0m\n",
      "\u001b[34m[45]#011train-error:0.144733#011validation-error:0.1784\u001b[0m\n",
      "\u001b[34m[13:01:28] src/tree/updater_prune.cc:74: tree pruning end, 1 roots, 16 extra nodes, 14 pruned nodes, max_depth=5\u001b[0m\n",
      "\u001b[34m[46]#011train-error:0.1434#011validation-error:0.1791\u001b[0m\n",
      "\u001b[34m[13:01:29] src/tree/updater_prune.cc:74: tree pruning end, 1 roots, 20 extra nodes, 8 pruned nodes, max_depth=5\u001b[0m\n",
      "\u001b[34m[47]#011train-error:0.142467#011validation-error:0.1768\u001b[0m\n",
      "\u001b[34m[13:01:31] src/tree/updater_prune.cc:74: tree pruning end, 1 roots, 28 extra nodes, 16 pruned nodes, max_depth=5\u001b[0m\n",
      "\u001b[34m[48]#011train-error:0.140933#011validation-error:0.1758\u001b[0m\n",
      "\u001b[34m[13:01:32] src/tree/updater_prune.cc:74: tree pruning end, 1 roots, 24 extra nodes, 8 pruned nodes, max_depth=5\u001b[0m\n",
      "\u001b[34m[49]#011train-error:0.140067#011validation-error:0.1749\u001b[0m\n",
      "\u001b[34m[13:01:33] src/tree/updater_prune.cc:74: tree pruning end, 1 roots, 16 extra nodes, 6 pruned nodes, max_depth=5\u001b[0m\n",
      "\u001b[34m[50]#011train-error:0.1394#011validation-error:0.1751\u001b[0m\n",
      "\u001b[34m[13:01:35] src/tree/updater_prune.cc:74: tree pruning end, 1 roots, 22 extra nodes, 8 pruned nodes, max_depth=5\u001b[0m\n",
      "\u001b[34m[51]#011train-error:0.139067#011validation-error:0.1737\u001b[0m\n",
      "\u001b[34m[13:01:36] src/tree/updater_prune.cc:74: tree pruning end, 1 roots, 24 extra nodes, 8 pruned nodes, max_depth=5\u001b[0m\n",
      "\u001b[34m[52]#011train-error:0.1384#011validation-error:0.173\u001b[0m\n",
      "\u001b[34m[13:01:37] src/tree/updater_prune.cc:74: tree pruning end, 1 roots, 20 extra nodes, 10 pruned nodes, max_depth=5\u001b[0m\n",
      "\u001b[34m[53]#011train-error:0.137467#011validation-error:0.1727\u001b[0m\n",
      "\u001b[34m[13:01:38] src/tree/updater_prune.cc:74: tree pruning end, 1 roots, 12 extra nodes, 10 pruned nodes, max_depth=5\u001b[0m\n",
      "\u001b[34m[54]#011train-error:0.1364#011validation-error:0.1723\u001b[0m\n",
      "\u001b[34m[13:01:40] src/tree/updater_prune.cc:74: tree pruning end, 1 roots, 12 extra nodes, 16 pruned nodes, max_depth=5\u001b[0m\n",
      "\u001b[34m[55]#011train-error:0.1356#011validation-error:0.1715\u001b[0m\n",
      "\u001b[34m[13:01:41] src/tree/updater_prune.cc:74: tree pruning end, 1 roots, 26 extra nodes, 8 pruned nodes, max_depth=5\u001b[0m\n",
      "\u001b[34m[56]#011train-error:0.135#011validation-error:0.1722\u001b[0m\n",
      "\u001b[34m[13:01:42] src/tree/updater_prune.cc:74: tree pruning end, 1 roots, 26 extra nodes, 8 pruned nodes, max_depth=5\u001b[0m\n",
      "\u001b[34m[57]#011train-error:0.1336#011validation-error:0.1714\u001b[0m\n",
      "\u001b[34m[13:01:43] src/tree/updater_prune.cc:74: tree pruning end, 1 roots, 14 extra nodes, 14 pruned nodes, max_depth=5\u001b[0m\n",
      "\u001b[34m[58]#011train-error:0.133533#011validation-error:0.1703\u001b[0m\n",
      "\u001b[34m[13:01:45] src/tree/updater_prune.cc:74: tree pruning end, 1 roots, 20 extra nodes, 8 pruned nodes, max_depth=5\u001b[0m\n",
      "\u001b[34m[59]#011train-error:0.132667#011validation-error:0.1708\u001b[0m\n",
      "\u001b[34m[13:01:46] src/tree/updater_prune.cc:74: tree pruning end, 1 roots, 36 extra nodes, 6 pruned nodes, max_depth=5\u001b[0m\n",
      "\u001b[34m[60]#011train-error:0.130067#011validation-error:0.1685\u001b[0m\n",
      "\u001b[34m[13:01:47] src/tree/updater_prune.cc:74: tree pruning end, 1 roots, 18 extra nodes, 2 pruned nodes, max_depth=5\u001b[0m\n",
      "\u001b[34m[61]#011train-error:0.128133#011validation-error:0.1677\u001b[0m\n",
      "\u001b[34m[13:01:48] src/tree/updater_prune.cc:74: tree pruning end, 1 roots, 26 extra nodes, 16 pruned nodes, max_depth=5\u001b[0m\n",
      "\u001b[34m[62]#011train-error:0.128333#011validation-error:0.1677\u001b[0m\n",
      "\u001b[34m[13:01:50] src/tree/updater_prune.cc:74: tree pruning end, 1 roots, 32 extra nodes, 10 pruned nodes, max_depth=5\u001b[0m\n",
      "\u001b[34m[63]#011train-error:0.127667#011validation-error:0.168\u001b[0m\n",
      "\u001b[34m[13:01:51] src/tree/updater_prune.cc:74: tree pruning end, 1 roots, 28 extra nodes, 16 pruned nodes, max_depth=5\u001b[0m\n",
      "\u001b[34m[64]#011train-error:0.127133#011validation-error:0.1673\u001b[0m\n",
      "\u001b[34m[13:01:52] src/tree/updater_prune.cc:74: tree pruning end, 1 roots, 24 extra nodes, 8 pruned nodes, max_depth=5\u001b[0m\n",
      "\u001b[34m[65]#011train-error:0.125333#011validation-error:0.1664\u001b[0m\n",
      "\u001b[34m[13:01:53] src/tree/updater_prune.cc:74: tree pruning end, 1 roots, 16 extra nodes, 8 pruned nodes, max_depth=5\u001b[0m\n",
      "\u001b[34m[66]#011train-error:0.1254#011validation-error:0.1658\u001b[0m\n",
      "\u001b[34m[13:01:55] src/tree/updater_prune.cc:74: tree pruning end, 1 roots, 32 extra nodes, 6 pruned nodes, max_depth=5\u001b[0m\n",
      "\u001b[34m[67]#011train-error:0.1232#011validation-error:0.1665\u001b[0m\n",
      "\u001b[34m[13:01:56] src/tree/updater_prune.cc:74: tree pruning end, 1 roots, 28 extra nodes, 12 pruned nodes, max_depth=5\u001b[0m\n",
      "\u001b[34m[68]#011train-error:0.122667#011validation-error:0.1659\u001b[0m\n",
      "\u001b[34m[13:01:57] src/tree/updater_prune.cc:74: tree pruning end, 1 roots, 24 extra nodes, 12 pruned nodes, max_depth=5\u001b[0m\n",
      "\u001b[34m[69]#011train-error:0.121467#011validation-error:0.1651\u001b[0m\n",
      "\u001b[34m[13:01:58] src/tree/updater_prune.cc:74: tree pruning end, 1 roots, 14 extra nodes, 8 pruned nodes, max_depth=5\u001b[0m\n",
      "\u001b[34m[70]#011train-error:0.120533#011validation-error:0.164\u001b[0m\n",
      "\u001b[34m[13:02:00] src/tree/updater_prune.cc:74: tree pruning end, 1 roots, 26 extra nodes, 6 pruned nodes, max_depth=5\u001b[0m\n",
      "\u001b[34m[71]#011train-error:0.119733#011validation-error:0.1634\u001b[0m\n",
      "\u001b[34m[13:02:01] src/tree/updater_prune.cc:74: tree pruning end, 1 roots, 26 extra nodes, 12 pruned nodes, max_depth=5\u001b[0m\n",
      "\u001b[34m[72]#011train-error:0.119333#011validation-error:0.163\u001b[0m\n",
      "\u001b[34m[13:02:02] src/tree/updater_prune.cc:74: tree pruning end, 1 roots, 18 extra nodes, 10 pruned nodes, max_depth=5\u001b[0m\n",
      "\u001b[34m[73]#011train-error:0.118667#011validation-error:0.1622\u001b[0m\n",
      "\u001b[34m[13:02:04] src/tree/updater_prune.cc:74: tree pruning end, 1 roots, 16 extra nodes, 12 pruned nodes, max_depth=5\u001b[0m\n",
      "\u001b[34m[74]#011train-error:0.1184#011validation-error:0.1639\u001b[0m\n",
      "\u001b[34m[13:02:05] src/tree/updater_prune.cc:74: tree pruning end, 1 roots, 26 extra nodes, 8 pruned nodes, max_depth=5\u001b[0m\n",
      "\u001b[34m[75]#011train-error:0.116333#011validation-error:0.1629\u001b[0m\n",
      "\u001b[34m[13:02:06] src/tree/updater_prune.cc:74: tree pruning end, 1 roots, 22 extra nodes, 8 pruned nodes, max_depth=5\u001b[0m\n",
      "\u001b[34m[76]#011train-error:0.115467#011validation-error:0.1619\u001b[0m\n",
      "\u001b[34m[13:02:07] src/tree/updater_prune.cc:74: tree pruning end, 1 roots, 18 extra nodes, 4 pruned nodes, max_depth=5\u001b[0m\n",
      "\u001b[34m[77]#011train-error:0.114933#011validation-error:0.1609\u001b[0m\n",
      "\u001b[34m[13:02:09] src/tree/updater_prune.cc:74: tree pruning end, 1 roots, 22 extra nodes, 14 pruned nodes, max_depth=5\u001b[0m\n",
      "\u001b[34m[78]#011train-error:0.1144#011validation-error:0.1606\u001b[0m\n",
      "\u001b[34m[13:02:10] src/tree/updater_prune.cc:74: tree pruning end, 1 roots, 24 extra nodes, 10 pruned nodes, max_depth=5\u001b[0m\n",
      "\u001b[34m[79]#011train-error:0.1146#011validation-error:0.1603\u001b[0m\n",
      "\u001b[34m[13:02:11] src/tree/updater_prune.cc:74: tree pruning end, 1 roots, 16 extra nodes, 8 pruned nodes, max_depth=5\u001b[0m\n",
      "\u001b[34m[80]#011train-error:0.114267#011validation-error:0.1605\u001b[0m\n",
      "\u001b[34m[13:02:12] src/tree/updater_prune.cc:74: tree pruning end, 1 roots, 12 extra nodes, 8 pruned nodes, max_depth=5\u001b[0m\n",
      "\u001b[34m[81]#011train-error:0.114067#011validation-error:0.1602\u001b[0m\n",
      "\u001b[34m[13:02:14] src/tree/updater_prune.cc:74: tree pruning end, 1 roots, 12 extra nodes, 10 pruned nodes, max_depth=5\u001b[0m\n",
      "\u001b[34m[82]#011train-error:0.113533#011validation-error:0.159\u001b[0m\n",
      "\u001b[34m[13:02:15] src/tree/updater_prune.cc:74: tree pruning end, 1 roots, 20 extra nodes, 6 pruned nodes, max_depth=5\u001b[0m\n",
      "\u001b[34m[83]#011train-error:0.113533#011validation-error:0.1592\u001b[0m\n",
      "\u001b[34m[13:02:16] src/tree/updater_prune.cc:74: tree pruning end, 1 roots, 16 extra nodes, 8 pruned nodes, max_depth=5\u001b[0m\n",
      "\u001b[34m[84]#011train-error:0.112933#011validation-error:0.1583\u001b[0m\n",
      "\u001b[34m[13:02:18] src/tree/updater_prune.cc:74: tree pruning end, 1 roots, 14 extra nodes, 10 pruned nodes, max_depth=5\u001b[0m\n",
      "\u001b[34m[85]#011train-error:0.112467#011validation-error:0.1585\u001b[0m\n",
      "\u001b[34m[13:02:19] src/tree/updater_prune.cc:74: tree pruning end, 1 roots, 18 extra nodes, 6 pruned nodes, max_depth=5\u001b[0m\n",
      "\u001b[34m[86]#011train-error:0.1124#011validation-error:0.1579\u001b[0m\n",
      "\u001b[34m[13:02:20] src/tree/updater_prune.cc:74: tree pruning end, 1 roots, 26 extra nodes, 14 pruned nodes, max_depth=5\u001b[0m\n",
      "\u001b[34m[87]#011train-error:0.111733#011validation-error:0.1599\u001b[0m\n",
      "\u001b[34m[13:02:21] src/tree/updater_prune.cc:74: tree pruning end, 1 roots, 16 extra nodes, 2 pruned nodes, max_depth=5\u001b[0m\n",
      "\u001b[34m[88]#011train-error:0.111067#011validation-error:0.1581\u001b[0m\n",
      "\u001b[34m[13:02:23] src/tree/updater_prune.cc:74: tree pruning end, 1 roots, 20 extra nodes, 12 pruned nodes, max_depth=5\u001b[0m\n",
      "\u001b[34m[89]#011train-error:0.1104#011validation-error:0.1592\u001b[0m\n",
      "\u001b[34m[13:02:24] src/tree/updater_prune.cc:74: tree pruning end, 1 roots, 22 extra nodes, 18 pruned nodes, max_depth=5\u001b[0m\n",
      "\u001b[34m[90]#011train-error:0.109933#011validation-error:0.159\u001b[0m\n",
      "\u001b[34m[13:02:25] src/tree/updater_prune.cc:74: tree pruning end, 1 roots, 30 extra nodes, 4 pruned nodes, max_depth=5\u001b[0m\n",
      "\u001b[34m[91]#011train-error:0.1096#011validation-error:0.1579\u001b[0m\n",
      "\u001b[34m[13:02:26] src/tree/updater_prune.cc:74: tree pruning end, 1 roots, 12 extra nodes, 10 pruned nodes, max_depth=5\u001b[0m\n",
      "\u001b[34m[92]#011train-error:0.1092#011validation-error:0.158\u001b[0m\n",
      "\u001b[34m[13:02:28] src/tree/updater_prune.cc:74: tree pruning end, 1 roots, 24 extra nodes, 4 pruned nodes, max_depth=5\u001b[0m\n",
      "\u001b[34m[93]#011train-error:0.108133#011validation-error:0.1585\u001b[0m\n",
      "\u001b[34m[13:02:29] src/tree/updater_prune.cc:74: tree pruning end, 1 roots, 20 extra nodes, 12 pruned nodes, max_depth=5\u001b[0m\n",
      "\u001b[34m[94]#011train-error:0.107667#011validation-error:0.1585\u001b[0m\n",
      "\u001b[34m[13:02:30] src/tree/updater_prune.cc:74: tree pruning end, 1 roots, 12 extra nodes, 4 pruned nodes, max_depth=5\u001b[0m\n",
      "\u001b[34m[95]#011train-error:0.107333#011validation-error:0.1577\u001b[0m\n",
      "\u001b[34m[13:02:31] src/tree/updater_prune.cc:74: tree pruning end, 1 roots, 24 extra nodes, 8 pruned nodes, max_depth=5\u001b[0m\n",
      "\u001b[34m[96]#011train-error:0.1056#011validation-error:0.1561\u001b[0m\n",
      "\u001b[34m[13:02:33] src/tree/updater_prune.cc:74: tree pruning end, 1 roots, 18 extra nodes, 8 pruned nodes, max_depth=5\u001b[0m\n",
      "\u001b[34m[97]#011train-error:0.1064#011validation-error:0.1566\u001b[0m\n",
      "\u001b[34m[13:02:34] src/tree/updater_prune.cc:74: tree pruning end, 1 roots, 20 extra nodes, 20 pruned nodes, max_depth=5\u001b[0m\n",
      "\u001b[34m[98]#011train-error:0.105733#011validation-error:0.1554\u001b[0m\n",
      "\u001b[34m[13:02:35] src/tree/updater_prune.cc:74: tree pruning end, 1 roots, 28 extra nodes, 8 pruned nodes, max_depth=5\u001b[0m\n",
      "\u001b[34m[99]#011train-error:0.105333#011validation-error:0.156\u001b[0m\n",
      "\u001b[34m[13:02:36] src/tree/updater_prune.cc:74: tree pruning end, 1 roots, 12 extra nodes, 4 pruned nodes, max_depth=5\u001b[0m\n",
      "\u001b[34m[100]#011train-error:0.104867#011validation-error:0.1553\u001b[0m\n",
      "\u001b[34m[13:02:38] src/tree/updater_prune.cc:74: tree pruning end, 1 roots, 12 extra nodes, 8 pruned nodes, max_depth=5\u001b[0m\n",
      "\u001b[34m[101]#011train-error:0.1048#011validation-error:0.1549\u001b[0m\n",
      "\u001b[34m[13:02:39] src/tree/updater_prune.cc:74: tree pruning end, 1 roots, 12 extra nodes, 6 pruned nodes, max_depth=5\u001b[0m\n",
      "\u001b[34m[102]#011train-error:0.104667#011validation-error:0.1552\u001b[0m\n",
      "\u001b[34m[13:02:40] src/tree/updater_prune.cc:74: tree pruning end, 1 roots, 16 extra nodes, 8 pruned nodes, max_depth=5\u001b[0m\n",
      "\u001b[34m[103]#011train-error:0.103467#011validation-error:0.1545\u001b[0m\n",
      "\u001b[34m[13:02:42] src/tree/updater_prune.cc:74: tree pruning end, 1 roots, 24 extra nodes, 16 pruned nodes, max_depth=5\u001b[0m\n",
      "\u001b[34m[104]#011train-error:0.102867#011validation-error:0.1533\u001b[0m\n",
      "\u001b[34m[13:02:43] src/tree/updater_prune.cc:74: tree pruning end, 1 roots, 12 extra nodes, 14 pruned nodes, max_depth=5\u001b[0m\n",
      "\u001b[34m[105]#011train-error:0.1028#011validation-error:0.1529\u001b[0m\n",
      "\u001b[34m[13:02:44] src/tree/updater_prune.cc:74: tree pruning end, 1 roots, 16 extra nodes, 10 pruned nodes, max_depth=5\u001b[0m\n",
      "\u001b[34m[106]#011train-error:0.102533#011validation-error:0.1532\u001b[0m\n",
      "\u001b[34m[13:02:45] src/tree/updater_prune.cc:74: tree pruning end, 1 roots, 12 extra nodes, 4 pruned nodes, max_depth=5\u001b[0m\n",
      "\u001b[34m[107]#011train-error:0.101933#011validation-error:0.1526\u001b[0m\n",
      "\u001b[34m[13:02:47] src/tree/updater_prune.cc:74: tree pruning end, 1 roots, 16 extra nodes, 10 pruned nodes, max_depth=5\u001b[0m\n",
      "\u001b[34m[108]#011train-error:0.101667#011validation-error:0.1523\u001b[0m\n",
      "\u001b[34m[13:02:48] src/tree/updater_prune.cc:74: tree pruning end, 1 roots, 12 extra nodes, 8 pruned nodes, max_depth=5\u001b[0m\n",
      "\u001b[34m[109]#011train-error:0.101467#011validation-error:0.152\u001b[0m\n",
      "\u001b[34m[13:02:49] src/tree/updater_prune.cc:74: tree pruning end, 1 roots, 10 extra nodes, 4 pruned nodes, max_depth=5\u001b[0m\n",
      "\u001b[34m[110]#011train-error:0.100933#011validation-error:0.1515\u001b[0m\n",
      "\u001b[34m[13:02:50] src/tree/updater_prune.cc:74: tree pruning end, 1 roots, 12 extra nodes, 10 pruned nodes, max_depth=5\u001b[0m\n",
      "\u001b[34m[111]#011train-error:0.100467#011validation-error:0.1512\u001b[0m\n",
      "\u001b[34m[13:02:52] src/tree/updater_prune.cc:74: tree pruning end, 1 roots, 20 extra nodes, 8 pruned nodes, max_depth=5\u001b[0m\n",
      "\u001b[34m[112]#011train-error:0.099267#011validation-error:0.1514\u001b[0m\n",
      "\u001b[34m[13:02:53] src/tree/updater_prune.cc:74: tree pruning end, 1 roots, 18 extra nodes, 8 pruned nodes, max_depth=5\u001b[0m\n",
      "\u001b[34m[113]#011train-error:0.099067#011validation-error:0.1504\u001b[0m\n",
      "\u001b[34m[13:02:54] src/tree/updater_prune.cc:74: tree pruning end, 1 roots, 20 extra nodes, 2 pruned nodes, max_depth=5\u001b[0m\n",
      "\u001b[34m[114]#011train-error:0.099333#011validation-error:0.1505\u001b[0m\n",
      "\u001b[34m[13:02:55] src/tree/updater_prune.cc:74: tree pruning end, 1 roots, 10 extra nodes, 6 pruned nodes, max_depth=5\u001b[0m\n",
      "\u001b[34m[115]#011train-error:0.098867#011validation-error:0.1491\u001b[0m\n",
      "\u001b[34m[13:02:57] src/tree/updater_prune.cc:74: tree pruning end, 1 roots, 28 extra nodes, 10 pruned nodes, max_depth=5\u001b[0m\n",
      "\u001b[34m[116]#011train-error:0.097933#011validation-error:0.1504\u001b[0m\n",
      "\u001b[34m[13:02:58] src/tree/updater_prune.cc:74: tree pruning end, 1 roots, 22 extra nodes, 6 pruned nodes, max_depth=5\u001b[0m\n",
      "\u001b[34m[117]#011train-error:0.097533#011validation-error:0.1501\u001b[0m\n",
      "\u001b[34m[13:02:59] src/tree/updater_prune.cc:74: tree pruning end, 1 roots, 12 extra nodes, 4 pruned nodes, max_depth=5\u001b[0m\n",
      "\u001b[34m[118]#011train-error:0.0978#011validation-error:0.1501\u001b[0m\n",
      "\u001b[34m[13:03:00] src/tree/updater_prune.cc:74: tree pruning end, 1 roots, 20 extra nodes, 8 pruned nodes, max_depth=5\u001b[0m\n",
      "\u001b[34m[119]#011train-error:0.096533#011validation-error:0.1491\u001b[0m\n",
      "\u001b[34m[13:03:02] src/tree/updater_prune.cc:74: tree pruning end, 1 roots, 38 extra nodes, 10 pruned nodes, max_depth=5\u001b[0m\n",
      "\u001b[34m[120]#011train-error:0.0954#011validation-error:0.1489\u001b[0m\n",
      "\u001b[34m[13:03:03] src/tree/updater_prune.cc:74: tree pruning end, 1 roots, 22 extra nodes, 8 pruned nodes, max_depth=5\u001b[0m\n",
      "\u001b[34m[121]#011train-error:0.094667#011validation-error:0.149\u001b[0m\n",
      "\u001b[34m[13:03:04] src/tree/updater_prune.cc:74: tree pruning end, 1 roots, 18 extra nodes, 2 pruned nodes, max_depth=5\u001b[0m\n",
      "\u001b[34m[122]#011train-error:0.0944#011validation-error:0.1489\u001b[0m\n",
      "\u001b[34m[13:03:05] src/tree/updater_prune.cc:74: tree pruning end, 1 roots, 18 extra nodes, 24 pruned nodes, max_depth=5\u001b[0m\n",
      "\u001b[34m[123]#011train-error:0.094#011validation-error:0.1494\u001b[0m\n",
      "\u001b[34m[13:03:07] src/tree/updater_prune.cc:74: tree pruning end, 1 roots, 18 extra nodes, 14 pruned nodes, max_depth=5\u001b[0m\n",
      "\u001b[34m[124]#011train-error:0.093133#011validation-error:0.1484\u001b[0m\n",
      "\u001b[34m[13:03:08] src/tree/updater_prune.cc:74: tree pruning end, 1 roots, 18 extra nodes, 8 pruned nodes, max_depth=5\u001b[0m\n",
      "\u001b[34m[125]#011train-error:0.092933#011validation-error:0.1482\u001b[0m\n",
      "\u001b[34m[13:03:09] src/tree/updater_prune.cc:74: tree pruning end, 1 roots, 14 extra nodes, 4 pruned nodes, max_depth=5\u001b[0m\n",
      "\u001b[34m[126]#011train-error:0.092267#011validation-error:0.147\u001b[0m\n",
      "\u001b[34m[13:03:10] src/tree/updater_prune.cc:74: tree pruning end, 1 roots, 14 extra nodes, 4 pruned nodes, max_depth=5\u001b[0m\n",
      "\u001b[34m[127]#011train-error:0.092#011validation-error:0.1468\u001b[0m\n",
      "\u001b[34m[13:03:12] src/tree/updater_prune.cc:74: tree pruning end, 1 roots, 24 extra nodes, 4 pruned nodes, max_depth=5\u001b[0m\n",
      "\u001b[34m[128]#011train-error:0.090867#011validation-error:0.1462\u001b[0m\n",
      "\u001b[34m[13:03:13] src/tree/updater_prune.cc:74: tree pruning end, 1 roots, 22 extra nodes, 8 pruned nodes, max_depth=5\u001b[0m\n",
      "\u001b[34m[129]#011train-error:0.090667#011validation-error:0.1466\u001b[0m\n",
      "\u001b[34m[13:03:14] src/tree/updater_prune.cc:74: tree pruning end, 1 roots, 20 extra nodes, 10 pruned nodes, max_depth=5\u001b[0m\n",
      "\u001b[34m[130]#011train-error:0.0898#011validation-error:0.1461\u001b[0m\n",
      "\u001b[34m[13:03:15] src/tree/updater_prune.cc:74: tree pruning end, 1 roots, 12 extra nodes, 8 pruned nodes, max_depth=5\u001b[0m\n",
      "\u001b[34m[131]#011train-error:0.089533#011validation-error:0.1459\u001b[0m\n",
      "\u001b[34m[13:03:17] src/tree/updater_prune.cc:74: tree pruning end, 1 roots, 22 extra nodes, 8 pruned nodes, max_depth=5\u001b[0m\n",
      "\u001b[34m[132]#011train-error:0.089067#011validation-error:0.1453\u001b[0m\n",
      "\u001b[34m[13:03:18] src/tree/updater_prune.cc:74: tree pruning end, 1 roots, 10 extra nodes, 6 pruned nodes, max_depth=5\u001b[0m\n",
      "\u001b[34m[133]#011train-error:0.0888#011validation-error:0.1459\u001b[0m\n",
      "\u001b[34m[13:03:19] src/tree/updater_prune.cc:74: tree pruning end, 1 roots, 20 extra nodes, 6 pruned nodes, max_depth=5\u001b[0m\n",
      "\u001b[34m[134]#011train-error:0.089#011validation-error:0.1456\u001b[0m\n",
      "\u001b[34m[13:03:20] src/tree/updater_prune.cc:74: tree pruning end, 1 roots, 20 extra nodes, 6 pruned nodes, max_depth=5\u001b[0m\n",
      "\u001b[34m[135]#011train-error:0.0884#011validation-error:0.145\u001b[0m\n",
      "\u001b[34m[13:03:22] src/tree/updater_prune.cc:74: tree pruning end, 1 roots, 12 extra nodes, 10 pruned nodes, max_depth=5\u001b[0m\n",
      "\u001b[34m[136]#011train-error:0.0882#011validation-error:0.1449\u001b[0m\n",
      "\u001b[34m[13:03:23] src/tree/updater_prune.cc:74: tree pruning end, 1 roots, 14 extra nodes, 2 pruned nodes, max_depth=5\u001b[0m\n",
      "\u001b[34m[137]#011train-error:0.0882#011validation-error:0.1443\u001b[0m\n",
      "\u001b[34m[13:03:24] src/tree/updater_prune.cc:74: tree pruning end, 1 roots, 12 extra nodes, 4 pruned nodes, max_depth=5\u001b[0m\n",
      "\u001b[34m[138]#011train-error:0.0878#011validation-error:0.1448\u001b[0m\n",
      "\u001b[34m[13:03:26] src/tree/updater_prune.cc:74: tree pruning end, 1 roots, 10 extra nodes, 6 pruned nodes, max_depth=5\u001b[0m\n",
      "\u001b[34m[139]#011train-error:0.0878#011validation-error:0.1458\u001b[0m\n",
      "\u001b[34m[13:03:27] src/tree/updater_prune.cc:74: tree pruning end, 1 roots, 18 extra nodes, 6 pruned nodes, max_depth=5\u001b[0m\n",
      "\u001b[34m[140]#011train-error:0.087333#011validation-error:0.145\u001b[0m\n",
      "\u001b[34m[13:03:28] src/tree/updater_prune.cc:74: tree pruning end, 1 roots, 12 extra nodes, 4 pruned nodes, max_depth=5\u001b[0m\n",
      "\u001b[34m[141]#011train-error:0.087067#011validation-error:0.1451\u001b[0m\n",
      "\u001b[34m[13:03:29] src/tree/updater_prune.cc:74: tree pruning end, 1 roots, 12 extra nodes, 4 pruned nodes, max_depth=5\u001b[0m\n",
      "\u001b[34m[142]#011train-error:0.087#011validation-error:0.1455\u001b[0m\n",
      "\u001b[34m[13:03:31] src/tree/updater_prune.cc:74: tree pruning end, 1 roots, 18 extra nodes, 4 pruned nodes, max_depth=5\u001b[0m\n",
      "\u001b[34m[143]#011train-error:0.087067#011validation-error:0.1444\u001b[0m\n",
      "\u001b[34m[13:03:32] src/tree/updater_prune.cc:74: tree pruning end, 1 roots, 12 extra nodes, 6 pruned nodes, max_depth=5\u001b[0m\n",
      "\u001b[34m[144]#011train-error:0.0868#011validation-error:0.1442\u001b[0m\n",
      "\u001b[34m[13:03:33] src/tree/updater_prune.cc:74: tree pruning end, 1 roots, 12 extra nodes, 12 pruned nodes, max_depth=5\u001b[0m\n",
      "\u001b[34m[145]#011train-error:0.086867#011validation-error:0.1452\u001b[0m\n",
      "\u001b[34m[13:03:34] src/tree/updater_prune.cc:74: tree pruning end, 1 roots, 12 extra nodes, 6 pruned nodes, max_depth=5\u001b[0m\n",
      "\u001b[34m[146]#011train-error:0.086#011validation-error:0.1449\u001b[0m\n",
      "\u001b[34m[13:03:36] src/tree/updater_prune.cc:74: tree pruning end, 1 roots, 10 extra nodes, 2 pruned nodes, max_depth=5\u001b[0m\n",
      "\u001b[34m[147]#011train-error:0.085667#011validation-error:0.1445\u001b[0m\n",
      "\u001b[34m[13:03:37] src/tree/updater_prune.cc:74: tree pruning end, 1 roots, 14 extra nodes, 12 pruned nodes, max_depth=5\u001b[0m\n",
      "\u001b[34m[148]#011train-error:0.085467#011validation-error:0.1439\u001b[0m\n",
      "\u001b[34m[13:03:38] src/tree/updater_prune.cc:74: tree pruning end, 1 roots, 12 extra nodes, 8 pruned nodes, max_depth=5\u001b[0m\n",
      "\u001b[34m[149]#011train-error:0.0854#011validation-error:0.1438\u001b[0m\n",
      "\u001b[34m[13:03:40] src/tree/updater_prune.cc:74: tree pruning end, 1 roots, 16 extra nodes, 4 pruned nodes, max_depth=5\u001b[0m\n",
      "\u001b[34m[150]#011train-error:0.084867#011validation-error:0.1436\u001b[0m\n",
      "\u001b[34m[13:03:41] src/tree/updater_prune.cc:74: tree pruning end, 1 roots, 12 extra nodes, 10 pruned nodes, max_depth=5\u001b[0m\n",
      "\u001b[34m[151]#011train-error:0.0844#011validation-error:0.1436\u001b[0m\n",
      "\u001b[34m[13:03:42] src/tree/updater_prune.cc:74: tree pruning end, 1 roots, 18 extra nodes, 16 pruned nodes, max_depth=5\u001b[0m\n",
      "\u001b[34m[152]#011train-error:0.084133#011validation-error:0.1428\u001b[0m\n",
      "\u001b[34m[13:03:43] src/tree/updater_prune.cc:74: tree pruning end, 1 roots, 12 extra nodes, 10 pruned nodes, max_depth=5\u001b[0m\n",
      "\u001b[34m[153]#011train-error:0.0832#011validation-error:0.1425\u001b[0m\n",
      "\u001b[34m[13:03:45] src/tree/updater_prune.cc:74: tree pruning end, 1 roots, 14 extra nodes, 8 pruned nodes, max_depth=5\u001b[0m\n",
      "\u001b[34m[154]#011train-error:0.082867#011validation-error:0.1421\u001b[0m\n",
      "\u001b[34m[13:03:46] src/tree/updater_prune.cc:74: tree pruning end, 1 roots, 18 extra nodes, 4 pruned nodes, max_depth=5\u001b[0m\n",
      "\u001b[34m[155]#011train-error:0.082667#011validation-error:0.1423\u001b[0m\n",
      "\u001b[34m[13:03:47] src/tree/updater_prune.cc:74: tree pruning end, 1 roots, 10 extra nodes, 0 pruned nodes, max_depth=5\u001b[0m\n",
      "\u001b[34m[156]#011train-error:0.0826#011validation-error:0.1419\u001b[0m\n",
      "\u001b[34m[13:03:48] src/tree/updater_prune.cc:74: tree pruning end, 1 roots, 10 extra nodes, 6 pruned nodes, max_depth=5\u001b[0m\n",
      "\u001b[34m[157]#011train-error:0.0824#011validation-error:0.1423\u001b[0m\n",
      "\u001b[34m[13:03:50] src/tree/updater_prune.cc:74: tree pruning end, 1 roots, 18 extra nodes, 10 pruned nodes, max_depth=5\u001b[0m\n",
      "\u001b[34m[158]#011train-error:0.082267#011validation-error:0.1423\u001b[0m\n",
      "\u001b[34m[13:03:51] src/tree/updater_prune.cc:74: tree pruning end, 1 roots, 18 extra nodes, 10 pruned nodes, max_depth=5\u001b[0m\n",
      "\u001b[34m[159]#011train-error:0.081667#011validation-error:0.1413\u001b[0m\n",
      "\u001b[34m[13:03:52] src/tree/updater_prune.cc:74: tree pruning end, 1 roots, 14 extra nodes, 6 pruned nodes, max_depth=5\u001b[0m\n",
      "\u001b[34m[160]#011train-error:0.081333#011validation-error:0.1421\u001b[0m\n",
      "\u001b[34m[13:03:53] src/tree/updater_prune.cc:74: tree pruning end, 1 roots, 16 extra nodes, 6 pruned nodes, max_depth=5\u001b[0m\n",
      "\u001b[34m[161]#011train-error:0.080533#011validation-error:0.1418\u001b[0m\n",
      "\u001b[34m[13:03:55] src/tree/updater_prune.cc:74: tree pruning end, 1 roots, 16 extra nodes, 6 pruned nodes, max_depth=5\u001b[0m\n",
      "\u001b[34m[162]#011train-error:0.080667#011validation-error:0.1412\u001b[0m\n",
      "\u001b[34m[13:03:56] src/tree/updater_prune.cc:74: tree pruning end, 1 roots, 24 extra nodes, 10 pruned nodes, max_depth=5\u001b[0m\n",
      "\u001b[34m[163]#011train-error:0.079667#011validation-error:0.1415\u001b[0m\n",
      "\u001b[34m[13:03:57] src/tree/updater_prune.cc:74: tree pruning end, 1 roots, 10 extra nodes, 8 pruned nodes, max_depth=5\u001b[0m\n",
      "\u001b[34m[164]#011train-error:0.079667#011validation-error:0.1409\u001b[0m\n",
      "\u001b[34m[13:03:59] src/tree/updater_prune.cc:74: tree pruning end, 1 roots, 12 extra nodes, 2 pruned nodes, max_depth=5\u001b[0m\n",
      "\u001b[34m[165]#011train-error:0.079267#011validation-error:0.1403\u001b[0m\n",
      "\u001b[34m[13:04:00] src/tree/updater_prune.cc:74: tree pruning end, 1 roots, 18 extra nodes, 14 pruned nodes, max_depth=5\u001b[0m\n",
      "\u001b[34m[166]#011train-error:0.0784#011validation-error:0.1405\u001b[0m\n",
      "\u001b[34m[13:04:01] src/tree/updater_prune.cc:74: tree pruning end, 1 roots, 16 extra nodes, 2 pruned nodes, max_depth=5\u001b[0m\n",
      "\u001b[34m[167]#011train-error:0.0778#011validation-error:0.1399\u001b[0m\n",
      "\u001b[34m[13:04:02] src/tree/updater_prune.cc:74: tree pruning end, 1 roots, 18 extra nodes, 6 pruned nodes, max_depth=5\u001b[0m\n",
      "\u001b[34m[168]#011train-error:0.078133#011validation-error:0.1395\u001b[0m\n",
      "\u001b[34m[13:04:04] src/tree/updater_prune.cc:74: tree pruning end, 1 roots, 12 extra nodes, 8 pruned nodes, max_depth=5\u001b[0m\n",
      "\u001b[34m[169]#011train-error:0.077467#011validation-error:0.1395\u001b[0m\n",
      "\u001b[34m[13:04:05] src/tree/updater_prune.cc:74: tree pruning end, 1 roots, 12 extra nodes, 8 pruned nodes, max_depth=5\u001b[0m\n",
      "\u001b[34m[170]#011train-error:0.077133#011validation-error:0.1387\u001b[0m\n",
      "\u001b[34m[13:04:06] src/tree/updater_prune.cc:74: tree pruning end, 1 roots, 20 extra nodes, 8 pruned nodes, max_depth=5\u001b[0m\n",
      "\u001b[34m[171]#011train-error:0.0774#011validation-error:0.1388\u001b[0m\n",
      "\u001b[34m[13:04:07] src/tree/updater_prune.cc:74: tree pruning end, 1 roots, 14 extra nodes, 4 pruned nodes, max_depth=5\u001b[0m\n",
      "\u001b[34m[172]#011train-error:0.077333#011validation-error:0.1385\u001b[0m\n",
      "\u001b[34m[13:04:09] src/tree/updater_prune.cc:74: tree pruning end, 1 roots, 14 extra nodes, 8 pruned nodes, max_depth=5\u001b[0m\n",
      "\u001b[34m[173]#011train-error:0.077333#011validation-error:0.1385\u001b[0m\n",
      "\u001b[34m[13:04:10] src/tree/updater_prune.cc:74: tree pruning end, 1 roots, 18 extra nodes, 14 pruned nodes, max_depth=5\u001b[0m\n",
      "\u001b[34m[174]#011train-error:0.077067#011validation-error:0.1395\u001b[0m\n",
      "\u001b[34m[13:04:11] src/tree/updater_prune.cc:74: tree pruning end, 1 roots, 12 extra nodes, 4 pruned nodes, max_depth=5\u001b[0m\n",
      "\u001b[34m[175]#011train-error:0.077#011validation-error:0.1395\u001b[0m\n",
      "\u001b[34m[13:04:12] src/tree/updater_prune.cc:74: tree pruning end, 1 roots, 20 extra nodes, 8 pruned nodes, max_depth=5\u001b[0m\n",
      "\u001b[34m[176]#011train-error:0.076067#011validation-error:0.1377\u001b[0m\n",
      "\u001b[34m[13:04:14] src/tree/updater_prune.cc:74: tree pruning end, 1 roots, 12 extra nodes, 4 pruned nodes, max_depth=5\u001b[0m\n",
      "\u001b[34m[177]#011train-error:0.0756#011validation-error:0.1383\u001b[0m\n",
      "\u001b[34m[13:04:15] src/tree/updater_prune.cc:74: tree pruning end, 1 roots, 10 extra nodes, 4 pruned nodes, max_depth=5\u001b[0m\n",
      "\u001b[34m[178]#011train-error:0.0752#011validation-error:0.1384\u001b[0m\n",
      "\u001b[34m[13:04:16] src/tree/updater_prune.cc:74: tree pruning end, 1 roots, 10 extra nodes, 2 pruned nodes, max_depth=5\u001b[0m\n",
      "\u001b[34m[179]#011train-error:0.075333#011validation-error:0.1382\u001b[0m\n",
      "\u001b[34m[13:04:17] src/tree/updater_prune.cc:74: tree pruning end, 1 roots, 18 extra nodes, 10 pruned nodes, max_depth=5\u001b[0m\n",
      "\u001b[34m[180]#011train-error:0.074733#011validation-error:0.1383\u001b[0m\n",
      "\u001b[34m[13:04:19] src/tree/updater_prune.cc:74: tree pruning end, 1 roots, 10 extra nodes, 6 pruned nodes, max_depth=5\u001b[0m\n",
      "\u001b[34m[181]#011train-error:0.0752#011validation-error:0.1385\u001b[0m\n",
      "\u001b[34m[13:04:20] src/tree/updater_prune.cc:74: tree pruning end, 1 roots, 10 extra nodes, 2 pruned nodes, max_depth=5\u001b[0m\n",
      "\u001b[34m[182]#011train-error:0.075067#011validation-error:0.1387\u001b[0m\n",
      "\u001b[34m[13:04:21] src/tree/updater_prune.cc:74: tree pruning end, 1 roots, 22 extra nodes, 10 pruned nodes, max_depth=5\u001b[0m\n",
      "\u001b[34m[183]#011train-error:0.075067#011validation-error:0.1389\u001b[0m\n",
      "\u001b[34m[13:04:23] src/tree/updater_prune.cc:74: tree pruning end, 1 roots, 22 extra nodes, 8 pruned nodes, max_depth=5\u001b[0m\n",
      "\u001b[34m[184]#011train-error:0.0742#011validation-error:0.1386\u001b[0m\n",
      "\u001b[34m[13:04:24] src/tree/updater_prune.cc:74: tree pruning end, 1 roots, 16 extra nodes, 10 pruned nodes, max_depth=5\u001b[0m\n",
      "\u001b[34m[185]#011train-error:0.073933#011validation-error:0.139\u001b[0m\n",
      "\u001b[34m[13:04:25] src/tree/updater_prune.cc:74: tree pruning end, 1 roots, 20 extra nodes, 6 pruned nodes, max_depth=5\u001b[0m\n",
      "\u001b[34m[186]#011train-error:0.074#011validation-error:0.1381\u001b[0m\n",
      "\u001b[34mStopping. Best iteration:\u001b[0m\n",
      "\u001b[34m[176]#011train-error:0.076067#011validation-error:0.1377\n",
      "\u001b[0m\n",
      "\n",
      "2020-07-28 13:05:33 Uploading - Uploading generated training model\n",
      "2020-07-28 13:05:33 Completed - Training job completed\n",
      "Training seconds: 348\n",
      "Billable seconds: 348\n"
     ]
    }
   ],
   "source": [
    "xgb.fit({'train': s3_input_train, 'validation': s3_input_validation})"
   ]
  },
  {
   "cell_type": "markdown",
   "metadata": {},
   "source": [
    "## Step 5: Testing the model\n",
    "\n",
    "Now that we've fit our XGBoost model, it's time to see how well it performs. To do this we will use SageMakers Batch Transform functionality. Batch Transform is a convenient way to perform inference on a large dataset in a way that is not realtime. That is, we don't necessarily need to use our model's results immediately and instead we can perform inference on a large number of samples. An example of this in industry might be performing an end of month report. This method of inference can also be useful to us as it means that we can perform inference on our entire test set. \n",
    "\n",
    "To perform a Batch Transformation we need to first create a transformer objects from our trained estimator object."
   ]
  },
  {
   "cell_type": "code",
   "execution_count": 24,
   "metadata": {},
   "outputs": [
    {
     "name": "stderr",
     "output_type": "stream",
     "text": [
      "Parameter image will be renamed to image_uri in SageMaker Python SDK v2.\n"
     ]
    }
   ],
   "source": [
    "xgb_transformer = xgb.transformer(instance_count = 1, instance_type = 'ml.m4.xlarge')"
   ]
  },
  {
   "cell_type": "markdown",
   "metadata": {},
   "source": [
    "Next we actually perform the transform job. When doing so we need to make sure to specify the type of data we are sending so that it is serialized correctly in the background. In our case we are providing our model with csv data so we specify `text/csv`. Also, if the test data that we have provided is too large to process all at once then we need to specify how the data file should be split up. Since each line is a single entry in our data set we tell SageMaker that it can split the input on each line."
   ]
  },
  {
   "cell_type": "code",
   "execution_count": 25,
   "metadata": {},
   "outputs": [],
   "source": [
    "xgb_transformer.transform(test_location, content_type='text/csv', split_type='Line')"
   ]
  },
  {
   "cell_type": "markdown",
   "metadata": {},
   "source": [
    "Currently the transform job is running but it is doing so in the background. Since we wish to wait until the transform job is done and we would like a bit of feedback we can run the `wait()` method."
   ]
  },
  {
   "cell_type": "code",
   "execution_count": 26,
   "metadata": {},
   "outputs": [
    {
     "name": "stdout",
     "output_type": "stream",
     "text": [
      ".........................\u001b[34mArguments: serve\u001b[0m\n",
      "\u001b[34m[2020-07-28 13:10:05 +0000] [1] [INFO] Starting gunicorn 19.7.1\u001b[0m\n",
      "\u001b[34m[2020-07-28 13:10:05 +0000] [1] [INFO] Listening at: http://0.0.0.0:8080 (1)\u001b[0m\n",
      "\u001b[34m[2020-07-28 13:10:05 +0000] [1] [INFO] Using worker: gevent\u001b[0m\n",
      "\u001b[34m[2020-07-28 13:10:05 +0000] [38] [INFO] Booting worker with pid: 38\u001b[0m\n",
      "\u001b[34m[2020-07-28 13:10:05 +0000] [39] [INFO] Booting worker with pid: 39\u001b[0m\n",
      "\u001b[34m[2020-07-28 13:10:05 +0000] [40] [INFO] Booting worker with pid: 40\u001b[0m\n",
      "\u001b[34m[2020-07-28 13:10:05 +0000] [41] [INFO] Booting worker with pid: 41\u001b[0m\n",
      "\u001b[34m[2020-07-28:13:10:05:INFO] Model loaded successfully for worker : 38\u001b[0m\n",
      "\u001b[34m[2020-07-28:13:10:05:INFO] Model loaded successfully for worker : 39\u001b[0m\n",
      "\u001b[34m[2020-07-28:13:10:05:INFO] Model loaded successfully for worker : 40\u001b[0m\n",
      "\u001b[34m[2020-07-28:13:10:05:INFO] Model loaded successfully for worker : 41\u001b[0m\n",
      "\u001b[32m2020-07-28T13:10:34.684:[sagemaker logs]: MaxConcurrentTransforms=4, MaxPayloadInMB=6, BatchStrategy=MULTI_RECORD\u001b[0m\n",
      "\u001b[34m[2020-07-28:13:10:37:INFO] Sniff delimiter as ','\u001b[0m\n",
      "\u001b[34m[2020-07-28:13:10:37:INFO] Determined delimiter of CSV input is ','\u001b[0m\n",
      "\u001b[34m[2020-07-28:13:10:37:INFO] Sniff delimiter as ','\u001b[0m\n",
      "\u001b[34m[2020-07-28:13:10:37:INFO] Determined delimiter of CSV input is ','\u001b[0m\n",
      "\u001b[34m[2020-07-28:13:10:37:INFO] Sniff delimiter as ','\u001b[0m\n",
      "\u001b[35m[2020-07-28:13:10:37:INFO] Sniff delimiter as ','\u001b[0m\n",
      "\u001b[35m[2020-07-28:13:10:37:INFO] Determined delimiter of CSV input is ','\u001b[0m\n",
      "\u001b[35m[2020-07-28:13:10:37:INFO] Sniff delimiter as ','\u001b[0m\n",
      "\u001b[35m[2020-07-28:13:10:37:INFO] Determined delimiter of CSV input is ','\u001b[0m\n",
      "\u001b[35m[2020-07-28:13:10:37:INFO] Sniff delimiter as ','\u001b[0m\n",
      "\u001b[34m[2020-07-28:13:10:37:INFO] Determined delimiter of CSV input is ','\u001b[0m\n",
      "\u001b[35m[2020-07-28:13:10:37:INFO] Determined delimiter of CSV input is ','\u001b[0m\n",
      "\u001b[34m[2020-07-28:13:10:37:INFO] Sniff delimiter as ','\u001b[0m\n",
      "\u001b[34m[2020-07-28:13:10:37:INFO] Determined delimiter of CSV input is ','\u001b[0m\n",
      "\u001b[35m[2020-07-28:13:10:37:INFO] Sniff delimiter as ','\u001b[0m\n",
      "\u001b[35m[2020-07-28:13:10:37:INFO] Determined delimiter of CSV input is ','\u001b[0m\n",
      "\u001b[34m[2020-07-28:13:10:39:INFO] Sniff delimiter as ','\u001b[0m\n",
      "\u001b[34m[2020-07-28:13:10:39:INFO] Determined delimiter of CSV input is ','\u001b[0m\n",
      "\u001b[34m[2020-07-28:13:10:39:INFO] Sniff delimiter as ','\u001b[0m\n",
      "\u001b[34m[2020-07-28:13:10:39:INFO] Determined delimiter of CSV input is ','\u001b[0m\n",
      "\u001b[34m[2020-07-28:13:10:40:INFO] Sniff delimiter as ','\u001b[0m\n",
      "\u001b[34m[2020-07-28:13:10:40:INFO] Determined delimiter of CSV input is ','\u001b[0m\n",
      "\u001b[34m[2020-07-28:13:10:40:INFO] Sniff delimiter as ','\u001b[0m\n",
      "\u001b[34m[2020-07-28:13:10:40:INFO] Determined delimiter of CSV input is ','\u001b[0m\n",
      "\u001b[35m[2020-07-28:13:10:39:INFO] Sniff delimiter as ','\u001b[0m\n",
      "\u001b[35m[2020-07-28:13:10:39:INFO] Determined delimiter of CSV input is ','\u001b[0m\n",
      "\u001b[35m[2020-07-28:13:10:39:INFO] Sniff delimiter as ','\u001b[0m\n",
      "\u001b[35m[2020-07-28:13:10:39:INFO] Determined delimiter of CSV input is ','\u001b[0m\n",
      "\u001b[35m[2020-07-28:13:10:40:INFO] Sniff delimiter as ','\u001b[0m\n",
      "\u001b[35m[2020-07-28:13:10:40:INFO] Determined delimiter of CSV input is ','\u001b[0m\n",
      "\u001b[35m[2020-07-28:13:10:40:INFO] Sniff delimiter as ','\u001b[0m\n",
      "\u001b[35m[2020-07-28:13:10:40:INFO] Determined delimiter of CSV input is ','\u001b[0m\n",
      "\u001b[34m[2020-07-28:13:10:44:INFO] Sniff delimiter as ','\u001b[0m\n",
      "\u001b[34m[2020-07-28:13:10:44:INFO] Determined delimiter of CSV input is ','\u001b[0m\n",
      "\u001b[34m[2020-07-28:13:10:44:INFO] Sniff delimiter as ','\u001b[0m\n",
      "\u001b[34m[2020-07-28:13:10:44:INFO] Determined delimiter of CSV input is ','\u001b[0m\n",
      "\u001b[34m[2020-07-28:13:10:44:INFO] Sniff delimiter as ','\u001b[0m\n",
      "\u001b[34m[2020-07-28:13:10:44:INFO] Determined delimiter of CSV input is ','\u001b[0m\n",
      "\u001b[35m[2020-07-28:13:10:44:INFO] Sniff delimiter as ','\u001b[0m\n",
      "\u001b[35m[2020-07-28:13:10:44:INFO] Determined delimiter of CSV input is ','\u001b[0m\n",
      "\u001b[35m[2020-07-28:13:10:44:INFO] Sniff delimiter as ','\u001b[0m\n",
      "\u001b[35m[2020-07-28:13:10:44:INFO] Determined delimiter of CSV input is ','\u001b[0m\n",
      "\u001b[35m[2020-07-28:13:10:44:INFO] Sniff delimiter as ','\u001b[0m\n",
      "\u001b[35m[2020-07-28:13:10:44:INFO] Determined delimiter of CSV input is ','\u001b[0m\n",
      "\u001b[34m[2020-07-28:13:10:45:INFO] Sniff delimiter as ','\u001b[0m\n",
      "\u001b[34m[2020-07-28:13:10:45:INFO] Determined delimiter of CSV input is ','\u001b[0m\n",
      "\u001b[35m[2020-07-28:13:10:45:INFO] Sniff delimiter as ','\u001b[0m\n",
      "\u001b[35m[2020-07-28:13:10:45:INFO] Determined delimiter of CSV input is ','\u001b[0m\n",
      "\u001b[34m[2020-07-28:13:10:47:INFO] Sniff delimiter as ','\u001b[0m\n",
      "\u001b[35m[2020-07-28:13:10:47:INFO] Sniff delimiter as ','\u001b[0m\n",
      "\u001b[34m[2020-07-28:13:10:47:INFO] Determined delimiter of CSV input is ','\u001b[0m\n",
      "\u001b[34m[2020-07-28:13:10:47:INFO] Sniff delimiter as ','\u001b[0m\n",
      "\u001b[34m[2020-07-28:13:10:47:INFO] Determined delimiter of CSV input is ','\u001b[0m\n",
      "\u001b[34m[2020-07-28:13:10:47:INFO] Sniff delimiter as ','\u001b[0m\n",
      "\u001b[34m[2020-07-28:13:10:47:INFO] Determined delimiter of CSV input is ','\u001b[0m\n",
      "\u001b[34m[2020-07-28:13:10:47:INFO] Sniff delimiter as ','\u001b[0m\n",
      "\u001b[34m[2020-07-28:13:10:47:INFO] Determined delimiter of CSV input is ','\u001b[0m\n",
      "\u001b[35m[2020-07-28:13:10:47:INFO] Determined delimiter of CSV input is ','\u001b[0m\n",
      "\u001b[35m[2020-07-28:13:10:47:INFO] Sniff delimiter as ','\u001b[0m\n",
      "\u001b[35m[2020-07-28:13:10:47:INFO] Determined delimiter of CSV input is ','\u001b[0m\n",
      "\u001b[35m[2020-07-28:13:10:47:INFO] Sniff delimiter as ','\u001b[0m\n",
      "\u001b[35m[2020-07-28:13:10:47:INFO] Determined delimiter of CSV input is ','\u001b[0m\n",
      "\u001b[35m[2020-07-28:13:10:47:INFO] Sniff delimiter as ','\u001b[0m\n",
      "\u001b[35m[2020-07-28:13:10:47:INFO] Determined delimiter of CSV input is ','\u001b[0m\n",
      "\u001b[34m[2020-07-28:13:10:49:INFO] Sniff delimiter as ','\u001b[0m\n",
      "\u001b[34m[2020-07-28:13:10:49:INFO] Determined delimiter of CSV input is ','\u001b[0m\n",
      "\u001b[34m[2020-07-28:13:10:49:INFO] Sniff delimiter as ','\u001b[0m\n",
      "\u001b[34m[2020-07-28:13:10:49:INFO] Determined delimiter of CSV input is ','\u001b[0m\n",
      "\u001b[35m[2020-07-28:13:10:49:INFO] Sniff delimiter as ','\u001b[0m\n",
      "\u001b[35m[2020-07-28:13:10:49:INFO] Determined delimiter of CSV input is ','\u001b[0m\n",
      "\u001b[35m[2020-07-28:13:10:49:INFO] Sniff delimiter as ','\u001b[0m\n",
      "\u001b[35m[2020-07-28:13:10:49:INFO] Determined delimiter of CSV input is ','\u001b[0m\n",
      "\u001b[34m[2020-07-28:13:10:49:INFO] Sniff delimiter as ','\u001b[0m\n",
      "\u001b[34m[2020-07-28:13:10:49:INFO] Determined delimiter of CSV input is ','\u001b[0m\n",
      "\u001b[34m[2020-07-28:13:10:50:INFO] Sniff delimiter as ','\u001b[0m\n",
      "\u001b[34m[2020-07-28:13:10:50:INFO] Determined delimiter of CSV input is ','\u001b[0m\n",
      "\u001b[35m[2020-07-28:13:10:49:INFO] Sniff delimiter as ','\u001b[0m\n",
      "\u001b[35m[2020-07-28:13:10:49:INFO] Determined delimiter of CSV input is ','\u001b[0m\n",
      "\u001b[35m[2020-07-28:13:10:50:INFO] Sniff delimiter as ','\u001b[0m\n",
      "\u001b[35m[2020-07-28:13:10:50:INFO] Determined delimiter of CSV input is ','\u001b[0m\n",
      "\n",
      "\u001b[34m[2020-07-28:13:10:52:INFO] Sniff delimiter as ','\u001b[0m\n",
      "\u001b[35m[2020-07-28:13:10:52:INFO] Sniff delimiter as ','\u001b[0m\n",
      "\u001b[34m[2020-07-28:13:10:52:INFO] Determined delimiter of CSV input is ','\u001b[0m\n",
      "\u001b[34m[2020-07-28:13:10:52:INFO] Sniff delimiter as ','\u001b[0m\n",
      "\u001b[34m[2020-07-28:13:10:52:INFO] Determined delimiter of CSV input is ','\u001b[0m\n",
      "\u001b[35m[2020-07-28:13:10:52:INFO] Determined delimiter of CSV input is ','\u001b[0m\n",
      "\u001b[35m[2020-07-28:13:10:52:INFO] Sniff delimiter as ','\u001b[0m\n",
      "\u001b[35m[2020-07-28:13:10:52:INFO] Determined delimiter of CSV input is ','\u001b[0m\n",
      "\u001b[34m[2020-07-28:13:10:54:INFO] Sniff delimiter as ','\u001b[0m\n",
      "\u001b[35m[2020-07-28:13:10:54:INFO] Sniff delimiter as ','\u001b[0m\n",
      "\u001b[34m[2020-07-28:13:10:54:INFO] Determined delimiter of CSV input is ','\u001b[0m\n",
      "\u001b[34m[2020-07-28:13:10:54:INFO] Sniff delimiter as ','\u001b[0m\n",
      "\u001b[34m[2020-07-28:13:10:54:INFO] Determined delimiter of CSV input is ','\u001b[0m\n",
      "\u001b[34m[2020-07-28:13:10:54:INFO] Sniff delimiter as ','\u001b[0m\n",
      "\u001b[34m[2020-07-28:13:10:54:INFO] Determined delimiter of CSV input is ','\u001b[0m\n",
      "\u001b[35m[2020-07-28:13:10:54:INFO] Determined delimiter of CSV input is ','\u001b[0m\n",
      "\u001b[35m[2020-07-28:13:10:54:INFO] Sniff delimiter as ','\u001b[0m\n",
      "\u001b[35m[2020-07-28:13:10:54:INFO] Determined delimiter of CSV input is ','\u001b[0m\n",
      "\u001b[35m[2020-07-28:13:10:54:INFO] Sniff delimiter as ','\u001b[0m\n",
      "\u001b[35m[2020-07-28:13:10:54:INFO] Determined delimiter of CSV input is ','\u001b[0m\n",
      "\u001b[34m[2020-07-28:13:10:54:INFO] Sniff delimiter as ','\u001b[0m\n",
      "\u001b[34m[2020-07-28:13:10:54:INFO] Determined delimiter of CSV input is ','\u001b[0m\n",
      "\u001b[35m[2020-07-28:13:10:54:INFO] Sniff delimiter as ','\u001b[0m\n",
      "\u001b[35m[2020-07-28:13:10:54:INFO] Determined delimiter of CSV input is ','\u001b[0m\n",
      "\u001b[34m[2020-07-28:13:10:56:INFO] Sniff delimiter as ','\u001b[0m\n",
      "\u001b[34m[2020-07-28:13:10:56:INFO] Determined delimiter of CSV input is ','\u001b[0m\n",
      "\u001b[34m[2020-07-28:13:10:57:INFO] Sniff delimiter as ','\u001b[0m\n",
      "\u001b[34m[2020-07-28:13:10:57:INFO] Determined delimiter of CSV input is ','\u001b[0m\n",
      "\u001b[34m[2020-07-28:13:10:57:INFO] Sniff delimiter as ','\u001b[0m\n",
      "\u001b[34m[2020-07-28:13:10:57:INFO] Determined delimiter of CSV input is ','\u001b[0m\n",
      "\u001b[34m[2020-07-28:13:10:57:INFO] Sniff delimiter as ','\u001b[0m\n",
      "\u001b[34m[2020-07-28:13:10:57:INFO] Determined delimiter of CSV input is ','\u001b[0m\n",
      "\u001b[35m[2020-07-28:13:10:56:INFO] Sniff delimiter as ','\u001b[0m\n",
      "\u001b[35m[2020-07-28:13:10:56:INFO] Determined delimiter of CSV input is ','\u001b[0m\n",
      "\u001b[35m[2020-07-28:13:10:57:INFO] Sniff delimiter as ','\u001b[0m\n",
      "\u001b[35m[2020-07-28:13:10:57:INFO] Determined delimiter of CSV input is ','\u001b[0m\n",
      "\u001b[35m[2020-07-28:13:10:57:INFO] Sniff delimiter as ','\u001b[0m\n",
      "\u001b[35m[2020-07-28:13:10:57:INFO] Determined delimiter of CSV input is ','\u001b[0m\n",
      "\u001b[35m[2020-07-28:13:10:57:INFO] Sniff delimiter as ','\u001b[0m\n",
      "\u001b[35m[2020-07-28:13:10:57:INFO] Determined delimiter of CSV input is ','\u001b[0m\n",
      "\u001b[34m[2020-07-28:13:10:59:INFO] Sniff delimiter as ','\u001b[0m\n",
      "\u001b[34m[2020-07-28:13:10:59:INFO] Determined delimiter of CSV input is ','\u001b[0m\n",
      "\u001b[34m[2020-07-28:13:10:59:INFO] Sniff delimiter as ','\u001b[0m\n",
      "\u001b[34m[2020-07-28:13:10:59:INFO] Determined delimiter of CSV input is ','\u001b[0m\n",
      "\u001b[34m[2020-07-28:13:10:59:INFO] Sniff delimiter as ','\u001b[0m\n",
      "\u001b[34m[2020-07-28:13:10:59:INFO] Determined delimiter of CSV input is ','\u001b[0m\n",
      "\u001b[35m[2020-07-28:13:10:59:INFO] Sniff delimiter as ','\u001b[0m\n",
      "\u001b[35m[2020-07-28:13:10:59:INFO] Determined delimiter of CSV input is ','\u001b[0m\n",
      "\u001b[35m[2020-07-28:13:10:59:INFO] Sniff delimiter as ','\u001b[0m\n",
      "\u001b[35m[2020-07-28:13:10:59:INFO] Determined delimiter of CSV input is ','\u001b[0m\n",
      "\u001b[35m[2020-07-28:13:10:59:INFO] Sniff delimiter as ','\u001b[0m\n",
      "\u001b[35m[2020-07-28:13:10:59:INFO] Determined delimiter of CSV input is ','\u001b[0m\n",
      "\u001b[34m[2020-07-28:13:10:59:INFO] Sniff delimiter as ','\u001b[0m\n",
      "\u001b[34m[2020-07-28:13:10:59:INFO] Determined delimiter of CSV input is ','\u001b[0m\n",
      "\u001b[35m[2020-07-28:13:10:59:INFO] Sniff delimiter as ','\u001b[0m\n",
      "\u001b[35m[2020-07-28:13:10:59:INFO] Determined delimiter of CSV input is ','\u001b[0m\n"
     ]
    }
   ],
   "source": [
    "xgb_transformer.wait()"
   ]
  },
  {
   "cell_type": "markdown",
   "metadata": {},
   "source": [
    "Now the transform job has executed and the result, the estimated sentiment of each review, has been saved on S3. Since we would rather work on this file locally we can perform a bit of notebook magic to copy the file to the `data_dir`."
   ]
  },
  {
   "cell_type": "code",
   "execution_count": 27,
   "metadata": {},
   "outputs": [
    {
     "name": "stdout",
     "output_type": "stream",
     "text": [
      "download: s3://sagemaker-us-east-1-259534233211/xgboost-2020-07-28-13-06-01-744/test.csv.out to ../data/sentiment_web_app/test.csv.out\r\n"
     ]
    }
   ],
   "source": [
    "!aws s3 cp --recursive $xgb_transformer.output_path $data_dir"
   ]
  },
  {
   "cell_type": "markdown",
   "metadata": {},
   "source": [
    "The last step is now to read in the output from our model, convert the output to something a little more usable, in this case we want the sentiment to be either `1` (positive) or `0` (negative), and then compare to the ground truth labels."
   ]
  },
  {
   "cell_type": "code",
   "execution_count": 28,
   "metadata": {},
   "outputs": [],
   "source": [
    "predictions = pd.read_csv(os.path.join(data_dir, 'test.csv.out'), header=None)\n",
    "predictions = [round(num) for num in predictions.squeeze().values]"
   ]
  },
  {
   "cell_type": "code",
   "execution_count": 29,
   "metadata": {},
   "outputs": [
    {
     "data": {
      "text/plain": [
       "0.86008"
      ]
     },
     "execution_count": 29,
     "metadata": {},
     "output_type": "execute_result"
    }
   ],
   "source": [
    "from sklearn.metrics import accuracy_score\n",
    "accuracy_score(test_y, predictions)"
   ]
  },
  {
   "cell_type": "markdown",
   "metadata": {},
   "source": [
    "## Step 6: Deploying the model\n",
    "\n",
    "Once we construct and fit our model, SageMaker stores the resulting model artifacts and we can use those to deploy an endpoint (inference code). To see this, look in the SageMaker console and you should see that a model has been created along with a link to the S3 location where the model artifacts have been stored.\n",
    "\n",
    "Deploying an endpoint is a lot like training the model with a few important differences. The first is that a deployed model doesn't change the model artifacts, so as you send it various testing instances the model won't change. Another difference is that since we aren't performing a fixed computation, as we were in the training step or while performing a batch transform, the compute instance that gets started stays running until we tell it to stop. This is important to note as if we forget and leave it running we will be charged the entire time.\n",
    "\n",
    "In other words **If you are no longer using a deployed endpoint, shut it down!**"
   ]
  },
  {
   "cell_type": "code",
   "execution_count": 30,
   "metadata": {},
   "outputs": [
    {
     "name": "stderr",
     "output_type": "stream",
     "text": [
      "Parameter image will be renamed to image_uri in SageMaker Python SDK v2.\n",
      "Using already existing model: xgboost-2020-07-28-12-57-01-818\n"
     ]
    },
    {
     "name": "stdout",
     "output_type": "stream",
     "text": [
      "---------------!"
     ]
    }
   ],
   "source": [
    "xgb_predictor = xgb.deploy(initial_instance_count = 1, instance_type = 'ml.m4.xlarge')"
   ]
  },
  {
   "cell_type": "markdown",
   "metadata": {},
   "source": [
    "### Testing the model (again)\n",
    "\n",
    "Now that we have deployed our endpoint, we can send the testing data to it and get back the inference results. We already did this earlier using the batch transform functionality of SageMaker, however, we will test our model again using the newly deployed endpoint so that we can make sure that it works properly and to get a bit of a feel for how the endpoint works.\n",
    "\n",
    "When using the created endpoint it is important to know that we are limited in the amount of information we can send in each call so we need to break the testing data up into chunks and then send each chunk. Also, we need to serialize our data before we send it to the endpoint to ensure that our data is transmitted properly. Fortunately, SageMaker can do the serialization part for us provided we tell it the format of our data."
   ]
  },
  {
   "cell_type": "code",
   "execution_count": 31,
   "metadata": {},
   "outputs": [],
   "source": [
    "from sagemaker.predictor import csv_serializer\n",
    "\n",
    "# We need to tell the endpoint what format the data we are sending is in so that SageMaker can perform the serialization.\n",
    "xgb_predictor.content_type = 'text/csv'\n",
    "xgb_predictor.serializer = csv_serializer"
   ]
  },
  {
   "cell_type": "code",
   "execution_count": 32,
   "metadata": {},
   "outputs": [],
   "source": [
    "# We split the data into chunks and send each chunk seperately, accumulating the results.\n",
    "\n",
    "def predict(data, rows=512):\n",
    "    split_array = np.array_split(data, int(data.shape[0] / float(rows) + 1))\n",
    "    predictions = ''\n",
    "    for array in split_array:\n",
    "        predictions = ','.join([predictions, xgb_predictor.predict(array).decode('utf-8')])\n",
    "    \n",
    "    return np.fromstring(predictions[1:], sep=',')"
   ]
  },
  {
   "cell_type": "code",
   "execution_count": 33,
   "metadata": {},
   "outputs": [],
   "source": [
    "test_X = pd.read_csv(os.path.join(data_dir, 'test.csv'), header=None).values\n",
    "\n",
    "predictions = predict(test_X)\n",
    "predictions = [round(num) for num in predictions]"
   ]
  },
  {
   "cell_type": "markdown",
   "metadata": {},
   "source": [
    "Lastly, we check to see what the accuracy of our model is."
   ]
  },
  {
   "cell_type": "code",
   "execution_count": 34,
   "metadata": {},
   "outputs": [
    {
     "data": {
      "text/plain": [
       "0.86008"
      ]
     },
     "execution_count": 34,
     "metadata": {},
     "output_type": "execute_result"
    }
   ],
   "source": [
    "from sklearn.metrics import accuracy_score\n",
    "accuracy_score(test_y, predictions)"
   ]
  },
  {
   "cell_type": "markdown",
   "metadata": {},
   "source": [
    "And the results here should agree with the model testing that we did earlier using the batch transform job.\n",
    "\n",
    "### Cleaning up\n",
    "\n",
    "Now that we've determined that deploying our model works as expected, we are going to shut it down. Remember that the longer the endpoint is left running, the greater the cost and since we have a bit more work to do before we are able to use our endpoint with our simple web app, we should shut everything down."
   ]
  },
  {
   "cell_type": "code",
   "execution_count": 35,
   "metadata": {},
   "outputs": [],
   "source": [
    "xgb_predictor.delete_endpoint()"
   ]
  },
  {
   "cell_type": "markdown",
   "metadata": {},
   "source": [
    "## Step 7: Putting our model to work\n",
    "\n",
    "As we've mentioned a few times now, our goal is to have our model deployed and then access it using a very simple web app. The intent is for this web app to take some user submitted data (a review), send it off to our endpoint (the model) and then display the result.\n",
    "\n",
    "However, there is a small catch. Currently the only way we can access the endpoint to send it data is using the SageMaker API. We can, if we wish, expose the actual URL that our model's endpoint is receiving data from, however, if we just send it data ourselves we will not get anything in return. This is because the endpoint created by SageMaker requires the entity accessing it have the correct permissions. So, we would need to somehow authenticate our web app with AWS.\n",
    "\n",
    "Having a website that authenticates to AWS seems a bit beyond the scope of this lesson so we will opt for an alternative approach. Namely, we will create a new endpoint which does not require authentication and which acts as a proxy for the SageMaker endpoint.\n",
    "\n",
    "As an additional constraint, we will try to avoid doing any data processing in the web app itself. Remember that when we constructed and tested our model we started with a movie review, then we simplified it by removing any html formatting and punctuation, then we constructed a bag of words embedding and the resulting vector is what we sent to our model. All of this needs to be done to our user input as well.\n",
    "\n",
    "Fortunately we can do all of this data processing in the backend, using Amazon's Lambda service.\n",
    "\n",
    "<img src=\"Web App Diagram.svg\">\n",
    "\n",
    "The diagram above gives an overview of how the various services will work together. On the far right is the model which we trained above and which will be deployed using SageMaker. On the far left is our web app that collects a user's movie review, sends it off and expects a positive or negative sentiment in return.\n",
    "\n",
    "In the middle is where some of the magic happens. We will construct a Lambda function, which you can think of as a straightforward Python function that can be executed whenever a specified event occurs. This Python function will do the data processing we need to perform on a user submitted review. In addition, we will give this function permission to send and recieve data from a SageMaker endpoint.\n",
    "\n",
    "Lastly, the method we will use to execute the Lambda function is a new endpoint that we will create using API Gateway. This endpoint will be a url that listens for data to be sent to it. Once it gets some data it will pass that data on to the Lambda function and then return whatever the Lambda function returns. Essentially it will act as an interface that lets our web app communicate with the Lambda function.\n",
    "\n",
    "### Processing a single review\n",
    "\n",
    "For now, suppose we are given a movie review by our user in the form of a string, like so:"
   ]
  },
  {
   "cell_type": "code",
   "execution_count": 36,
   "metadata": {},
   "outputs": [],
   "source": [
    "test_review = \"Nothing but a disgusting materialistic pageant of glistening abed remote control greed zombies, totally devoid of any heart or heat. A romantic comedy that has zero romantic chemestry and zero laughs!\""
   ]
  },
  {
   "cell_type": "markdown",
   "metadata": {},
   "source": [
    "How do we go from this string to the bag of words feature vector that is expected by our model?\n",
    "\n",
    "If we recall at the beginning of this notebook, the first step is to remove any unnecessary characters using the `review_to_words` method. Remember that we intentionally did this in a very simplistic way. This is because we are going to have to copy this method to our (eventual) Lambda function (we will go into more detail later) and this means it needs to be rather simplistic."
   ]
  },
  {
   "cell_type": "code",
   "execution_count": 37,
   "metadata": {},
   "outputs": [
    {
     "name": "stdout",
     "output_type": "stream",
     "text": [
      "nothing but a disgusting materialistic pageant of glistening abed remote control greed zombies totally devoid of any heart or heat a romantic comedy that has zero romantic chemestry and zero laughs\n"
     ]
    }
   ],
   "source": [
    "test_words = review_to_words(test_review)\n",
    "print(test_words)"
   ]
  },
  {
   "cell_type": "markdown",
   "metadata": {},
   "source": [
    "Next, we need to construct a bag of words embedding of the `test_words` string. To do this, remember that a bag of words embedding uses a `vocabulary` consisting of the most frequently appearing words in a set of documents. Then, for each word in the vocabulary we record the number of times that word appears in `test_words`. We constructed the `vocabulary` earlier using the training set for our problem so encoding `test_words` is relatively straightforward."
   ]
  },
  {
   "cell_type": "code",
   "execution_count": 38,
   "metadata": {},
   "outputs": [],
   "source": [
    "def bow_encoding(words, vocabulary):\n",
    "    bow = [0] * len(vocabulary) # Start by setting the count for each word in the vocabulary to zero.\n",
    "    for word in words.split():  # For each word in the string\n",
    "        if word in vocabulary:  # If the word is one that occurs in the vocabulary, increase its count.\n",
    "            bow[vocabulary[word]] += 1\n",
    "    return bow"
   ]
  },
  {
   "cell_type": "code",
   "execution_count": 39,
   "metadata": {},
   "outputs": [
    {
     "name": "stdout",
     "output_type": "stream",
     "text": [
      "[0, 0, 0, 0, 0, 0, 0, 0, 0, 0, 0, 0, 0, 0, 0, 0, 0, 0, 0, 0, 0, 0, 0, 0, 0, 0, 0, 0, 0, 0, 0, 0, 0, 0, 0, 0, 0, 0, 0, 0, 0, 0, 0, 0, 0, 0, 0, 0, 0, 0, 0, 0, 0, 0, 0, 0, 0, 0, 0, 0, 0, 0, 0, 0, 0, 0, 0, 0, 0, 0, 0, 0, 0, 0, 0, 0, 0, 0, 0, 0, 0, 0, 0, 0, 0, 0, 0, 0, 0, 0, 0, 0, 0, 0, 0, 0, 0, 0, 0, 0, 0, 0, 0, 0, 0, 0, 0, 0, 0, 0, 0, 0, 0, 0, 0, 0, 0, 0, 0, 0, 0, 0, 0, 0, 0, 0, 0, 0, 0, 0, 0, 0, 0, 0, 0, 0, 0, 0, 0, 0, 0, 0, 0, 0, 0, 0, 0, 0, 0, 0, 0, 0, 0, 0, 0, 0, 0, 0, 0, 0, 0, 0, 0, 0, 0, 0, 0, 0, 0, 0, 0, 0, 0, 0, 0, 0, 0, 0, 0, 0, 0, 0, 0, 0, 0, 0, 0, 0, 0, 0, 0, 0, 0, 0, 0, 0, 0, 0, 0, 0, 0, 0, 0, 0, 0, 0, 0, 0, 0, 0, 0, 0, 0, 0, 0, 0, 0, 0, 0, 0, 0, 0, 0, 0, 0, 0, 1, 0, 0, 0, 0, 0, 0, 0, 0, 0, 0, 0, 0, 0, 0, 0, 0, 0, 0, 0, 0, 0, 0, 0, 0, 0, 0, 0, 0, 0, 1, 0, 0, 0, 0, 0, 0, 0, 0, 0, 0, 0, 0, 0, 0, 0, 0, 0, 0, 0, 0, 0, 0, 0, 0, 0, 0, 0, 0, 0, 0, 0, 0, 0, 0, 0, 0, 0, 0, 0, 0, 0, 0, 0, 0, 0, 0, 0, 0, 0, 0, 0, 0, 0, 0, 0, 0, 0, 0, 0, 0, 0, 0, 0, 0, 0, 0, 0, 0, 0, 0, 0, 0, 0, 0, 0, 0, 0, 0, 0, 0, 0, 0, 0, 0, 0, 0, 0, 0, 0, 0, 0, 0, 0, 0, 0, 0, 0, 0, 0, 0, 0, 0, 0, 0, 0, 0, 0, 0, 0, 0, 0, 0, 0, 0, 0, 0, 0, 0, 0, 0, 0, 0, 0, 0, 0, 0, 0, 0, 0, 0, 0, 0, 0, 0, 0, 0, 0, 0, 0, 0, 0, 0, 0, 0, 0, 0, 0, 0, 0, 0, 0, 0, 0, 0, 0, 0, 0, 0, 0, 0, 0, 0, 0, 0, 0, 0, 0, 0, 0, 0, 0, 0, 0, 0, 0, 0, 0, 0, 0, 0, 0, 0, 0, 0, 0, 0, 0, 0, 0, 0, 0, 0, 0, 0, 0, 0, 0, 0, 0, 0, 0, 0, 0, 0, 0, 0, 0, 0, 0, 0, 0, 0, 0, 0, 0, 0, 0, 0, 0, 0, 0, 0, 0, 0, 0, 0, 0, 0, 0, 0, 0, 0, 0, 0, 0, 0, 0, 0, 0, 0, 0, 0, 0, 0, 0, 0, 0, 0, 0, 0, 0, 0, 0, 0, 0, 0, 0, 0, 0, 0, 0, 0, 0, 0, 0, 0, 0, 0, 0, 0, 0, 0, 0, 0, 0, 0, 0, 0, 0, 0, 0, 0, 0, 0, 0, 0, 0, 0, 0, 0, 0, 0, 0, 0, 0, 0, 0, 0, 0, 0, 0, 0, 0, 0, 0, 0, 0, 0, 0, 0, 0, 0, 0, 0, 0, 0, 0, 0, 0, 0, 0, 0, 0, 0, 0, 0, 0, 0, 0, 0, 0, 0, 0, 0, 0, 0, 0, 0, 0, 0, 0, 0, 0, 0, 0, 0, 0, 0, 0, 0, 0, 0, 0, 0, 0, 0, 0, 0, 0, 0, 0, 0, 0, 0, 0, 0, 0, 0, 0, 0, 0, 0, 0, 0, 0, 0, 0, 0, 0, 1, 0, 0, 0, 0, 0, 0, 0, 0, 0, 0, 0, 0, 0, 0, 0, 0, 0, 0, 0, 0, 0, 0, 0, 0, 0, 0, 0, 0, 0, 0, 0, 0, 0, 0, 0, 0, 0, 0, 0, 0, 0, 0, 0, 0, 0, 0, 0, 0, 0, 0, 0, 0, 0, 0, 0, 0, 0, 0, 0, 0, 0, 0, 0, 0, 0, 0, 0, 0, 0, 0, 0, 0, 0, 0, 0, 0, 0, 0, 0, 0, 0, 0, 0, 0, 0, 0, 0, 0, 0, 0, 0, 0, 0, 0, 0, 0, 0, 0, 0, 0, 0, 0, 0, 0, 0, 0, 0, 0, 0, 0, 0, 0, 0, 0, 0, 0, 0, 0, 0, 0, 0, 0, 0, 0, 0, 0, 0, 0, 0, 0, 0, 0, 0, 0, 0, 0, 0, 0, 0, 0, 0, 0, 0, 0, 0, 0, 0, 0, 0, 0, 0, 0, 0, 0, 0, 0, 0, 0, 0, 0, 0, 0, 0, 0, 0, 0, 0, 0, 0, 0, 0, 0, 0, 0, 0, 0, 0, 0, 0, 0, 0, 0, 0, 0, 0, 0, 0, 0, 0, 0, 0, 0, 0, 0, 0, 0, 0, 0, 0, 0, 0, 0, 0, 0, 0, 0, 0, 0, 0, 0, 0, 0, 0, 0, 0, 0, 0, 0, 0, 0, 0, 0, 0, 0, 0, 0, 0, 0, 0, 0, 0, 0, 0, 0, 0, 0, 0, 0, 0, 0, 0, 0, 0, 0, 0, 0, 0, 0, 0, 0, 0, 0, 0, 1, 0, 0, 0, 0, 0, 0, 0, 0, 0, 0, 0, 0, 0, 0, 0, 0, 0, 0, 0, 0, 0, 0, 0, 0, 0, 0, 0, 0, 0, 0, 0, 0, 0, 0, 0, 0, 0, 0, 0, 0, 0, 0, 0, 0, 0, 0, 0, 0, 0, 0, 0, 0, 0, 0, 0, 0, 0, 0, 0, 0, 0, 0, 0, 0, 0, 0, 0, 0, 0, 0, 0, 0, 0, 0, 0, 0, 0, 0, 0, 0, 0, 0, 0, 0, 0, 0, 1, 0, 0, 0, 0, 0, 0, 0, 0, 0, 0, 0, 0, 0, 0, 0, 0, 0, 0, 0, 0, 0, 0, 0, 0, 0, 0, 0, 0, 0, 0, 0, 0, 0, 0, 0, 0, 0, 0, 0, 0, 0, 0, 0, 0, 0, 0, 0, 0, 0, 0, 0, 0, 0, 0, 0, 0, 0, 0, 0, 0, 0, 0, 0, 0, 0, 0, 0, 0, 0, 0, 0, 0, 0, 0, 0, 0, 0, 0, 0, 0, 0, 0, 0, 0, 0, 0, 0, 0, 0, 0, 0, 0, 0, 0, 0, 0, 0, 0, 0, 0, 0, 0, 0, 0, 0, 0, 0, 0, 0, 0, 0, 0, 0, 0, 0, 0, 0, 0, 0, 0, 0, 0, 0, 0, 0, 0, 0, 0, 0, 0, 0, 0, 0, 0, 0, 0, 0, 0, 0, 0, 0, 0, 0, 0, 0, 0, 0, 0, 0, 0, 0, 0, 0, 0, 0, 0, 0, 0, 0, 0, 0, 0, 0, 0, 0, 0, 0, 0, 0, 0, 0, 0, 0, 0, 0, 0, 0, 0, 0, 0, 0, 0, 0, 0, 0, 0, 0, 0, 0, 0, 0, 0, 0, 0, 0, 0, 0, 0, 0, 0, 0, 0, 0, 0, 0, 0, 0, 0, 0, 0, 0, 0, 0, 0, 0, 0, 0, 0, 0, 0, 0, 0, 0, 0, 0, 0, 0, 0, 0, 0, 0, 0, 0, 0, 0, 0, 0, 0, 0, 0, 0, 0, 0, 0, 0, 0, 0, 0, 0, 0, 0, 0, 1, 0, 0, 0, 0, 0, 0, 0, 0, 0, 0, 0, 0, 0, 0, 0, 0, 0, 0, 0, 0, 0, 0, 0, 0, 0, 0, 0, 0, 0, 0, 0, 0, 0, 0, 0, 0, 0, 0, 0, 0, 0, 0, 0, 0, 0, 0, 0, 0, 0, 0, 0, 0, 0, 0, 0, 1, 0, 0, 0, 0, 0, 0, 0, 0, 0, 0, 0, 0, 0, 0, 0, 0, 0, 0, 0, 0, 0, 0, 0, 0, 0, 0, 0, 0, 0, 0, 0, 0, 0, 0, 0, 0, 0, 0, 0, 0, 0, 0, 0, 0, 0, 0, 0, 0, 0, 0, 0, 0, 0, 0, 0, 0, 0, 0, 0, 0, 0, 0, 0, 0, 0, 0, 0, 0, 0, 0, 0, 0, 0, 0, 0, 0, 0, 0, 0, 0, 0, 0, 0, 0, 0, 0, 0, 0, 0, 0, 0, 0, 0, 0, 0, 0, 0, 0, 0, 0, 0, 0, 0, 0, 0, 0, 0, 0, 0, 0, 0, 0, 0, 0, 0, 0, 0, 0, 0, 0, 0, 0, 0, 0, 0, 0, 0, 0, 0, 0, 0, 0, 0, 0, 0, 0, 0, 0, 0, 0, 0, 0, 0, 0, 0, 0, 0, 0, 0, 0, 0, 0, 0, 0, 0, 0, 0, 0, 0, 0, 0, 0, 0, 0, 0, 0, 0, 0, 0, 0, 0, 0, 0, 0, 0, 0, 0, 0, 0, 0, 0, 0, 0, 0, 0, 0, 0, 0, 0, 0, 0, 0, 0, 0, 0, 0, 0, 0, 0, 0, 0, 0, 0, 0, 0, 0, 0, 0, 0, 0, 0, 0, 0, 0, 0, 0, 0, 0, 0, 0, 0, 0, 0, 0, 0, 0, 0, 0, 0, 0, 0, 0, 0, 0, 0, 0, 0, 0, 0, 0, 0, 0, 0, 0, 0, 0, 0, 0, 0, 0, 0, 0, 0, 0, 0, 0, 0, 0, 0, 0, 0, 0, 0, 0, 0, 0, 0, 0, 0, 0, 0, 0, 0, 0, 0, 0, 0, 0, 0, 0, 0, 0, 0, 0, 0, 0, 0, 0, 0, 0, 0, 0, 0, 0, 0, 0, 0, 0, 0, 0, 0, 0, 0, 0, 0, 0, 0, 0, 0, 0, 0, 0, 0, 0, 0, 0, 0, 0, 0, 0, 0, 0, 0, 0, 0, 0, 0, 0, 0, 0, 0, 0, 0, 0, 0, 0, 0, 0, 0, 0, 0, 0, 0, 0, 0, 0, 0, 0, 0, 0, 0, 0, 0, 0, 0, 0, 0, 0, 0, 0, 0, 0, 0, 0, 0, 0, 0, 0, 0, 0, 0, 0, 0, 0, 0, 0, 0, 0, 0, 0, 0, 0, 0, 0, 0, 0, 0, 0, 0, 0, 0, 0, 0, 0, 0, 0, 0, 0, 0, 0, 0, 0, 0, 0, 0, 0, 0, 0, 0, 0, 0, 0, 0, 0, 0, 0, 0, 0, 0, 0, 0, 0, 0, 0, 0, 0, 0, 0, 0, 0, 0, 0, 0, 0, 0, 0, 0, 0, 0, 0, 0, 0, 0, 0, 0, 0, 0, 0, 0, 0, 0, 0, 0, 0, 0, 0, 0, 0, 0, 0, 0, 0, 0, 0, 0, 0, 0, 0, 0, 0, 0, 0, 0, 0, 0, 0, 0, 0, 0, 0, 0, 0, 0, 0, 0, 0, 0, 0, 0, 0, 0, 0, 0, 0, 0, 0, 0, 0, 0, 0, 0, 0, 0, 0, 0, 0, 0, 0, 0, 0, 0, 0, 0, 0, 0, 0, 0, 0, 0, 0, 0, 0, 0, 0, 0, 0, 0, 0, 0, 0, 0, 0, 0, 0, 0, 0, 0, 0, 0, 0, 0, 0, 0, 0, 0, 0, 0, 0, 0, 0, 0, 0, 0, 0, 0, 0, 0, 0, 0, 0, 0, 0, 0, 0, 0, 0, 0, 0, 0, 0, 0, 0, 0, 0, 0, 0, 0, 0, 0, 0, 0, 0, 0, 0, 0, 0, 0, 0, 0, 0, 0, 0, 0, 0, 0, 0, 0, 0, 0, 0, 0, 0, 0, 0, 0, 0, 0, 0, 0, 0, 0, 0, 0, 0, 0, 0, 0, 0, 0, 0, 0, 0, 0, 0, 0, 0, 0, 0, 0, 0, 0, 0, 0, 0, 0, 0, 0, 0, 0, 0, 0, 0, 0, 0, 0, 0, 0, 0, 0, 0, 0, 0, 0, 0, 0, 0, 0, 0, 0, 0, 0, 0, 0, 0, 0, 0, 0, 0, 0, 0, 0, 0, 0, 0, 0, 0, 0, 0, 0, 0, 0, 1, 0, 0, 0, 0, 0, 0, 0, 0, 0, 0, 0, 0, 0, 0, 0, 0, 0, 0, 0, 0, 0, 0, 0, 0, 0, 0, 0, 0, 0, 0, 0, 0, 0, 0, 0, 0, 0, 0, 0, 0, 0, 0, 0, 0, 0, 0, 0, 0, 0, 0, 0, 0, 0, 0, 0, 0, 0, 0, 0, 0, 0, 0, 0, 0, 0, 0, 0, 0, 0, 0, 0, 0, 0, 0, 1, 0, 0, 0, 0, 0, 0, 0, 0, 0, 0, 0, 0, 0, 0, 0, 0, 0, 0, 0, 0, 1, 0, 0, 1, 0, 0, 0, 0, 0, 0, 0, 0, 0, 0, 0, 0, 0, 0, 0, 0, 0, 0, 0, 0, 0, 0, 0, 0, 0, 0, 0, 0, 0, 0, 0, 0, 0, 0, 0, 0, 0, 0, 0, 0, 0, 0, 0, 0, 0, 0, 0, 0, 0, 0, 0, 0, 0, 0, 0, 0, 0, 0, 0, 0, 0, 0, 0, 0, 0, 0, 0, 0, 0, 0, 0, 0, 0, 0, 0, 0, 0, 0, 0, 0, 0, 0, 0, 0, 0, 0, 0, 0, 0, 0, 0, 0, 0, 0, 0, 0, 0, 0, 0, 0, 0, 0, 0, 0, 0, 0, 0, 0, 0, 0, 0, 0, 0, 0, 0, 0, 0, 0, 0, 0, 0, 0, 0, 0, 0, 0, 0, 0, 0, 0, 0, 0, 0, 0, 0, 0, 0, 0, 0, 0, 0, 0, 0, 0, 0, 0, 0, 0, 0, 0, 0, 0, 0, 0, 0, 0, 0, 0, 0, 0, 0, 0, 0, 0, 0, 0, 0, 0, 0, 0, 0, 0, 0, 0, 0, 0, 0, 0, 0, 0, 0, 0, 0, 0, 0, 0, 0, 0, 0, 0, 0, 0, 0, 0, 0, 0, 0, 0, 0, 0, 0, 0, 0, 0, 0, 0, 0, 0, 0, 0, 0, 0, 0, 0, 0, 0, 0, 0, 0, 0, 0, 0, 0, 0, 0, 0, 0, 0, 0, 0, 0, 0, 0, 0, 0, 0, 0, 0, 0, 0, 0, 0, 0, 0, 0, 0, 0, 0, 0, 0, 0, 0, 0, 0, 0, 0, 0, 0, 0, 0, 0, 0, 0, 0, 0, 0, 0, 0, 0, 0, 0, 0, 0, 0, 0, 0, 0, 0, 0, 0, 0, 0, 0, 0, 0, 0, 0, 0, 0, 0, 0, 0, 0, 0, 0, 0, 0, 0, 0, 0, 0, 0, 0, 0, 0, 0, 0, 0, 0, 0, 0, 0, 0, 0, 0, 0, 0, 0, 0, 0, 0, 0, 0, 0, 0, 0, 0, 0, 0, 0, 0, 0, 0, 0, 0, 0, 0, 0, 0, 0, 0, 0, 0, 0, 0, 0, 0, 0, 0, 0, 0, 0, 0, 0, 0, 0, 0, 0, 0, 0, 0, 0, 0, 0, 0, 0, 0, 0, 0, 0, 0, 0, 0, 0, 0, 0, 0, 0, 0, 0, 0, 0, 0, 0, 0, 0, 0, 0, 0, 0, 0, 0, 0, 0, 0, 0, 0, 0, 0, 0, 0, 0, 0, 0, 0, 0, 0, 0, 0, 0, 0, 0, 0, 0, 0, 0, 0, 0, 0, 0, 0, 0, 0, 0, 0, 0, 0, 0, 0, 0, 0, 0, 0, 0, 0, 0, 0, 0, 0, 0, 0, 0, 0, 0, 0, 0, 0, 0, 0, 0, 0, 0, 0, 0, 0, 0, 0, 0, 0, 0, 0, 0, 0, 0, 0, 0, 1, 0, 0, 0, 0, 0, 0, 0, 0, 0, 0, 0, 0, 0, 0, 0, 0, 0, 0, 0, 0, 0, 0, 0, 0, 0, 0, 0, 0, 0, 0, 0, 0, 0, 0, 0, 0, 0, 0, 0, 0, 0, 0, 0, 0, 0, 0, 0, 0, 0, 0, 0, 0, 0, 0, 0, 0, 0, 0, 0, 0, 0, 0, 0, 0, 0, 0, 0, 0, 0, 0, 0, 0, 0, 0, 0, 0, 0, 0, 0, 0, 0, 0, 0, 0, 0, 0, 0, 0, 0, 0, 0, 0, 0, 0, 0, 0, 0, 0, 0, 0, 0, 0, 0, 0, 0, 0, 0, 0, 0, 0, 0, 0, 0, 0, 0, 0, 0, 0, 0, 0, 0, 0, 0, 0, 0, 0, 0, 0, 0, 0, 0, 0, 0, 0, 0, 0, 0, 0, 0, 0, 0, 0, 0, 0, 0, 0, 0, 0, 0, 0, 0, 0, 0, 0, 0, 0, 0, 0, 0, 0, 0, 0, 0, 0, 0, 0, 0, 0, 0, 0, 0, 0, 0, 0, 0, 0, 0, 0, 0, 0, 0, 0, 0, 0, 0, 0, 0, 0, 0, 0, 0, 0, 0, 0, 0, 0, 0, 0, 0, 0, 0, 0, 0, 0, 0, 0, 0, 0, 0, 0, 0, 0, 0, 0, 0, 0, 0, 0, 0, 0, 0, 0, 0, 0, 0, 0, 0, 0, 0, 0, 0, 0, 0, 0, 0, 0, 0, 0, 0, 0, 0, 0, 0, 0, 0, 0, 0, 0, 0, 0, 0, 0, 0, 0, 0, 0, 0, 0, 0, 0, 0, 0, 0, 0, 0, 0, 0, 0, 0, 0, 0, 0, 0, 0, 0, 0, 0, 0, 0, 0, 0, 0, 0, 0, 0, 0, 0, 0, 0, 0, 0, 0, 0, 0, 0, 0, 0, 0, 0, 0, 0, 0, 0, 0, 0, 0, 0, 0, 0, 0, 0, 0, 0, 0, 0, 0, 0, 0, 0, 0, 0, 0, 0, 0, 0, 0, 0, 0, 0, 0, 0, 0, 0, 0, 0, 0, 0, 0, 0, 0, 0, 0, 0, 0, 0, 0, 0, 0, 0, 0, 0, 0, 0, 0, 0, 0, 0, 0, 0, 0, 0, 0, 0, 0, 0, 0, 0, 0, 0, 0, 0, 0, 0, 0, 0, 0, 0, 0, 0, 0, 0, 0, 0, 0, 0, 0, 0, 0, 0, 0, 0, 0, 0, 0, 0, 0, 0, 0, 0, 0, 0, 0, 0, 0, 0, 0, 0, 0, 0, 0, 0, 0, 0, 0, 0, 0, 0, 0, 0, 0, 0, 0, 0, 0, 0, 0, 0, 0, 0, 0, 0, 0, 0, 0, 0, 0, 0, 0, 0, 0, 0, 0, 0, 0, 0, 0, 0, 0, 0, 0, 0, 0, 0, 0, 0, 0, 0, 0, 0, 0, 0, 0, 0, 0, 0, 0, 0, 0, 0, 0, 0, 0, 0, 0, 0, 0, 0, 0, 0, 0, 0, 0, 0, 0, 0, 0, 0, 0, 0, 0, 0, 0, 0, 0, 0, 0, 0, 0, 0, 0, 0, 0, 0, 0, 0, 0, 0, 0, 0, 0, 0, 0, 1, 0, 0, 0, 0, 0, 0, 0, 0, 0, 0, 0, 0, 0, 0, 0, 0, 0, 0, 0, 0, 0, 0, 0, 0, 0, 0, 0, 0, 0, 0, 0, 0, 0, 0, 0, 2, 0, 0, 0, 0, 0, 0, 0, 0, 0, 0, 0, 0, 0, 0, 0, 0, 0, 0, 0, 0, 0, 0, 0, 0, 0, 0, 0, 0, 0, 0, 0, 0, 0, 0, 0, 0, 0, 0, 0, 0, 1, 0, 0, 0, 0, 0, 0, 0, 0, 0, 0, 0, 0, 0, 0, 0, 0, 0, 0, 0, 0, 0, 0, 0, 0, 0, 0, 0, 0, 0, 0, 0, 0, 0, 0, 0, 0, 0, 0, 0, 0, 0, 0, 0, 0, 0, 0, 0, 0, 0, 0, 0, 0, 0, 0, 0, 0, 0, 0, 0, 0, 0, 0, 0, 0, 0, 0, 0, 0, 0, 0, 0, 0, 0, 0, 0, 0, 0, 0, 0, 0, 0, 0, 0, 0, 0, 0, 0, 0, 0, 0, 0, 0, 0, 0, 0, 0, 0, 0, 0, 0, 0, 0, 0, 0, 0, 0, 0, 0, 0, 0, 0, 0, 0, 0, 0, 0, 0, 0, 0, 0, 0, 0, 0, 0, 0, 0, 0, 0, 0, 0, 0, 0, 0, 0, 0, 0, 0, 0, 0, 0, 0, 0, 0, 0, 0, 0, 0, 0, 0, 0, 0, 0, 0, 0, 0, 0, 0, 0, 0, 0, 0, 0, 0, 0, 0, 0, 0, 0, 0, 0, 0, 0, 0, 0, 0, 0, 0, 0, 0, 0, 0, 0, 0, 0, 0, 0, 0, 0, 0, 0, 0, 0, 0, 0, 0, 0, 0, 0, 0, 0, 0, 0, 0, 0, 0, 0, 0, 0, 0, 0, 0, 0, 0, 0, 0, 0, 0, 0, 0, 0, 0, 0, 0, 0, 0, 0, 0, 0, 0, 0, 0, 0, 0, 0, 0, 0, 0, 0, 0, 0, 0, 0, 0, 0, 0, 0, 0, 0, 0, 0, 0, 0, 0, 0, 0, 0, 0, 0, 0, 0, 0, 0, 0, 0, 0, 0, 0, 0, 0, 0, 0, 0, 0, 0, 0, 0, 0, 0, 0, 0, 0, 0, 0, 0, 0, 0, 0, 0, 0, 0, 0, 0, 0, 0, 0, 0, 0, 0, 0, 0, 0, 0, 0, 0, 0, 0, 0, 0, 0, 0, 0, 0, 0, 0, 0, 0, 0, 0, 0, 0, 0, 0, 0, 0, 0, 0, 0, 0, 0, 0, 0, 0, 0, 0, 0, 0, 0, 0, 0, 0, 0, 0, 0, 0, 0, 0, 0, 0, 0, 0, 0, 0, 0, 0, 0, 0, 0, 0, 0, 0, 0, 0, 0, 0, 0, 0, 0, 0, 0, 0, 0, 0, 0, 0, 0, 0, 0, 0, 0, 0, 0, 0, 0, 0, 0, 0, 0, 0, 0, 0, 0, 0, 0, 0, 0, 0, 0, 0, 0, 0, 0, 0, 0, 0, 0, 0, 0, 0, 0, 0, 0, 0, 0, 0, 0, 0, 0, 0, 0, 0, 0, 0, 0, 0, 0, 0, 0, 0, 0, 0, 0, 0, 0, 0, 0, 0, 0, 0, 0, 0, 0, 0, 0, 0, 0, 0, 0, 0, 0, 0, 0, 0, 0, 0, 0, 0, 0, 0, 0, 0, 0, 0, 0, 0, 0, 0, 0, 0, 0, 0, 0, 0, 0, 0, 0, 0, 0, 0, 0, 0, 0, 0, 0, 0, 0, 0, 0, 0, 0, 0, 0, 0, 0, 0, 0, 0, 0, 1, 0, 0, 0, 0, 0, 0, 0, 0, 0, 0, 0, 0, 0, 0, 0, 0, 0, 0, 0, 0, 0, 0, 0, 0, 0, 0, 0, 0, 0, 0, 0, 0, 0, 0, 0, 0, 0, 0, 0, 0, 0, 0, 0, 0, 0, 0, 0, 0, 0, 0, 0, 0, 0, 0, 0, 0, 0, 0, 0, 0, 0, 0, 0, 0, 0, 0, 0, 0, 0, 0, 0, 0, 0, 0, 0, 0, 0, 0, 0, 0, 0, 0, 0, 0, 0, 0, 0, 0, 0, 0, 0, 0, 0, 0, 0, 0, 0, 0, 0, 0, 0, 0, 0, 0, 0, 0, 0, 0, 0, 0, 2, 0, 0, 0, 0, 0, 0, 0, 0, 0, 0, 0, 0, 0, 0, 0, 0, 0, 0, 0, 0, 0, 0, 0, 0, 0, 0, 0, 0, 0, 0, 0, 0, 0, 0, 0, 0, 0, 0, 0, 0, 0, 0, 0, 0, 0, 0, 0, 0, 0, 0, 0, 0, 0, 0, 0, 0, 0, 0, 0, 0, 0, 0, 0, 0, 0, 0, 0, 0, 0, 0, 0, 0, 0, 0, 0, 0, 0, 0, 0, 0, 0, 0, 0, 0, 0, 0, 0, 0, 0, 0, 0, 0, 0, 0, 0, 0, 0, 0, 0, 0, 0, 0, 0, 0, 0, 0, 0, 0, 0, 0, 0, 0, 0, 0, 0, 0, 0, 0, 0, 0, 0, 0, 0, 0, 0, 0, 0, 0, 0, 0, 0, 0, 0, 0, 0, 0, 0, 0, 0, 0, 0, 0, 0, 0, 0, 0, 0, 0, 0, 0, 0, 0, 0, 0, 0, 0, 0, 0, 0, 0, 0, 0, 0, 0, 0, 0, 0, 0, 0, 0, 0, 0, 0, 0, 0, 0, 0, 0, 0, 0, 0, 0, 0, 0, 0, 0, 0, 0, 0, 0, 0, 0, 0, 0, 0, 0, 0, 0, 0, 0, 0, 0, 0, 0, 0, 0, 0, 0, 0, 0, 0, 0, 0, 0, 0, 0, 0, 0, 0, 0, 0, 0, 0, 0, 0, 0, 0, 0, 0, 0, 0, 0, 0, 0, 0, 0, 0, 0, 0, 0, 0, 0, 0, 0, 0, 0, 0, 0, 0, 0, 0, 0, 0, 0, 0, 0, 0, 0, 0, 0, 0, 0, 0, 0, 0, 0, 0, 0, 0, 0, 0, 0, 0, 0, 0, 0, 0, 0, 0, 0, 0, 0, 0, 0, 0, 0, 0, 0, 0, 0, 0, 0, 0, 0, 0, 0, 0, 0, 0, 0, 0, 0, 0, 0, 0, 0, 0, 0, 0, 0, 0, 0, 0, 0, 0, 0, 0, 0, 0, 0, 0, 0, 0, 0, 0, 0, 0, 0, 0, 0, 0, 0, 0, 0, 0, 0, 0, 0, 0, 0, 0, 0, 0, 0, 0, 0, 0, 0, 0, 0, 0, 0, 0, 0, 0, 0, 0, 0, 0, 0, 0, 0, 0, 0, 0, 0, 0, 0, 0, 0, 0, 0, 0, 0, 0, 0, 0, 0, 0, 0, 0, 0, 0, 0, 0, 0, 0, 0, 0, 0, 0, 0, 0, 0, 0, 0, 0, 0, 0, 0, 0, 0, 0, 0, 0, 0, 0, 0, 0, 0, 0, 0, 0, 0, 0, 0, 0, 0, 0, 0, 0, 0, 0, 0, 0, 0, 0, 0, 0, 0, 0, 0, 0, 0, 0, 0, 0, 0, 0, 0, 0, 0, 0, 0, 0, 0, 0, 0, 0, 0, 0, 0, 0, 0, 0, 0, 0, 0, 0, 0, 0, 0, 0, 0, 0, 0, 0, 0, 0, 0, 0, 0, 0, 0, 0, 0, 0, 0, 0, 0, 0, 0, 0, 0, 0, 0, 0, 0, 0, 0, 0, 0, 0, 0, 0, 0, 0, 0, 0, 0, 0, 0, 0, 0, 0, 0, 0, 0, 0, 0, 0, 0, 0, 0, 0, 0, 0, 0, 0, 0, 0, 0, 0, 0, 0, 0, 0, 0, 0, 0, 0, 0, 0, 0, 0, 0, 0, 0, 0, 0, 0, 0, 0, 0, 0, 0, 0, 0, 0, 0, 0, 0, 0, 0, 0, 0, 0, 0, 0, 0, 0, 0, 0, 0, 0, 0, 0, 0, 0, 0, 0, 0, 0, 0, 0, 0, 0, 0, 0, 0, 0, 0, 0, 0, 0, 0, 0, 0, 0, 0, 0, 0, 0, 0, 0, 0, 0, 0, 0, 0, 0, 0, 0, 0, 0, 0, 0, 0, 0, 0, 0, 0, 0, 0, 0, 0, 0, 0, 0, 0, 0, 0, 0, 0, 0, 0, 0, 0, 0, 0, 0, 0, 0, 0, 0, 0, 0, 0, 0, 0, 0, 0, 0, 0, 0, 0, 0, 0, 0, 0, 0, 0, 0, 0, 0, 0, 0, 0, 0, 0, 0, 0, 0, 0, 0, 0, 0, 0, 0, 0, 0, 0, 0, 0, 0, 0, 0, 0, 0, 0, 0, 0, 0, 0, 0, 0, 0, 0, 0, 0, 1, 0, 0, 0, 0, 0, 0, 0, 0, 0, 0, 0, 0, 0, 0, 0, 0, 0, 0, 0, 0, 0, 0, 0, 0, 0, 0, 0, 0, 0, 0, 0, 0, 0, 0, 0, 0, 0, 0, 0, 0, 0, 0, 0, 0, 0, 0, 0, 0, 0, 0, 0, 0, 0, 0, 0, 0, 0, 0, 0, 0, 0, 0, 0, 0, 0, 0, 0, 0, 0, 0, 0, 0, 0, 0, 0, 0, 0, 0, 0, 0, 0, 0, 0, 0, 0, 0, 0, 0, 0, 0, 0, 0, 0, 0, 0, 0, 0, 0, 0, 0, 0, 0, 0, 0, 0, 0, 0, 1, 0, 0, 0, 0, 0, 0, 0, 0, 0, 0, 0, 0, 0, 0, 0, 0, 0, 0, 0, 0, 0, 0, 0, 0, 0, 0, 0, 0, 0, 0, 0, 0, 0, 0, 0, 0, 0, 0, 0, 0, 0, 0, 0, 0, 0, 0, 0, 0, 0, 0, 0, 0, 0, 0, 0, 0, 0, 0, 0, 0, 0, 0, 0, 0, 0, 0, 0, 0, 0, 0, 0, 0, 0, 0, 0, 0, 0, 0, 0, 0, 0, 0, 0, 0, 0, 0, 0, 0, 0, 0, 0, 0, 0, 0, 0, 0, 0, 0, 0, 0, 0, 0, 0, 0, 0, 0, 0, 0, 0, 0, 0, 0, 0, 0, 0, 0, 0, 0, 0, 0, 0, 0, 0, 0, 0, 0, 0, 0, 0, 0, 0, 0, 0, 0, 0, 0, 0, 0, 0, 0, 0, 0, 0, 0, 0, 0, 0, 0, 0, 0, 0, 0, 0, 0, 0, 0, 0, 0, 0, 0, 0, 0, 0, 0, 0, 0, 0, 0, 0, 0, 0, 0, 0, 0, 0, 0, 0, 0, 0, 0, 0, 0, 0, 0, 0, 0, 0, 0, 0, 0, 0, 0, 0, 0, 0, 0, 0, 0, 0, 0, 0, 0, 0, 0, 0, 0, 0, 0, 0, 0, 0, 0, 0, 0, 0, 0, 0, 0, 0, 0, 0, 0, 0, 0, 0, 0, 0, 0, 0, 0, 0, 0, 0, 0, 0, 0, 0, 0, 0, 0, 0, 0, 0, 0, 0, 0, 0, 0, 0, 0, 0, 0, 0, 0, 0, 0, 0, 0, 0, 0, 0, 0, 0, 0, 0, 0, 0, 0, 0, 0, 0, 0, 0, 0, 0, 0, 0, 0, 0, 0, 0, 0, 0, 0, 0, 0, 0, 0, 0, 0, 0, 0, 0, 0, 0, 0, 0, 0, 0, 0, 0, 0, 0, 0, 0, 0, 0, 0, 0, 0, 0, 0, 0, 0, 0, 0, 0, 0, 0, 0, 0, 0, 0, 0, 0, 0, 0, 0, 0, 0, 0, 0, 0, 0, 0, 0, 0, 0, 0, 0, 0, 0, 0, 0, 0, 0, 0, 0, 0, 0, 0, 0, 0, 0, 0, 0, 0, 0, 0, 0, 0, 0, 0, 0, 0, 0, 0, 0, 0, 0, 0, 0, 0, 0, 0, 0, 0, 0, 0, 0, 0, 0, 0, 0, 0, 0, 0, 0, 0, 0, 0, 0, 0, 0, 0, 0, 0, 0, 0, 0, 0, 0, 0, 0, 0, 0, 0, 0, 0, 0, 0, 0, 0, 0, 0, 0, 0, 0, 0, 0, 0, 0, 0, 0, 0, 0, 0, 0, 0, 0, 0, 0, 0, 0, 0, 0, 0, 0, 0, 0, 0, 0, 0, 0, 0, 0, 0, 0, 0, 0, 0, 0, 0, 0, 0, 0, 0, 0, 0, 0, 0, 0, 0, 2, 0, 1, 0]\n"
     ]
    }
   ],
   "source": [
    "test_bow = bow_encoding(test_words, vocabulary)\n",
    "print(test_bow)"
   ]
  },
  {
   "cell_type": "code",
   "execution_count": 40,
   "metadata": {},
   "outputs": [
    {
     "data": {
      "text/plain": [
       "5000"
      ]
     },
     "execution_count": 40,
     "metadata": {},
     "output_type": "execute_result"
    }
   ],
   "source": [
    "len(test_bow)"
   ]
  },
  {
   "cell_type": "markdown",
   "metadata": {},
   "source": [
    "So now we know how to construct a bag of words encoding of a user provided review, how to we send it to our endpoint? First, we need to start the endpoint back up."
   ]
  },
  {
   "cell_type": "code",
   "execution_count": 41,
   "metadata": {},
   "outputs": [
    {
     "name": "stderr",
     "output_type": "stream",
     "text": [
      "Parameter image will be renamed to image_uri in SageMaker Python SDK v2.\n",
      "Using already existing model: xgboost-2020-07-28-12-57-01-818\n"
     ]
    },
    {
     "name": "stdout",
     "output_type": "stream",
     "text": [
      "---------------!"
     ]
    }
   ],
   "source": [
    "xgb_predictor = xgb.deploy(initial_instance_count = 1, instance_type = 'ml.m4.xlarge')"
   ]
  },
  {
   "cell_type": "markdown",
   "metadata": {},
   "source": [
    "At this point we could just do the same thing that we did earlier when we tested our deployed model and send `test_bow` to our endpoint using the `xgb_predictor` object. However, when we eventually construct our Lambda function we won't have access to this object, so how do we call a SageMaker endpoint?\n",
    "\n",
    "It turns out that Python functions that are used in Lambda have access to another Amazon library called `boto3`. This library provides an API for working with Amazon services, including SageMaker. To start with, we need to get a handle to the SageMaker runtime."
   ]
  },
  {
   "cell_type": "code",
   "execution_count": 42,
   "metadata": {},
   "outputs": [],
   "source": [
    "import boto3\n",
    "\n",
    "runtime = boto3.Session().client('sagemaker-runtime')"
   ]
  },
  {
   "cell_type": "markdown",
   "metadata": {},
   "source": [
    "And now that we have access to the SageMaker runtime, we can ask it to make use of (invoke) an endpoint that has already been created. However, we need to provide SageMaker with the name of the deployed endpoint. To find this out we can print it out using the `xgb_predictor` object."
   ]
  },
  {
   "cell_type": "code",
   "execution_count": 43,
   "metadata": {},
   "outputs": [
    {
     "data": {
      "text/plain": [
       "'xgboost-2020-07-28-12-57-01-818'"
      ]
     },
     "execution_count": 43,
     "metadata": {},
     "output_type": "execute_result"
    }
   ],
   "source": [
    "xgb_predictor.endpoint"
   ]
  },
  {
   "cell_type": "markdown",
   "metadata": {},
   "source": [
    "Using the SageMaker runtime and the name of our endpoint, we can invoke the endpoint and send it the `test_bow` data."
   ]
  },
  {
   "cell_type": "code",
   "execution_count": 44,
   "metadata": {},
   "outputs": [
    {
     "ename": "ParamValidationError",
     "evalue": "Parameter validation failed:\nInvalid type for parameter Body, value: [0, 0, 0, 0, 0, 0, 0, 0, 0, 0, 0, 0, 0, 0, 0, 0, 0, 0, 0, 0, 0, 0, 0, 0, 0, 0, 0, 0, 0, 0, 0, 0, 0, 0, 0, 0, 0, 0, 0, 0, 0, 0, 0, 0, 0, 0, 0, 0, 0, 0, 0, 0, 0, 0, 0, 0, 0, 0, 0, 0, 0, 0, 0, 0, 0, 0, 0, 0, 0, 0, 0, 0, 0, 0, 0, 0, 0, 0, 0, 0, 0, 0, 0, 0, 0, 0, 0, 0, 0, 0, 0, 0, 0, 0, 0, 0, 0, 0, 0, 0, 0, 0, 0, 0, 0, 0, 0, 0, 0, 0, 0, 0, 0, 0, 0, 0, 0, 0, 0, 0, 0, 0, 0, 0, 0, 0, 0, 0, 0, 0, 0, 0, 0, 0, 0, 0, 0, 0, 0, 0, 0, 0, 0, 0, 0, 0, 0, 0, 0, 0, 0, 0, 0, 0, 0, 0, 0, 0, 0, 0, 0, 0, 0, 0, 0, 0, 0, 0, 0, 0, 0, 0, 0, 0, 0, 0, 0, 0, 0, 0, 0, 0, 0, 0, 0, 0, 0, 0, 0, 0, 0, 0, 0, 0, 0, 0, 0, 0, 0, 0, 0, 0, 0, 0, 0, 0, 0, 0, 0, 0, 0, 0, 0, 0, 0, 0, 0, 0, 0, 0, 0, 0, 0, 0, 0, 0, 1, 0, 0, 0, 0, 0, 0, 0, 0, 0, 0, 0, 0, 0, 0, 0, 0, 0, 0, 0, 0, 0, 0, 0, 0, 0, 0, 0, 0, 0, 1, 0, 0, 0, 0, 0, 0, 0, 0, 0, 0, 0, 0, 0, 0, 0, 0, 0, 0, 0, 0, 0, 0, 0, 0, 0, 0, 0, 0, 0, 0, 0, 0, 0, 0, 0, 0, 0, 0, 0, 0, 0, 0, 0, 0, 0, 0, 0, 0, 0, 0, 0, 0, 0, 0, 0, 0, 0, 0, 0, 0, 0, 0, 0, 0, 0, 0, 0, 0, 0, 0, 0, 0, 0, 0, 0, 0, 0, 0, 0, 0, 0, 0, 0, 0, 0, 0, 0, 0, 0, 0, 0, 0, 0, 0, 0, 0, 0, 0, 0, 0, 0, 0, 0, 0, 0, 0, 0, 0, 0, 0, 0, 0, 0, 0, 0, 0, 0, 0, 0, 0, 0, 0, 0, 0, 0, 0, 0, 0, 0, 0, 0, 0, 0, 0, 0, 0, 0, 0, 0, 0, 0, 0, 0, 0, 0, 0, 0, 0, 0, 0, 0, 0, 0, 0, 0, 0, 0, 0, 0, 0, 0, 0, 0, 0, 0, 0, 0, 0, 0, 0, 0, 0, 0, 0, 0, 0, 0, 0, 0, 0, 0, 0, 0, 0, 0, 0, 0, 0, 0, 0, 0, 0, 0, 0, 0, 0, 0, 0, 0, 0, 0, 0, 0, 0, 0, 0, 0, 0, 0, 0, 0, 0, 0, 0, 0, 0, 0, 0, 0, 0, 0, 0, 0, 0, 0, 0, 0, 0, 0, 0, 0, 0, 0, 0, 0, 0, 0, 0, 0, 0, 0, 0, 0, 0, 0, 0, 0, 0, 0, 0, 0, 0, 0, 0, 0, 0, 0, 0, 0, 0, 0, 0, 0, 0, 0, 0, 0, 0, 0, 0, 0, 0, 0, 0, 0, 0, 0, 0, 0, 0, 0, 0, 0, 0, 0, 0, 0, 0, 0, 0, 0, 0, 0, 0, 0, 0, 0, 0, 0, 0, 0, 0, 0, 0, 0, 0, 0, 0, 0, 0, 0, 0, 0, 0, 0, 0, 0, 0, 0, 0, 0, 0, 0, 0, 0, 0, 0, 0, 0, 0, 0, 0, 0, 0, 0, 0, 0, 0, 0, 0, 0, 0, 0, 0, 0, 0, 0, 0, 0, 0, 0, 0, 0, 0, 0, 0, 0, 0, 0, 0, 0, 0, 0, 0, 0, 0, 0, 0, 0, 0, 0, 0, 0, 0, 0, 0, 0, 0, 0, 1, 0, 0, 0, 0, 0, 0, 0, 0, 0, 0, 0, 0, 0, 0, 0, 0, 0, 0, 0, 0, 0, 0, 0, 0, 0, 0, 0, 0, 0, 0, 0, 0, 0, 0, 0, 0, 0, 0, 0, 0, 0, 0, 0, 0, 0, 0, 0, 0, 0, 0, 0, 0, 0, 0, 0, 0, 0, 0, 0, 0, 0, 0, 0, 0, 0, 0, 0, 0, 0, 0, 0, 0, 0, 0, 0, 0, 0, 0, 0, 0, 0, 0, 0, 0, 0, 0, 0, 0, 0, 0, 0, 0, 0, 0, 0, 0, 0, 0, 0, 0, 0, 0, 0, 0, 0, 0, 0, 0, 0, 0, 0, 0, 0, 0, 0, 0, 0, 0, 0, 0, 0, 0, 0, 0, 0, 0, 0, 0, 0, 0, 0, 0, 0, 0, 0, 0, 0, 0, 0, 0, 0, 0, 0, 0, 0, 0, 0, 0, 0, 0, 0, 0, 0, 0, 0, 0, 0, 0, 0, 0, 0, 0, 0, 0, 0, 0, 0, 0, 0, 0, 0, 0, 0, 0, 0, 0, 0, 0, 0, 0, 0, 0, 0, 0, 0, 0, 0, 0, 0, 0, 0, 0, 0, 0, 0, 0, 0, 0, 0, 0, 0, 0, 0, 0, 0, 0, 0, 0, 0, 0, 0, 0, 0, 0, 0, 0, 0, 0, 0, 0, 0, 0, 0, 0, 0, 0, 0, 0, 0, 0, 0, 0, 0, 0, 0, 0, 0, 0, 0, 0, 0, 0, 0, 0, 0, 0, 0, 0, 0, 0, 0, 0, 0, 1, 0, 0, 0, 0, 0, 0, 0, 0, 0, 0, 0, 0, 0, 0, 0, 0, 0, 0, 0, 0, 0, 0, 0, 0, 0, 0, 0, 0, 0, 0, 0, 0, 0, 0, 0, 0, 0, 0, 0, 0, 0, 0, 0, 0, 0, 0, 0, 0, 0, 0, 0, 0, 0, 0, 0, 0, 0, 0, 0, 0, 0, 0, 0, 0, 0, 0, 0, 0, 0, 0, 0, 0, 0, 0, 0, 0, 0, 0, 0, 0, 0, 0, 0, 0, 0, 0, 1, 0, 0, 0, 0, 0, 0, 0, 0, 0, 0, 0, 0, 0, 0, 0, 0, 0, 0, 0, 0, 0, 0, 0, 0, 0, 0, 0, 0, 0, 0, 0, 0, 0, 0, 0, 0, 0, 0, 0, 0, 0, 0, 0, 0, 0, 0, 0, 0, 0, 0, 0, 0, 0, 0, 0, 0, 0, 0, 0, 0, 0, 0, 0, 0, 0, 0, 0, 0, 0, 0, 0, 0, 0, 0, 0, 0, 0, 0, 0, 0, 0, 0, 0, 0, 0, 0, 0, 0, 0, 0, 0, 0, 0, 0, 0, 0, 0, 0, 0, 0, 0, 0, 0, 0, 0, 0, 0, 0, 0, 0, 0, 0, 0, 0, 0, 0, 0, 0, 0, 0, 0, 0, 0, 0, 0, 0, 0, 0, 0, 0, 0, 0, 0, 0, 0, 0, 0, 0, 0, 0, 0, 0, 0, 0, 0, 0, 0, 0, 0, 0, 0, 0, 0, 0, 0, 0, 0, 0, 0, 0, 0, 0, 0, 0, 0, 0, 0, 0, 0, 0, 0, 0, 0, 0, 0, 0, 0, 0, 0, 0, 0, 0, 0, 0, 0, 0, 0, 0, 0, 0, 0, 0, 0, 0, 0, 0, 0, 0, 0, 0, 0, 0, 0, 0, 0, 0, 0, 0, 0, 0, 0, 0, 0, 0, 0, 0, 0, 0, 0, 0, 0, 0, 0, 0, 0, 0, 0, 0, 0, 0, 0, 0, 0, 0, 0, 0, 0, 0, 0, 0, 0, 0, 0, 0, 0, 0, 0, 0, 0, 0, 0, 0, 1, 0, 0, 0, 0, 0, 0, 0, 0, 0, 0, 0, 0, 0, 0, 0, 0, 0, 0, 0, 0, 0, 0, 0, 0, 0, 0, 0, 0, 0, 0, 0, 0, 0, 0, 0, 0, 0, 0, 0, 0, 0, 0, 0, 0, 0, 0, 0, 0, 0, 0, 0, 0, 0, 0, 0, 1, 0, 0, 0, 0, 0, 0, 0, 0, 0, 0, 0, 0, 0, 0, 0, 0, 0, 0, 0, 0, 0, 0, 0, 0, 0, 0, 0, 0, 0, 0, 0, 0, 0, 0, 0, 0, 0, 0, 0, 0, 0, 0, 0, 0, 0, 0, 0, 0, 0, 0, 0, 0, 0, 0, 0, 0, 0, 0, 0, 0, 0, 0, 0, 0, 0, 0, 0, 0, 0, 0, 0, 0, 0, 0, 0, 0, 0, 0, 0, 0, 0, 0, 0, 0, 0, 0, 0, 0, 0, 0, 0, 0, 0, 0, 0, 0, 0, 0, 0, 0, 0, 0, 0, 0, 0, 0, 0, 0, 0, 0, 0, 0, 0, 0, 0, 0, 0, 0, 0, 0, 0, 0, 0, 0, 0, 0, 0, 0, 0, 0, 0, 0, 0, 0, 0, 0, 0, 0, 0, 0, 0, 0, 0, 0, 0, 0, 0, 0, 0, 0, 0, 0, 0, 0, 0, 0, 0, 0, 0, 0, 0, 0, 0, 0, 0, 0, 0, 0, 0, 0, 0, 0, 0, 0, 0, 0, 0, 0, 0, 0, 0, 0, 0, 0, 0, 0, 0, 0, 0, 0, 0, 0, 0, 0, 0, 0, 0, 0, 0, 0, 0, 0, 0, 0, 0, 0, 0, 0, 0, 0, 0, 0, 0, 0, 0, 0, 0, 0, 0, 0, 0, 0, 0, 0, 0, 0, 0, 0, 0, 0, 0, 0, 0, 0, 0, 0, 0, 0, 0, 0, 0, 0, 0, 0, 0, 0, 0, 0, 0, 0, 0, 0, 0, 0, 0, 0, 0, 0, 0, 0, 0, 0, 0, 0, 0, 0, 0, 0, 0, 0, 0, 0, 0, 0, 0, 0, 0, 0, 0, 0, 0, 0, 0, 0, 0, 0, 0, 0, 0, 0, 0, 0, 0, 0, 0, 0, 0, 0, 0, 0, 0, 0, 0, 0, 0, 0, 0, 0, 0, 0, 0, 0, 0, 0, 0, 0, 0, 0, 0, 0, 0, 0, 0, 0, 0, 0, 0, 0, 0, 0, 0, 0, 0, 0, 0, 0, 0, 0, 0, 0, 0, 0, 0, 0, 0, 0, 0, 0, 0, 0, 0, 0, 0, 0, 0, 0, 0, 0, 0, 0, 0, 0, 0, 0, 0, 0, 0, 0, 0, 0, 0, 0, 0, 0, 0, 0, 0, 0, 0, 0, 0, 0, 0, 0, 0, 0, 0, 0, 0, 0, 0, 0, 0, 0, 0, 0, 0, 0, 0, 0, 0, 0, 0, 0, 0, 0, 0, 0, 0, 0, 0, 0, 0, 0, 0, 0, 0, 0, 0, 0, 0, 0, 0, 0, 0, 0, 0, 0, 0, 0, 0, 0, 0, 0, 0, 0, 0, 0, 0, 0, 0, 0, 0, 0, 0, 0, 0, 0, 0, 0, 0, 0, 0, 0, 0, 0, 0, 0, 0, 0, 0, 0, 0, 0, 0, 0, 0, 0, 0, 0, 0, 0, 0, 0, 0, 0, 0, 0, 0, 0, 0, 0, 0, 0, 0, 0, 0, 0, 0, 0, 0, 0, 0, 0, 0, 0, 0, 0, 0, 0, 0, 0, 0, 0, 0, 0, 0, 0, 0, 0, 0, 0, 0, 0, 0, 0, 0, 0, 0, 0, 0, 0, 0, 0, 0, 0, 0, 0, 0, 0, 0, 0, 0, 0, 0, 0, 0, 0, 0, 0, 0, 0, 0, 0, 0, 0, 0, 0, 0, 0, 0, 0, 0, 0, 0, 0, 0, 0, 0, 0, 0, 0, 0, 0, 0, 0, 0, 0, 0, 0, 0, 0, 0, 0, 0, 0, 0, 0, 0, 0, 0, 0, 0, 0, 0, 0, 0, 0, 0, 0, 0, 0, 0, 0, 0, 0, 0, 0, 0, 0, 0, 0, 0, 0, 0, 0, 0, 0, 0, 0, 0, 0, 0, 0, 0, 0, 0, 0, 0, 0, 0, 0, 0, 0, 0, 0, 0, 0, 0, 0, 0, 0, 0, 0, 0, 0, 0, 0, 0, 0, 0, 0, 0, 0, 0, 0, 0, 0, 0, 0, 0, 0, 0, 0, 0, 0, 0, 0, 0, 0, 0, 0, 0, 0, 0, 0, 0, 0, 0, 0, 0, 0, 0, 0, 0, 0, 0, 0, 0, 0, 0, 1, 0, 0, 0, 0, 0, 0, 0, 0, 0, 0, 0, 0, 0, 0, 0, 0, 0, 0, 0, 0, 0, 0, 0, 0, 0, 0, 0, 0, 0, 0, 0, 0, 0, 0, 0, 0, 0, 0, 0, 0, 0, 0, 0, 0, 0, 0, 0, 0, 0, 0, 0, 0, 0, 0, 0, 0, 0, 0, 0, 0, 0, 0, 0, 0, 0, 0, 0, 0, 0, 0, 0, 0, 0, 0, 1, 0, 0, 0, 0, 0, 0, 0, 0, 0, 0, 0, 0, 0, 0, 0, 0, 0, 0, 0, 0, 1, 0, 0, 1, 0, 0, 0, 0, 0, 0, 0, 0, 0, 0, 0, 0, 0, 0, 0, 0, 0, 0, 0, 0, 0, 0, 0, 0, 0, 0, 0, 0, 0, 0, 0, 0, 0, 0, 0, 0, 0, 0, 0, 0, 0, 0, 0, 0, 0, 0, 0, 0, 0, 0, 0, 0, 0, 0, 0, 0, 0, 0, 0, 0, 0, 0, 0, 0, 0, 0, 0, 0, 0, 0, 0, 0, 0, 0, 0, 0, 0, 0, 0, 0, 0, 0, 0, 0, 0, 0, 0, 0, 0, 0, 0, 0, 0, 0, 0, 0, 0, 0, 0, 0, 0, 0, 0, 0, 0, 0, 0, 0, 0, 0, 0, 0, 0, 0, 0, 0, 0, 0, 0, 0, 0, 0, 0, 0, 0, 0, 0, 0, 0, 0, 0, 0, 0, 0, 0, 0, 0, 0, 0, 0, 0, 0, 0, 0, 0, 0, 0, 0, 0, 0, 0, 0, 0, 0, 0, 0, 0, 0, 0, 0, 0, 0, 0, 0, 0, 0, 0, 0, 0, 0, 0, 0, 0, 0, 0, 0, 0, 0, 0, 0, 0, 0, 0, 0, 0, 0, 0, 0, 0, 0, 0, 0, 0, 0, 0, 0, 0, 0, 0, 0, 0, 0, 0, 0, 0, 0, 0, 0, 0, 0, 0, 0, 0, 0, 0, 0, 0, 0, 0, 0, 0, 0, 0, 0, 0, 0, 0, 0, 0, 0, 0, 0, 0, 0, 0, 0, 0, 0, 0, 0, 0, 0, 0, 0, 0, 0, 0, 0, 0, 0, 0, 0, 0, 0, 0, 0, 0, 0, 0, 0, 0, 0, 0, 0, 0, 0, 0, 0, 0, 0, 0, 0, 0, 0, 0, 0, 0, 0, 0, 0, 0, 0, 0, 0, 0, 0, 0, 0, 0, 0, 0, 0, 0, 0, 0, 0, 0, 0, 0, 0, 0, 0, 0, 0, 0, 0, 0, 0, 0, 0, 0, 0, 0, 0, 0, 0, 0, 0, 0, 0, 0, 0, 0, 0, 0, 0, 0, 0, 0, 0, 0, 0, 0, 0, 0, 0, 0, 0, 0, 0, 0, 0, 0, 0, 0, 0, 0, 0, 0, 0, 0, 0, 0, 0, 0, 0, 0, 0, 0, 0, 0, 0, 0, 0, 0, 0, 0, 0, 0, 0, 0, 0, 0, 0, 0, 0, 0, 0, 0, 0, 0, 0, 0, 0, 0, 0, 0, 0, 0, 0, 0, 0, 0, 0, 0, 0, 0, 0, 0, 0, 0, 0, 0, 0, 0, 0, 0, 0, 0, 0, 0, 0, 0, 0, 0, 0, 0, 0, 0, 0, 0, 0, 0, 0, 0, 0, 0, 0, 0, 0, 0, 0, 0, 0, 0, 0, 0, 0, 0, 0, 0, 0, 0, 0, 0, 0, 0, 0, 0, 0, 0, 0, 0, 0, 0, 0, 0, 0, 0, 0, 0, 0, 0, 0, 0, 0, 1, 0, 0, 0, 0, 0, 0, 0, 0, 0, 0, 0, 0, 0, 0, 0, 0, 0, 0, 0, 0, 0, 0, 0, 0, 0, 0, 0, 0, 0, 0, 0, 0, 0, 0, 0, 0, 0, 0, 0, 0, 0, 0, 0, 0, 0, 0, 0, 0, 0, 0, 0, 0, 0, 0, 0, 0, 0, 0, 0, 0, 0, 0, 0, 0, 0, 0, 0, 0, 0, 0, 0, 0, 0, 0, 0, 0, 0, 0, 0, 0, 0, 0, 0, 0, 0, 0, 0, 0, 0, 0, 0, 0, 0, 0, 0, 0, 0, 0, 0, 0, 0, 0, 0, 0, 0, 0, 0, 0, 0, 0, 0, 0, 0, 0, 0, 0, 0, 0, 0, 0, 0, 0, 0, 0, 0, 0, 0, 0, 0, 0, 0, 0, 0, 0, 0, 0, 0, 0, 0, 0, 0, 0, 0, 0, 0, 0, 0, 0, 0, 0, 0, 0, 0, 0, 0, 0, 0, 0, 0, 0, 0, 0, 0, 0, 0, 0, 0, 0, 0, 0, 0, 0, 0, 0, 0, 0, 0, 0, 0, 0, 0, 0, 0, 0, 0, 0, 0, 0, 0, 0, 0, 0, 0, 0, 0, 0, 0, 0, 0, 0, 0, 0, 0, 0, 0, 0, 0, 0, 0, 0, 0, 0, 0, 0, 0, 0, 0, 0, 0, 0, 0, 0, 0, 0, 0, 0, 0, 0, 0, 0, 0, 0, 0, 0, 0, 0, 0, 0, 0, 0, 0, 0, 0, 0, 0, 0, 0, 0, 0, 0, 0, 0, 0, 0, 0, 0, 0, 0, 0, 0, 0, 0, 0, 0, 0, 0, 0, 0, 0, 0, 0, 0, 0, 0, 0, 0, 0, 0, 0, 0, 0, 0, 0, 0, 0, 0, 0, 0, 0, 0, 0, 0, 0, 0, 0, 0, 0, 0, 0, 0, 0, 0, 0, 0, 0, 0, 0, 0, 0, 0, 0, 0, 0, 0, 0, 0, 0, 0, 0, 0, 0, 0, 0, 0, 0, 0, 0, 0, 0, 0, 0, 0, 0, 0, 0, 0, 0, 0, 0, 0, 0, 0, 0, 0, 0, 0, 0, 0, 0, 0, 0, 0, 0, 0, 0, 0, 0, 0, 0, 0, 0, 0, 0, 0, 0, 0, 0, 0, 0, 0, 0, 0, 0, 0, 0, 0, 0, 0, 0, 0, 0, 0, 0, 0, 0, 0, 0, 0, 0, 0, 0, 0, 0, 0, 0, 0, 0, 0, 0, 0, 0, 0, 0, 0, 0, 0, 0, 0, 0, 0, 0, 0, 0, 0, 0, 0, 0, 0, 0, 0, 0, 0, 0, 0, 0, 0, 0, 0, 0, 0, 0, 0, 0, 0, 0, 0, 0, 0, 0, 0, 0, 0, 0, 0, 0, 0, 0, 0, 0, 0, 0, 0, 0, 0, 0, 0, 0, 0, 0, 0, 0, 0, 0, 0, 0, 0, 0, 0, 0, 0, 0, 0, 0, 0, 0, 0, 0, 0, 0, 0, 0, 0, 0, 0, 0, 0, 0, 0, 0, 0, 0, 0, 0, 0, 0, 0, 0, 0, 0, 0, 0, 0, 0, 0, 0, 0, 0, 0, 0, 0, 0, 0, 1, 0, 0, 0, 0, 0, 0, 0, 0, 0, 0, 0, 0, 0, 0, 0, 0, 0, 0, 0, 0, 0, 0, 0, 0, 0, 0, 0, 0, 0, 0, 0, 0, 0, 0, 0, 2, 0, 0, 0, 0, 0, 0, 0, 0, 0, 0, 0, 0, 0, 0, 0, 0, 0, 0, 0, 0, 0, 0, 0, 0, 0, 0, 0, 0, 0, 0, 0, 0, 0, 0, 0, 0, 0, 0, 0, 0, 1, 0, 0, 0, 0, 0, 0, 0, 0, 0, 0, 0, 0, 0, 0, 0, 0, 0, 0, 0, 0, 0, 0, 0, 0, 0, 0, 0, 0, 0, 0, 0, 0, 0, 0, 0, 0, 0, 0, 0, 0, 0, 0, 0, 0, 0, 0, 0, 0, 0, 0, 0, 0, 0, 0, 0, 0, 0, 0, 0, 0, 0, 0, 0, 0, 0, 0, 0, 0, 0, 0, 0, 0, 0, 0, 0, 0, 0, 0, 0, 0, 0, 0, 0, 0, 0, 0, 0, 0, 0, 0, 0, 0, 0, 0, 0, 0, 0, 0, 0, 0, 0, 0, 0, 0, 0, 0, 0, 0, 0, 0, 0, 0, 0, 0, 0, 0, 0, 0, 0, 0, 0, 0, 0, 0, 0, 0, 0, 0, 0, 0, 0, 0, 0, 0, 0, 0, 0, 0, 0, 0, 0, 0, 0, 0, 0, 0, 0, 0, 0, 0, 0, 0, 0, 0, 0, 0, 0, 0, 0, 0, 0, 0, 0, 0, 0, 0, 0, 0, 0, 0, 0, 0, 0, 0, 0, 0, 0, 0, 0, 0, 0, 0, 0, 0, 0, 0, 0, 0, 0, 0, 0, 0, 0, 0, 0, 0, 0, 0, 0, 0, 0, 0, 0, 0, 0, 0, 0, 0, 0, 0, 0, 0, 0, 0, 0, 0, 0, 0, 0, 0, 0, 0, 0, 0, 0, 0, 0, 0, 0, 0, 0, 0, 0, 0, 0, 0, 0, 0, 0, 0, 0, 0, 0, 0, 0, 0, 0, 0, 0, 0, 0, 0, 0, 0, 0, 0, 0, 0, 0, 0, 0, 0, 0, 0, 0, 0, 0, 0, 0, 0, 0, 0, 0, 0, 0, 0, 0, 0, 0, 0, 0, 0, 0, 0, 0, 0, 0, 0, 0, 0, 0, 0, 0, 0, 0, 0, 0, 0, 0, 0, 0, 0, 0, 0, 0, 0, 0, 0, 0, 0, 0, 0, 0, 0, 0, 0, 0, 0, 0, 0, 0, 0, 0, 0, 0, 0, 0, 0, 0, 0, 0, 0, 0, 0, 0, 0, 0, 0, 0, 0, 0, 0, 0, 0, 0, 0, 0, 0, 0, 0, 0, 0, 0, 0, 0, 0, 0, 0, 0, 0, 0, 0, 0, 0, 0, 0, 0, 0, 0, 0, 0, 0, 0, 0, 0, 0, 0, 0, 0, 0, 0, 0, 0, 0, 0, 0, 0, 0, 0, 0, 0, 0, 0, 0, 0, 0, 0, 0, 0, 0, 0, 0, 0, 0, 0, 0, 0, 0, 0, 0, 0, 0, 0, 0, 0, 0, 0, 0, 0, 0, 0, 0, 0, 0, 0, 0, 0, 0, 0, 0, 0, 0, 0, 0, 0, 0, 0, 0, 0, 0, 0, 0, 0, 0, 0, 0, 0, 0, 0, 0, 0, 0, 0, 0, 0, 0, 0, 0, 0, 0, 0, 0, 0, 0, 0, 0, 0, 0, 0, 0, 0, 0, 0, 0, 0, 0, 0, 0, 0, 0, 0, 0, 0, 0, 0, 0, 0, 0, 0, 0, 0, 0, 0, 0, 0, 0, 0, 1, 0, 0, 0, 0, 0, 0, 0, 0, 0, 0, 0, 0, 0, 0, 0, 0, 0, 0, 0, 0, 0, 0, 0, 0, 0, 0, 0, 0, 0, 0, 0, 0, 0, 0, 0, 0, 0, 0, 0, 0, 0, 0, 0, 0, 0, 0, 0, 0, 0, 0, 0, 0, 0, 0, 0, 0, 0, 0, 0, 0, 0, 0, 0, 0, 0, 0, 0, 0, 0, 0, 0, 0, 0, 0, 0, 0, 0, 0, 0, 0, 0, 0, 0, 0, 0, 0, 0, 0, 0, 0, 0, 0, 0, 0, 0, 0, 0, 0, 0, 0, 0, 0, 0, 0, 0, 0, 0, 0, 0, 0, 2, 0, 0, 0, 0, 0, 0, 0, 0, 0, 0, 0, 0, 0, 0, 0, 0, 0, 0, 0, 0, 0, 0, 0, 0, 0, 0, 0, 0, 0, 0, 0, 0, 0, 0, 0, 0, 0, 0, 0, 0, 0, 0, 0, 0, 0, 0, 0, 0, 0, 0, 0, 0, 0, 0, 0, 0, 0, 0, 0, 0, 0, 0, 0, 0, 0, 0, 0, 0, 0, 0, 0, 0, 0, 0, 0, 0, 0, 0, 0, 0, 0, 0, 0, 0, 0, 0, 0, 0, 0, 0, 0, 0, 0, 0, 0, 0, 0, 0, 0, 0, 0, 0, 0, 0, 0, 0, 0, 0, 0, 0, 0, 0, 0, 0, 0, 0, 0, 0, 0, 0, 0, 0, 0, 0, 0, 0, 0, 0, 0, 0, 0, 0, 0, 0, 0, 0, 0, 0, 0, 0, 0, 0, 0, 0, 0, 0, 0, 0, 0, 0, 0, 0, 0, 0, 0, 0, 0, 0, 0, 0, 0, 0, 0, 0, 0, 0, 0, 0, 0, 0, 0, 0, 0, 0, 0, 0, 0, 0, 0, 0, 0, 0, 0, 0, 0, 0, 0, 0, 0, 0, 0, 0, 0, 0, 0, 0, 0, 0, 0, 0, 0, 0, 0, 0, 0, 0, 0, 0, 0, 0, 0, 0, 0, 0, 0, 0, 0, 0, 0, 0, 0, 0, 0, 0, 0, 0, 0, 0, 0, 0, 0, 0, 0, 0, 0, 0, 0, 0, 0, 0, 0, 0, 0, 0, 0, 0, 0, 0, 0, 0, 0, 0, 0, 0, 0, 0, 0, 0, 0, 0, 0, 0, 0, 0, 0, 0, 0, 0, 0, 0, 0, 0, 0, 0, 0, 0, 0, 0, 0, 0, 0, 0, 0, 0, 0, 0, 0, 0, 0, 0, 0, 0, 0, 0, 0, 0, 0, 0, 0, 0, 0, 0, 0, 0, 0, 0, 0, 0, 0, 0, 0, 0, 0, 0, 0, 0, 0, 0, 0, 0, 0, 0, 0, 0, 0, 0, 0, 0, 0, 0, 0, 0, 0, 0, 0, 0, 0, 0, 0, 0, 0, 0, 0, 0, 0, 0, 0, 0, 0, 0, 0, 0, 0, 0, 0, 0, 0, 0, 0, 0, 0, 0, 0, 0, 0, 0, 0, 0, 0, 0, 0, 0, 0, 0, 0, 0, 0, 0, 0, 0, 0, 0, 0, 0, 0, 0, 0, 0, 0, 0, 0, 0, 0, 0, 0, 0, 0, 0, 0, 0, 0, 0, 0, 0, 0, 0, 0, 0, 0, 0, 0, 0, 0, 0, 0, 0, 0, 0, 0, 0, 0, 0, 0, 0, 0, 0, 0, 0, 0, 0, 0, 0, 0, 0, 0, 0, 0, 0, 0, 0, 0, 0, 0, 0, 0, 0, 0, 0, 0, 0, 0, 0, 0, 0, 0, 0, 0, 0, 0, 0, 0, 0, 0, 0, 0, 0, 0, 0, 0, 0, 0, 0, 0, 0, 0, 0, 0, 0, 0, 0, 0, 0, 0, 0, 0, 0, 0, 0, 0, 0, 0, 0, 0, 0, 0, 0, 0, 0, 0, 0, 0, 0, 0, 0, 0, 0, 0, 0, 0, 0, 0, 0, 0, 0, 0, 0, 0, 0, 0, 0, 0, 0, 0, 0, 0, 0, 0, 0, 0, 0, 0, 0, 0, 0, 0, 0, 0, 0, 0, 0, 0, 0, 0, 0, 0, 0, 0, 0, 0, 0, 0, 0, 0, 0, 0, 0, 0, 0, 0, 0, 0, 0, 0, 0, 0, 0, 0, 0, 0, 0, 0, 0, 0, 0, 0, 0, 0, 0, 0, 0, 0, 0, 0, 0, 0, 0, 0, 0, 0, 0, 0, 0, 0, 0, 0, 0, 0, 0, 0, 0, 0, 0, 0, 0, 0, 0, 0, 0, 0, 0, 0, 0, 0, 0, 0, 0, 0, 0, 0, 0, 0, 0, 0, 0, 0, 0, 0, 0, 0, 0, 0, 0, 0, 0, 0, 0, 0, 0, 0, 0, 0, 0, 0, 0, 0, 0, 0, 0, 0, 0, 0, 0, 0, 0, 0, 0, 0, 0, 0, 0, 0, 0, 0, 0, 0, 0, 0, 0, 0, 0, 0, 0, 0, 0, 0, 0, 0, 0, 0, 0, 0, 0, 0, 0, 0, 0, 0, 0, 0, 0, 1, 0, 0, 0, 0, 0, 0, 0, 0, 0, 0, 0, 0, 0, 0, 0, 0, 0, 0, 0, 0, 0, 0, 0, 0, 0, 0, 0, 0, 0, 0, 0, 0, 0, 0, 0, 0, 0, 0, 0, 0, 0, 0, 0, 0, 0, 0, 0, 0, 0, 0, 0, 0, 0, 0, 0, 0, 0, 0, 0, 0, 0, 0, 0, 0, 0, 0, 0, 0, 0, 0, 0, 0, 0, 0, 0, 0, 0, 0, 0, 0, 0, 0, 0, 0, 0, 0, 0, 0, 0, 0, 0, 0, 0, 0, 0, 0, 0, 0, 0, 0, 0, 0, 0, 0, 0, 0, 0, 1, 0, 0, 0, 0, 0, 0, 0, 0, 0, 0, 0, 0, 0, 0, 0, 0, 0, 0, 0, 0, 0, 0, 0, 0, 0, 0, 0, 0, 0, 0, 0, 0, 0, 0, 0, 0, 0, 0, 0, 0, 0, 0, 0, 0, 0, 0, 0, 0, 0, 0, 0, 0, 0, 0, 0, 0, 0, 0, 0, 0, 0, 0, 0, 0, 0, 0, 0, 0, 0, 0, 0, 0, 0, 0, 0, 0, 0, 0, 0, 0, 0, 0, 0, 0, 0, 0, 0, 0, 0, 0, 0, 0, 0, 0, 0, 0, 0, 0, 0, 0, 0, 0, 0, 0, 0, 0, 0, 0, 0, 0, 0, 0, 0, 0, 0, 0, 0, 0, 0, 0, 0, 0, 0, 0, 0, 0, 0, 0, 0, 0, 0, 0, 0, 0, 0, 0, 0, 0, 0, 0, 0, 0, 0, 0, 0, 0, 0, 0, 0, 0, 0, 0, 0, 0, 0, 0, 0, 0, 0, 0, 0, 0, 0, 0, 0, 0, 0, 0, 0, 0, 0, 0, 0, 0, 0, 0, 0, 0, 0, 0, 0, 0, 0, 0, 0, 0, 0, 0, 0, 0, 0, 0, 0, 0, 0, 0, 0, 0, 0, 0, 0, 0, 0, 0, 0, 0, 0, 0, 0, 0, 0, 0, 0, 0, 0, 0, 0, 0, 0, 0, 0, 0, 0, 0, 0, 0, 0, 0, 0, 0, 0, 0, 0, 0, 0, 0, 0, 0, 0, 0, 0, 0, 0, 0, 0, 0, 0, 0, 0, 0, 0, 0, 0, 0, 0, 0, 0, 0, 0, 0, 0, 0, 0, 0, 0, 0, 0, 0, 0, 0, 0, 0, 0, 0, 0, 0, 0, 0, 0, 0, 0, 0, 0, 0, 0, 0, 0, 0, 0, 0, 0, 0, 0, 0, 0, 0, 0, 0, 0, 0, 0, 0, 0, 0, 0, 0, 0, 0, 0, 0, 0, 0, 0, 0, 0, 0, 0, 0, 0, 0, 0, 0, 0, 0, 0, 0, 0, 0, 0, 0, 0, 0, 0, 0, 0, 0, 0, 0, 0, 0, 0, 0, 0, 0, 0, 0, 0, 0, 0, 0, 0, 0, 0, 0, 0, 0, 0, 0, 0, 0, 0, 0, 0, 0, 0, 0, 0, 0, 0, 0, 0, 0, 0, 0, 0, 0, 0, 0, 0, 0, 0, 0, 0, 0, 0, 0, 0, 0, 0, 0, 0, 0, 0, 0, 0, 0, 0, 0, 0, 0, 0, 0, 0, 0, 0, 0, 0, 0, 0, 0, 0, 0, 0, 0, 0, 0, 0, 0, 0, 0, 0, 0, 0, 0, 0, 0, 0, 0, 0, 0, 0, 0, 0, 0, 0, 0, 0, 0, 0, 0, 0, 0, 0, 0, 0, 0, 0, 0, 0, 0, 0, 0, 0, 0, 0, 0, 0, 0, 0, 0, 0, 0, 0, 2, 0, 1, 0], type: <class 'list'>, valid types: <class 'bytes'>, <class 'bytearray'>, file-like object",
     "output_type": "error",
     "traceback": [
      "\u001b[0;31m---------------------------------------------------------------------------\u001b[0m",
      "\u001b[0;31mParamValidationError\u001b[0m                      Traceback (most recent call last)",
      "\u001b[0;32m<ipython-input-44-c9ab54ae3a48>\u001b[0m in \u001b[0;36m<module>\u001b[0;34m\u001b[0m\n\u001b[1;32m      1\u001b[0m response = runtime.invoke_endpoint(EndpointName = xgb_predictor.endpoint, # The name of the endpoint we created\n\u001b[1;32m      2\u001b[0m                                        \u001b[0mContentType\u001b[0m \u001b[0;34m=\u001b[0m \u001b[0;34m'text/csv'\u001b[0m\u001b[0;34m,\u001b[0m                     \u001b[0;31m# The data format that is expected\u001b[0m\u001b[0;34m\u001b[0m\u001b[0;34m\u001b[0m\u001b[0m\n\u001b[0;32m----> 3\u001b[0;31m                                        Body = test_bow)\n\u001b[0m",
      "\u001b[0;32m~/anaconda3/envs/python3/lib/python3.6/site-packages/botocore/client.py\u001b[0m in \u001b[0;36m_api_call\u001b[0;34m(self, *args, **kwargs)\u001b[0m\n\u001b[1;32m    314\u001b[0m                     \"%s() only accepts keyword arguments.\" % py_operation_name)\n\u001b[1;32m    315\u001b[0m             \u001b[0;31m# The \"self\" in this scope is referring to the BaseClient.\u001b[0m\u001b[0;34m\u001b[0m\u001b[0;34m\u001b[0m\u001b[0;34m\u001b[0m\u001b[0m\n\u001b[0;32m--> 316\u001b[0;31m             \u001b[0;32mreturn\u001b[0m \u001b[0mself\u001b[0m\u001b[0;34m.\u001b[0m\u001b[0m_make_api_call\u001b[0m\u001b[0;34m(\u001b[0m\u001b[0moperation_name\u001b[0m\u001b[0;34m,\u001b[0m \u001b[0mkwargs\u001b[0m\u001b[0;34m)\u001b[0m\u001b[0;34m\u001b[0m\u001b[0;34m\u001b[0m\u001b[0m\n\u001b[0m\u001b[1;32m    317\u001b[0m \u001b[0;34m\u001b[0m\u001b[0m\n\u001b[1;32m    318\u001b[0m         \u001b[0m_api_call\u001b[0m\u001b[0;34m.\u001b[0m\u001b[0m__name__\u001b[0m \u001b[0;34m=\u001b[0m \u001b[0mstr\u001b[0m\u001b[0;34m(\u001b[0m\u001b[0mpy_operation_name\u001b[0m\u001b[0;34m)\u001b[0m\u001b[0;34m\u001b[0m\u001b[0;34m\u001b[0m\u001b[0m\n",
      "\u001b[0;32m~/anaconda3/envs/python3/lib/python3.6/site-packages/botocore/client.py\u001b[0m in \u001b[0;36m_make_api_call\u001b[0;34m(self, operation_name, api_params)\u001b[0m\n\u001b[1;32m    606\u001b[0m         }\n\u001b[1;32m    607\u001b[0m         request_dict = self._convert_to_request_dict(\n\u001b[0;32m--> 608\u001b[0;31m             api_params, operation_model, context=request_context)\n\u001b[0m\u001b[1;32m    609\u001b[0m \u001b[0;34m\u001b[0m\u001b[0m\n\u001b[1;32m    610\u001b[0m         \u001b[0mservice_id\u001b[0m \u001b[0;34m=\u001b[0m \u001b[0mself\u001b[0m\u001b[0;34m.\u001b[0m\u001b[0m_service_model\u001b[0m\u001b[0;34m.\u001b[0m\u001b[0mservice_id\u001b[0m\u001b[0;34m.\u001b[0m\u001b[0mhyphenize\u001b[0m\u001b[0;34m(\u001b[0m\u001b[0;34m)\u001b[0m\u001b[0;34m\u001b[0m\u001b[0;34m\u001b[0m\u001b[0m\n",
      "\u001b[0;32m~/anaconda3/envs/python3/lib/python3.6/site-packages/botocore/client.py\u001b[0m in \u001b[0;36m_convert_to_request_dict\u001b[0;34m(self, api_params, operation_model, context)\u001b[0m\n\u001b[1;32m    654\u001b[0m             api_params, operation_model, context)\n\u001b[1;32m    655\u001b[0m         request_dict = self._serializer.serialize_to_request(\n\u001b[0;32m--> 656\u001b[0;31m             api_params, operation_model)\n\u001b[0m\u001b[1;32m    657\u001b[0m         \u001b[0;32mif\u001b[0m \u001b[0;32mnot\u001b[0m \u001b[0mself\u001b[0m\u001b[0;34m.\u001b[0m\u001b[0m_client_config\u001b[0m\u001b[0;34m.\u001b[0m\u001b[0minject_host_prefix\u001b[0m\u001b[0;34m:\u001b[0m\u001b[0;34m\u001b[0m\u001b[0;34m\u001b[0m\u001b[0m\n\u001b[1;32m    658\u001b[0m             \u001b[0mrequest_dict\u001b[0m\u001b[0;34m.\u001b[0m\u001b[0mpop\u001b[0m\u001b[0;34m(\u001b[0m\u001b[0;34m'host_prefix'\u001b[0m\u001b[0;34m,\u001b[0m \u001b[0;32mNone\u001b[0m\u001b[0;34m)\u001b[0m\u001b[0;34m\u001b[0m\u001b[0;34m\u001b[0m\u001b[0m\n",
      "\u001b[0;32m~/anaconda3/envs/python3/lib/python3.6/site-packages/botocore/validate.py\u001b[0m in \u001b[0;36mserialize_to_request\u001b[0;34m(self, parameters, operation_model)\u001b[0m\n\u001b[1;32m    295\u001b[0m                                                     operation_model.input_shape)\n\u001b[1;32m    296\u001b[0m             \u001b[0;32mif\u001b[0m \u001b[0mreport\u001b[0m\u001b[0;34m.\u001b[0m\u001b[0mhas_errors\u001b[0m\u001b[0;34m(\u001b[0m\u001b[0;34m)\u001b[0m\u001b[0;34m:\u001b[0m\u001b[0;34m\u001b[0m\u001b[0;34m\u001b[0m\u001b[0m\n\u001b[0;32m--> 297\u001b[0;31m                 \u001b[0;32mraise\u001b[0m \u001b[0mParamValidationError\u001b[0m\u001b[0;34m(\u001b[0m\u001b[0mreport\u001b[0m\u001b[0;34m=\u001b[0m\u001b[0mreport\u001b[0m\u001b[0;34m.\u001b[0m\u001b[0mgenerate_report\u001b[0m\u001b[0;34m(\u001b[0m\u001b[0;34m)\u001b[0m\u001b[0;34m)\u001b[0m\u001b[0;34m\u001b[0m\u001b[0;34m\u001b[0m\u001b[0m\n\u001b[0m\u001b[1;32m    298\u001b[0m         return self._serializer.serialize_to_request(parameters,\n\u001b[1;32m    299\u001b[0m                                                      operation_model)\n",
      "\u001b[0;31mParamValidationError\u001b[0m: Parameter validation failed:\nInvalid type for parameter Body, value: [0, 0, 0, 0, 0, 0, 0, 0, 0, 0, 0, 0, 0, 0, 0, 0, 0, 0, 0, 0, 0, 0, 0, 0, 0, 0, 0, 0, 0, 0, 0, 0, 0, 0, 0, 0, 0, 0, 0, 0, 0, 0, 0, 0, 0, 0, 0, 0, 0, 0, 0, 0, 0, 0, 0, 0, 0, 0, 0, 0, 0, 0, 0, 0, 0, 0, 0, 0, 0, 0, 0, 0, 0, 0, 0, 0, 0, 0, 0, 0, 0, 0, 0, 0, 0, 0, 0, 0, 0, 0, 0, 0, 0, 0, 0, 0, 0, 0, 0, 0, 0, 0, 0, 0, 0, 0, 0, 0, 0, 0, 0, 0, 0, 0, 0, 0, 0, 0, 0, 0, 0, 0, 0, 0, 0, 0, 0, 0, 0, 0, 0, 0, 0, 0, 0, 0, 0, 0, 0, 0, 0, 0, 0, 0, 0, 0, 0, 0, 0, 0, 0, 0, 0, 0, 0, 0, 0, 0, 0, 0, 0, 0, 0, 0, 0, 0, 0, 0, 0, 0, 0, 0, 0, 0, 0, 0, 0, 0, 0, 0, 0, 0, 0, 0, 0, 0, 0, 0, 0, 0, 0, 0, 0, 0, 0, 0, 0, 0, 0, 0, 0, 0, 0, 0, 0, 0, 0, 0, 0, 0, 0, 0, 0, 0, 0, 0, 0, 0, 0, 0, 0, 0, 0, 0, 0, 0, 1, 0, 0, 0, 0, 0, 0, 0, 0, 0, 0, 0, 0, 0, 0, 0, 0, 0, 0, 0, 0, 0, 0, 0, 0, 0, 0, 0, 0, 0, 1, 0, 0, 0, 0, 0, 0, 0, 0, 0, 0, 0, 0, 0, 0, 0, 0, 0, 0, 0, 0, 0, 0, 0, 0, 0, 0, 0, 0, 0, 0, 0, 0, 0, 0, 0, 0, 0, 0, 0, 0, 0, 0, 0, 0, 0, 0, 0, 0, 0, 0, 0, 0, 0, 0, 0, 0, 0, 0, 0, 0, 0, 0, 0, 0, 0, 0, 0, 0, 0, 0, 0, 0, 0, 0, 0, 0, 0, 0, 0, 0, 0, 0, 0, 0, 0, 0, 0, 0, 0, 0, 0, 0, 0, 0, 0, 0, 0, 0, 0, 0, 0, 0, 0, 0, 0, 0, 0, 0, 0, 0, 0, 0, 0, 0, 0, 0, 0, 0, 0, 0, 0, 0, 0, 0, 0, 0, 0, 0, 0, 0, 0, 0, 0, 0, 0, 0, 0, 0, 0, 0, 0, 0, 0, 0, 0, 0, 0, 0, 0, 0, 0, 0, 0, 0, 0, 0, 0, 0, 0, 0, 0, 0, 0, 0, 0, 0, 0, 0, 0, 0, 0, 0, 0, 0, 0, 0, 0, 0, 0, 0, 0, 0, 0, 0, 0, 0, 0, 0, 0, 0, 0, 0, 0, 0, 0, 0, 0, 0, 0, 0, 0, 0, 0, 0, 0, 0, 0, 0, 0, 0, 0, 0, 0, 0, 0, 0, 0, 0, 0, 0, 0, 0, 0, 0, 0, 0, 0, 0, 0, 0, 0, 0, 0, 0, 0, 0, 0, 0, 0, 0, 0, 0, 0, 0, 0, 0, 0, 0, 0, 0, 0, 0, 0, 0, 0, 0, 0, 0, 0, 0, 0, 0, 0, 0, 0, 0, 0, 0, 0, 0, 0, 0, 0, 0, 0, 0, 0, 0, 0, 0, 0, 0, 0, 0, 0, 0, 0, 0, 0, 0, 0, 0, 0, 0, 0, 0, 0, 0, 0, 0, 0, 0, 0, 0, 0, 0, 0, 0, 0, 0, 0, 0, 0, 0, 0, 0, 0, 0, 0, 0, 0, 0, 0, 0, 0, 0, 0, 0, 0, 0, 0, 0, 0, 0, 0, 0, 0, 0, 0, 0, 0, 0, 0, 0, 0, 0, 0, 0, 0, 0, 0, 0, 0, 0, 0, 0, 0, 0, 0, 0, 0, 0, 0, 0, 0, 0, 0, 0, 0, 0, 0, 0, 0, 0, 0, 0, 0, 0, 0, 1, 0, 0, 0, 0, 0, 0, 0, 0, 0, 0, 0, 0, 0, 0, 0, 0, 0, 0, 0, 0, 0, 0, 0, 0, 0, 0, 0, 0, 0, 0, 0, 0, 0, 0, 0, 0, 0, 0, 0, 0, 0, 0, 0, 0, 0, 0, 0, 0, 0, 0, 0, 0, 0, 0, 0, 0, 0, 0, 0, 0, 0, 0, 0, 0, 0, 0, 0, 0, 0, 0, 0, 0, 0, 0, 0, 0, 0, 0, 0, 0, 0, 0, 0, 0, 0, 0, 0, 0, 0, 0, 0, 0, 0, 0, 0, 0, 0, 0, 0, 0, 0, 0, 0, 0, 0, 0, 0, 0, 0, 0, 0, 0, 0, 0, 0, 0, 0, 0, 0, 0, 0, 0, 0, 0, 0, 0, 0, 0, 0, 0, 0, 0, 0, 0, 0, 0, 0, 0, 0, 0, 0, 0, 0, 0, 0, 0, 0, 0, 0, 0, 0, 0, 0, 0, 0, 0, 0, 0, 0, 0, 0, 0, 0, 0, 0, 0, 0, 0, 0, 0, 0, 0, 0, 0, 0, 0, 0, 0, 0, 0, 0, 0, 0, 0, 0, 0, 0, 0, 0, 0, 0, 0, 0, 0, 0, 0, 0, 0, 0, 0, 0, 0, 0, 0, 0, 0, 0, 0, 0, 0, 0, 0, 0, 0, 0, 0, 0, 0, 0, 0, 0, 0, 0, 0, 0, 0, 0, 0, 0, 0, 0, 0, 0, 0, 0, 0, 0, 0, 0, 0, 0, 0, 0, 0, 0, 0, 0, 0, 0, 0, 0, 0, 0, 1, 0, 0, 0, 0, 0, 0, 0, 0, 0, 0, 0, 0, 0, 0, 0, 0, 0, 0, 0, 0, 0, 0, 0, 0, 0, 0, 0, 0, 0, 0, 0, 0, 0, 0, 0, 0, 0, 0, 0, 0, 0, 0, 0, 0, 0, 0, 0, 0, 0, 0, 0, 0, 0, 0, 0, 0, 0, 0, 0, 0, 0, 0, 0, 0, 0, 0, 0, 0, 0, 0, 0, 0, 0, 0, 0, 0, 0, 0, 0, 0, 0, 0, 0, 0, 0, 0, 1, 0, 0, 0, 0, 0, 0, 0, 0, 0, 0, 0, 0, 0, 0, 0, 0, 0, 0, 0, 0, 0, 0, 0, 0, 0, 0, 0, 0, 0, 0, 0, 0, 0, 0, 0, 0, 0, 0, 0, 0, 0, 0, 0, 0, 0, 0, 0, 0, 0, 0, 0, 0, 0, 0, 0, 0, 0, 0, 0, 0, 0, 0, 0, 0, 0, 0, 0, 0, 0, 0, 0, 0, 0, 0, 0, 0, 0, 0, 0, 0, 0, 0, 0, 0, 0, 0, 0, 0, 0, 0, 0, 0, 0, 0, 0, 0, 0, 0, 0, 0, 0, 0, 0, 0, 0, 0, 0, 0, 0, 0, 0, 0, 0, 0, 0, 0, 0, 0, 0, 0, 0, 0, 0, 0, 0, 0, 0, 0, 0, 0, 0, 0, 0, 0, 0, 0, 0, 0, 0, 0, 0, 0, 0, 0, 0, 0, 0, 0, 0, 0, 0, 0, 0, 0, 0, 0, 0, 0, 0, 0, 0, 0, 0, 0, 0, 0, 0, 0, 0, 0, 0, 0, 0, 0, 0, 0, 0, 0, 0, 0, 0, 0, 0, 0, 0, 0, 0, 0, 0, 0, 0, 0, 0, 0, 0, 0, 0, 0, 0, 0, 0, 0, 0, 0, 0, 0, 0, 0, 0, 0, 0, 0, 0, 0, 0, 0, 0, 0, 0, 0, 0, 0, 0, 0, 0, 0, 0, 0, 0, 0, 0, 0, 0, 0, 0, 0, 0, 0, 0, 0, 0, 0, 0, 0, 0, 0, 0, 0, 0, 0, 0, 0, 1, 0, 0, 0, 0, 0, 0, 0, 0, 0, 0, 0, 0, 0, 0, 0, 0, 0, 0, 0, 0, 0, 0, 0, 0, 0, 0, 0, 0, 0, 0, 0, 0, 0, 0, 0, 0, 0, 0, 0, 0, 0, 0, 0, 0, 0, 0, 0, 0, 0, 0, 0, 0, 0, 0, 0, 1, 0, 0, 0, 0, 0, 0, 0, 0, 0, 0, 0, 0, 0, 0, 0, 0, 0, 0, 0, 0, 0, 0, 0, 0, 0, 0, 0, 0, 0, 0, 0, 0, 0, 0, 0, 0, 0, 0, 0, 0, 0, 0, 0, 0, 0, 0, 0, 0, 0, 0, 0, 0, 0, 0, 0, 0, 0, 0, 0, 0, 0, 0, 0, 0, 0, 0, 0, 0, 0, 0, 0, 0, 0, 0, 0, 0, 0, 0, 0, 0, 0, 0, 0, 0, 0, 0, 0, 0, 0, 0, 0, 0, 0, 0, 0, 0, 0, 0, 0, 0, 0, 0, 0, 0, 0, 0, 0, 0, 0, 0, 0, 0, 0, 0, 0, 0, 0, 0, 0, 0, 0, 0, 0, 0, 0, 0, 0, 0, 0, 0, 0, 0, 0, 0, 0, 0, 0, 0, 0, 0, 0, 0, 0, 0, 0, 0, 0, 0, 0, 0, 0, 0, 0, 0, 0, 0, 0, 0, 0, 0, 0, 0, 0, 0, 0, 0, 0, 0, 0, 0, 0, 0, 0, 0, 0, 0, 0, 0, 0, 0, 0, 0, 0, 0, 0, 0, 0, 0, 0, 0, 0, 0, 0, 0, 0, 0, 0, 0, 0, 0, 0, 0, 0, 0, 0, 0, 0, 0, 0, 0, 0, 0, 0, 0, 0, 0, 0, 0, 0, 0, 0, 0, 0, 0, 0, 0, 0, 0, 0, 0, 0, 0, 0, 0, 0, 0, 0, 0, 0, 0, 0, 0, 0, 0, 0, 0, 0, 0, 0, 0, 0, 0, 0, 0, 0, 0, 0, 0, 0, 0, 0, 0, 0, 0, 0, 0, 0, 0, 0, 0, 0, 0, 0, 0, 0, 0, 0, 0, 0, 0, 0, 0, 0, 0, 0, 0, 0, 0, 0, 0, 0, 0, 0, 0, 0, 0, 0, 0, 0, 0, 0, 0, 0, 0, 0, 0, 0, 0, 0, 0, 0, 0, 0, 0, 0, 0, 0, 0, 0, 0, 0, 0, 0, 0, 0, 0, 0, 0, 0, 0, 0, 0, 0, 0, 0, 0, 0, 0, 0, 0, 0, 0, 0, 0, 0, 0, 0, 0, 0, 0, 0, 0, 0, 0, 0, 0, 0, 0, 0, 0, 0, 0, 0, 0, 0, 0, 0, 0, 0, 0, 0, 0, 0, 0, 0, 0, 0, 0, 0, 0, 0, 0, 0, 0, 0, 0, 0, 0, 0, 0, 0, 0, 0, 0, 0, 0, 0, 0, 0, 0, 0, 0, 0, 0, 0, 0, 0, 0, 0, 0, 0, 0, 0, 0, 0, 0, 0, 0, 0, 0, 0, 0, 0, 0, 0, 0, 0, 0, 0, 0, 0, 0, 0, 0, 0, 0, 0, 0, 0, 0, 0, 0, 0, 0, 0, 0, 0, 0, 0, 0, 0, 0, 0, 0, 0, 0, 0, 0, 0, 0, 0, 0, 0, 0, 0, 0, 0, 0, 0, 0, 0, 0, 0, 0, 0, 0, 0, 0, 0, 0, 0, 0, 0, 0, 0, 0, 0, 0, 0, 0, 0, 0, 0, 0, 0, 0, 0, 0, 0, 0, 0, 0, 0, 0, 0, 0, 0, 0, 0, 0, 0, 0, 0, 0, 0, 0, 0, 0, 0, 0, 0, 0, 0, 0, 0, 0, 0, 0, 0, 0, 0, 0, 0, 0, 0, 0, 0, 0, 0, 0, 0, 0, 0, 0, 0, 0, 0, 0, 0, 0, 0, 0, 0, 0, 0, 0, 0, 0, 0, 0, 0, 0, 0, 0, 0, 0, 0, 0, 0, 0, 0, 0, 0, 0, 0, 0, 0, 0, 0, 0, 0, 0, 0, 0, 0, 0, 0, 0, 0, 0, 0, 0, 0, 0, 0, 0, 0, 0, 0, 0, 0, 0, 0, 0, 0, 0, 0, 0, 0, 0, 0, 0, 0, 0, 0, 0, 0, 0, 0, 0, 0, 0, 0, 0, 0, 0, 0, 0, 0, 0, 0, 0, 0, 0, 0, 0, 0, 0, 0, 0, 0, 0, 0, 0, 0, 0, 0, 0, 0, 0, 0, 0, 0, 0, 0, 0, 0, 0, 0, 0, 0, 0, 0, 0, 0, 0, 0, 0, 0, 0, 0, 0, 0, 0, 0, 0, 0, 0, 0, 0, 0, 1, 0, 0, 0, 0, 0, 0, 0, 0, 0, 0, 0, 0, 0, 0, 0, 0, 0, 0, 0, 0, 0, 0, 0, 0, 0, 0, 0, 0, 0, 0, 0, 0, 0, 0, 0, 0, 0, 0, 0, 0, 0, 0, 0, 0, 0, 0, 0, 0, 0, 0, 0, 0, 0, 0, 0, 0, 0, 0, 0, 0, 0, 0, 0, 0, 0, 0, 0, 0, 0, 0, 0, 0, 0, 0, 1, 0, 0, 0, 0, 0, 0, 0, 0, 0, 0, 0, 0, 0, 0, 0, 0, 0, 0, 0, 0, 1, 0, 0, 1, 0, 0, 0, 0, 0, 0, 0, 0, 0, 0, 0, 0, 0, 0, 0, 0, 0, 0, 0, 0, 0, 0, 0, 0, 0, 0, 0, 0, 0, 0, 0, 0, 0, 0, 0, 0, 0, 0, 0, 0, 0, 0, 0, 0, 0, 0, 0, 0, 0, 0, 0, 0, 0, 0, 0, 0, 0, 0, 0, 0, 0, 0, 0, 0, 0, 0, 0, 0, 0, 0, 0, 0, 0, 0, 0, 0, 0, 0, 0, 0, 0, 0, 0, 0, 0, 0, 0, 0, 0, 0, 0, 0, 0, 0, 0, 0, 0, 0, 0, 0, 0, 0, 0, 0, 0, 0, 0, 0, 0, 0, 0, 0, 0, 0, 0, 0, 0, 0, 0, 0, 0, 0, 0, 0, 0, 0, 0, 0, 0, 0, 0, 0, 0, 0, 0, 0, 0, 0, 0, 0, 0, 0, 0, 0, 0, 0, 0, 0, 0, 0, 0, 0, 0, 0, 0, 0, 0, 0, 0, 0, 0, 0, 0, 0, 0, 0, 0, 0, 0, 0, 0, 0, 0, 0, 0, 0, 0, 0, 0, 0, 0, 0, 0, 0, 0, 0, 0, 0, 0, 0, 0, 0, 0, 0, 0, 0, 0, 0, 0, 0, 0, 0, 0, 0, 0, 0, 0, 0, 0, 0, 0, 0, 0, 0, 0, 0, 0, 0, 0, 0, 0, 0, 0, 0, 0, 0, 0, 0, 0, 0, 0, 0, 0, 0, 0, 0, 0, 0, 0, 0, 0, 0, 0, 0, 0, 0, 0, 0, 0, 0, 0, 0, 0, 0, 0, 0, 0, 0, 0, 0, 0, 0, 0, 0, 0, 0, 0, 0, 0, 0, 0, 0, 0, 0, 0, 0, 0, 0, 0, 0, 0, 0, 0, 0, 0, 0, 0, 0, 0, 0, 0, 0, 0, 0, 0, 0, 0, 0, 0, 0, 0, 0, 0, 0, 0, 0, 0, 0, 0, 0, 0, 0, 0, 0, 0, 0, 0, 0, 0, 0, 0, 0, 0, 0, 0, 0, 0, 0, 0, 0, 0, 0, 0, 0, 0, 0, 0, 0, 0, 0, 0, 0, 0, 0, 0, 0, 0, 0, 0, 0, 0, 0, 0, 0, 0, 0, 0, 0, 0, 0, 0, 0, 0, 0, 0, 0, 0, 0, 0, 0, 0, 0, 0, 0, 0, 0, 0, 0, 0, 0, 0, 0, 0, 0, 0, 0, 0, 0, 0, 0, 0, 0, 0, 0, 0, 0, 0, 0, 0, 0, 0, 0, 0, 0, 0, 0, 0, 0, 0, 0, 0, 0, 0, 0, 0, 0, 0, 0, 0, 0, 0, 0, 0, 0, 0, 0, 0, 0, 0, 0, 0, 0, 0, 0, 0, 0, 0, 0, 0, 0, 0, 0, 0, 0, 0, 0, 0, 0, 0, 0, 0, 0, 0, 0, 0, 0, 0, 0, 0, 0, 0, 0, 0, 0, 0, 0, 1, 0, 0, 0, 0, 0, 0, 0, 0, 0, 0, 0, 0, 0, 0, 0, 0, 0, 0, 0, 0, 0, 0, 0, 0, 0, 0, 0, 0, 0, 0, 0, 0, 0, 0, 0, 0, 0, 0, 0, 0, 0, 0, 0, 0, 0, 0, 0, 0, 0, 0, 0, 0, 0, 0, 0, 0, 0, 0, 0, 0, 0, 0, 0, 0, 0, 0, 0, 0, 0, 0, 0, 0, 0, 0, 0, 0, 0, 0, 0, 0, 0, 0, 0, 0, 0, 0, 0, 0, 0, 0, 0, 0, 0, 0, 0, 0, 0, 0, 0, 0, 0, 0, 0, 0, 0, 0, 0, 0, 0, 0, 0, 0, 0, 0, 0, 0, 0, 0, 0, 0, 0, 0, 0, 0, 0, 0, 0, 0, 0, 0, 0, 0, 0, 0, 0, 0, 0, 0, 0, 0, 0, 0, 0, 0, 0, 0, 0, 0, 0, 0, 0, 0, 0, 0, 0, 0, 0, 0, 0, 0, 0, 0, 0, 0, 0, 0, 0, 0, 0, 0, 0, 0, 0, 0, 0, 0, 0, 0, 0, 0, 0, 0, 0, 0, 0, 0, 0, 0, 0, 0, 0, 0, 0, 0, 0, 0, 0, 0, 0, 0, 0, 0, 0, 0, 0, 0, 0, 0, 0, 0, 0, 0, 0, 0, 0, 0, 0, 0, 0, 0, 0, 0, 0, 0, 0, 0, 0, 0, 0, 0, 0, 0, 0, 0, 0, 0, 0, 0, 0, 0, 0, 0, 0, 0, 0, 0, 0, 0, 0, 0, 0, 0, 0, 0, 0, 0, 0, 0, 0, 0, 0, 0, 0, 0, 0, 0, 0, 0, 0, 0, 0, 0, 0, 0, 0, 0, 0, 0, 0, 0, 0, 0, 0, 0, 0, 0, 0, 0, 0, 0, 0, 0, 0, 0, 0, 0, 0, 0, 0, 0, 0, 0, 0, 0, 0, 0, 0, 0, 0, 0, 0, 0, 0, 0, 0, 0, 0, 0, 0, 0, 0, 0, 0, 0, 0, 0, 0, 0, 0, 0, 0, 0, 0, 0, 0, 0, 0, 0, 0, 0, 0, 0, 0, 0, 0, 0, 0, 0, 0, 0, 0, 0, 0, 0, 0, 0, 0, 0, 0, 0, 0, 0, 0, 0, 0, 0, 0, 0, 0, 0, 0, 0, 0, 0, 0, 0, 0, 0, 0, 0, 0, 0, 0, 0, 0, 0, 0, 0, 0, 0, 0, 0, 0, 0, 0, 0, 0, 0, 0, 0, 0, 0, 0, 0, 0, 0, 0, 0, 0, 0, 0, 0, 0, 0, 0, 0, 0, 0, 0, 0, 0, 0, 0, 0, 0, 0, 0, 0, 0, 0, 0, 0, 0, 0, 0, 0, 0, 0, 0, 0, 0, 0, 0, 0, 0, 0, 0, 0, 0, 0, 0, 0, 0, 0, 0, 0, 0, 0, 0, 0, 0, 0, 0, 0, 0, 0, 0, 0, 0, 0, 0, 0, 0, 0, 0, 0, 0, 0, 0, 0, 0, 0, 0, 0, 0, 0, 0, 0, 0, 0, 0, 0, 0, 0, 0, 0, 0, 0, 0, 0, 0, 0, 0, 0, 0, 0, 0, 0, 0, 0, 0, 0, 1, 0, 0, 0, 0, 0, 0, 0, 0, 0, 0, 0, 0, 0, 0, 0, 0, 0, 0, 0, 0, 0, 0, 0, 0, 0, 0, 0, 0, 0, 0, 0, 0, 0, 0, 0, 2, 0, 0, 0, 0, 0, 0, 0, 0, 0, 0, 0, 0, 0, 0, 0, 0, 0, 0, 0, 0, 0, 0, 0, 0, 0, 0, 0, 0, 0, 0, 0, 0, 0, 0, 0, 0, 0, 0, 0, 0, 1, 0, 0, 0, 0, 0, 0, 0, 0, 0, 0, 0, 0, 0, 0, 0, 0, 0, 0, 0, 0, 0, 0, 0, 0, 0, 0, 0, 0, 0, 0, 0, 0, 0, 0, 0, 0, 0, 0, 0, 0, 0, 0, 0, 0, 0, 0, 0, 0, 0, 0, 0, 0, 0, 0, 0, 0, 0, 0, 0, 0, 0, 0, 0, 0, 0, 0, 0, 0, 0, 0, 0, 0, 0, 0, 0, 0, 0, 0, 0, 0, 0, 0, 0, 0, 0, 0, 0, 0, 0, 0, 0, 0, 0, 0, 0, 0, 0, 0, 0, 0, 0, 0, 0, 0, 0, 0, 0, 0, 0, 0, 0, 0, 0, 0, 0, 0, 0, 0, 0, 0, 0, 0, 0, 0, 0, 0, 0, 0, 0, 0, 0, 0, 0, 0, 0, 0, 0, 0, 0, 0, 0, 0, 0, 0, 0, 0, 0, 0, 0, 0, 0, 0, 0, 0, 0, 0, 0, 0, 0, 0, 0, 0, 0, 0, 0, 0, 0, 0, 0, 0, 0, 0, 0, 0, 0, 0, 0, 0, 0, 0, 0, 0, 0, 0, 0, 0, 0, 0, 0, 0, 0, 0, 0, 0, 0, 0, 0, 0, 0, 0, 0, 0, 0, 0, 0, 0, 0, 0, 0, 0, 0, 0, 0, 0, 0, 0, 0, 0, 0, 0, 0, 0, 0, 0, 0, 0, 0, 0, 0, 0, 0, 0, 0, 0, 0, 0, 0, 0, 0, 0, 0, 0, 0, 0, 0, 0, 0, 0, 0, 0, 0, 0, 0, 0, 0, 0, 0, 0, 0, 0, 0, 0, 0, 0, 0, 0, 0, 0, 0, 0, 0, 0, 0, 0, 0, 0, 0, 0, 0, 0, 0, 0, 0, 0, 0, 0, 0, 0, 0, 0, 0, 0, 0, 0, 0, 0, 0, 0, 0, 0, 0, 0, 0, 0, 0, 0, 0, 0, 0, 0, 0, 0, 0, 0, 0, 0, 0, 0, 0, 0, 0, 0, 0, 0, 0, 0, 0, 0, 0, 0, 0, 0, 0, 0, 0, 0, 0, 0, 0, 0, 0, 0, 0, 0, 0, 0, 0, 0, 0, 0, 0, 0, 0, 0, 0, 0, 0, 0, 0, 0, 0, 0, 0, 0, 0, 0, 0, 0, 0, 0, 0, 0, 0, 0, 0, 0, 0, 0, 0, 0, 0, 0, 0, 0, 0, 0, 0, 0, 0, 0, 0, 0, 0, 0, 0, 0, 0, 0, 0, 0, 0, 0, 0, 0, 0, 0, 0, 0, 0, 0, 0, 0, 0, 0, 0, 0, 0, 0, 0, 0, 0, 0, 0, 0, 0, 0, 0, 0, 0, 0, 0, 0, 0, 0, 0, 0, 0, 0, 0, 0, 0, 0, 0, 0, 0, 0, 0, 0, 0, 0, 0, 0, 0, 0, 0, 0, 0, 0, 0, 0, 0, 0, 0, 0, 0, 0, 0, 0, 0, 0, 0, 0, 0, 0, 0, 0, 0, 0, 0, 0, 0, 0, 0, 0, 0, 0, 0, 0, 0, 0, 0, 0, 0, 0, 0, 0, 0, 1, 0, 0, 0, 0, 0, 0, 0, 0, 0, 0, 0, 0, 0, 0, 0, 0, 0, 0, 0, 0, 0, 0, 0, 0, 0, 0, 0, 0, 0, 0, 0, 0, 0, 0, 0, 0, 0, 0, 0, 0, 0, 0, 0, 0, 0, 0, 0, 0, 0, 0, 0, 0, 0, 0, 0, 0, 0, 0, 0, 0, 0, 0, 0, 0, 0, 0, 0, 0, 0, 0, 0, 0, 0, 0, 0, 0, 0, 0, 0, 0, 0, 0, 0, 0, 0, 0, 0, 0, 0, 0, 0, 0, 0, 0, 0, 0, 0, 0, 0, 0, 0, 0, 0, 0, 0, 0, 0, 0, 0, 0, 2, 0, 0, 0, 0, 0, 0, 0, 0, 0, 0, 0, 0, 0, 0, 0, 0, 0, 0, 0, 0, 0, 0, 0, 0, 0, 0, 0, 0, 0, 0, 0, 0, 0, 0, 0, 0, 0, 0, 0, 0, 0, 0, 0, 0, 0, 0, 0, 0, 0, 0, 0, 0, 0, 0, 0, 0, 0, 0, 0, 0, 0, 0, 0, 0, 0, 0, 0, 0, 0, 0, 0, 0, 0, 0, 0, 0, 0, 0, 0, 0, 0, 0, 0, 0, 0, 0, 0, 0, 0, 0, 0, 0, 0, 0, 0, 0, 0, 0, 0, 0, 0, 0, 0, 0, 0, 0, 0, 0, 0, 0, 0, 0, 0, 0, 0, 0, 0, 0, 0, 0, 0, 0, 0, 0, 0, 0, 0, 0, 0, 0, 0, 0, 0, 0, 0, 0, 0, 0, 0, 0, 0, 0, 0, 0, 0, 0, 0, 0, 0, 0, 0, 0, 0, 0, 0, 0, 0, 0, 0, 0, 0, 0, 0, 0, 0, 0, 0, 0, 0, 0, 0, 0, 0, 0, 0, 0, 0, 0, 0, 0, 0, 0, 0, 0, 0, 0, 0, 0, 0, 0, 0, 0, 0, 0, 0, 0, 0, 0, 0, 0, 0, 0, 0, 0, 0, 0, 0, 0, 0, 0, 0, 0, 0, 0, 0, 0, 0, 0, 0, 0, 0, 0, 0, 0, 0, 0, 0, 0, 0, 0, 0, 0, 0, 0, 0, 0, 0, 0, 0, 0, 0, 0, 0, 0, 0, 0, 0, 0, 0, 0, 0, 0, 0, 0, 0, 0, 0, 0, 0, 0, 0, 0, 0, 0, 0, 0, 0, 0, 0, 0, 0, 0, 0, 0, 0, 0, 0, 0, 0, 0, 0, 0, 0, 0, 0, 0, 0, 0, 0, 0, 0, 0, 0, 0, 0, 0, 0, 0, 0, 0, 0, 0, 0, 0, 0, 0, 0, 0, 0, 0, 0, 0, 0, 0, 0, 0, 0, 0, 0, 0, 0, 0, 0, 0, 0, 0, 0, 0, 0, 0, 0, 0, 0, 0, 0, 0, 0, 0, 0, 0, 0, 0, 0, 0, 0, 0, 0, 0, 0, 0, 0, 0, 0, 0, 0, 0, 0, 0, 0, 0, 0, 0, 0, 0, 0, 0, 0, 0, 0, 0, 0, 0, 0, 0, 0, 0, 0, 0, 0, 0, 0, 0, 0, 0, 0, 0, 0, 0, 0, 0, 0, 0, 0, 0, 0, 0, 0, 0, 0, 0, 0, 0, 0, 0, 0, 0, 0, 0, 0, 0, 0, 0, 0, 0, 0, 0, 0, 0, 0, 0, 0, 0, 0, 0, 0, 0, 0, 0, 0, 0, 0, 0, 0, 0, 0, 0, 0, 0, 0, 0, 0, 0, 0, 0, 0, 0, 0, 0, 0, 0, 0, 0, 0, 0, 0, 0, 0, 0, 0, 0, 0, 0, 0, 0, 0, 0, 0, 0, 0, 0, 0, 0, 0, 0, 0, 0, 0, 0, 0, 0, 0, 0, 0, 0, 0, 0, 0, 0, 0, 0, 0, 0, 0, 0, 0, 0, 0, 0, 0, 0, 0, 0, 0, 0, 0, 0, 0, 0, 0, 0, 0, 0, 0, 0, 0, 0, 0, 0, 0, 0, 0, 0, 0, 0, 0, 0, 0, 0, 0, 0, 0, 0, 0, 0, 0, 0, 0, 0, 0, 0, 0, 0, 0, 0, 0, 0, 0, 0, 0, 0, 0, 0, 0, 0, 0, 0, 0, 0, 0, 0, 0, 0, 0, 0, 0, 0, 0, 0, 0, 0, 0, 0, 0, 0, 0, 0, 0, 0, 0, 0, 0, 0, 0, 0, 0, 0, 0, 0, 0, 0, 0, 0, 0, 0, 0, 0, 0, 0, 0, 0, 0, 0, 0, 0, 0, 0, 0, 0, 0, 0, 0, 0, 0, 0, 0, 0, 0, 0, 0, 0, 0, 0, 0, 0, 0, 0, 0, 0, 0, 0, 0, 0, 0, 0, 0, 0, 0, 0, 0, 0, 0, 0, 0, 0, 0, 0, 0, 0, 0, 0, 0, 0, 0, 0, 0, 0, 0, 0, 0, 0, 0, 0, 0, 0, 0, 0, 0, 0, 0, 0, 0, 0, 0, 0, 0, 0, 0, 0, 0, 0, 0, 0, 0, 0, 0, 0, 0, 0, 0, 0, 1, 0, 0, 0, 0, 0, 0, 0, 0, 0, 0, 0, 0, 0, 0, 0, 0, 0, 0, 0, 0, 0, 0, 0, 0, 0, 0, 0, 0, 0, 0, 0, 0, 0, 0, 0, 0, 0, 0, 0, 0, 0, 0, 0, 0, 0, 0, 0, 0, 0, 0, 0, 0, 0, 0, 0, 0, 0, 0, 0, 0, 0, 0, 0, 0, 0, 0, 0, 0, 0, 0, 0, 0, 0, 0, 0, 0, 0, 0, 0, 0, 0, 0, 0, 0, 0, 0, 0, 0, 0, 0, 0, 0, 0, 0, 0, 0, 0, 0, 0, 0, 0, 0, 0, 0, 0, 0, 0, 1, 0, 0, 0, 0, 0, 0, 0, 0, 0, 0, 0, 0, 0, 0, 0, 0, 0, 0, 0, 0, 0, 0, 0, 0, 0, 0, 0, 0, 0, 0, 0, 0, 0, 0, 0, 0, 0, 0, 0, 0, 0, 0, 0, 0, 0, 0, 0, 0, 0, 0, 0, 0, 0, 0, 0, 0, 0, 0, 0, 0, 0, 0, 0, 0, 0, 0, 0, 0, 0, 0, 0, 0, 0, 0, 0, 0, 0, 0, 0, 0, 0, 0, 0, 0, 0, 0, 0, 0, 0, 0, 0, 0, 0, 0, 0, 0, 0, 0, 0, 0, 0, 0, 0, 0, 0, 0, 0, 0, 0, 0, 0, 0, 0, 0, 0, 0, 0, 0, 0, 0, 0, 0, 0, 0, 0, 0, 0, 0, 0, 0, 0, 0, 0, 0, 0, 0, 0, 0, 0, 0, 0, 0, 0, 0, 0, 0, 0, 0, 0, 0, 0, 0, 0, 0, 0, 0, 0, 0, 0, 0, 0, 0, 0, 0, 0, 0, 0, 0, 0, 0, 0, 0, 0, 0, 0, 0, 0, 0, 0, 0, 0, 0, 0, 0, 0, 0, 0, 0, 0, 0, 0, 0, 0, 0, 0, 0, 0, 0, 0, 0, 0, 0, 0, 0, 0, 0, 0, 0, 0, 0, 0, 0, 0, 0, 0, 0, 0, 0, 0, 0, 0, 0, 0, 0, 0, 0, 0, 0, 0, 0, 0, 0, 0, 0, 0, 0, 0, 0, 0, 0, 0, 0, 0, 0, 0, 0, 0, 0, 0, 0, 0, 0, 0, 0, 0, 0, 0, 0, 0, 0, 0, 0, 0, 0, 0, 0, 0, 0, 0, 0, 0, 0, 0, 0, 0, 0, 0, 0, 0, 0, 0, 0, 0, 0, 0, 0, 0, 0, 0, 0, 0, 0, 0, 0, 0, 0, 0, 0, 0, 0, 0, 0, 0, 0, 0, 0, 0, 0, 0, 0, 0, 0, 0, 0, 0, 0, 0, 0, 0, 0, 0, 0, 0, 0, 0, 0, 0, 0, 0, 0, 0, 0, 0, 0, 0, 0, 0, 0, 0, 0, 0, 0, 0, 0, 0, 0, 0, 0, 0, 0, 0, 0, 0, 0, 0, 0, 0, 0, 0, 0, 0, 0, 0, 0, 0, 0, 0, 0, 0, 0, 0, 0, 0, 0, 0, 0, 0, 0, 0, 0, 0, 0, 0, 0, 0, 0, 0, 0, 0, 0, 0, 0, 0, 0, 0, 0, 0, 0, 0, 0, 0, 0, 0, 0, 0, 0, 0, 0, 0, 0, 0, 0, 0, 0, 0, 0, 0, 0, 0, 0, 0, 0, 0, 0, 0, 0, 0, 0, 0, 0, 0, 0, 0, 0, 0, 0, 0, 0, 0, 0, 0, 0, 0, 0, 0, 0, 0, 0, 0, 0, 0, 0, 0, 0, 0, 0, 0, 0, 0, 0, 0, 0, 0, 2, 0, 1, 0], type: <class 'list'>, valid types: <class 'bytes'>, <class 'bytearray'>, file-like object"
     ]
    }
   ],
   "source": [
    "response = runtime.invoke_endpoint(EndpointName = xgb_predictor.endpoint, # The name of the endpoint we created\n",
    "                                       ContentType = 'text/csv',                     # The data format that is expected\n",
    "                                       Body = test_bow)"
   ]
  },
  {
   "cell_type": "markdown",
   "metadata": {},
   "source": [
    "So why did we get an error?\n",
    "\n",
    "Because we tried to send the endpoint a list of integers but it expected us to send data of type `text/csv`. So, we need to convert it."
   ]
  },
  {
   "cell_type": "code",
   "execution_count": 45,
   "metadata": {},
   "outputs": [],
   "source": [
    "response = runtime.invoke_endpoint(EndpointName = xgb_predictor.endpoint, # The name of the endpoint we created\n",
    "                                       ContentType = 'text/csv',                     # The data format that is expected\n",
    "                                       Body = ','.join([str(val) for val in test_bow]).encode('utf-8'))"
   ]
  },
  {
   "cell_type": "code",
   "execution_count": 46,
   "metadata": {},
   "outputs": [
    {
     "name": "stdout",
     "output_type": "stream",
     "text": [
      "{'ResponseMetadata': {'RequestId': '072d9526-76ae-469d-a815-d93a82193766', 'HTTPStatusCode': 200, 'HTTPHeaders': {'x-amzn-requestid': '072d9526-76ae-469d-a815-d93a82193766', 'x-amzn-invoked-production-variant': 'AllTraffic', 'date': 'Tue, 28 Jul 2020 15:30:19 GMT', 'content-type': 'text/csv; charset=utf-8', 'content-length': '14'}, 'RetryAttempts': 0}, 'ContentType': 'text/csv; charset=utf-8', 'InvokedProductionVariant': 'AllTraffic', 'Body': <botocore.response.StreamingBody object at 0x7f628c0c72e8>}\n"
     ]
    }
   ],
   "source": [
    "print(response)"
   ]
  },
  {
   "cell_type": "markdown",
   "metadata": {},
   "source": [
    "As we can see, the response from our model is a somewhat complicated looking dict that contains a bunch of information. The bit that we are most interested in is `'Body'` object which is a streaming object that we need to `read` in order to make use of."
   ]
  },
  {
   "cell_type": "code",
   "execution_count": 47,
   "metadata": {},
   "outputs": [
    {
     "name": "stdout",
     "output_type": "stream",
     "text": [
      "0.351771444082\n"
     ]
    }
   ],
   "source": [
    "response = response['Body'].read().decode('utf-8')\n",
    "print(response)"
   ]
  },
  {
   "cell_type": "markdown",
   "metadata": {},
   "source": [
    "Now that we know how to process the incoming user data we can start setting up the infrastructure to make our simple web app work. To do this we will make use of two different services. Amazon's Lambda and API Gateway services.\n",
    "\n",
    "Lambda is a service which allows someone to write some relatively simple code and have it executed whenever a chosen trigger occurs. For example, you may want to update a database whenever new data is uploaded to a folder stored on S3.\n",
    "\n",
    "API Gateway is a service that allows you to create HTTP endpoints (url addresses) which are connected to other AWS services. One of the benefits to this is that you get to decide what credentials, if any, are required to access these endpoints.\n",
    "\n",
    "In our case we are going to set up an HTTP endpoint through API Gateway which is open to the public. Then, whenever anyone sends data to our public endpoint we will trigger a Lambda function which will send the input (in our case a review) to our model's endpoint and then return the result."
   ]
  },
  {
   "cell_type": "markdown",
   "metadata": {},
   "source": [
    "### Setting up a Lambda function\n",
    "\n",
    "The first thing we are going to do is set up a Lambda function. This Lambda function will be executed whenever our public API has data sent to it. When it is executed it will receive the data, perform any sort of processing that is required, send the data (the review) to the SageMaker endpoint we've created and then return the result.\n",
    "\n",
    "#### Part A: Create an IAM Role for the Lambda function\n",
    "\n",
    "Since we want the Lambda function to call a SageMaker endpoint, we need to make sure that it has permission to do so. To do this, we will construct a role that we can later give the Lambda function.\n",
    "\n",
    "Using the AWS Console, navigate to the **IAM** page and click on **Roles**. Then, click on **Create role**. Make sure that the **AWS service** is the type of trusted entity selected and choose **Lambda** as the service that will use this role, then click **Next: Permissions**.\n",
    "\n",
    "In the search box type `sagemaker` and select the check box next to the **AmazonSageMakerFullAccess** policy. Then, click on **Next: Review**.\n",
    "\n",
    "Lastly, give this role a name. Make sure you use a name that you will remember later on, for example `LambdaSageMakerRole`. Then, click on **Create role**."
   ]
  },
  {
   "cell_type": "markdown",
   "metadata": {},
   "source": [
    "#### Part B: Create a Lambda function\n",
    "\n",
    "Now it is time to actually create the Lambda function. Remember from earlier that in order to process the user provided input and send it to our endpoint we need to gather two pieces of information:\n",
    "\n",
    " - The name of the endpoint, and\n",
    " - the vocabulary object.\n",
    "\n",
    "We will copy these pieces of information to our Lambda function after we create it.\n",
    "\n",
    "To start, using the AWS Console, navigate to the AWS Lambda page and click on **Create a function**. When you get to the next page, make sure that **Author from scratch** is selected. Now, name your Lambda function, using a name that you will remember later on, for example `sentiment_analysis_xgboost_func`. Make sure that the **Python 3.6** runtime is selected and then choose the role that you created in the previous part. Then, click on **Create Function**.\n",
    "\n",
    "On the next page you will see some information about the Lambda function you've just created. If you scroll down you should see an editor in which you can write the code that will be executed when your Lambda function is triggered. Collecting the code we wrote above to process a single review and adding it to the provided example `lambda_handler` we arrive at the following.\n",
    "\n",
    "```python\n",
    "# We need to use the low-level library to interact with SageMaker since the SageMaker API\n",
    "# is not available natively through Lambda.\n",
    "import boto3\n",
    "\n",
    "# And we need the regular expression library to do some of the data processing\n",
    "import re\n",
    "\n",
    "REPLACE_NO_SPACE = re.compile(\"(\\.)|(\\;)|(\\:)|(\\!)|(\\')|(\\?)|(\\,)|(\\\")|(\\()|(\\))|(\\[)|(\\])\")\n",
    "REPLACE_WITH_SPACE = re.compile(\"(<br\\s*/><br\\s*/>)|(\\-)|(\\/)\")\n",
    "\n",
    "def review_to_words(review):\n",
    "    words = REPLACE_NO_SPACE.sub(\"\", review.lower())\n",
    "    words = REPLACE_WITH_SPACE.sub(\" \", words)\n",
    "    return words\n",
    "    \n",
    "def bow_encoding(words, vocabulary):\n",
    "    bow = [0] * len(vocabulary) # Start by setting the count for each word in the vocabulary to zero.\n",
    "    for word in words.split():  # For each word in the string\n",
    "        if word in vocabulary:  # If the word is one that occurs in the vocabulary, increase its count.\n",
    "            bow[vocabulary[word]] += 1\n",
    "    return bow\n",
    "\n",
    "\n",
    "def lambda_handler(event, context):\n",
    "    \n",
    "    vocab = \"*** ACTUAL VOCABULARY GOES HERE ***\"\n",
    "    \n",
    "    words = review_to_words(event['body'])\n",
    "    bow = bow_encoding(words, vocab)\n",
    "\n",
    "    # The SageMaker runtime is what allows us to invoke the endpoint that we've created.\n",
    "    runtime = boto3.Session().client('sagemaker-runtime')\n",
    "\n",
    "    # Now we use the SageMaker runtime to invoke our endpoint, sending the review we were given\n",
    "    response = runtime.invoke_endpoint(EndpointName = '***ENDPOINT NAME HERE***',# The name of the endpoint we created\n",
    "                                       ContentType = 'text/csv',                 # The data format that is expected\n",
    "                                       Body = ','.join([str(val) for val in bow]).encode('utf-8')) # The actual review\n",
    "\n",
    "    # The response is an HTTP response whose body contains the result of our inference\n",
    "    result = response['Body'].read().decode('utf-8')\n",
    "    \n",
    "    # Round the result so that our web app only gets '1' or '0' as a response.\n",
    "    result = round(float(result))\n",
    "\n",
    "    return {\n",
    "        'statusCode' : 200,\n",
    "        'headers' : { 'Content-Type' : 'text/plain', 'Access-Control-Allow-Origin' : '*' },\n",
    "        'body' : str(result)\n",
    "    }\n",
    "```"
   ]
  },
  {
   "cell_type": "markdown",
   "metadata": {},
   "source": [
    "Once you have copy and pasted the code above into the Lambda code editor, replace the `**ENDPOINT NAME HERE**` portion with the name of the endpoint that we deployed earlier. You can determine the name of the endpoint using the code cell below."
   ]
  },
  {
   "cell_type": "code",
   "execution_count": 49,
   "metadata": {},
   "outputs": [
    {
     "data": {
      "text/plain": [
       "'xgboost-2020-07-28-12-57-01-818'"
      ]
     },
     "execution_count": 49,
     "metadata": {},
     "output_type": "execute_result"
    }
   ],
   "source": [
    "xgb_predictor.endpoint"
   ]
  },
  {
   "cell_type": "markdown",
   "metadata": {},
   "source": [
    "In addition, you will need to copy the vocabulary dict to the appropriate place in the code at the beginning of the `lambda_handler` method. The cell below prints out the vocabulary dict in a way that is easy to copy and paste."
   ]
  },
  {
   "cell_type": "code",
   "execution_count": 51,
   "metadata": {},
   "outputs": [
    {
     "name": "stdout",
     "output_type": "stream",
     "text": [
      "{'the': 4426, 'problems': 3409, 'with': 4911, 'are': 285, 'many': 2732, 'one': 3107, 'line': 2610, 'concept': 930, 'that': 4424, 'looks': 2649, 'good': 1937, 'on': 3105, 'paper': 3183, 'which': 4867, 'also': 199, 'worked': 4941, 'in': 2257, 'an': 223, 'earlier': 1399, 'english': 1483, 'film': 1716, 'love': 2669, 'actually': 109, 'goes': 1930, 'terribly': 4408, 'wrong': 4973, 'thanks': 4423, 'to': 4507, 'inept': 2281, 'and': 226, 'shallow': 3917, 'writing': 4971, 'well': 4843, 'idea': 2213, 'gets': 1900, 'under': 4639, 'weight': 4840, 'of': 3083, 'its': 2370, 'own': 3158, 'director': 1264, 'so': 4046, 'completely': 922, 'by': 642, 'his': 2118, 'much': 2934, 'first': 1736, 'ho': 2127, 'try': 4600, 'number': 3060, 'times': 4497, 'device': 1227, 'split': 4120, 'screens': 3832, 'is': 2360, 'used': 4693, 'this': 4457, 'flick': 1754, 'problem': 3408, 'what': 4858, 'were': 4848, 'emotional': 1459, 'school': 3813, 'making': 2718, 'but': 636, 'here': 2086, 'emotion': 1458, 'doesnt': 1309, 'quite': 3495, 'grace': 1950, 'us': 4690, 'appearance': 274, 'screen': 3829, 'no': 3020, 'not': 3040, 'even': 1533, 'writer': 4968, 'gives': 1914, 'six': 4010, 'relationships': 3598, 'common': 906, 'where': 4864, 'intensity': 2317, 'depth': 1190, 'tribute': 4581, 'it': 2366, 'just': 2437, 'cannot': 670, 'work': 4940, 'my': 2951, 'opinion': 3118, 'basic': 406, 'for': 1784, 'like': 2599, 'only': 3110, 'should': 3951, 'each': 1395, 'individual': 2277, 'story': 4207, 'be': 418, 'complete': 921, 'some': 4061, 'way': 4820, 'or': 3124, 'other': 3135, 'follow': 1772, 'traditional': 4550, 'three': 4469, 'act': 97, 'structure': 4233, 'fields': 1705, 'thats': 4425, 'real': 3547, 'reason': 3557, 'why': 4878, 'didnt': 1242, 'me': 2778, 'none': 3028, 'stories': 4205, 'had': 2003, 'any': 256, 'ride': 3692, 'ups': 4686, 'mainstream': 2709, 'cinema': 816, 'between': 475, 'seemed': 3862, 'very': 4723, 'forced': 1787, 'clear': 839, 'khan': 2459, 'doing': 1312, 'at': 331, 'wedding': 4836, 'if': 2222, 'he': 2056, 'was': 4805, 'required': 3641, 'present': 3374, 'scene': 3809, 'neat': 2982, 'wrap': 4963, 'up': 4683, 'few': 1700, 'more': 2904, 'bring': 585, 'two': 4620, 'couples': 1017, 'would': 4957, 'yes': 4982, 'did': 1241, 'have': 2052, 'lot': 2661, 'promise': 3430, 'kapoor': 2443, 'tries': 4585, 'situation': 4008, 'mid': 2832, 'life': 2592, 'crisis': 1060, 'journey': 2421, 'youre': 4992, 'left': 2561, 'wondering': 4930, 'really': 3556, 'issue': 2364, 'similarly': 3980, 'true': 4596, 'developed': 1223, 'little': 2624, 'better': 472, 'felt': 1692, 'promising': 3433, 'told': 4513, 'from': 1840, 'male': 2719, 'point': 3316, 'view': 4736, 'fine': 1729, 'brings': 587, 'down': 1335, 'these': 4441, 'because': 432, 'female': 1693, 'characters': 760, 'particular': 3194, 'all': 187, 'half': 2007, 'filled': 1715, 'bath': 411, 'wasnt': 4807, 'supposed': 4306, 'about': 67, '12': 3, 'different': 1248, 'lives': 2628, 'now': 3054, 'actors': 104, 'john': 2409, 'abraham': 69, 'still': 4188, 'needs': 2990, 'learn': 2550, 'acting': 99, 'while': 4868, 'endearing': 1469, 'as': 311, 'ever': 1538, 'role': 3726, 'written': 4972, 'him': 2110, 'sometimes': 4067, 'boredom': 542, 'character': 758, 'since': 3990, 'she': 3923, 'get': 1899, 'portray': 3340, 'uses': 4697, 'her': 2085, 'charming': 768, 'smile': 4036, 'natural': 2973, 'style': 4249, 'cover': 1022, 'despite': 1211, 'going': 1931, 'over': 3148, 'top': 4525, 'scenes': 3811, 'has': 2043, 'nothing': 3047, 'do': 1302, 'does': 1308, 'remind': 3618, 'shes': 3930, 'same': 3778, 'girl': 1909, 'who': 4871, 'surprised': 4313, 'performance': 3228, 'make': 2713, 'huge': 2185, 'mistake': 2871, 'called': 652, 'succeeds': 4264, 'large': 2517, 'extent': 1605, 'most': 2909, 'irritating': 2359, 'track': 4544, 'ends': 1474, 'time': 4495, 'mainly': 2708, 'them': 4432, 'must': 2950, 'credit': 1049, 'their': 4431, 'theyre': 4445, 'consistently': 954, 'bad': 382, 'through': 4477, 'could': 1007, 'next': 3007, 'queen': 3485, 'dont': 1324, 'buy': 640, 'crap': 1031, 'somebody': 4062, 'tell': 4395, 'difference': 1246, 'being': 448, 'demands': 1175, 'downright': 1337, 'youve': 4995, 'seen': 3865, 'seems': 3864, 'inspiration': 2300, 'behind': 447, 'interviews': 2330, 'boss': 546, 'youll': 4988, 'know': 2489, 'mean': 2779, 'strongly': 4231, 'feel': 1684, 'taken': 4350, 'rather': 3528, 'than': 4420, 'bigger': 479, 'star': 4150, 'phony': 3256, 'accent': 78, 'less': 2575, 'fair': 1630, 'manage': 2722, 'add': 115, 'directorial': 1265, 'touches': 4535, 'particularly': 3195, 'liked': 2600, 'use': 4692, 'grey': 1973, 'color': 877, 'boring': 543, 'existence': 1571, 'bright': 581, 'colors': 879, 'come': 886, 'into': 2332, 'arrival': 299, 'woman': 4921, 'will': 4886, 'anyone': 259, 'choose': 799, 'paint': 3173, 'house': 2178, 'depressing': 1188, 'acceptable': 81, 'cinematic': 818, 'say': 3799, 'when': 4862, 'runs': 3757, 'almost': 193, 'hours': 2177, 'feels': 1687, 'trying': 4601, 'too': 4522, 'hard': 2033, 'give': 1912, 'audience': 352, 'glimpse': 1919, 'touch': 4533, 'montage': 2894, 'sequences': 3888, 'maybe': 2776, 'wants': 4791, 'sit': 4003, 'theatre': 4429, 'long': 2644, 'possible': 3350, 'loved': 2670, 'episode': 1507, 'there': 4438, 'been': 438, 'quick': 3490, 'reference': 3582, 'secretary': 3850, 'getting': 1901, 'effectively': 1430, 'after': 143, 'fact': 1621, 'columbo': 881, 'unpredictable': 4675, 'twist': 4617, 'resolution': 3649, 'part': 3193, 'conclusion': 936, 'along': 195, 'murderer': 2941, 'peter': 3247, 'falk': 1636, 'ruth': 3763, 'gordon': 1940, 'priceless': 3390, 'playing': 3300, 'famous': 1647, 'makes': 2716, 'comment': 898, 'tongue': 4518, 'cheek': 779, 'fame': 1642, 'crime': 1055, 'best': 469, 'great': 1964, 'ranks': 3519, 'worst': 4952, 'movies': 2927, 'ive': 2372, 'years': 4979, 'besides': 468, 'cuba': 1075, 'embarrassing': 1454, 'once': 3106, 'decent': 1147, 'actress': 105, 'happened': 2027, 'action': 100, 'implausible': 2245, 'worth': 4953, 'mentioning': 2812, 'thinks': 4454, 'makeup': 2717, 'contemporary': 965, 'feature': 1678, 'someone': 4064, 'artist': 307, 'see': 3855, 'ending': 1471, 'massive': 2756, 'disappointment': 1275, 'lines': 2612, 'then': 4436, 'they': 4442, 'realized': 3553, 'dream': 1354, 'waste': 4808, 'your': 4991, 'money': 2888, 'off': 3084, 'staring': 4152, 'space': 4090, 'those': 4460, 'films': 1721, 'explore': 1594, 'culture': 1079, 'eastern': 1408, 'born': 544, 'people': 3221, 'loving': 2675, 'sad': 3767, 'due': 1382, 'major': 2711, 'cultural': 1078, 'differences': 1247, 'ken': 2453, 'rock': 3720, 'japanese': 2382, 'can': 665, 'stay': 4166, 'united': 4664, 'states': 4163, 'marriage': 2743, 'expected': 1577, 'until': 4680, 'legal': 2563, 'status': 4165, 'again': 146, 'lost': 2660, 'every': 1539, 'relationship': 3597, 'takes': 4351, 'liking': 2604, 'things': 4451, 'out': 3141, 'friends': 1837, 'rid': 3690, 'girls': 1911, 'roll': 3728, 'except': 1556, 'song': 4071, 'broken': 594, 'hearts': 2066, 'comes': 891, 'expect': 1575, 'married': 2744, 'return': 3665, 'japan': 2381, 'finally': 1724, 'hes': 2093, 'found': 1811, 'isnt': 2362, 'expecting': 1578, 'whole': 4873, 'says': 3801, 'cant': 671, 'killer': 2470, '80s': 59, 'soundtrack': 4085, 'picked': 3266, 'reminded': 3619, 'favorite': 1671, 'pop': 3330, 'you': 4986, 'enjoyed': 1486, 'check': 777, 'new': 3003, 'york': 4985, 'singer': 3993, 'american': 213, 'band': 391, 'movie': 2926, 'happy': 2032, 'panic': 3181, 'never': 3001, 'got': 1944, 'theatrical': 4430, 'release': 3602, 'easily': 1406, 'smart': 4035, 'audiences': 353, 'probably': 3407, 'difficult': 1249, 'comparing': 913, 'beauty': 430, 'study': 4242, 'illegal': 2229, 'family': 1645, 'though': 4461, 'may': 2775, 'seem': 3861, 'unoriginal': 4673, 'material': 2766, 'dialogue': 1234, 'direction': 1261, 'realistic': 3550, 'look': 2646, 'middle': 2833, 'aged': 149, 'man': 2721, 'william': 4887, 'macy': 2695, 'stars': 4155, 'alex': 179, 'works': 4945, 'fathers': 1667, 'sutherland': 4333, 'contract': 973, 'killing': 2472, 'business': 633, 'leads': 2548, 'double': 1331, 'wife': 4884, 'son': 4070, 'unaware': 4632, 'trade': 4547, 'age': 148, 'becomes': 434, 'increasingly': 2268, 'done': 1322, 'calm': 655, 'grasp': 1960, 'meets': 2795, 'young': 4989, 'decides': 1150, 'quit': 3494, 'henry': 2084, 'decided': 1149, 'main': 2707, 'break': 569, 'away': 369, 'believable': 453, 'handled': 2019, 'naturally': 2974, 'focus': 1766, 'falls': 1640, 'job': 2405, 'script': 3834, 'tragedy': 4551, 'definite': 1161, 'theme': 4433, 'destiny': 1212, 'running': 3756, 'throughout': 4478, 'creates': 1038, 'tragic': 4552, 'sympathetic': 4342, 'turns': 4609, 'yet': 4984, 'another': 250, 'always': 203, 'donald': 1321, 'abusive': 75, 'father': 1666, 'dramatic': 1348, 'turn': 4605, 'welcome': 4842, 'change': 749, 'comedian': 887, 'consider': 949, 'shop': 3945, 'mood': 2898, 'confusion': 943, 'crafted': 1029, 'rate': 3526, 'cast': 710, 'plausible': 3295, 'nice': 3008, 'hopefully': 2157, 'taste': 4369, 'creating': 1039, '10': 0, 'believe': 454, 'wasted': 4809, 'couldnt': 1008, 'call': 651, 'recommend': 3571, 'low': 2676, 'budget': 610, 'weird': 4841, 'flicks': 1755, 'bored': 541, 'death': 1141, 'badly': 383, 'made': 2697, 'ruined': 3751, 'curious': 1083, 'wonder': 4926, 'thinking': 4453, 'spent': 4108, 'produce': 3413, 'watching': 4815, 'end': 1468, 'how': 2181, 'likes': 2602, 'kind': 2476, 'find': 1726, 'video': 4733, 'store': 4204, 'deserves': 1201, 'forgotten': 1797, 'horror': 2168, 'zombie': 4997, 'sure': 4308, 'storyline': 4208, 'basically': 407, 'mix': 2876, 'thrown': 4481, 'together': 4511, 'quality': 3484, 'spots': 4132, 'thing': 4450, 'missing': 2869, 'entertaining': 1499, 'fun': 1848, 'effects': 1431, 'range': 3516, 'said': 3774, 'faced': 1617, 'zombies': 4998, 'kiss': 2483, 'ones': 3108, 'amazing': 209, 'title': 4504, 'gore': 1941, 'area': 286, 'such': 4268, 'small': 4033, 'party': 3200, '100': 1, 'heard': 2062, 'various': 4715, 'rough': 3741, 'cut': 1089, 'general': 1880, 'actual': 108, 'directors': 1266, 'coming': 896, 'dvd': 1391, 'judge': 2424, 'myself': 2953, 'nuclear': 3057, 'power': 3359, 'plant': 3293, 'houses': 2180, 'built': 618, 'underground': 4640, 'attack': 337, 'theres': 4440, 'pretty': 3384, 'straight': 4210, 'social': 4049, 'commentary': 899, 'music': 2946, 'lighting': 2596, 'effective': 1429, 'suspense': 4330, 'tons': 4520, 'blood': 512, 'sick': 3963, 'guy': 2000, 'attacked': 338, 'ripped': 3701, 'lower': 2677, 'guts': 1999, 'mouth': 2920, 'torn': 4528, 'day': 1129, 'dead': 1132, 'effect': 1428, 'million': 2847, 'gags': 1862, 'stop': 4201, 'enjoy': 1484, 'meat': 2787, 'market': 2740, 'ok': 3098, 'set': 3898, 'thought': 4462, 'picture': 3269, 'able': 66, 'before': 440, 'todd': 4510, 'helps': 2082, 'hearing': 2063, 'talk': 4358, 'detail': 1217, 'knows': 2493, 'trashy': 4566, 'show': 3953, 'respect': 3652, 'involved': 2346, 'sense': 3877, 'humor': 2192, 'humble': 2191, 'integrity': 2311, 'others': 3136, 'field': 1704, 'footage': 1782, 'mixed': 2877, 'news': 3005, 'places': 3284, 'fox': 1814, 'mtv': 2933, 'around': 297, 'laughing': 2533, 'enjoying': 1487, 'shot': 3949, 'dull': 1384, 'technically': 4382, 'superior': 4300, 'arent': 288, 'ps': 3453, 'big': 478, 'ring': 3698, 'screenplay': 3831, 'hitchcock': 2123, 'wrote': 4974, 'himself': 2111, 'deals': 1137, 'pictures': 3270, 'cynical': 1093, 'morality': 2903, 'comedies': 889, 'de': 1131, 'competent': 917, 'using': 4698, 'ideas': 2215, 'suspenseful': 4331, 'thrillers': 4473, 'least': 2554, 'developing': 1224, 'create': 1036, 'student': 4238, 'german': 1896, 'editing': 1421, 'impact': 2244, 'upon': 4684, 'keeps': 2451, 'content': 966, 'imagery': 2234, 'apparent': 269, 'opening': 3114, 'shots': 3950, 'brilliantly': 584, 'smooth': 4041, 'suggest': 4280, 'sound': 4081, 'example': 1553, 'second': 3846, 'bell': 458, 'we': 4823, 'hear': 2061, 'image': 2233, 'contrast': 975, 'silent': 3975, 'cards': 683, 'enough': 1491, 'faith': 1633, 'either': 1438, 'read': 3543, 'meaning': 2780, 'speech': 4102, 'contrived': 976, 'symbolism': 4341, 'overacting': 3149, 'right': 3696, 'angles': 237, 'timing': 4498, 'strong': 4229, 'subtle': 4260, 'performances': 3229, 'unfortunately': 4654, 'obvious': 3071, 'unnecessary': 4672, 'far': 1653, 'lets': 2580, 'mentions': 2813, 'aforementioned': 139, 'handsome': 2021, 'talented': 4355, 'carl': 692, 'lead': 2545, 'spite': 4117, 'talent': 4354, 'bit': 488, 'confused': 941, 'honest': 2146, 'ballet': 389, 'dancer': 1104, 'former': 1800, 'professional': 3421, 'rival': 3706, 'ian': 2209, 'hunter': 2199, 'go': 1924, 'lengthy': 2570, 'career': 686, 'supporting': 4304, 'roles': 3727, '60s': 54, 'given': 1913, 'hall': 2009, 'davis': 1126, 'lovers': 2673, 'pulls': 3464, 'however': 2183, 'understated': 4646, 'shame': 3918, 'lasted': 2522, 'era': 1513, 'last': 2521, 'provides': 3450, 'comic': 893, 'relief': 3605, 'rings': 3699, 'climactic': 848, 'fight': 1707, 'among': 217, 'impressive': 2253, 'moments': 2887, 'martin': 2748, 'eye': 1611, 'directed': 1259, 'bull': 619, 'inside': 2297, 'starts': 4159, 'fairly': 1631, 'regular': 3592, 'drops': 1372, 'close': 853, 'involve': 2345, 'crucial': 1068, 'later': 2525, 'secret': 3849, 'success': 4265, 'often': 3095, 'viewer': 4738, 'fear': 1676, 'paranoia': 3186, 'recognition': 3568, 'inferior': 2285, 'known': 2492, 'polished': 3323, 'features': 1680, 'seconds': 3848, 'roots': 3738, 'back': 378, 'twice': 4613, '40s': 49, 'modern': 2882, 'noir': 3023, '90s': 61, 'nick': 3012, 'cage': 645, 'plays': 3301, 'luck': 2681, 'husband': 2204, 'murder': 2939, 'plot': 3309, 'worse': 4951, 'town': 4541, 'violence': 4747, 'threat': 4467, 'red': 3576, 'west': 4852, 'lots': 2662, 'twists': 4619, 'hopper': 2161, 'musical': 2947, 'backdrop': 379, 'directing': 1260, 'joy': 2422, 'empty': 1465, 'gas': 1874, 'car': 680, 'head': 2057, 'flynn': 1765, 'mostly': 2910, 'bedroom': 437, 'antics': 255, 'beautifully': 429, 'boxing': 556, 'jim': 2402, 'charm': 767, 'full': 1846, 'san': 3780, 'francisco': 1819, 'bank': 394, 'setting': 3900, 'society': 4050, 'smith': 4038, 'pal': 3177, 'attend': 344, 'bare': 398, 'arrested': 298, 'scores': 3823, 'men': 2805, 'dog': 1310, 'including': 2264, 'chance': 747, 'via': 4726, 'gain': 1863, 'private': 3404, 'club': 863, 'opportunity': 3121, 'members': 2801, 'land': 2511, 'spot': 4131, 'resident': 3647, 'skill': 4013, 'sport': 4129, 'soon': 4074, 'taking': 4352, 'world': 4946, 'sullivan': 4288, 'bond': 532, 'magical': 2704, 'charisma': 762, 'appeal': 271, 'terrific': 4409, 'especially': 1520, 'hair': 2005, 'wearing': 4831, 'white': 4870, 'union': 4661, 'suit': 4284, 'virtually': 4751, 'delivery': 1173, 'credible': 1048, 'class': 833, 'match': 2762, 'stage': 4139, 'needed': 2988, 'stand': 4143, 'reputation': 3640, 'rape': 3521, 'attitude': 346, 'hardly': 2036, 'help': 2079, 'fall': 1637, 'spell': 4104, 'incredibly': 2270, 'tender': 4401, 'calls': 654, 'amusing': 221, 'support': 4303, 'provided': 3449, 'self': 3869, 'manager': 2724, 'rest': 3657, 'excellent': 1555, 'hill': 2108, 'types': 4622, 'sets': 3899, 'amazingly': 210, 'presented': 3376, 'border': 539, 'suits': 4287, 'days': 1130, 'championship': 745, 'shown': 3959, 'exaggerated': 1552, 'entertainment': 1500, 'purposes': 3475, 'authentic': 358, 'methods': 2825, 'costumes': 1006, 'memorable': 2802, 'entirely': 1503, 'classic': 835, 'romantic': 3733, 'alone': 194, 'finds': 1728, 'herself': 2092, 'attracted': 349, 'sons': 4073, 'friend': 1835, 'slightly': 4029, 'twisted': 4618, 'begins': 444, 'sleeping': 4025, 'effort': 1432, 'daughters': 1122, 'interest': 2323, 'strange': 4211, 'mother': 2911, 'manages': 2725, 'daughter': 1121, 'messed': 2821, 'poor': 3328, 'think': 4452, 'truth': 4599, 'positive': 3346, 'light': 2595, 'played': 3297, 'anne': 246, 'portrays': 3344, 'truly': 4597, 'brilliant': 583, 'enjoyable': 1485, 'forgot': 1796, '30': 42, 'minute': 2858, 'couple': 1016, 'kids': 2467, 'noise': 3024, 'dad': 1095, 'forget': 1793, 'uncle': 4636, 'joey': 2408, 'faces': 1618, 'jesse': 2397, 'black': 493, 'minutes': 2859, 'everybody': 1540, 'adventures': 131, 'bunch': 623, 'entire': 1502, 'build': 614, 'bore': 540, 'tears': 4380, 'twenty': 4612, 'faster': 1662, 'normally': 3034, 'art': 304, 'werent': 4849, 'child': 789, 'watch': 4811, 'adult': 125, 'toward': 4539, 'cheesy': 781, 'showed': 3956, 'kid': 2464, 'standing': 4146, 'grown': 1984, 'want': 4788, 'themselves': 4435, 'take': 4349, 'apparently': 270, 'im': 2232, 'glad': 1916, 'showing': 3958, 'instead': 2307, 'saw': 3798, 'yesterday': 4983, 'rented': 3628, 'blockbuster': 509, 'actresses': 106, 'wont': 4932, 'kept': 2456, 'admit': 122, 'tom': 4514, 'lacks': 2505, 'etc': 1527, 'sister': 4001, 'paid': 3169, 'renting': 3629, 'dvds': 1392, 'chose': 804, 'disappointed': 1273, 'anyway': 261, 'thumbs': 4485, 'cup': 1080, 'tea': 4373, 'holes': 2133, 'originally': 3131, 'novel': 3052, 'louis': 2665, 'successfully': 4267, 'starring': 4154, 'stanley': 4148, 'thomas': 4458, 'zero': 4996, 'portrayed': 3342, 'led': 2558, 'punishment': 3467, 'spending': 4106, 'year': 4978, 'camp': 662, 'sam': 3777, 'kate': 2446, 'racism': 3502, 'deep': 1154, 'third': 4455, 'explains': 1589, 'curse': 1086, 'contrary': 974, 'peoples': 3222, 'beliefs': 452, 'book': 535, 'understand': 4643, 'reasonably': 3559, 'easy': 1410, 'jon': 2416, 'voight': 4764, 'mr': 2929, 'sir': 4000, 'jake': 2377, 'max': 2774, 'ray': 3533, 'parts': 3199, 'team': 4378, 'although': 201, 'disney': 1289, 'serious': 3891, 'issues': 2365, 'points': 3319, 'ages': 152, 'whether': 4866, 'shouldnt': 3952, 'miss': 2866, 'having': 2054, 'fan': 1648, 'certainly': 738, 'funny': 1852, 'mob': 2879, 'cry': 1073, 'lovable': 2668, 'offensive': 3086, 'language': 2516, 'honestly': 2147, 'both': 547, 'finding': 1727, 'christmas': 810, 'without': 4913, 'within': 4912, 'week': 4837, 'peters': 3248, 'delightful': 1168, 'surely': 4309, 'predictable': 3367, 'enjoyment': 1488, 'seeing': 3857, 'wish': 4904, 'recorded': 3574, 'highly': 2105, 'simply': 3986, 'enjoys': 1489, 'occasional': 3074, 'tv': 4610, 'holiday': 2134, 'late': 2523, 'laurel': 2537, 'hardy': 2037, 'shorts': 3948, 'destruction': 1216, 'caused': 724, 'stan': 4142, 'box': 555, '1933': 12, 'hole': 2132, 'examples': 1554, 'based': 404, 'boys': 559, 'play': 3296, 'comedy': 890, 'jokes': 2415, 'supposedly': 4307, 'situations': 4009, 'merely': 2815, 'tedious': 4387, '30s': 44, 'personalities': 3241, 'display': 1291, 'finger': 1731, 'blank': 501, 'abilities': 64, 'police': 3322, 'accept': 80, 'caught': 722, 'thus': 4486, 'hiding': 2099, 'colonel': 876, 'mansion': 2731, 'premise': 3370, 'passing': 3204, 'butler': 637, 'engaging': 1481, 'studio': 4240, 'whatever': 4859, 'dialog': 1232, 'move': 2921, 'above': 68, 'silly': 3976, 'treated': 4573, 'endless': 1473, 'gag': 1861, 'lord': 2652, 'name': 2960, 'okay': 3099, 'joke': 2414, 'cops': 993, 'losing': 2658, 'clothes': 860, 'non': 3027, 'painfully': 3172, 'horse': 2170, 'costume': 1005, 'escape': 1517, 'james': 2378, 'body': 527, 'jumping': 2431, 'bother': 548, 'pie': 3271, 'sophisticated': 4075, 'further': 1853, 'cheap': 774, 'dialogues': 1235, 'stupid': 4247, 'awkward': 374, 'cliché': 844, 'several': 3905, 'original': 3129, 'catholic': 720, 'festival': 1697, 'rich': 3685, 'warm': 4794, 'brought': 600, 'acted': 98, 'anything': 260, 'david': 1124, 'ability': 65, 'handle': 2018, 'complex': 923, 'powerful': 3360, 'affect': 136, 'levels': 2585, 'seventies': 3904, 'place': 3282, 'simple': 3983, 'drug': 1373, 'psychotic': 3459, 're': 3535, 'christ': 807, 'acid': 95, 'flashbacks': 1747, 'multi': 2935, 'racial': 3501, 'gender': 1878, 'regardless': 3590, 'financial': 1725, 'moral': 2902, 'slow': 4031, 'pretentious': 3383, 'heavy': 2070, 'handed': 2016, 'passed': 3202, '70s': 56, 'train': 4556, 'wreck': 4965, 'motion': 2913, 'eyes': 1613, 'ridiculous': 3693, 'absurd': 73, 'cross': 1066, 'jesus': 2399, 'beyond': 476, 'valley': 4707, 'dolls': 1316, 'crappy': 1032, 'trip': 4588, 'parents': 3188, 'water': 4816, 'bed': 436, 'fascinating': 1658, 'elements': 1443, 'grade': 1951, 'genre': 1888, 'ill': 2228, 'whats': 4860, 'happening': 2028, 'constant': 957, 'edited': 1420, 'events': 1536, 'face': 1616, 'painted': 3174, 'freak': 1824, 'level': 2584, 'street': 4216, 'theater': 4427, 'annoying': 249, 'maker': 2714, 'surrounded': 4318, 'crew': 1053, 'dropping': 1371, 'richard': 3686, 'hate': 2046, 'laughter': 2535, 'perhaps': 3235, 'blond': 510, 'totally': 4532, 'insane': 2296, 'mad': 2696, 'incredible': 2269, 'course': 1019, 'terrible': 4407, 'randomly': 3515, 'hot': 2174, 'guess': 1989, 'figure': 1711, 'everyone': 1542, 'pays': 3218, 'trust': 4598, 'british': 589, 'unintentional': 4658, 'parody': 3192, 'clichéd': 845, 'ridiculously': 3694, 'elaborate': 1439, 'dimensional': 1253, 'save': 3794, 'control': 977, 'department': 1182, 'progresses': 3426, 'our': 3139, 'belief': 451, 'during': 1387, 'looking': 2648, 'jones': 2418, 'experience': 1580, 'joined': 2413, 'holly': 2136, 'touching': 4536, 'impossible': 2249, 'connection': 946, 'worn': 4948, 'bone': 533, 'graphic': 1958, 'kicks': 2463, 'patrick': 3213, 'ron': 3734, 'stayed': 4167, 'recommended': 3572, 'feminist': 1695, 'seat': 3845, 'ladies': 2506, 'enter': 1494, 'innocent': 2294, 'women': 4923, 'across': 96, 'hope': 2155, 'office': 3091, 'captured': 677, 'ready': 3546, 'kill': 2468, 'alongside': 196, 'dressing': 1359, 'room': 3735, 'oh': 3096, 'evil': 1548, 'nowadays': 3055, 'raped': 3522, 'em': 1452, 'womens': 4924, 'something': 4066, 'headed': 2058, 'speaks': 4096, 'five': 1743, 'seriously': 3892, 'argument': 291, 'eventually': 1537, 'explanation': 1590, 'might': 2835, 'lie': 2590, 'elsewhere': 1449, 'occur': 3076, 'likely': 2601, 'live': 2625, 'ex': 1549, 'husbands': 2205, 'victims': 4730, 'indeed': 2271, 'deserved': 1200, 'taylor': 4372, 'prove': 3445, 'likable': 2598, 'reach': 3536, 'planet': 3289, 'mars': 2746, 'computer': 927, 'hold': 2129, 'horses': 2171, 'therefore': 4439, 'doubt': 1332, 'old': 3100, 'corner': 996, 'loves': 2674, 'whose': 4877, 'deserve': 1199, 'corny': 997, 'court': 1020, 'claim': 828, 'realizing': 3555, 'free': 1827, 'jump': 2429, 'swimming': 4338, 'pool': 3327, 'frame': 1815, 'credits': 1050, 'start': 4156, 'inspiring': 2302, 'need': 2987, 'revenge': 3675, 'nor': 3032, 'kicking': 2462, 'shocked': 3939, 'claims': 830, 'kidding': 2465, 'heart': 2064, 'lawyer': 2541, 'ah': 158, 'care': 684, 'higher': 2101, 'values': 4710, 'am': 204, 'closer': 856, 'importantly': 2248, 'teach': 4374, 'selfish': 3870, 'chasing': 772, 'poverty': 3357, 'misery': 2865, 'open': 3112, 'stick': 4185, 'lesbian': 2573, 'miike': 2837, 'confusing': 942, 'fill': 1714, 'ten': 4399, 'missed': 2867, 'steals': 4172, 'clichés': 846, 'hit': 2122, 'sleazy': 4023, 'supernatural': 4302, 'arms': 294, 'christopher': 811, 'walken': 4777, 'detective': 1220, 'convincingly': 986, 'actor': 103, 'cop': 991, 'pleasant': 3302, 'earth': 1403, 'groups': 1981, 'witches': 4910, 'assume': 328, 'wonderfully': 4929, 'adorable': 124, 'beautiful': 428, 'laugh': 2529, 'knowing': 2490, 'realize': 3552, 'overall': 3150, 'central': 735, 'comics': 895, 'mind': 2849, 'daily': 1097, 'popular': 3333, 'report': 3635, 'case': 707, 'solid': 4057, 'shows': 3960, 'sarah': 3785, 'stuff': 4243, 'mildly': 2840, 'caliber': 649, 'pilot': 3276, 'weeks': 4839, 'form': 1798, 'writers': 4969, 'reviews': 3679, 'bar': 396, 'high': 2100, 'expectations': 1576, 'met': 2822, 'saying': 3800, 'city': 825, 'recognize': 3569, 'certain': 737, 'genuinely': 1892, 'humorous': 2193, 'conversations': 981, 'keep': 2449, 'interesting': 2325, 'leaving': 2557, 'wanted': 4789, 'leave': 2555, 'wanting': 4790, 'fashion': 1659, 'category': 718, 'ultimately': 4628, 'distant': 1295, 'mentioned': 2811, 'conversation': 980, 'justice': 2438, 'home': 2142, 'paris': 3189, 'disappointing': 1274, 'giving': 1915, 'disagree': 1269, 'yourself': 4993, 'review': 3676, 'meant': 2784, 'everyones': 1543, 'vague': 4705, 'heads': 2059, 'period': 3236, 'dramas': 1347, 'bbc': 417, 'past': 3207, 'presentation': 3375, 'unbelievable': 4634, 'unbelievably': 4635, 'dreadful': 1353, 'uninspired': 4657, 'dangerous': 1110, 'production': 3419, 'appeared': 276, 'jumped': 2430, 'hero': 2088, 'greek': 1970, 'struggle': 4234, 'walked': 4776, 'portrayal': 3341, 'watched': 4813, 'waiting': 4772, 'utter': 4701, 'finish': 1732, 'poetry': 3314, 'treatment': 4574, 'serial': 3889, 'killers': 2471, 'absolutely': 72, 'silence': 3974, 'hbo': 2055, 'compelling': 916, 'moment': 2886, 'underlying': 4641, 'themes': 4434, 'exactly': 1551, 'decade': 1144, 'search': 3841, 'russian': 3762, 'stephen': 4176, 'expert': 1585, 'put': 3480, 'charge': 761, 'investigation': 2343, 'involving': 2349, 'person': 3238, 'government': 1948, 'willing': 4889, 'masterpieces': 2760, 'naive': 2958, 'towards': 4540, 'beaten': 424, 'system': 4345, 'passionate': 3206, 'stands': 4147, 'jeffrey': 2391, 'empathy': 1462, 'hatred': 2049, 'monster': 2892, 'tortured': 4530, 'ashamed': 312, 'vicious': 4728, 'dark': 1115, 'subject': 4253, 'matter': 2769, 'disturbing': 1300, 'nonsensical': 3031, 'started': 4157, 'tone': 4517, 'followed': 1773, 'manipulative': 2727, 'rebel': 3561, 'seemingly': 3863, 'responsibility': 3655, 'commit': 904, 'acts': 107, 'nuts': 3064, 'secretly': 3851, 'escaped': 1518, 'mental': 2808, 'patient': 3211, 'somewhere': 4069, 'pointless': 3318, 'perspective': 3245, 'viewers': 4739, 'omen': 3104, 'choice': 797, 'explain': 1586, 'travesty': 4570, 'came': 656, 'board': 522, 'catch': 714, 'series': 3890, 'bought': 552, 'trilogy': 4586, 'bucks': 606, 'putting': 3482, 'extra': 1606, 'disc': 1278, 'average': 362, 'remake': 3612, 'punk': 3468, 'spooky': 4128, 'whos': 4876, 'total': 4531, 'stronger': 4230, 'skills': 4014, 'occurred': 3077, 'foot': 1781, 'avoid': 363, 'cost': 1003, 'copy': 994, 'vhs': 4725, 'television': 4394, 'remember': 3616, 'mistakes': 2873, 'chair': 742, 'belong': 459, 'sing': 3992, 'blind': 506, 'drive': 1363, 'bus': 631, 'hood': 2151, 'prison': 3401, 'neighborhood': 2993, 'serving': 3897, 'onto': 3111, 'dogs': 1311, 'dance': 1103, 'sentimental': 3882, 'smoking': 4040, 'pot': 3354, 'doctor': 1304, 'poorly': 3329, 'scripted': 3835, 'produced': 3414, 'id': 2212, 'sat': 3786, 'satire': 3788, 'redeeming': 3577, 'wannabe': 4787, 'gang': 1867, 'numbers': 3061, 'neighbors': 2994, 'mario': 2738, 'won': 4925, 'oscar': 3133, 'comparison': 914, 'rap': 3520, 'embarrassed': 1453, 'drink': 1361, 'please': 3304, 'spider': 4109, 'cartoons': 705, 'stomach': 4196, 'cartoon': 704, 'remains': 3611, 'version': 4720, 'villains': 4745, 'lousy': 2667, 'feeling': 1685, 'paul': 3214, 'voice': 4761, 'wars': 4804, 'mini': 2854, 'dr': 1340, 'doom': 1326, 'sounds': 4084, 'bela': 450, 'lugosi': 2686, 'doc': 1303, 'iron': 2354, 'sounded': 4082, 'mask': 2752, 'captain': 674, 'america': 212, 'teenage': 4389, 'mel': 2796, 'animation': 242, 'fancy': 1649, 'nicely': 3009, 'movement': 2923, 'let': 2579, 'movements': 2924, 'become': 433, 'heroes': 2089, 'horrible': 2163, 'fighting': 1709, 'lame': 2510, 'excuse': 1564, 'unknown': 4668, 'mysterious': 2955, 'square': 4136, 'pulled': 3462, 'hey': 2095, 'reasons': 3560, 'harry': 2039, 'spoil': 4121, 'scenario': 3808, 'awful': 372, 'critic': 1061, 'juvenile': 2441, 'carefully': 689, 'guys': 2001, 'block': 508, 'strictly': 4223, 'adults': 126, 'daddy': 1096, 'type': 4621, 'blow': 514, 'include': 2261, 'political': 3324, 'punch': 3466, 'today': 4508, 'slick': 4026, 'took': 4523, 'insulting': 2310, 'theyve': 4446, 'hurt': 2202, 'ourselves': 3140, 'rating': 3529, 'bible': 477, 'agree': 155, 'message': 2819, 'scare': 3803, 'hell': 2077, 'cats': 721, 'protect': 3443, 'children': 792, 'kidnapped': 2466, 'size': 4012, 'mark': 2739, 'beast': 422, 'spoken': 4126, 'sell': 3871, 'future': 1856, 'telling': 4396, 'kung': 2498, 'fu': 1844, 'piece': 3272, 'classics': 837, 'monkey': 2890, 'trouble': 4592, 'already': 197, 'laughed': 2532, 'cried': 1054, 'suicide': 4283, 'demon': 1177, 'product': 3418, 'intelligence': 2313, 'ape': 266, 'filmmakers': 1720, 'sum': 4289, 'company': 910, 'soldiers': 4054, 'mention': 2810, 'working': 4944, '13': 4, 'dollars': 1315, 'anyways': 262, 'cia': 814, 'matthew': 2772, 'everything': 1544, 'hoped': 2156, 'appear': 273, 'gotten': 1947, 'training': 4558, 'local': 2634, 'mall': 2720, 'guessed': 1990, 'intentions': 2321, 'agent': 150, 'disappear': 1270, 'rent': 3626, 'guest': 1992, 'appearances': 275, 'pay': 3216, 'staying': 4168, 'sends': 3876, 'finest': 1730, 'possibly': 3351, 'greatest': 1966, 'lewis': 2586, 'turner': 4607, 'heck': 2071, 'win': 4892, 'throw': 4479, 'learns': 2553, 'lonely': 2643, 'mom': 2885, 'date': 1118, 'songs': 4072, 'radio': 3504, 'climax': 849, 'football': 1783, 'game': 1864, 'thugs': 4484, 'boy': 557, 'edge': 1418, 'epic': 1506, 'worker': 4942, 'brain': 562, 'metal': 2823, 'kills': 2474, 'mans': 2730, 'brother': 598, 'escapes': 1519, 'girlfriend': 1910, 'quickly': 3491, 'aspects': 322, 'aspect': 321, 'emily': 1456, 'aside': 315, 'nude': 3058, 'amount': 219, 'presents': 3377, 'somehow': 4063, 'convinced': 984, 'ruthless': 3764, 'makers': 2715, 'bold': 528, 'nudity': 3059, 'extreme': 1609, 'push': 3477, 'ignored': 2225, 'altogether': 202, 'achieved': 93, 'negative': 2991, 'equipment': 1511, 'choices': 798, 'frankly': 1823, 'grave': 1962, 'loosely': 2651, 'chosen': 805, 'sequel': 3885, 'complaint': 920, 'killed': 2469, 'beginning': 443, 'torture': 4529, 'likewise': 2603, 'normal': 3033, 'overly': 3155, 'cruel': 1070, 'sadistic': 3768, 'against': 147, 'neighbor': 2992, 'offering': 3089, 'drugs': 1374, 'sex': 3907, 'means': 2783, 'fool': 1779, 'shocking': 3940, 'vast': 4716, 'majority': 2712, 'warned': 4798, 'books': 536, 'screenwriter': 3833, 'slaughter': 4021, 'fiction': 1702, 'mystery': 2956, 'michael': 2829, 'proved': 3446, 'fabulous': 1615, 'deal': 1135, 'russell': 3761, 'blonde': 511, 'purchased': 3470, 'library': 2589, 'contains': 964, 'singers': 3994, 'unusual': 4681, 'timeless': 4496, 'voices': 4763, 'unfolds': 4651, 'marks': 2742, 'awfully': 373, 'run': 3755, 'transition': 4561, 'ambitious': 211, 'project': 3427, 'below': 462, 'par': 3184, 'execution': 1566, 'jimmy': 2403, 'dean': 1139, 'hysterical': 2208, 'viewed': 4737, 'science': 3816, '3000': 43, 'sight': 3969, 'fed': 1682, 'send': 3875, 'ugly': 4625, 'farce': 1654, 'placed': 3283, 'proves': 3447, 'producers': 3416, 'question': 3487, 'whale': 4857, 'final': 1722, 'wouldnt': 4958, 'spoof': 4127, 'delivers': 1172, 'surprisingly': 4316, 'gothic': 1945, 'nail': 2957, 'position': 3345, 'london': 2641, 'witty': 4917, 'creepy': 1052, 'george': 1893, 'calling': 653, 'convince': 983, 'nearby': 2980, 'pair': 3176, 'planning': 3291, 'julia': 2427, 'trap': 4563, 'joseph': 2419, 'builds': 617, 'shell': 3927, 'apart': 264, 'held': 2074, 'string': 4227, 'scheme': 3812, 'began': 441, 'thriller': 4472, 'heroine': 2091, 'refreshing': 3586, 'god': 1926, 'holy': 2140, 'disaster': 1276, 'masterpiece': 2759, 'jewish': 2401, 'prepared': 3371, 'attempted': 341, 'hang': 2022, 'tried': 4584, 'wooden': 4934, 'pain': 3170, 'suffering': 4277, 'seven': 3903, 'short': 3946, 'sort': 4077, 'tough': 4537, 'ground': 1979, 'leaves': 2556, 'loose': 2650, 'happens': 2029, 'concert': 935, 'boyfriend': 558, 'hook': 2152, 'grant': 1956, 'angela': 232, 'obviously': 3072, 'knock': 2488, 'air': 164, 'dire': 1257, 'incoherent': 2265, 'priest': 3392, 'partner': 3198, 'wall': 4781, 'answers': 252, 'kick': 2460, 'bottom': 551, 'vote': 4766, 'magnificent': 2705, 'locations': 2636, 'spectacular': 4101, 'extremely': 1610, 'detailed': 1218, 'lit': 2621, 'outstanding': 3147, 'order': 3126, 'capital': 673, 'letters': 2582, 'puts': 3481, 'depressed': 1187, 'complain': 919, 'attractive': 351, 'potential': 3355, 'mate': 2765, 'pity': 3281, '80': 58, 'bizarre': 492, 'cinderella': 815, 'tale': 4353, 'step': 4175, 'visually': 4758, 'stunning': 4244, '1990s': 25, 'fast': 1661, 'forward': 1808, '90': 60, 'drivel': 1364, 'glass': 1917, 'results': 3662, 'war': 4792, 'jean': 2389, 'van': 4713, 'wonders': 4931, 'goldberg': 1933, 'weak': 4824, '1st': 28, 'somewhat': 4068, 'disjointed': 1287, 'pacing': 3163, '2nd': 41, 'managed': 2723, 'tension': 4404, 'intrigue': 2333, '3rd': 47, 'regarding': 3589, 'path': 3209, 'die': 1243, 'protagonist': 3441, 'wouldve': 4959, 'asking': 318, 'composed': 926, 'serve': 3893, 'generic': 1885, 'score': 3822, 'dated': 1119, 'impressed': 2251, 'sounding': 4083, 'itself': 2371, 'mediocre': 2791, 'properly': 3437, 'allow': 189, 'filming': 1718, 'finished': 1733, 'hurts': 2203, 'write': 4967, 'otherwise': 3137, 'unless': 4669, 'mst3k': 2932, 'laughs': 2534, 'hilarious': 2106, 'involves': 2348, 'kurt': 2499, 'village': 4743, 'trek': 4578, 'ratings': 3530, 'comments': 901, 'agrees': 157, '11': 2, 'history': 2121, 'added': 116, 'narrative': 2966, 'brothers': 599, 'cliff': 847, 'tony': 4521, 'narration': 2965, 'living': 2629, 'facts': 1624, 'birth': 486, 'childhood': 790, 'familiar': 1643, 'identify': 2216, 'purpose': 3474, 'adding': 117, 'documentary': 1307, 'worried': 4949, 'recent': 3566, 'list': 2617, 'hour': 2176, 'memory': 2804, 'reality': 3551, 'pleased': 3305, 'showcase': 3954, 'pleasantly': 3303, 'billy': 482, 'usual': 4699, 'sean': 3840, 'competition': 918, 'cameo': 657, 'frustration': 1843, 'rules': 3754, 'walks': 4780, 'folks': 1771, 'fail': 1625, 'sci': 3815, 'fi': 1701, 'soap': 4047, 'babe': 375, 'pops': 3332, 'opera': 3116, 'cgi': 740, 'editor': 1423, 'crack': 1027, 'camera': 659, 'opinions': 3119, 'changed': 750, 'excited': 1561, 'sitcom': 4004, 'represent': 3637, 'indian': 2274, 'feed': 1683, 'concerned': 932, 'talked': 4359, 'stereotypes': 4179, 'exist': 1569, 'usually': 4700, 'stereotypical': 4180, 'fresh': 1833, 'boat': 523, 'muslim': 2949, 'politically': 3325, 'correct': 1000, 'flow': 1762, 'sadly': 3769, 'failed': 1626, 'canadian': 667, 'treat': 4572, 'merit': 2816, 'amongst': 218, 'intense': 2316, 'pick': 3265, 'early': 1400, 'lacked': 2503, 'insight': 2298, 'victim': 4729, 'millions': 2848, 'lips': 2615, 'single': 3996, 'months': 2897, 'terror': 4412, 'created': 1037, 'word': 4937, 'theaters': 4428, 'trite': 4589, 'summer': 4291, 'spike': 4111, 'lee': 2559, 'attempts': 343, 'pack': 3165, 'searching': 3842, 'depiction': 1185, 'killings': 2473, 'demons': 1178, 'ensemble': 1492, 'losers': 2656, 'devoid': 1230, 'honor': 2150, 'humanity': 2189, 'nearly': 2981, 'stereotype': 4178, 'cheating': 776, 'hopes': 2159, 'italian': 2367, 'tells': 4397, 'center': 732, 'lucky': 2683, 'deliver': 1169, 'racist': 3503, 'biggest': 480, 'race': 3499, 'nyc': 3065, 'pan': 3180, 'reminiscent': 3621, 'orson': 3132, 'welles': 4844, 'soul': 4079, 'passion': 3205, 'human': 2188, 'frightening': 1839, 'decades': 1145, 'ago': 154, 'beloved': 461, 'fellow': 1691, 'appropriate': 283, 'questions': 3489, 'decide': 1148, 'santa': 3783, 'horrifying': 2167, 'satan': 3787, 'plain': 3286, 'odd': 3080, 'dances': 1106, 'childrens': 793, 'king': 2479, '1930s': 11, 'china': 795, 'meet': 2793, 'elderly': 1440, 'performer': 3231, 'talents': 4356, 'capture': 676, 'awe': 370, 'witness': 4914, 'sees': 3866, 'join': 2412, 'tradition': 4549, 'allows': 192, 'pass': 3201, 'secrets': 3852, 'learning': 2552, 'magic': 2703, 'forever': 1792, 'advice': 133, 'ancient': 225, 'discovers': 1281, 'rare': 3523, 'dying': 1393, 'emotions': 1461, 'international': 2326, 'award': 366, 'winning': 4898, 'scott': 3824, 'larger': 2519, 'interpretation': 2328, 'scrooge': 3837, 'bob': 524, 'window': 4894, 'displays': 1293, 'charismatic': 763, 'jonathan': 2417, 'harris': 2038, 'similar': 3978, 'approach': 282, 'numerous': 3062, 'alike': 185, 'rage': 3505, 'carol': 693, 'trailer': 4554, 'praise': 3364, 'heaven': 2068, 'superb': 4296, 'adam': 111, 'bill': 481, 'note': 3044, 'revealed': 3671, 'gem': 1877, 'offered': 3088, 'channel': 753, 'literally': 2622, 'mentally': 2809, 'walking': 4779, 'march': 2734, 'mummy': 2937, 'park': 3190, 'highlight': 2103, 'went': 4847, 'abysmal': 76, 'descent': 1193, 'drop': 1369, 'stock': 4193, 'hoping': 2160, 'buried': 624, 'steven': 4182, 'seagal': 3839, 'deadly': 1133, 'reading': 3544, 'woody': 4936, 'noticed': 3049, 'limited': 2606, 'impression': 2252, 'popcorn': 3331, 'eat': 1411, 'looked': 2647, 'pace': 3161, 'vision': 4754, 'franchise': 1817, 'homage': 2141, 'fx': 1858, 'friendly': 1836, 'special': 4097, 'robert': 3713, 'agents': 151, 'warning': 4800, 'cause': 723, 'viewing': 4740, 'side': 3965, 'imdb': 2240, 'safe': 3771, 'costs': 1004, 'boom': 537, 'location': 2635, 'photography': 3260, 'hardcore': 2034, 'elizabeth': 1445, 'burton': 630, 'williams': 4888, 'anymore': 258, 'fond': 1776, 'adaptation': 113, 'hated': 2047, 'amounts': 220, 'manner': 2729, 'baby': 376, 'appears': 278, 'campy': 664, 'fans': 1650, 'considered': 951, 'hand': 2015, 'ahead': 159, 'oscars': 3134, 'equally': 1510, 'critics': 1064, 'bomb': 531, 'dare': 1113, 'summary': 4290, 'typical': 4623, 'werewolf': 4850, 'imagine': 2238, 'western': 4853, 'plenty': 3307, 'successful': 4266, 'moon': 2900, 'airplane': 166, 'naked': 2959, 'gun': 1996, 'presence': 3373, 'ed': 1415, 'wing': 4896, 'kitchen': 2485, 'sink': 3999, 'ironic': 2355, 'ie': 2221, 'reviewer': 3677, 'turned': 4606, 'spirit': 4113, 'died': 1244, 'larry': 2520, 'brooks': 596, 'critical': 1062, 'loud': 2664, 'included': 2262, 'references': 3583, 'brand': 565, 'watches': 4814, 'value': 4709, 'whatsoever': 4861, 'starred': 4153, 'albeit': 173, 'briefly': 580, 'efforts': 1433, 'hide': 2097, 'flat': 1748, 'definition': 1163, 'cheese': 780, 'ways': 4822, 'century': 736, 'samurai': 3779, 'temple': 4398, 'background': 380, 'distance': 1294, 'awesome': 371, 'visits': 4756, 'evening': 1534, 'lacking': 2504, 'succeeded': 4263, 'hollywood': 2137, 'spanish': 4092, 'rise': 3702, 'grew': 1972, 'episodes': 1508, 'plots': 3310, 'neither': 2996, 'represents': 3639, 'youth': 4994, 'horrid': 2165, 'unconvincing': 4638, 'appalling': 268, 'tim': 4494, 'fit': 1740, 'ass': 323, 'player': 3298, 'offended': 3085, 'happily': 2030, 'disbelief': 1277, 'lawrence': 2539, 'dorothy': 1330, 'receive': 3563, 'post': 3352, 'charles': 764, 'meanwhile': 2785, 'miles': 2843, 'receives': 3565, 'vulnerable': 4768, 'grand': 1953, 'ball': 388, 'danger': 1109, 'dynamic': 1394, 'duo': 1386, 'stealing': 4171, 'ironically': 2356, 'extras': 1608, 'storm': 4206, 'unfortunate': 4653, 'saving': 3797, 'greater': 1965, 'intriguing': 2335, 'creation': 1040, 'visit': 4755, 'blue': 518, 'viewings': 4741, 'matthau': 2771, 'robbins': 3712, 'ryan': 3765, 'chorus': 803, 'co': 867, 'service': 3896, 'station': 4164, 'overlooked': 3154, 'treasure': 4571, 'aids': 161, 'continues': 971, 'lack': 2502, 'gay': 1876, 'recently': 3567, 'terms': 4406, 'mill': 2845, 'instant': 2305, 'gratuitous': 1961, 'count': 1010, 'independent': 2272, 'indie': 2276, 'tired': 4501, 'teens': 4392, 'rural': 3758, 'struggling': 4236, 'month': 2896, 'night': 3013, 'mass': 2753, 'sun': 4292, 'farm': 1656, 'sign': 3970, 'loaded': 2632, 'visual': 4757, 'clues': 865, 'executed': 1565, 'intellectual': 2312, 'sub': 4252, 'text': 4419, 'concerning': 933, 'riveting': 3708, 'fantastic': 1651, 'portrait': 3339, 'ford': 1789, 'primarily': 3393, 'trial': 4580, 'accused': 91, 'offers': 3090, 'important': 2247, 'douglas': 1334, 'intent': 2318, 'lincoln': 2608, 'result': 3660, 'satisfying': 3791, 'scope': 3821, 'fonda': 1777, 'quiet': 3492, 'strength': 4219, 'includes': 2263, 'combined': 885, 'occasionally': 3075, 'ward': 4793, 'inspired': 2301, 'erotic': 1515, 'core': 995, 'strip': 4228, 'kane': 2442, 'stunt': 4245, 'butt': 638, 'transformation': 4560, 'wolf': 4920, 'explained': 1587, 'latter': 2528, 'oddly': 3081, 'useful': 4694, 'winds': 4895, 'target': 4366, 'touched': 4534, 'youd': 4987, 'mess': 2818, 'legend': 2564, 'campbell': 663, 'hidden': 2096, 'mountain': 2917, 'cave': 727, 'granted': 1957, 'subtitles': 4259, 'warriors': 4803, 'dubbed': 1379, 'usa': 4691, 'stone': 4197, 'unlikely': 4671, 'online': 3109, 'cinematography': 820, 'speaking': 4095, 'photographer': 3259, 'exact': 1550, 'cinematographer': 819, 'carry': 700, 'perfectly': 3226, 'captures': 678, 'breath': 573, 'near': 2979, 'loss': 2659, 'steps': 4177, 'happen': 2026, 'remarkable': 3613, 'raw': 3532, 'painful': 3171, 'understanding': 4645, 'nature': 2975, 'ties': 4490, 'immensely': 2243, 'respected': 3653, 'glenn': 1918, 'spend': 4105, 'minor': 2857, 'pure': 3471, '1970s': 17, 'reminds': 3620, 'deeply': 1156, 'styles': 4250, 'lived': 2626, 'images': 2235, 'skin': 4015, 'north': 3036, '1983': 22, 'testament': 4417, '1984': 23, 'driving': 1368, 'garden': 1872, 'wendy': 4846, 'lucy': 2684, 'chases': 771, 'pro': 3406, 'reflect': 3584, 'personality': 3242, 'le': 2544, 'interview': 2329, 'bland': 500, 'chris': 806, 'careers': 687, 'hart': 2041, 'driver': 1366, 'plans': 3292, 'country': 1014, 'california': 650, 'horribly': 2164, 'helping': 2081, 'follows': 1775, 'format': 1799, 'attempt': 340, 'mixture': 2878, 'whoever': 4872, 'generous': 1886, 'army': 295, 'workers': 4943, 'abc': 63, 'focusing': 1769, 'families': 1644, 'highlights': 2104, 'crying': 1074, 'moving': 2928, 'afford': 138, 'portion': 3338, 'disneys': 1290, 'member': 2800, 'personal': 3240, 'shower': 3957, 'shoots': 3944, 'food': 1778, 'education': 1424, 'medical': 2790, 'entertained': 1498, 'gave': 1875, 'sitting': 4007, 'edition': 1422, 'forgive': 1795, 'crocodile': 1065, 'discovery': 1282, 'steve': 4181, 'pleasure': 3306, 'distracting': 1297, 'reaction': 3541, 'heavily': 2069, 'suffers': 4278, 'uninteresting': 4660, 'unfunny': 4655, 'watchable': 4812, 'afternoon': 144, 'ruin': 3750, 'introduced': 2337, 'rachel': 3500, 'dress': 1357, 'fits': 1741, 'else': 1448, 'previous': 3387, 'nevertheless': 3002, 'season': 3843, 'resist': 3648, 'south': 4087, 'africa': 141, 'gandhi': 1866, 'india': 2273, 'freedom': 1828, 'woods': 4935, 'liberal': 2588, 'newspaper': 3006, 'switch': 4339, 'dies': 1245, 'behavior': 446, 'hands': 2020, 'african': 142, 'kevin': 2457, 'changing': 752, 'friendship': 1838, 'standard': 4144, 'nominated': 3025, 'denzel': 1181, 'washington': 4806, 'fourth': 1813, 'struggles': 4235, 'served': 3894, 'topic': 4526, 'leading': 2547, 'tremendous': 4579, 'flop': 1760, 'politics': 3326, 'pg': 3250, 'corrupt': 1001, 'corruption': 1002, 'definitely': 1162, 'purple': 3473, 'greatly': 1967, 'attention': 345, 'noble': 3021, 'sally': 3776, 'gone': 1935, 'similarities': 3979, 'lynch': 2691, 'novels': 3053, 'mrs': 2930, 'der': 1191, 'clearly': 840, 'accompanied': 86, 'describe': 1194, 'memories': 2803, 'quest': 3486, 'contact': 961, 'backgrounds': 381, 'discover': 1279, 'splendid': 4119, 'nasty': 2968, 'atmosphere': 333, '15': 7, 'sweet': 4336, 'bothered': 549, 'unrealistic': 4677, 'cable': 644, 'talking': 4360, 'creative': 1041, 'favorites': 1672, 'whom': 4875, 'kinda': 2477, 'uk': 4626, 'thank': 4421, 'savage': 3793, 'soviet': 4089, 'faithful': 1634, 'banned': 395, 'flawless': 1751, 'decision': 1151, 'discovered': 1280, 'professor': 3422, 'wisdom': 4902, 'barely': 399, 'creature': 1045, 'perfection': 3225, 'countries': 1013, 'ran': 3513, 'ensues': 1493, 'havent': 2053, 'plus': 3311, 'slight': 4027, 'flaw': 1749, 'round': 3742, 'revolutionary': 3681, 'necessarily': 2983, 'translation': 4562, 'considering': 952, 'intentionally': 2320, 'segment': 3867, 'failing': 1627, 'lying': 2690, 'trick': 4582, 'benefit': 465, 'lazy': 2543, 'sunday': 4293, 'riding': 3695, 'corpse': 999, 'gold': 1932, 'drives': 1367, 'wow': 4962, 'texas': 4418, 'prize': 3405, 'broadway': 592, 'possessed': 3347, 'utterly': 4702, 'surprise': 4312, 'stinks': 4192, 'author': 359, 'slowly': 4032, 'spy': 4135, 'drama': 1346, 'perfect': 3224, 'carrying': 701, 'survive': 4321, 'becoming': 435, 'con': 928, 'rick': 3689, 'responsible': 3656, 'alan': 171, 'howard': 2182, 'jane': 2380, 'younger': 4990, 'nicholas': 3010, 'soldier': 4053, 'europe': 1529, 'adds': 119, 'realism': 3549, 'arthur': 305, 'hundred': 2195, 'page': 3167, 'largely': 2518, 'exception': 1557, 'development': 1225, 'context': 968, 'proof': 3434, 'tense': 4403, 'chase': 769, 'cold': 872, 'dave': 1123, 'related': 3594, 'morning': 2906, 'sings': 3997, 'national': 2970, 'arrived': 301, 'brazil': 568, 'flight': 1757, 'vegas': 4717, 'beat': 423, 'bathroom': 412, 'crowd': 1067, '17': 9, 'students': 4239, 'interaction': 2322, 'environment': 1505, 'creatures': 1046, 'battle': 414, 'root': 3737, 'derek': 1192, 'latest': 2526, 'combination': 883, 'castle': 712, 'ended': 1470, 'returned': 3666, 'achieve': 92, 'religious': 3608, 'propaganda': 3435, 'details': 1219, 'element': 1442, 'designed': 1203, 'historical': 2119, 'figures': 1713, '2004': 34, 'francis': 1818, 'afraid': 140, 'wait': 4770, 'creativity': 1042, 'witch': 4909, 'shoot': 3942, 'poster': 3353, 'intended': 2315, 'length': 2569, 'succeed': 4262, 'reduced': 3579, 'fortunately': 1805, 'funniest': 1851, 'unique': 4662, 'daring': 1114, 'loses': 2657, 'keaton': 2448, 'stunts': 4246, 'addition': 118, 'wallace': 4782, 'appreciated': 280, 'sucked': 4270, 'greedy': 1969, 'idiot': 2218, 'smoke': 4039, 'trailers': 4555, 'sits': 4006, 'chapter': 757, 'changes': 751, 'formula': 1802, 'driven': 1365, 'humour': 2194, 'opens': 3115, 'scared': 3805, 'ghost': 1902, 'typically': 4624, 'knowledge': 2491, 'guard': 1988, 'stolen': 4195, 'violent': 4748, 'fighter': 1708, 'sexual': 3908, 'force': 1786, 'ordinary': 3128, 'snake': 4042, 'whilst': 4869, 'lose': 2654, 'relatively': 3600, 'prior': 3400, 'recall': 3562, 'sequence': 3887, 'potentially': 3356, 'per': 3223, 'sword': 4340, 'consequences': 947, 'tune': 4602, 'generally': 1881, 'thoroughly': 4459, 'excitement': 1562, 'surprises': 4314, 'laid': 2508, 'wholly': 4874, 'flawed': 1750, 'teen': 4388, 'spoiler': 4123, 'wanna': 4786, 'plague': 3285, 'burn': 625, 'bringing': 586, '18': 10, 'invisible': 2344, 'compared': 912, 'develops': 1226, 'connect': 944, 'french': 1830, 'claire': 831, 'worlds': 4947, 'accomplished': 87, 'poem': 3312, 'physically': 3263, 'travels': 4569, 'seeking': 3859, 'redemption': 3578, 'peace': 3219, 'condition': 937, 'wild': 4885, 'wealthy': 4827, 'emotionally': 1460, 'sinister': 3998, 'officer': 3092, 'foreign': 1790, 'criminal': 1057, 'facial': 1619, 'cabin': 643, 'mountains': 2918, 'sidney': 3968, 'prevent': 3385, 'trained': 4557, 'asks': 319, 'individuals': 2278, 'circumstances': 822, 'imagination': 2236, 'refuses': 3587, 'crazy': 1035, 'section': 3853, 'gift': 1906, 'haunting': 2051, 'gorgeous': 1942, 'convey': 982, 'regret': 3591, 'beating': 425, 'snow': 4045, 'expression': 1602, 'gradually': 1952, 'turning': 4608, 'blowing': 515, 'newly': 3004, 'ship': 3934, 'korean': 2495, 'ocean': 3079, 'forces': 1788, 'hint': 2112, 'enemies': 1476, 'shadow': 3912, 'unwatchable': 4682, 'unintentionally': 4659, 'technical': 4381, 'destroyed': 1214, 'murders': 2943, 'nowhere': 3056, 'apes': 267, 'notorious': 3051, 'dialogs': 1233, 'dragon': 1344, 'design': 1202, 'landscapes': 2514, 'designs': 1204, 'interested': 2324, 'displayed': 1292, 'lovely': 2671, 'suppose': 4305, 'anti': 254, 'vietnam': 4735, 'public': 3460, 'desperation': 1210, 'military': 2844, 'boot': 538, 'obsessed': 3069, 'bruce': 602, 'causing': 726, 'paced': 3162, 'purely': 3472, 'kelly': 2452, 'hired': 2117, 'chinese': 796, 'hong': 2149, 'kong': 2494, 'fake': 1635, 'offer': 3087, 'spoilers': 4124, 'dry': 1377, 'li': 2587, 'fooled': 1780, 'unlike': 4670, 'irrelevant': 2358, 'ruins': 3752, 'popularity': 3334, 'profound': 3423, 'description': 1197, 'overrated': 3156, 'state': 4160, 'industry': 2280, 'grows': 1985, 'dressed': 1358, 'gory': 1943, 'tape': 4365, 'scary': 3807, 'stuck': 4237, 'everyday': 1541, 'four': 1812, 'dancers': 1105, 'dancing': 1107, 'group': 1980, 'jennifer': 2392, 'appealing': 272, 'broadcast': 591, 'released': 3603, 'awards': 367, 'italy': 2368, 'titles': 4506, 'lately': 2524, 'deeper': 1155, 'doubts': 1333, 'mature': 2773, 'focused': 1767, 'aware': 368, 'jaw': 2384, 'dropped': 1370, 'super': 4295, 'chick': 786, 'jessica': 2398, 'rated': 3527, 'prime': 3395, 'emma': 1457, 'diana': 1237, 'prince': 3396, 'superhero': 4299, 'hadnt': 2004, 'improved': 2255, 'villain': 4744, 'drawing': 1350, 'available': 361, 'superman': 4301, 'gene': 1879, 'curiosity': 1082, 'sake': 3775, 'versions': 4721, 'animals': 240, 'whereas': 4865, 'hits': 2125, 'vs': 4767, 'humans': 2190, 'comical': 894, 'eddie': 1416, 'shed': 3924, 'tear': 4379, 'kay': 2447, 'precious': 3366, 'swedish': 4335, 'gabriel': 1859, 'la': 2500, 'desert': 1198, 'reporter': 3636, 'aka': 168, 'fully': 1847, 'ignore': 2224, 'answer': 251, 'tend': 4400, 'illogical': 2231, 'logic': 2638, 'dislike': 1288, 'annoyed': 248, 'relate': 3593, 'compare': 911, '2001': 31, 'coherent': 871, 'pink': 3277, 'pull': 3461, 'vehicle': 4718, 'cars': 702, 'flying': 1764, 'rocky': 3723, 'expressed': 1601, 'constantly': 958, 'hippie': 2115, 'building': 615, 'ultimate': 4627, 'spends': 4107, 'childish': 791, 'criticism': 1063, 'advertising': 132, 'exists': 1573, 'buying': 641, 'underrated': 4642, 'machine': 2693, 'birds': 485, 'officers': 3093, 'harder': 2035, 'develop': 1222, 'haunted': 2050, 'mile': 2842, 'minimal': 2855, 'drag': 1342, 'communist': 907, 'proper': 3436, 'alive': 186, 'rotten': 3740, 'understood': 4647, 'sensitive': 3879, 'caring': 691, 'qualities': 3483, 'accurate': 90, 'fetched': 1698, 'holding': 2130, 'controversial': 978, 'teacher': 4375, 'scenery': 3810, 'reviewers': 3678, 'necessary': 2984, 'solution': 4059, 'thousand': 4465, 'delight': 1167, 'words': 4938, 'minded': 2850, 'conservative': 948, 'fashioned': 1660, 'damn': 1100, 'gotta': 1946, 'became': 431, 'powell': 3358, 'thin': 4449, 'imaginative': 2237, 'command': 897, 'medium': 2792, 'commercials': 903, 'rip': 3700, 'cat': 713, 'exploitation': 1592, 'hello': 2078, 'roman': 3731, 'shelf': 3926, 'learned': 2551, 'existed': 1570, 'alien': 183, '20': 29, 'clothing': 861, 'horrendous': 2162, 'dubbing': 1380, 'explicit': 1591, 'experienced': 1581, 'defend': 1158, 'excessive': 1560, 'andrews': 229, 'names': 2963, 'dirty': 1268, 'walk': 4775, 'occasion': 3073, 'shoes': 3941, 'wet': 4855, 'suspect': 4327, 'laura': 2536, 'conventional': 979, 'gritty': 1977, 'urban': 4688, 'hunt': 2198, 'rarely': 3524, 'anger': 235, 'gary': 1873, 'brown': 601, 'suited': 4286, 'taxi': 4371, 'passes': 3203, 'outside': 3146, 'apartment': 265, 'genuine': 1891, 'immediately': 2242, 'ben': 463, 'hitting': 2126, 'wise': 4903, 'law': 2538, 'equal': 1509, 'wives': 4918, 'stiller': 4189, 'carter': 703, 'jerry': 2396, 'mundane': 2938, 'busy': 635, 'bodies': 526, 'clean': 838, 'subplot': 4255, 'scientist': 3818, 'exceptionally': 1559, 'exciting': 1563, 'amazed': 208, 'process': 3412, 'contain': 962, 'relevant': 3604, 'named': 2961, 'lena': 2568, 'filmmaker': 1719, 'sexuality': 3909, 'sheer': 3925, 'brilliance': 582, 'yellow': 4981, 'technique': 4383, '14': 6, 'essentially': 1523, 'parallel': 3185, 'notch': 3043, 'poignant': 3315, 'appreciate': 279, 'toy': 4542, 'counter': 1011, 'balance': 387, 'producer': 3415, 'weve': 4856, 'joe': 2407, 'cute': 1090, 'button': 639, 'shakespeare': 3915, 'cool': 989, 'forgettable': 1794, 'tunes': 4603, 'brains': 563, 'gonna': 1936, 'accents': 79, 'devils': 1229, 'yeah': 4977, 'genius': 1887, 'hudson': 2184, 'winner': 4897, 'bacall': 377, 'stones': 4198, 'instinct': 2308, 'rolling': 3730, 'breathtaking': 574, 'unforgettable': 4652, 'older': 3101, 'wind': 4893, 'burns': 628, 'reunion': 3669, 'clark': 832, 'comedic': 888, 'conflict': 939, 'demand': 1174, 'pages': 3168, 'shark': 3921, 'urge': 4689, 'hundreds': 2196, 'table': 4346, 'front': 1841, 'dumb': 1385, 'sea': 3838, 'lol': 2640, 'sorry': 4076, 'france': 1816, 'knew': 2486, 'mexican': 2826, 'streets': 4217, 'mexico': 2827, 'crude': 1069, 'express': 1600, 'fire': 1734, 'brave': 567, 'suspects': 4328, 'security': 3854, 'goofy': 1939, 'agreed': 156, 'romance': 3732, 'nurse': 3063, 'begin': 442, 'cowboy': 1025, 'hat': 2045, 'remembered': 3617, 'moore': 2901, 'wealth': 4826, 'miller': 2846, 'glorious': 1921, 'frank': 1821, 'sinatra': 3989, 'miscast': 2862, 'evident': 1547, 'sue': 4274, 'marry': 2745, 'replaced': 3634, 'flaws': 1752, 'simmons': 3981, 'shines': 3932, 'brando': 566, 'damon': 1101, '1940s': 13, 'nonsense': 3030, 'knife': 2487, 'trash': 4565, 'requires': 3642, 'maria': 2736, 'ii': 2226, 'carries': 699, 'intelligent': 2314, 'whenever': 4863, 'survival': 4320, 'germany': 1898, '50': 51, 'devil': 1228, 'bat': 410, 'alfred': 181, 'horrors': 2169, 'island': 2361, 'carradine': 695, 'hates': 2048, 'recording': 3575, 'flashback': 1746, 'stupidity': 4248, 'happiness': 2031, 'chilling': 794, 'jack': 2373, 'nicholson': 3011, 'avoided': 364, 'stooges': 4200, 'stellar': 4174, 'useless': 4695, 'anywhere': 263, 'tends': 4402, 'steal': 4170, 'nonetheless': 3029, 'rubbish': 3748, 'glory': 1922, 'evidence': 1546, 'pulling': 3463, 'row': 3744, 'factor': 1622, 'worthwhile': 4955, 'fails': 1628, 'engage': 1479, 'key': 2458, 'mere': 2814, 'price': 3389, 'continued': 970, 'website': 4834, 'matched': 2763, 'performed': 3230, 'population': 3335, 'carried': 698, 'mary': 2751, 'goal': 1925, 'progress': 3425, 'bettie': 473, '50s': 52, 'allowed': 190, 'discuss': 1283, 'decisions': 1152, 'event': 1535, 'exploration': 1593, 'fifteen': 1706, 'brief': 579, 'hints': 2113, 'abuse': 74, 'domestic': 1318, 'rushed': 3760, 'photo': 3257, 'desperately': 1209, 'reveal': 3670, 'religion': 3607, 'shock': 3938, 'tame': 4363, 'todays': 4509, 'standards': 4145, 'photos': 3261, 'actions': 101, 'topless': 4527, 'unpleasant': 4674, 'desperate': 1208, 'substance': 4258, 'kudos': 2497, 'animated': 241, 'admittedly': 123, 'ice': 2210, 'warrior': 4802, 'bakshi': 386, 'tiny': 4500, 'showdown': 3955, 'nostalgia': 3038, 'masters': 2761, 'universe': 4666, 'print': 3399, 'ralph': 3510, 'segments': 3868, 'filmed': 1717, 'instance': 2304, 'batman': 413, 'revolves': 3682, 'personally': 3243, 'ego': 1435, 'stiff': 4187, 'lies': 2591, 'surfing': 4311, 'advance': 127, 'digital': 1251, 'wave': 4818, 'current': 1084, 'hamilton': 2012, 'bay': 416, 'jaws': 2385, 'generations': 1884, 'loads': 2633, 'cell': 730, 'walls': 4783, 'tied': 4489, 'suggested': 4281, 'exercise': 1568, 'door': 1328, 'shut': 3961, 'pre': 3365, 'retarded': 3663, 'hence': 2083, 'brutally': 604, 'destroying': 1215, 'revelation': 3674, 'amateurish': 207, 'hollow': 2135, 'rush': 3759, 'logical': 2639, 'bird': 484, 'cube': 1076, 'favourite': 1673, 'talks': 4361, 'describes': 1196, 'circle': 821, 'obsession': 3070, 'received': 3564, 'introduction': 2339, 'amateur': 206, 'mail': 2706, 'slapstick': 4019, 'term': 4405, 'instantly': 2306, 'judy': 2426, 'singing': 3995, 'wonderful': 4928, 'june': 2433, 'unable': 4631, 'margaret': 2735, 'johnson': 2411, 'stewart': 4184, 'chemistry': 782, 'hanks': 2025, 'notes': 3046, 'leonard': 2572, 'falling': 1639, 'historically': 2120, 'ted': 4386, 'assistant': 326, 'featured': 1679, 'pearl': 3220, 'heres': 2087, 'object': 3066, 'coffee': 870, 'sidekick': 3966, 'investigate': 2342, 'sides': 3967, 'involvement': 2347, 'latin': 2527, 'civil': 826, 'shooting': 3943, 'existent': 1572, 'animal': 239, 'credibility': 1047, 'depression': 1189, 'unbearable': 4633, 'travel': 4567, 'originality': 3130, 'scares': 3806, 'partly': 3197, 'reveals': 3673, 'generation': 1883, 'colour': 880, 'liners': 2611, 'felix': 1689, 'obnoxious': 3067, 'countless': 1012, 'sloppy': 4030, 'buddies': 608, 'ya': 4976, 'green': 1971, 'bottle': 550, 'walter': 4784, 'warmth': 4796, 'specific': 4099, 'test': 4416, 'darker': 1116, 'dinner': 1254, 'occurs': 3078, 'sisters': 4002, 'pat': 3208, 'described': 1195, 'persona': 3239, 'upset': 4687, 'needless': 2989, 'struck': 4232, 'idiotic': 2219, 'road': 3709, 'breaks': 571, 'collection': 874, 'basement': 405, 'sexually': 3910, 'eating': 1413, 'mild': 2839, 'miserably': 2864, 'freeman': 1829, 'jackson': 2375, 'prefer': 3368, 'suddenly': 4273, 'clip': 851, 'lifetime': 2594, 'fights': 1710, '40': 48, 'college': 875, 'starting': 4158, 'divorce': 1301, 'helped': 2080, 'landscape': 2513, 'toilet': 4512, 'pieces': 3273, 'arrogant': 303, 'moved': 2922, 'rental': 3627, 'threatening': 4468, 'sexy': 3911, 'heroic': 2090, 'orders': 3127, 'basis': 408, 'areas': 287, 'failure': 1629, 'relies': 3606, 'fury': 1855, 'stole': 4194, 'judging': 2425, 'theyd': 4443, 'clue': 864, 'jail': 2376, 'listen': 2619, 'lover': 2672, 'returning': 3667, 'wins': 4899, 'sincere': 3991, 'outer': 3143, 'thief': 4448, 'minimum': 2856, 'smiling': 4037, 'horrific': 2166, 'fisher': 1739, 'dealing': 1136, 'overcome': 3151, 'alert': 178, 'stood': 4199, 'foster': 1809, 'jamie': 2379, 'confidence': 938, 'identity': 2217, 'uneven': 4649, 'clumsy': 866, 'community': 908, 'don': 1320, 'pathetic': 3210, 'chess': 783, 'forms': 1801, 'wilson': 4891, 'lake': 2509, 'wit': 4908, 'species': 4098, 'friday': 1834, 'los': 2653, 'angeles': 233, 'allen': 188, 'burning': 627, 'midnight': 2834, 'oil': 3097, 'continue': 969, 'lab': 2501, 'rats': 3531, 'outfit': 3144, 'rat': 3525, 'plan': 3287, 'isolated': 2363, 'moves': 2925, 'thankfully': 4422, 'desired': 1206, 'shake': 3914, 'giant': 1905, 'bits': 490, 'arm': 292, 'easier': 1405, 'princess': 3397, 'victoria': 4732, 'blunt': 520, 'england': 1482, 'lady': 2507, 'shortly': 3947, 'birthday': 487, 'duty': 1390, 'chooses': 800, 'kingdom': 2480, 'relatives': 3601, 'royal': 3746, 'albert': 174, 'arrives': 302, 'map': 2733, 'richardson': 3688, 'worthy': 4956, 'phantom': 3251, 'teeth': 4393, 'laughable': 2530, 'thrills': 4475, 'alright': 198, 'beings': 449, 'slightest': 4028, 'fare': 1655, 'remotely': 3623, 'fitting': 1742, 'fell': 1690, 'casting': 711, 'artificial': 306, 'un': 4630, 'commercial': 902, 'health': 2060, 'realise': 3548, 'virginia': 4750, 'causes': 725, 'overdone': 3152, 'cooper': 990, '1950s': 14, 'videos': 4734, 'fat': 1663, 'cardboard': 682, 'principal': 3398, 'indians': 2275, 'rendition': 3625, 'halloween': 2010, 'myers': 2952, 'terrifying': 4410, '25': 40, 'mission': 2870, 'curtis': 1087, 'virgin': 4749, 'psycho': 3457, 'absolute': 71, 'doors': 1329, 'lights': 2597, 'enters': 1496, 'troubles': 4594, 'blah': 496, 'favor': 1670, 'tricks': 4583, 'stays': 4169, 'creators': 1044, '16': 8, 'murderous': 2942, 'featuring': 1681, 'guilty': 1995, 'master': 2757, 'soft': 4051, 'atmospheric': 334, 'chicks': 787, 'spin': 4112, 'following': 1774, 'formulaic': 1803, 'ms': 2931, 'mirror': 2861, 'anna': 245, 'twin': 4615, 'porn': 3336, 'rank': 3518, 'believed': 455, 'seek': 3858, 'bin': 483, 'slap': 4018, 'motivations': 2915, 'challenge': 743, 'companion': 909, 'admire': 121, 'brad': 560, 'hearted': 2065, 'base': 402, 'spirited': 4114, 'share': 3920, 'ticket': 4487, 'sticks': 4186, 'fault': 1668, 'cash': 709, 'marketing': 2741, 'idiots': 2220, 'plastic': 3294, 'fate': 1665, 'random': 3514, 'truck': 4595, 'stranger': 4213, 'stretch': 4221, 'remote': 3622, 'cult': 1077, 'experiences': 1582, 'meeting': 2794, 'accident': 84, '1972': 18, 'caine': 647, 'oliver': 3102, 'clever': 841, 'possibilities': 3348, 'feelings': 1686, 'thoughts': 4464, 'striking': 4226, 'depicted': 1183, 'capturing': 679, 'sacrifice': 3766, 'listening': 2620, 'suck': 4269, 'orange': 3125, 'wrestling': 4966, 'splatter': 4118, 'weapons': 4829, 'audio': 354, 'productions': 3420, 'monk': 2889, 'captivating': 675, 'unit': 4663, 'according': 88, 'cases': 708, 'disgusting': 1286, '24': 39, 'flesh': 1753, 'terrorists': 4414, 'virus': 4752, 'abandoned': 62, 'hotel': 2175, 'variety': 4714, 'damage': 1099, 'fatal': 1664, 'attraction': 350, 'heights': 2073, 'rocks': 3722, 'entry': 1504, 'limits': 2607, 'pretending': 3382, 'presumably': 3380, 'realizes': 3554, 'card': 681, 'finale': 1723, 'foul': 1810, 'lowest': 2678, 'buildings': 616, 'capable': 672, 'cary': 706, 'hunting': 2201, 'construction': 960, 'attorney': 348, 'drunken': 1376, 'trapped': 4564, 'cleverly': 842, 'drunk': 1375, 'performs': 3234, 'lively': 2627, 'sucks': 4271, 'drags': 1345, 'ask': 316, 'wasting': 4810, 'moronic': 2907, 'games': 1865, 'owner': 3159, 'physical': 3262, 'reaches': 3538, 'sent': 3880, 'longer': 2645, 'generated': 1882, 'philosophical': 3253, 'lesson': 2577, 'pride': 3391, 'chances': 748, 'attached': 336, 'continuity': 972, 'guns': 1998, 'eva': 1531, 'president': 3378, 'hype': 2207, 'surrounding': 4319, 'slasher': 4020, 'blame': 499, 'directly': 1263, 'guilt': 1994, 'figured': 1712, 'wishing': 4907, 'snl': 4044, 'appreciation': 281, 'nobody': 3022, 'harsh': 2040, 'delivered': 1170, 'insult': 2309, 'adventure': 130, 'settings': 3901, 'alas': 172, 'safety': 3772, 'chaplin': 756, 'kissing': 2484, 'shine': 3931, 'parent': 3187, 'pregnant': 3369, 'frustrated': 1842, 'ideal': 2214, 'destroy': 1213, 'saves': 3796, 'statement': 4162, 'attempting': 342, 'warren': 4801, '1960s': 15, 'closely': 855, 'raymond': 3534, 'synopsis': 4344, 'nose': 3037, 'saga': 3773, 'hollywoods': 2138, 'catching': 716, 'aimed': 162, 'superficial': 4298, 'saved': 3795, 'props': 3439, 'returns': 3668, 'errors': 1516, 'teenager': 4390, 'teenagers': 4391, 'hilariously': 2107, 'essential': 1522, '3d': 46, 'bugs': 613, 'tree': 4576, 'universal': 4665, 'studios': 4241, 'copies': 992, 'explosion': 1596, 'tad': 4347, 'bonus': 534, 'minds': 2852, 'dealt': 1138, 'host': 2173, 'stargate': 4151, 'terry': 4415, 'monkeys': 2891, 'versus': 4722, 'repeated': 3631, 'regard': 3588, 'cole': 873, 'willis': 4890, 'disturbed': 1299, 'adams': 112, 'psychiatrist': 3455, 'phone': 3255, 'airport': 167, 'scientists': 3819, '1996': 26, 'guide': 1993, 'plane': 3288, 'account': 89, 'eyed': 1612, 'simon': 3982, 'entertain': 1497, 'mindless': 2851, 'sequels': 3886, 'dinosaurs': 1256, 'dinosaur': 1255, '60': 53, 'forth': 1804, 'rex': 3683, 'legs': 2566, 'wayne': 4821, 'academy': 77, 'infamous': 2284, 'defeat': 1157, 'techniques': 4384, 'maggie': 2702, 'factory': 1623, 'faults': 1669, 'massacre': 2754, 'understandable': 4644, 'downhill': 1336, 'holds': 2131, 'stops': 4203, 'locked': 2637, 'cares': 690, 'homeless': 2143, 'church': 813, 'grim': 1974, 'weekend': 4838, 'blown': 516, 'provide': 3448, 'behave': 445, 'weapon': 4828, 'pretend': 3381, 'committed': 905, 'pointed': 3317, 'uncomfortable': 4637, 'consists': 955, '13th': 5, 'surviving': 4323, 'importance': 2246, '1980s': 21, 'provoking': 3452, 'distribution': 1298, 'dignity': 1252, 'angry': 238, 'inevitably': 2283, 'solely': 4056, 'martial': 2747, 'arts': 310, 'rescue': 3643, 'nostalgic': 3039, 'wishes': 4906, 'draws': 1352, 'sin': 3988, 'witnessed': 4915, 'draw': 1349, 'hitler': 2124, 'landing': 2512, 'repeat': 3630, 'routine': 3743, 'luckily': 2682, 'masses': 2755, 'comfortable': 892, 'catchy': 717, 'asian': 314, 'ashley': 313, 'linda': 2609, 'mike': 2838, 'rob': 3710, 'porno': 3337, 'belongs': 460, '2005': 35, 'activities': 102, 'questionable': 3488, 'reasonable': 3558, 'canada': 666, 'executive': 1567, 'daniel': 1111, 'opposed': 3122, 'scooby': 3820, 'doo': 1325, 'anime': 243, 'narrator': 2967, 'americas': 215, 'false': 1641, 'hip': 2114, 'hop': 2154, 'eighties': 1437, 'legendary': 2565, 'album': 175, 'nation': 2969, 'carpenter': 694, 'vampire': 4711, 'wes': 4851, 'scream': 3826, 'irony': 2357, 'proud': 3444, 'matrix': 2767, 'ad': 110, 'guarantee': 1987, 'notice': 3048, 'gruesome': 1986, 'breasts': 572, 'helicopter': 2076, 'anderson': 227, 'lion': 2614, 'satisfy': 3790, 'forest': 1791, 'monsters': 2893, 'lust': 2689, 'hideous': 2098, 'blair': 497, 'distinct': 1296, 'bag': 384, 'reached': 3537, 'beats': 426, 'heat': 2067, 'wrapped': 4964, 'broad': 590, 'initial': 2290, 'hung': 2197, 'cameron': 661, '2002': 32, 'remain': 3609, 'thrilling': 4474, 'jet': 2400, 'jumps': 2432, 'bullets': 621, 'visuals': 4759, 'wwii': 4975, 'germans': 1897, 'nazis': 2978, 'bound': 553, 'gifted': 1907, 'sentence': 3881, 'eric': 1514, 'businessman': 634, 'accepted': 82, 'diane': 1238, 'significant': 3972, 'dreams': 1355, 'pursuit': 3476, 'hoffman': 2128, 'explored': 1595, 'innocence': 2293, 'bitter': 491, 'sunshine': 4294, 'promised': 3431, 'florida': 1761, 'facing': 1620, 'dennis': 1179, 'mayor': 2777, 'chief': 788, 'hire': 2116, 'speed': 4103, 'norman': 3035, 'eerie': 1427, 'subplots': 4256, 'pet': 3246, 'angle': 236, 'brutal': 603, 'criminals': 1058, 'protagonists': 3442, 'celluloid': 731, 'witnesses': 4916, 'theyll': 4444, 'carrey': 696, 'ought': 3138, 'measure': 2786, 'preview': 3386, 'buff': 611, 'jr': 2423, 'navy': 2976, 'wondered': 4927, 'accidentally': 85, 'loyal': 2679, 'rogers': 3725, 'drawn': 1351, 'surprising': 4315, 'wood': 4933, 'tracks': 4545, 'genres': 1889, 'rabbit': 3498, 'thousands': 4466, 'troops': 4591, 'hooked': 2153, 'chased': 770, 'robot': 3717, 'itll': 2369, 'twilight': 4614, 'zone': 4999, 'providing': 3451, 'eastwood': 1409, 'lumet': 2688, 'garbo': 1871, 'silver': 3977, 'eccentric': 1414, 'dating': 1120, 'lisa': 2616, 'carrie': 697, 'catherine': 719, 'speak': 4094, 'harvey': 2042, 'halfway': 2008, 'misses': 2868, 'hasnt': 2044, '45': 50, 'screams': 3828, 'severe': 3906, 'leader': 2546, 'experiment': 1583, 'information': 2288, 'troubled': 4593, 'rambo': 3511, 'degree': 1164, 'creep': 1051, 'notably': 3042, 'producing': 3417, 'nazi': 2977, 'noted': 3045, 'associated': 327, 'innovative': 2295, 'experiments': 1584, 'notable': 3041, 'craig': 1030, 'stevens': 4183, 'characterization': 759, '2007': 37, 'tight': 4492, 'dig': 1250, 'louise': 2666, 'dozen': 1338, 'nervous': 2999, 'ginger': 1908, 'lessons': 2578, 'hank': 2024, 'superbly': 4297, 'models': 2881, 'players': 3299, 'resulting': 3661, 'sandler': 3781, 'shall': 3916, 'letting': 2583, 'primary': 3394, 'impress': 2250, 'unhappy': 4656, 'jobs': 2406, 'bride': 577, 'charlie': 765, 'fictional': 1703, 'affected': 137, 'iraq': 2351, 'vice': 4727, 'dan': 1102, 'dick': 1239, 'cusack': 1088, 'advise': 134, 'vengeance': 4719, 'joan': 2404, 'views': 4742, 'artistic': 308, 'media': 2789, 'bet': 470, 'corporate': 998, 'combat': 882, 'souls': 4080, 'defined': 1160, 'sudden': 4272, 'river': 3707, 'model': 2880, 'feet': 1688, 'asleep': 320, 'wake': 4774, 'alice': 182, 'bridge': 578, 'traveling': 4568, 'winter': 4900, 'ann': 244, 'directions': 1262, 'hal': 2006, 'picking': 3267, 'unseen': 4678, 'godzilla': 1929, 'meaningful': 2781, 'mighty': 2836, 'rangers': 3517, 'access': 83, 'defense': 1159, 'cruise': 1071, 'ethan': 1528, 'voiced': 4762, 'lay': 2542, 'ingredients': 2289, 'semi': 3874, 'breaking': 570, 'sleep': 4024, 'asked': 317, 'user': 4696, 'desire': 1205, 'americans': 214, 'cameras': 660, 'separate': 3883, 'scale': 3802, 'transfer': 4559, 'blacks': 494, 'considerable': 950, 'absence': 70, 'pseudo': 3454, 'mafia': 2700, 'combine': 884, 'blows': 517, 'edie': 1419, 'psychological': 3458, 'gripping': 1976, 'fulci': 1845, 'giallo': 1904, 'previously': 3388, 'focuses': 1768, 'blatant': 502, 'nightmare': 3014, 'melodrama': 2797, 'hanging': 2023, 'nine': 3017, 'poetic': 3313, 'prisoner': 3402, 'relation': 3595, 'crimes': 1056, 'complicated': 925, 'fantasy': 1652, 'shirt': 3937, 'reactions': 3542, 'matt': 2768, 'achievement': 94, 'guessing': 1991, 'checking': 778, 'manhattan': 2726, '20th': 38, 'rights': 3697, 'initially': 2291, 'suspend': 4329, 'celebrity': 729, 'cameos': 658, 'funeral': 1849, 'deaths': 1142, 'wished': 4905, 'simplicity': 3984, 'masterful': 2758, 'letter': 2581, 'incomprehensible': 2267, 'hamlet': 2013, 'dub': 1378, 'method': 2824, 'sky': 4017, 'adequate': 120, 'craft': 1028, 'doll': 1313, 'despair': 1207, 'deliberately': 1166, 'depicting': 1184, 'eager': 1396, 'keeping': 2450, 'kicked': 2461, 'concern': 931, 'musicals': 2948, 'reaching': 3539, 'saturday': 3792, 'arnold': 296, 'junior': 2435, 'jackie': 2374, 'candy': 668, 'angels': 234, '70': 55, 'morgan': 2905, 'exposed': 1598, 'smaller': 4034, 'jay': 2386, 'buddy': 609, 'dedicated': 1153, 'performers': 3232, 'direct': 1258, 'luke': 2687, 'appearing': 277, 'undoubtedly': 4648, 'melodramatic': 2798, 'closing': 859, 'response': 3654, 'ludicrous': 2685, 'doomed': 1327, 'sadness': 3770, 'debut': 1143, 'fish': 1738, 'adapted': 114, 'jeff': 2390, 'sports': 4130, 'threw': 4470, 'kennedy': 2454, 'serves': 3895, 'roger': 3724, 'courage': 1018, 'aired': 165, 'montana': 2895, 'solve': 4060, 'determined': 1221, 'southern': 4088, 'powers': 3361, 'grandmother': 1955, 'anybody': 257, 'fred': 1825, 'anthony': 253, 'react': 3540, 'ear': 1397, 'mine': 2853, 'closest': 857, 'task': 4368, 'discussion': 1284, 'unsettling': 4679, 'fears': 1677, 'dentist': 1180, 'recognized': 3570, 'dust': 1388, 'inner': 2292, 'fly': 1763, 'pitt': 3280, 'lloyd': 2630, 'chicago': 785, 'technology': 4385, 'creator': 1043, 'endure': 1475, 'frequent': 1831, 'commented': 900, 'signed': 3971, 'floor': 1759, 'kim': 2475, 'ha': 2002, 'burned': 626, 'network': 3000, 'channels': 754, 'matters': 2770, '1980': 20, 'museum': 2945, 'convincing': 985, 'official': 3094, 'blake': 498, 'research': 3644, 'waitress': 4773, 'edward': 1426, 'barry': 401, 'grow': 1982, 'rubber': 3747, 'eaten': 1412, 'reads': 3545, 'patients': 3212, 'remarks': 3615, 'practically': 3362, 'pile': 3275, 'garbage': 1870, 'worry': 4950, 'removed': 3624, 'hopeless': 2158, 'flash': 1745, 'ghosts': 1903, 'funnier': 1850, 'australian': 357, 'frequently': 1832, 'growing': 1983, 'resemblance': 3645, 'angel': 231, '2003': 33, 'eg': 1434, 'handful': 2017, 'strikes': 4225, 'iran': 2350, 'deaf': 1134, 'terrorist': 4413, 'believes': 456, 'september': 3884, '1973': 19, 'bloody': 513, 'consistent': 953, 'estate': 1525, 'nelson': 2997, 'assigned': 325, 'polanski': 3321, 'moody': 2899, 'stylish': 4251, 'baker': 385, 'robinson': 3716, 'hugh': 2186, 'tiger': 4491, 'jazz': 2387, 'brian': 576, 'program': 3424, 'jenny': 2393, 'currently': 1085, 'surreal': 4317, 'westerns': 4854, 'jason': 2383, 'colorful': 878, 'eight': 1436, 'seasons': 3844, 'trail': 4553, 'code': 869, 'clint': 850, 'veteran': 4724, 'cook': 988, 'cutting': 1092, 'cuts': 1091, 'kings': 2481, 'tiresome': 4502, 'neo': 2998, 'sappy': 3784, 'bite': 489, 'cliche': 843, 'dutch': 1389, 'represented': 3638, 'spain': 4091, 'portraying': 3343, 'exotic': 1574, 'imagined': 2239, 'web': 4833, 'scripts': 3836, 'davies': 1125, 'dude': 1381, 'christian': 808, 'disease': 1285, 'fix': 1744, 'affair': 135, 'couldve': 1009, 'futuristic': 1857, 'murdered': 2940, 'awake': 365, 'stated': 4161, 'ritter': 3705, 'mothers': 2912, 'claimed': 829, 'danny': 1112, 'vincent': 4746, 'motivation': 2914, '75': 57, 'subsequent': 4257, 'resembles': 3646, 'illness': 2230, 'contest': 967, 'clown': 862, 'buffs': 612, 'mitchell': 2875, 'staged': 4140, 'winters': 4901, 'mann': 2728, 'dickens': 1240, 'bleak': 503, 'obscure': 3068, 'neck': 2985, 'reflection': 3585, 'possibility': 3349, 'gray': 1963, 'stilted': 4190, 'everywhere': 1545, 'sheriff': 3929, 'hed': 2072, 'armed': 293, 'folk': 1770, 'goodness': 1938, 'parker': 3191, 'quirky': 3493, 'aid': 160, 'survivor': 4324, 'covered': 1023, '1999': 27, 'gangster': 1868, 'taught': 4370, 'suffered': 4276, 'sold': 4052, 'rising': 3703, 'titled': 4505, 'repeatedly': 3632, 'enormous': 1490, 'intention': 2319, 'bumbling': 622, 'aunt': 355, 'classical': 836, 'borrowed': 545, 'retired': 3664, 'satisfied': 3789, 'dawson': 1128, 'menacing': 2807, 'throat': 4476, 'von': 4765, 'staff': 4138, 'unexpected': 4650, 'swear': 4334, 'thoughtful': 4463, 'jerk': 2395, 'argue': 290, 'wear': 4830, 'tie': 4488, 'wounded': 4961, 'choreographed': 801, 'wandering': 4785, 'triumph': 4590, 'messages': 2820, 'worthless': 4954, 'neil': 2995, 'someones': 4065, 'closed': 854, 'wide': 4880, 'source': 4086, 'widely': 4881, 'australia': 356, 'shy': 3962, 'roberts': 3714, 'paying': 3217, 'contained': 963, 'thru': 4483, 'golden': 1934, 'hills': 2109, 'murphy': 2944, 'elvis': 1451, 'native': 2972, 'raised': 3508, 'lyrics': 2692, '1968': 16, 'east': 1407, 'senseless': 3878, 'plight': 3308, 'danes': 1108, 'vacation': 4704, 'suggests': 4282, 'arrive': 300, 'expensive': 1579, 'lily': 2605, 'gerard': 1895, 'analysis': 224, 'crash': 1033, 'spare': 4093, 'hyde': 2206, 'believing': 457, 'compelled': 915, 'lees': 2560, 'quote': 3496, 'pulp': 3465, 'twelve': 4611, 'turkey': 4604, 'selling': 3873, 'attacks': 339, 'aging': 153, 'april': 284, 'emphasis': 1463, 'nights': 3016, 'depicts': 1186, 'wells': 4845, 'meaningless': 2782, 'expressions': 1603, 'thick': 4447, 'educational': 1425, 'strangers': 4214, 'eyre': 1614, 'rochester': 3719, 'dalton': 1098, 'documentaries': 1306, 'raise': 3507, 'tap': 4364, 'explaining': 1588, 'dozens': 1339, 'aliens': 184, 'loser': 2655, 'marvelous': 2750, 'bear': 420, '2000': 30, 'strangely': 4212, 'jungle': 2434, 'global': 1920, 'sellers': 3872, 'pacino': 3164, 'delivering': 1171, 'huh': 2187, 'ruby': 3749, 'opposite': 3123, 'screaming': 3827, 'mistress': 2874, 'covers': 1024, 'nomination': 3026, 'tarzan': 4367, 'firstly': 1737, 'secondly': 3847, 'packed': 3166, 'exposure': 1599, 'bobby': 525, 'blew': 505, 'laws': 2540, 'gods': 1928, 'nancy': 2964, 'reed': 3580, 'perform': 3227, 'inspector': 2299, 'chain': 741, 'heston': 2094, 'barbara': 397, 'fired': 1735, 'andrew': 228, 'influence': 2286, 'challenging': 744, 'walker': 4778, 'godfather': 1927, 'iii': 2227, 'cheated': 775, 'leslie': 2574, 'lone': 2642, 'jealous': 2388, 'prequel': 3372, 'forbidden': 1785, 'honesty': 2148, 'established': 1524, 'rain': 3506, 'kinds': 2478, 'chan': 746, 'donna': 1323, 'bang': 393, 'till': 4493, 'spoke': 4125, 'spiritual': 4116, 'inevitable': 2282, 'reynolds': 3684, 'wizard': 4919, 'oz': 3160, 'conceived': 929, '2006': 36, 'screening': 3830, 'projects': 3428, 'swim': 4337, 'picks': 3268, 'glover': 1923, 'marty': 2749, 'raising': 3509, 'aint': 163, 'extended': 1604, 'classes': 834, 'university': 4667, 'victor': 4731, 'vivid': 4760, 'subjects': 4254, 'michelle': 2830, 'junk': 2436, 'simplistic': 3985, 'rose': 3739, 'territory': 4411, 'cinemas': 817, 'countryside': 1015, 'enthusiasm': 1501, 'beneath': 464, 'trademark': 4548, 'pushing': 3479, 'flies': 1756, 'floating': 1758, 'mouse': 2919, 'branagh': 564, 'annie': 247, 'cd': 728, 'afterwards': 145, 'duke': 1383, 'revolution': 3680, 'reel': 3581, 'spoiled': 4122, 'alexander': 180, 'broke': 593, 'enemy': 1477, 'earned': 1401, 'justin': 2440, 'elephant': 1444, 'remarkably': 3614, 'throws': 4482, 'molly': 2884, 'kirk': 2482, 'inane': 2258, 'citizen': 824, 'repetitive': 3633, 'incompetent': 2266, 'suspicious': 4332, 'laughably': 2531, 'madness': 2698, 'matches': 2764, 'stale': 4141, 'devoted': 1231, 'cared': 685, 'suffice': 4279, 'amanda': 205, 'influenced': 2287, 'bullet': 620, 'constructed': 959, 'advantage': 129, 'inventive': 2341, 'fairy': 1632, 'tales': 4357, 'throwing': 4480, 'gross': 1978, 'waters': 4817, 'basketball': 409, 'cure': 1081, 'stopped': 4202, 'karen': 2444, 'buck': 605, 'ultra': 4629, 'crush': 1072, 'remaining': 3610, 'fallen': 1638, 'freddy': 1826, 'internet': 2327, 'bo': 521, 'painting': 3175, 'encounter': 1466, 'bears': 421, 'wicked': 4879, 'wed': 4835, 'artists': 309, 'kenneth': 2455, 'deceased': 1146, 'fortune': 1806, 'fbi': 1675, 'edgar': 1417, 'equivalent': 1512, 'susan': 4326, 'wacky': 4769, 'mickey': 2831, 'sneak': 4043, 'warn': 4797, 'convoluted': 987, 'incident': 2260, 'lou': 2663, 'chuck': 812, 'grinch': 1975, 'alcoholic': 177, 'drew': 1360, 'morris': 2908, 'scientific': 3817, 'wore': 4939, 'opened': 3113, 'irish': 2353, 'catches': 715, 'charlotte': 766, 'spielberg': 4110, 'dreary': 1356, 'opportunities': 3120, 'vampires': 4712, 'dracula': 1341, 'vaguely': 4706, 'warming': 4795, 'theory': 4437, 'link': 2613, 'alternate': 200, 'rocket': 3721, 'operation': 3117, 'olivier': 3103, 'disappoint': 1272, 'subtlety': 4261, 'wears': 4832, 'pig': 3274, 'restored': 3659, 'machines': 2694, 'helen': 2075, 'signs': 3973, 'allowing': 191, 'julie': 2428, 'amy': 222, 'lesser': 2576, 'visible': 4753, 'stretched': 4222, 'balls': 390, 'specifically': 4100, 'shelley': 3928, 'revealing': 3672, 'relations': 3596, 'exceptional': 1558, 'notion': 3050, 'philip': 3252, 'andy': 230, 'directs': 1267, 'sole': 4055, 'fever': 1699, 'pitch': 3279, 'inappropriate': 2259, 'endings': 1472, 'tonight': 4519, 'concerns': 934, 'christians': 809, 'gentle': 1890, 'tommy': 4516, 'stanwyck': 4149, 'press': 3379, 'mgm': 2828, 'beach': 419, 'hammer': 2014, 'skip': 4016, 'seeks': 3860, 'eve': 1532, 'hospital': 2172, 'unreal': 4676, 'site': 4005, 'odds': 3082, 'miserable': 2863, 'del': 1165, 'treats': 4575, 'invasion': 2340, 'blob': 507, 'extraordinary': 1607, 'persons': 3244, 'forty': 1807, 'empire': 1464, 'upper': 4685, 'waited': 4771, 'multiple': 2936, 'solo': 4058, 'fest': 1696, 'lucas': 2680, 'sympathy': 4343, 'outcome': 3142, 'authority': 360, 'twins': 4616, 'johnny': 2410, 'ned': 2986, 'purchase': 3469, 'robbery': 3711, 'atrocious': 335, 'burt': 629, 'dollar': 1314, 'simpson': 3987, 'league': 2549, 'baseball': 403, 'strike': 4224, 'scarecrow': 3804, 'chest': 784, 'pants': 3182, '1990': 24, 'thirty': 4456, 'namely': 2962, 'franco': 1820, 'elegant': 1441, 'fay': 1674, 'sharp': 3922, 'rule': 3753, 'paltrow': 3178, 'suffer': 4275, 'chaos': 755, 'complexity': 924, 'european': 1530, 'blend': 504, 'ham': 2011, 'britain': 588, 'teaching': 4377, 'toys': 4543, 'intrigued': 2334, 'explosions': 1597, 'parties': 3196, 'spring': 4134, 'fascinated': 1657, 'shirley': 3936, 'al': 170, 'dear': 1140, 'graphics': 1959, 'battles': 415, 'niro': 3019, 'ellen': 1446, 'ireland': 2352, 'nations': 2971, 'slave': 4022, 'furthermore': 1854, 'promises': 3432, 'hunters': 2200, 'rolled': 3729, 'highest': 2102, 'engaged': 1480, 'brooklyn': 595, 'surface': 4310, 'improvement': 2256, 'energy': 1478, 'shape': 3919, 'thrill': 4471, 'astaire': 330, 'berlin': 467, 'choreography': 802, 'bands': 392, 'weakest': 4825, 'record': 3573, 'karloff': 2445, 'bargain': 400, 'dolph': 1317, 'ignorant': 2223, 'wound': 4960, 'cake': 648, 'performing': 3233, 'beer': 439, 'drinking': 1362, 'bush': 632, 'planned': 3290, 'betty': 474, 'careful': 688, 'darkness': 1117, 'spirits': 4115, 'robots': 3718, 'prostitute': 3440, 'motives': 2916, 'homosexual': 2145, 'marie': 2737, 'tour': 4538, 'cities': 823, 'valuable': 4708, 'bollywood': 530, 'storytelling': 4209, 'mysteries': 2954, 'streep': 4215, 'piano': 3264, 'et': 1526, 'trees': 4577, 'steel': 4173, 'cox': 1026, 'st': 4137, 'timothy': 4499, 'lemmon': 2567, '35': 45, 'schools': 3814, 'installment': 2303, 'womans': 4922, 'rooms': 3736, 'ninja': 3018, 'advanced': 128, 'civilization': 827, 'ridden': 3691, 'blues': 519, 'cousin': 1021, 'perry': 3237, 'atlantis': 332, 'suitable': 4285, 'listed': 2618, 'tall': 4362, 'merits': 2817, 'craven': 1034, 'risk': 3704, 'load': 2631, 'settle': 3902, 'magazine': 2701, 'grab': 1949, 'photographed': 3258, 'holmes': 2139, 'survivors': 4325, 'overlook': 3153, 'prom': 3429, 'dragged': 1343, 'cannibal': 669, 'improve': 2254, 'akshay': 169, 'attitudes': 347, 'shadows': 3913, 'maintain': 2710, 'conflicts': 940, 'waves': 4819, 'writes': 4970, 'lifestyle': 2593, 'trio': 4587, 'household': 2179, 'proceedings': 3410, 'literature': 2623, 'bette': 471, 'sixties': 4011, 'practice': 3363, 'restaurant': 3658, 'cg': 739, 'melting': 2799, 'scottish': 3825, 'brosnan': 597, 'ease': 1404, 'stinker': 4191, 'mechanical': 2788, 'brady': 561, 'assumed': 329, 'richards': 3687, 'uwe': 4703, 'boll': 529, 'centered': 733, 'tooth': 4524, 'arguably': 289, 'sorts': 4078, 'outrageous': 3145, 'journalist': 2420, 'teachers': 4376, 'ramones': 3512, 'cringe': 1059, 'quotes': 3497, 'lane': 2515, 'doctors': 1305, 'spread': 4133, 'introduce': 2336, 'inducing': 2279, 'justify': 2439, 'seed': 3856, 'pushed': 3478, 'petty': 3249, 'familys': 1646, 'disappeared': 1271, 'elm': 1447, 'robin': 3715, 'resources': 3651, 'dawn': 1127, 'ships': 3935, 'greed': 1968, 'relative': 3599, 'mistaken': 2872, 'females': 1694, 'proceeds': 3411, 'tracy': 4546, 'centers': 734, 'alcohol': 176, 'jeremy': 2394, 'shining': 3933, 'amitabh': 216, 'imitation': 2241, 'closet': 858, 'sid': 3964, 'nightmares': 3015, 'encounters': 1467, 'gangsters': 1869, 'leg': 2562, 'da': 1094, 'psychic': 3456, 'icon': 2211, 'madonna': 2699, 'brenda': 575, 'stress': 4220, 'connected': 945, 'warner': 4799, 'grandfather': 1954, 'soccer': 4048, 'streisand': 4218, 'ears': 1402, 'titanic': 4503, 'embarrassment': 1455, 'yelling': 4980, 'kubrick': 2496, 'coach': 868, 'introduces': 2338, 'survived': 4322, 'overwhelming': 3157, 'conspiracy': 956, 'georges': 1894, 'roy': 3745, 'widow': 4883, 'essence': 1521, 'clips': 852, 'sandra': 3782, 'pit': 3278, 'philosophy': 3254, 'diamond': 1236, 'menace': 2806, 'miracle': 2860, 'resort': 3650, 'bergman': 466, 'pamela': 3179, 'tomatoes': 4515, 'intimate': 2331, 'demented': 1176, 'mildred': 2841, 'assault': 324, 'beatty': 427, 'frankenstein': 1822, 'leo': 2571, 'bud': 607, 'blade': 495, 'modesty': 2883, 'gundam': 1997, 'tag': 4348, 'elvira': 1450, 'bourne': 554, 'property': 3438, 'cagney': 646, 'enterprise': 1495, 'prisoners': 3403, 'gadget': 1860, 'che': 773, 'paulie': 3215, 'earl': 1398, 'widmark': 4882, 'pokemon': 3320, 'domino': 1319, 'homer': 2144}\n"
     ]
    }
   ],
   "source": [
    "print(str(vocabulary))"
   ]
  },
  {
   "cell_type": "markdown",
   "metadata": {},
   "source": [
    "Once you have added the endpoint name to the Lambda function, click on **Save**. Your Lambda function is now up and running. Next we need to create a way for our web app to execute the Lambda function."
   ]
  },
  {
   "cell_type": "markdown",
   "metadata": {},
   "source": [
    "### Setting up API Gateway\n",
    "\n",
    "Now that our Lambda function is set up, it is time to create a new API using API Gateway that will trigger the Lambda function we have just created.\n",
    "\n",
    "Using AWS Console, navigate to **Amazon API Gateway** and then click on **Get started**.\n",
    "\n",
    "On the next page, make sure that **New API** is selected and give the new api a name, for example, `sentiment_analysis_web_app`. Then, click on **Create API**.\n",
    "\n",
    "Now we have created an API, however it doesn't currently do anything. What we want it to do is to trigger the Lambda function that we created earlier.\n",
    "\n",
    "Select the **Actions** dropdown menu and click **Create Method**. A new blank method will be created, select its dropdown menu and select **POST**, then click on the check mark beside it.\n",
    "\n",
    "For the integration point, make sure that **Lambda Function** is selected and click on the **Use Lambda Proxy integration**. This option makes sure that the data that is sent to the API is then sent directly to the Lambda function with no processing. It also means that the return value must be a proper response object as it will also not be processed by API Gateway.\n",
    "\n",
    "Type the name of the Lambda function you created earlier into the **Lambda Function** text entry box and then click on **Save**. Click on **OK** in the pop-up box that then appears, giving permission to API Gateway to invoke the Lambda function you created.\n",
    "\n",
    "The last step in creating the API Gateway is to select the **Actions** dropdown and click on **Deploy API**. You will need to create a new Deployment stage and name it anything you like, for example `prod`.\n",
    "\n",
    "You have now successfully set up a public API to access your SageMaker model. Make sure to copy or write down the URL provided to invoke your newly created public API as this will be needed in the next step. This URL can be found at the top of the page, highlighted in blue next to the text **Invoke URL**."
   ]
  },
  {
   "cell_type": "markdown",
   "metadata": {},
   "source": [
    "## Step 7: Deploying our web app\n",
    "\n",
    "Now that we have a publicly available API, we can start using it in a web app. For our purposes, we have provided a simple static html file which can make use of the public api you created earlier.\n",
    "\n",
    "In the `website` folder there should be a file called `index.html`. Download the file to your computer and open that file up in a text editor of your choice. There should be a line which contains **\\*\\*REPLACE WITH PUBLIC API URL\\*\\***. Replace this string with the url that you wrote down in the last step and then save the file.\n",
    "\n",
    "Now, if you open `index.html` on your local computer, your browser will behave as a local web server and you can use the provided site to interact with your SageMaker model.\n",
    "\n",
    "If you'd like to go further, you can host this html file anywhere you'd like, for example using github or hosting a static site on Amazon's S3. Once you have done this you can share the link with anyone you'd like and have them play with it too!\n",
    "\n",
    "> **Important Note** In order for the web app to communicate with the SageMaker endpoint, the endpoint has to actually be deployed and running. This means that you are paying for it. Make sure that the endpoint is running when you want to use the web app but that you shut it down when you don't need it, otherwise you will end up with a surprisingly large AWS bill."
   ]
  },
  {
   "cell_type": "markdown",
   "metadata": {},
   "source": [
    "### Delete the endpoint\n",
    "\n",
    "Remember to always shut down your endpoint if you are no longer using it. You are charged for the length of time that the endpoint is running so if you forget and leave it on you could end up with an unexpectedly large bill."
   ]
  },
  {
   "cell_type": "code",
   "execution_count": 52,
   "metadata": {},
   "outputs": [],
   "source": [
    "xgb_predictor.delete_endpoint()"
   ]
  },
  {
   "cell_type": "markdown",
   "metadata": {},
   "source": [
    "## Optional: Clean up\n",
    "\n",
    "The default notebook instance on SageMaker doesn't have a lot of excess disk space available. As you continue to complete and execute notebooks you will eventually fill up this disk space, leading to errors which can be difficult to diagnose. Once you are completely finished using a notebook it is a good idea to remove the files that you created along the way. Of course, you can do this from the terminal or from the notebook hub if you would like. The cell below contains some commands to clean up the created files from within the notebook."
   ]
  },
  {
   "cell_type": "code",
   "execution_count": 53,
   "metadata": {},
   "outputs": [],
   "source": [
    "# First we will remove all of the files contained in the data_dir directory\n",
    "!rm $data_dir/*\n",
    "\n",
    "# And then we delete the directory itself\n",
    "!rmdir $data_dir\n",
    "\n",
    "# Similarly we remove the files in the cache_dir directory and the directory itself\n",
    "!rm $cache_dir/*\n",
    "!rmdir $cache_dir"
   ]
  },
  {
   "cell_type": "code",
   "execution_count": null,
   "metadata": {},
   "outputs": [],
   "source": []
  }
 ],
 "metadata": {
  "kernelspec": {
   "display_name": "conda_python3",
   "language": "python",
   "name": "conda_python3"
  },
  "language_info": {
   "codemirror_mode": {
    "name": "ipython",
    "version": 3
   },
   "file_extension": ".py",
   "mimetype": "text/x-python",
   "name": "python",
   "nbconvert_exporter": "python",
   "pygments_lexer": "ipython3",
   "version": "3.6.10"
  }
 },
 "nbformat": 4,
 "nbformat_minor": 2
}
